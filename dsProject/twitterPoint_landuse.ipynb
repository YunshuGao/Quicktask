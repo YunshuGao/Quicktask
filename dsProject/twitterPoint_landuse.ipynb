{
 "cells": [
  {
   "cell_type": "code",
   "execution_count": 1,
   "metadata": {
    "collapsed": true
   },
   "outputs": [
    {
     "name": "stderr",
     "output_type": "stream",
     "text": [
      "d:\\workspace\\python38\\lib\\site-packages\\geopandas\\_compat.py:123: UserWarning: The Shapely GEOS version (3.10.3-CAPI-1.16.1) is incompatible with the GEOS version PyGEOS was compiled with (3.10.4-CAPI-1.16.2). Conversions between both will be slow.\n",
      "  warnings.warn(\n"
     ]
    }
   ],
   "source": [
    "import pandas as pd\n",
    "import geopandas as gpd\n",
    "import matplotlib.pyplot as plt"
   ]
  },
  {
   "cell_type": "code",
   "execution_count": null,
   "outputs": [],
   "source": [],
   "metadata": {
    "collapsed": false
   }
  },
  {
   "cell_type": "code",
   "execution_count": 5,
   "outputs": [],
   "source": [
    "zipfile=r\"D:\\GaoYunshu2023\\100011 HK-Work\\RA-project\\001 Task description\\Task1\\Process\\twitterPoint_final.shp\""
   ],
   "metadata": {
    "collapsed": false
   }
  },
  {
   "cell_type": "code",
   "execution_count": 6,
   "outputs": [],
   "source": [
    "df=gpd.read_file(zipfile)"
   ],
   "metadata": {
    "collapsed": false
   }
  },
  {
   "cell_type": "code",
   "execution_count": 7,
   "outputs": [
    {
     "data": {
      "text/plain": "   OBJECTID_1  Field1                      created_at        id_str lang  \\\n0           1    1246  Sun May 08 19:42:57 +0000 2016  7.290000e+17   en   \n1           2    1254  Sun May 08 21:20:20 +0000 2016  7.290000e+17   en   \n2           3    3007  Thu May 12 08:04:44 +0000 2016  7.310000e+17   en   \n3           4    3715  Fri May 13 09:07:09 +0000 2016  7.310000e+17   en   \n4           5    4297  Sat May 14 06:37:43 +0000 2016  7.310000e+17   en   \n\n         lat         lon                                              text_  \\\n0  22.280900  114.178000  Thanks again Hong Kong <ed><U+00A0><U+00BC><ed...   \n1  22.314882  113.933372  It's that time again! <U+2708><U+FE0F> #HongKo...   \n2  22.280900  114.178000  Static | Behaviour \\r\\r\\r\\r\\r\\r\\r\\n\\r\\r\\r\\r\\r\\...   \n3  22.339341  114.204015  The Nan lian garden at Diamond Hill in Hong Ko...   \n4  22.313420  114.043526  Advance birthday treat from my sister. <U+2764...   \n\n   time_zone truncated  ... Landuse_HK Landuse__1  Landuse__2 Landuse__3  \\\n0  Abu Dhabi     FALSE  ...          0          0           0          0   \n1  Abu Dhabi     FALSE  ...          0          0           0          0   \n2  Abu Dhabi     FALSE  ...          0          0           0          0   \n3  Abu Dhabi     FALSE  ...          0          0           0          0   \n4  Abu Dhabi     FALSE  ...          0          0           3          0   \n\n  Landuse__4 Landuse__5  Landuse__6 Landuse__7 LanduseTyp  \\\n0          0          0           0          8          8   \n1          0          0           0          0        999   \n2          0          0           0          8          8   \n3          0          0           7          0          7   \n4          0          0           0          0          3   \n\n                     geometry  \n0  POINT (114.17800 22.28090)  \n1  POINT (113.93337 22.31488)  \n2  POINT (114.17800 22.28090)  \n3  POINT (114.20402 22.33934)  \n4  POINT (114.04353 22.31342)  \n\n[5 rows x 33 columns]",
      "text/html": "<div>\n<style scoped>\n    .dataframe tbody tr th:only-of-type {\n        vertical-align: middle;\n    }\n\n    .dataframe tbody tr th {\n        vertical-align: top;\n    }\n\n    .dataframe thead th {\n        text-align: right;\n    }\n</style>\n<table border=\"1\" class=\"dataframe\">\n  <thead>\n    <tr style=\"text-align: right;\">\n      <th></th>\n      <th>OBJECTID_1</th>\n      <th>Field1</th>\n      <th>created_at</th>\n      <th>id_str</th>\n      <th>lang</th>\n      <th>lat</th>\n      <th>lon</th>\n      <th>text_</th>\n      <th>time_zone</th>\n      <th>truncated</th>\n      <th>...</th>\n      <th>Landuse_HK</th>\n      <th>Landuse__1</th>\n      <th>Landuse__2</th>\n      <th>Landuse__3</th>\n      <th>Landuse__4</th>\n      <th>Landuse__5</th>\n      <th>Landuse__6</th>\n      <th>Landuse__7</th>\n      <th>LanduseTyp</th>\n      <th>geometry</th>\n    </tr>\n  </thead>\n  <tbody>\n    <tr>\n      <th>0</th>\n      <td>1</td>\n      <td>1246</td>\n      <td>Sun May 08 19:42:57 +0000 2016</td>\n      <td>7.290000e+17</td>\n      <td>en</td>\n      <td>22.280900</td>\n      <td>114.178000</td>\n      <td>Thanks again Hong Kong &lt;ed&gt;&lt;U+00A0&gt;&lt;U+00BC&gt;&lt;ed...</td>\n      <td>Abu Dhabi</td>\n      <td>FALSE</td>\n      <td>...</td>\n      <td>0</td>\n      <td>0</td>\n      <td>0</td>\n      <td>0</td>\n      <td>0</td>\n      <td>0</td>\n      <td>0</td>\n      <td>8</td>\n      <td>8</td>\n      <td>POINT (114.17800 22.28090)</td>\n    </tr>\n    <tr>\n      <th>1</th>\n      <td>2</td>\n      <td>1254</td>\n      <td>Sun May 08 21:20:20 +0000 2016</td>\n      <td>7.290000e+17</td>\n      <td>en</td>\n      <td>22.314882</td>\n      <td>113.933372</td>\n      <td>It's that time again! &lt;U+2708&gt;&lt;U+FE0F&gt; #HongKo...</td>\n      <td>Abu Dhabi</td>\n      <td>FALSE</td>\n      <td>...</td>\n      <td>0</td>\n      <td>0</td>\n      <td>0</td>\n      <td>0</td>\n      <td>0</td>\n      <td>0</td>\n      <td>0</td>\n      <td>0</td>\n      <td>999</td>\n      <td>POINT (113.93337 22.31488)</td>\n    </tr>\n    <tr>\n      <th>2</th>\n      <td>3</td>\n      <td>3007</td>\n      <td>Thu May 12 08:04:44 +0000 2016</td>\n      <td>7.310000e+17</td>\n      <td>en</td>\n      <td>22.280900</td>\n      <td>114.178000</td>\n      <td>Static | Behaviour \\r\\r\\r\\r\\r\\r\\r\\n\\r\\r\\r\\r\\r\\...</td>\n      <td>Abu Dhabi</td>\n      <td>FALSE</td>\n      <td>...</td>\n      <td>0</td>\n      <td>0</td>\n      <td>0</td>\n      <td>0</td>\n      <td>0</td>\n      <td>0</td>\n      <td>0</td>\n      <td>8</td>\n      <td>8</td>\n      <td>POINT (114.17800 22.28090)</td>\n    </tr>\n    <tr>\n      <th>3</th>\n      <td>4</td>\n      <td>3715</td>\n      <td>Fri May 13 09:07:09 +0000 2016</td>\n      <td>7.310000e+17</td>\n      <td>en</td>\n      <td>22.339341</td>\n      <td>114.204015</td>\n      <td>The Nan lian garden at Diamond Hill in Hong Ko...</td>\n      <td>Abu Dhabi</td>\n      <td>FALSE</td>\n      <td>...</td>\n      <td>0</td>\n      <td>0</td>\n      <td>0</td>\n      <td>0</td>\n      <td>0</td>\n      <td>0</td>\n      <td>7</td>\n      <td>0</td>\n      <td>7</td>\n      <td>POINT (114.20402 22.33934)</td>\n    </tr>\n    <tr>\n      <th>4</th>\n      <td>5</td>\n      <td>4297</td>\n      <td>Sat May 14 06:37:43 +0000 2016</td>\n      <td>7.310000e+17</td>\n      <td>en</td>\n      <td>22.313420</td>\n      <td>114.043526</td>\n      <td>Advance birthday treat from my sister. &lt;U+2764...</td>\n      <td>Abu Dhabi</td>\n      <td>FALSE</td>\n      <td>...</td>\n      <td>0</td>\n      <td>0</td>\n      <td>3</td>\n      <td>0</td>\n      <td>0</td>\n      <td>0</td>\n      <td>0</td>\n      <td>0</td>\n      <td>3</td>\n      <td>POINT (114.04353 22.31342)</td>\n    </tr>\n  </tbody>\n</table>\n<p>5 rows × 33 columns</p>\n</div>"
     },
     "execution_count": 7,
     "metadata": {},
     "output_type": "execute_result"
    }
   ],
   "source": [
    "df.head(5)"
   ],
   "metadata": {
    "collapsed": false
   }
  },
  {
   "cell_type": "code",
   "execution_count": 8,
   "outputs": [],
   "source": [
    "df1=df[['OBJECTID_1','Field1','created_at','id_str','lang','time_zone','LanduseTyp','geometry']]"
   ],
   "metadata": {
    "collapsed": false
   }
  },
  {
   "cell_type": "code",
   "execution_count": 9,
   "outputs": [
    {
     "data": {
      "text/plain": "   OBJECTID_1  Field1                      created_at        id_str lang  \\\n0           1    1246  Sun May 08 19:42:57 +0000 2016  7.290000e+17   en   \n1           2    1254  Sun May 08 21:20:20 +0000 2016  7.290000e+17   en   \n2           3    3007  Thu May 12 08:04:44 +0000 2016  7.310000e+17   en   \n3           4    3715  Fri May 13 09:07:09 +0000 2016  7.310000e+17   en   \n4           5    4297  Sat May 14 06:37:43 +0000 2016  7.310000e+17   en   \n\n   time_zone  LanduseTyp                    geometry  \n0  Abu Dhabi           8  POINT (114.17800 22.28090)  \n1  Abu Dhabi         999  POINT (113.93337 22.31488)  \n2  Abu Dhabi           8  POINT (114.17800 22.28090)  \n3  Abu Dhabi           7  POINT (114.20402 22.33934)  \n4  Abu Dhabi           3  POINT (114.04353 22.31342)  ",
      "text/html": "<div>\n<style scoped>\n    .dataframe tbody tr th:only-of-type {\n        vertical-align: middle;\n    }\n\n    .dataframe tbody tr th {\n        vertical-align: top;\n    }\n\n    .dataframe thead th {\n        text-align: right;\n    }\n</style>\n<table border=\"1\" class=\"dataframe\">\n  <thead>\n    <tr style=\"text-align: right;\">\n      <th></th>\n      <th>OBJECTID_1</th>\n      <th>Field1</th>\n      <th>created_at</th>\n      <th>id_str</th>\n      <th>lang</th>\n      <th>time_zone</th>\n      <th>LanduseTyp</th>\n      <th>geometry</th>\n    </tr>\n  </thead>\n  <tbody>\n    <tr>\n      <th>0</th>\n      <td>1</td>\n      <td>1246</td>\n      <td>Sun May 08 19:42:57 +0000 2016</td>\n      <td>7.290000e+17</td>\n      <td>en</td>\n      <td>Abu Dhabi</td>\n      <td>8</td>\n      <td>POINT (114.17800 22.28090)</td>\n    </tr>\n    <tr>\n      <th>1</th>\n      <td>2</td>\n      <td>1254</td>\n      <td>Sun May 08 21:20:20 +0000 2016</td>\n      <td>7.290000e+17</td>\n      <td>en</td>\n      <td>Abu Dhabi</td>\n      <td>999</td>\n      <td>POINT (113.93337 22.31488)</td>\n    </tr>\n    <tr>\n      <th>2</th>\n      <td>3</td>\n      <td>3007</td>\n      <td>Thu May 12 08:04:44 +0000 2016</td>\n      <td>7.310000e+17</td>\n      <td>en</td>\n      <td>Abu Dhabi</td>\n      <td>8</td>\n      <td>POINT (114.17800 22.28090)</td>\n    </tr>\n    <tr>\n      <th>3</th>\n      <td>4</td>\n      <td>3715</td>\n      <td>Fri May 13 09:07:09 +0000 2016</td>\n      <td>7.310000e+17</td>\n      <td>en</td>\n      <td>Abu Dhabi</td>\n      <td>7</td>\n      <td>POINT (114.20402 22.33934)</td>\n    </tr>\n    <tr>\n      <th>4</th>\n      <td>5</td>\n      <td>4297</td>\n      <td>Sat May 14 06:37:43 +0000 2016</td>\n      <td>7.310000e+17</td>\n      <td>en</td>\n      <td>Abu Dhabi</td>\n      <td>3</td>\n      <td>POINT (114.04353 22.31342)</td>\n    </tr>\n  </tbody>\n</table>\n</div>"
     },
     "execution_count": 9,
     "metadata": {},
     "output_type": "execute_result"
    }
   ],
   "source": [
    "df1.head(5)"
   ],
   "metadata": {
    "collapsed": false
   }
  },
  {
   "cell_type": "code",
   "execution_count": 10,
   "outputs": [
    {
     "name": "stderr",
     "output_type": "stream",
     "text": [
      "C:\\Users\\GAOYUN~1\\AppData\\Local\\Temp/ipykernel_1532/1152579709.py:1: DtypeWarning: Columns (7) have mixed types. Specify dtype option on import or set low_memory=False.\n",
      "  df2=pd.read_csv(r\"D:\\GaoYunshu2023\\100011 HK-Work\\RA-project\\001 Task description\\Task1\\result_v2.csv\")\n"
     ]
    }
   ],
   "source": [
    "df2=pd.read_csv(r\"D:\\GaoYunshu2023\\100011 HK-Work\\RA-project\\001 Task description\\Task1\\result_v2.csv\")"
   ],
   "metadata": {
    "collapsed": false
   }
  },
  {
   "cell_type": "code",
   "execution_count": 11,
   "outputs": [
    {
     "data": {
      "text/plain": "   Unnamed: 0                      created_at        id_str lang        lat  \\\n0        1246  Sun May 08 19:42:57 +0000 2016  7.290000e+17   en  22.280900   \n1        1254  Sun May 08 21:20:20 +0000 2016  7.290000e+17   en  22.314882   \n2        3007  Thu May 12 08:04:44 +0000 2016  7.310000e+17   en  22.280900   \n3        3715  Fri May 13 09:07:09 +0000 2016  7.310000e+17   en  22.339341   \n4        4297  Sat May 14 06:37:43 +0000 2016  7.310000e+17   en  22.313420   \n\n          lon                                               text  time_zone  \\\n0  114.178000  Thanks again Hong Kong <ed><U+00A0><U+00BC><ed...  Abu Dhabi   \n1  113.933372  It's that time again! <U+2708><U+FE0F> #HongKo...  Abu Dhabi   \n2  114.178000  Static | Behaviour \\r\\r\\r\\r\\r\\r\\r\\r\\n\\r\\r\\r\\r\\...  Abu Dhabi   \n3  114.204015  The Nan lian garden at Diamond Hill in Hong Ko...  Abu Dhabi   \n4  114.043526  Advance birthday treat from my sister. <U+2764...  Abu Dhabi   \n\n   truncated                      url  ... user_lang  user_url verified  \\\n0      False  https://t.co/TRE2EaWvgv  ...        en       NaN    False   \n1      False  https://t.co/vT7Ig26Toy  ...        en       NaN    False   \n2      False  https://t.co/eDeDOSdZ98  ...        en       NaN    False   \n3      False  https://t.co/UIu8LKGJR5  ...        en       NaN    False   \n4      False  https://t.co/KIIE6Twnx4  ...        en       NaN    False   \n\n  TPU_longitudinal  TPU_cross_sectional  \\\n0              135                  135   \n1              951            950 - 951   \n2              135                  135   \n3              281                  281   \n4              973            971 - 974   \n\n                                        cleaned_text  \\\n0  thanks again hong kong for more great to this ...   \n1  it s that time again u number u hong kong taxi...   \n2  static behaviour china hong kong explore touri...   \n3  the nan garden at diamond hill in hong kong a ...   \n4  advance birthday treat from my sister u number...   \n\n                        date date_secondprocess date_thirdprocess  \\\n0  2016-05-08 19:42:57+00:00     5/8/2016 19:42    5/8/2016 19:42   \n1  2016-05-08 21:20:20+00:00     5/8/2016 21:20    5/8/2016 21:20   \n2  2016-05-12 08:04:44+00:00     5/12/2016 8:04    5/12/2016 8:04   \n3  2016-05-13 09:07:09+00:00     5/13/2016 9:07    5/13/2016 9:07   \n4  2016-05-14 06:37:43+00:00     5/14/2016 6:37    5/14/2016 6:37   \n\n           date_hk  \n0   5/8/2016 23:42  \n1    5/9/2016 1:20  \n2  5/12/2016 12:04  \n3  5/13/2016 13:07  \n4  5/14/2016 10:37  \n\n[5 rows x 22 columns]",
      "text/html": "<div>\n<style scoped>\n    .dataframe tbody tr th:only-of-type {\n        vertical-align: middle;\n    }\n\n    .dataframe tbody tr th {\n        vertical-align: top;\n    }\n\n    .dataframe thead th {\n        text-align: right;\n    }\n</style>\n<table border=\"1\" class=\"dataframe\">\n  <thead>\n    <tr style=\"text-align: right;\">\n      <th></th>\n      <th>Unnamed: 0</th>\n      <th>created_at</th>\n      <th>id_str</th>\n      <th>lang</th>\n      <th>lat</th>\n      <th>lon</th>\n      <th>text</th>\n      <th>time_zone</th>\n      <th>truncated</th>\n      <th>url</th>\n      <th>...</th>\n      <th>user_lang</th>\n      <th>user_url</th>\n      <th>verified</th>\n      <th>TPU_longitudinal</th>\n      <th>TPU_cross_sectional</th>\n      <th>cleaned_text</th>\n      <th>date</th>\n      <th>date_secondprocess</th>\n      <th>date_thirdprocess</th>\n      <th>date_hk</th>\n    </tr>\n  </thead>\n  <tbody>\n    <tr>\n      <th>0</th>\n      <td>1246</td>\n      <td>Sun May 08 19:42:57 +0000 2016</td>\n      <td>7.290000e+17</td>\n      <td>en</td>\n      <td>22.280900</td>\n      <td>114.178000</td>\n      <td>Thanks again Hong Kong &lt;ed&gt;&lt;U+00A0&gt;&lt;U+00BC&gt;&lt;ed...</td>\n      <td>Abu Dhabi</td>\n      <td>False</td>\n      <td>https://t.co/TRE2EaWvgv</td>\n      <td>...</td>\n      <td>en</td>\n      <td>NaN</td>\n      <td>False</td>\n      <td>135</td>\n      <td>135</td>\n      <td>thanks again hong kong for more great to this ...</td>\n      <td>2016-05-08 19:42:57+00:00</td>\n      <td>5/8/2016 19:42</td>\n      <td>5/8/2016 19:42</td>\n      <td>5/8/2016 23:42</td>\n    </tr>\n    <tr>\n      <th>1</th>\n      <td>1254</td>\n      <td>Sun May 08 21:20:20 +0000 2016</td>\n      <td>7.290000e+17</td>\n      <td>en</td>\n      <td>22.314882</td>\n      <td>113.933372</td>\n      <td>It's that time again! &lt;U+2708&gt;&lt;U+FE0F&gt; #HongKo...</td>\n      <td>Abu Dhabi</td>\n      <td>False</td>\n      <td>https://t.co/vT7Ig26Toy</td>\n      <td>...</td>\n      <td>en</td>\n      <td>NaN</td>\n      <td>False</td>\n      <td>951</td>\n      <td>950 - 951</td>\n      <td>it s that time again u number u hong kong taxi...</td>\n      <td>2016-05-08 21:20:20+00:00</td>\n      <td>5/8/2016 21:20</td>\n      <td>5/8/2016 21:20</td>\n      <td>5/9/2016 1:20</td>\n    </tr>\n    <tr>\n      <th>2</th>\n      <td>3007</td>\n      <td>Thu May 12 08:04:44 +0000 2016</td>\n      <td>7.310000e+17</td>\n      <td>en</td>\n      <td>22.280900</td>\n      <td>114.178000</td>\n      <td>Static | Behaviour \\r\\r\\r\\r\\r\\r\\r\\r\\n\\r\\r\\r\\r\\...</td>\n      <td>Abu Dhabi</td>\n      <td>False</td>\n      <td>https://t.co/eDeDOSdZ98</td>\n      <td>...</td>\n      <td>en</td>\n      <td>NaN</td>\n      <td>False</td>\n      <td>135</td>\n      <td>135</td>\n      <td>static behaviour china hong kong explore touri...</td>\n      <td>2016-05-12 08:04:44+00:00</td>\n      <td>5/12/2016 8:04</td>\n      <td>5/12/2016 8:04</td>\n      <td>5/12/2016 12:04</td>\n    </tr>\n    <tr>\n      <th>3</th>\n      <td>3715</td>\n      <td>Fri May 13 09:07:09 +0000 2016</td>\n      <td>7.310000e+17</td>\n      <td>en</td>\n      <td>22.339341</td>\n      <td>114.204015</td>\n      <td>The Nan lian garden at Diamond Hill in Hong Ko...</td>\n      <td>Abu Dhabi</td>\n      <td>False</td>\n      <td>https://t.co/UIu8LKGJR5</td>\n      <td>...</td>\n      <td>en</td>\n      <td>NaN</td>\n      <td>False</td>\n      <td>281</td>\n      <td>281</td>\n      <td>the nan garden at diamond hill in hong kong a ...</td>\n      <td>2016-05-13 09:07:09+00:00</td>\n      <td>5/13/2016 9:07</td>\n      <td>5/13/2016 9:07</td>\n      <td>5/13/2016 13:07</td>\n    </tr>\n    <tr>\n      <th>4</th>\n      <td>4297</td>\n      <td>Sat May 14 06:37:43 +0000 2016</td>\n      <td>7.310000e+17</td>\n      <td>en</td>\n      <td>22.313420</td>\n      <td>114.043526</td>\n      <td>Advance birthday treat from my sister. &lt;U+2764...</td>\n      <td>Abu Dhabi</td>\n      <td>False</td>\n      <td>https://t.co/KIIE6Twnx4</td>\n      <td>...</td>\n      <td>en</td>\n      <td>NaN</td>\n      <td>False</td>\n      <td>973</td>\n      <td>971 - 974</td>\n      <td>advance birthday treat from my sister u number...</td>\n      <td>2016-05-14 06:37:43+00:00</td>\n      <td>5/14/2016 6:37</td>\n      <td>5/14/2016 6:37</td>\n      <td>5/14/2016 10:37</td>\n    </tr>\n  </tbody>\n</table>\n<p>5 rows × 22 columns</p>\n</div>"
     },
     "execution_count": 11,
     "metadata": {},
     "output_type": "execute_result"
    }
   ],
   "source": [
    "df2.head(5)"
   ],
   "metadata": {
    "collapsed": false
   }
  },
  {
   "cell_type": "code",
   "execution_count": 12,
   "outputs": [],
   "source": [
    "df2.rename(columns={df2.columns[0]: \"Field1\" }, inplace = True)"
   ],
   "metadata": {
    "collapsed": false
   }
  },
  {
   "cell_type": "code",
   "execution_count": 13,
   "outputs": [
    {
     "data": {
      "text/plain": "   Field1                      created_at        id_str lang        lat  \\\n0    1246  Sun May 08 19:42:57 +0000 2016  7.290000e+17   en  22.280900   \n1    1254  Sun May 08 21:20:20 +0000 2016  7.290000e+17   en  22.314882   \n2    3007  Thu May 12 08:04:44 +0000 2016  7.310000e+17   en  22.280900   \n3    3715  Fri May 13 09:07:09 +0000 2016  7.310000e+17   en  22.339341   \n4    4297  Sat May 14 06:37:43 +0000 2016  7.310000e+17   en  22.313420   \n\n          lon                                               text  time_zone  \\\n0  114.178000  Thanks again Hong Kong <ed><U+00A0><U+00BC><ed...  Abu Dhabi   \n1  113.933372  It's that time again! <U+2708><U+FE0F> #HongKo...  Abu Dhabi   \n2  114.178000  Static | Behaviour \\r\\r\\r\\r\\r\\r\\r\\r\\n\\r\\r\\r\\r\\...  Abu Dhabi   \n3  114.204015  The Nan lian garden at Diamond Hill in Hong Ko...  Abu Dhabi   \n4  114.043526  Advance birthday treat from my sister. <U+2764...  Abu Dhabi   \n\n   truncated                      url  ... user_lang  user_url verified  \\\n0      False  https://t.co/TRE2EaWvgv  ...        en       NaN    False   \n1      False  https://t.co/vT7Ig26Toy  ...        en       NaN    False   \n2      False  https://t.co/eDeDOSdZ98  ...        en       NaN    False   \n3      False  https://t.co/UIu8LKGJR5  ...        en       NaN    False   \n4      False  https://t.co/KIIE6Twnx4  ...        en       NaN    False   \n\n  TPU_longitudinal  TPU_cross_sectional  \\\n0              135                  135   \n1              951            950 - 951   \n2              135                  135   \n3              281                  281   \n4              973            971 - 974   \n\n                                        cleaned_text  \\\n0  thanks again hong kong for more great to this ...   \n1  it s that time again u number u hong kong taxi...   \n2  static behaviour china hong kong explore touri...   \n3  the nan garden at diamond hill in hong kong a ...   \n4  advance birthday treat from my sister u number...   \n\n                        date date_secondprocess date_thirdprocess  \\\n0  2016-05-08 19:42:57+00:00     5/8/2016 19:42    5/8/2016 19:42   \n1  2016-05-08 21:20:20+00:00     5/8/2016 21:20    5/8/2016 21:20   \n2  2016-05-12 08:04:44+00:00     5/12/2016 8:04    5/12/2016 8:04   \n3  2016-05-13 09:07:09+00:00     5/13/2016 9:07    5/13/2016 9:07   \n4  2016-05-14 06:37:43+00:00     5/14/2016 6:37    5/14/2016 6:37   \n\n           date_hk  \n0   5/8/2016 23:42  \n1    5/9/2016 1:20  \n2  5/12/2016 12:04  \n3  5/13/2016 13:07  \n4  5/14/2016 10:37  \n\n[5 rows x 22 columns]",
      "text/html": "<div>\n<style scoped>\n    .dataframe tbody tr th:only-of-type {\n        vertical-align: middle;\n    }\n\n    .dataframe tbody tr th {\n        vertical-align: top;\n    }\n\n    .dataframe thead th {\n        text-align: right;\n    }\n</style>\n<table border=\"1\" class=\"dataframe\">\n  <thead>\n    <tr style=\"text-align: right;\">\n      <th></th>\n      <th>Field1</th>\n      <th>created_at</th>\n      <th>id_str</th>\n      <th>lang</th>\n      <th>lat</th>\n      <th>lon</th>\n      <th>text</th>\n      <th>time_zone</th>\n      <th>truncated</th>\n      <th>url</th>\n      <th>...</th>\n      <th>user_lang</th>\n      <th>user_url</th>\n      <th>verified</th>\n      <th>TPU_longitudinal</th>\n      <th>TPU_cross_sectional</th>\n      <th>cleaned_text</th>\n      <th>date</th>\n      <th>date_secondprocess</th>\n      <th>date_thirdprocess</th>\n      <th>date_hk</th>\n    </tr>\n  </thead>\n  <tbody>\n    <tr>\n      <th>0</th>\n      <td>1246</td>\n      <td>Sun May 08 19:42:57 +0000 2016</td>\n      <td>7.290000e+17</td>\n      <td>en</td>\n      <td>22.280900</td>\n      <td>114.178000</td>\n      <td>Thanks again Hong Kong &lt;ed&gt;&lt;U+00A0&gt;&lt;U+00BC&gt;&lt;ed...</td>\n      <td>Abu Dhabi</td>\n      <td>False</td>\n      <td>https://t.co/TRE2EaWvgv</td>\n      <td>...</td>\n      <td>en</td>\n      <td>NaN</td>\n      <td>False</td>\n      <td>135</td>\n      <td>135</td>\n      <td>thanks again hong kong for more great to this ...</td>\n      <td>2016-05-08 19:42:57+00:00</td>\n      <td>5/8/2016 19:42</td>\n      <td>5/8/2016 19:42</td>\n      <td>5/8/2016 23:42</td>\n    </tr>\n    <tr>\n      <th>1</th>\n      <td>1254</td>\n      <td>Sun May 08 21:20:20 +0000 2016</td>\n      <td>7.290000e+17</td>\n      <td>en</td>\n      <td>22.314882</td>\n      <td>113.933372</td>\n      <td>It's that time again! &lt;U+2708&gt;&lt;U+FE0F&gt; #HongKo...</td>\n      <td>Abu Dhabi</td>\n      <td>False</td>\n      <td>https://t.co/vT7Ig26Toy</td>\n      <td>...</td>\n      <td>en</td>\n      <td>NaN</td>\n      <td>False</td>\n      <td>951</td>\n      <td>950 - 951</td>\n      <td>it s that time again u number u hong kong taxi...</td>\n      <td>2016-05-08 21:20:20+00:00</td>\n      <td>5/8/2016 21:20</td>\n      <td>5/8/2016 21:20</td>\n      <td>5/9/2016 1:20</td>\n    </tr>\n    <tr>\n      <th>2</th>\n      <td>3007</td>\n      <td>Thu May 12 08:04:44 +0000 2016</td>\n      <td>7.310000e+17</td>\n      <td>en</td>\n      <td>22.280900</td>\n      <td>114.178000</td>\n      <td>Static | Behaviour \\r\\r\\r\\r\\r\\r\\r\\r\\n\\r\\r\\r\\r\\...</td>\n      <td>Abu Dhabi</td>\n      <td>False</td>\n      <td>https://t.co/eDeDOSdZ98</td>\n      <td>...</td>\n      <td>en</td>\n      <td>NaN</td>\n      <td>False</td>\n      <td>135</td>\n      <td>135</td>\n      <td>static behaviour china hong kong explore touri...</td>\n      <td>2016-05-12 08:04:44+00:00</td>\n      <td>5/12/2016 8:04</td>\n      <td>5/12/2016 8:04</td>\n      <td>5/12/2016 12:04</td>\n    </tr>\n    <tr>\n      <th>3</th>\n      <td>3715</td>\n      <td>Fri May 13 09:07:09 +0000 2016</td>\n      <td>7.310000e+17</td>\n      <td>en</td>\n      <td>22.339341</td>\n      <td>114.204015</td>\n      <td>The Nan lian garden at Diamond Hill in Hong Ko...</td>\n      <td>Abu Dhabi</td>\n      <td>False</td>\n      <td>https://t.co/UIu8LKGJR5</td>\n      <td>...</td>\n      <td>en</td>\n      <td>NaN</td>\n      <td>False</td>\n      <td>281</td>\n      <td>281</td>\n      <td>the nan garden at diamond hill in hong kong a ...</td>\n      <td>2016-05-13 09:07:09+00:00</td>\n      <td>5/13/2016 9:07</td>\n      <td>5/13/2016 9:07</td>\n      <td>5/13/2016 13:07</td>\n    </tr>\n    <tr>\n      <th>4</th>\n      <td>4297</td>\n      <td>Sat May 14 06:37:43 +0000 2016</td>\n      <td>7.310000e+17</td>\n      <td>en</td>\n      <td>22.313420</td>\n      <td>114.043526</td>\n      <td>Advance birthday treat from my sister. &lt;U+2764...</td>\n      <td>Abu Dhabi</td>\n      <td>False</td>\n      <td>https://t.co/KIIE6Twnx4</td>\n      <td>...</td>\n      <td>en</td>\n      <td>NaN</td>\n      <td>False</td>\n      <td>973</td>\n      <td>971 - 974</td>\n      <td>advance birthday treat from my sister u number...</td>\n      <td>2016-05-14 06:37:43+00:00</td>\n      <td>5/14/2016 6:37</td>\n      <td>5/14/2016 6:37</td>\n      <td>5/14/2016 10:37</td>\n    </tr>\n  </tbody>\n</table>\n<p>5 rows × 22 columns</p>\n</div>"
     },
     "execution_count": 13,
     "metadata": {},
     "output_type": "execute_result"
    }
   ],
   "source": [
    "df2.head(5)"
   ],
   "metadata": {
    "collapsed": false
   }
  },
  {
   "cell_type": "code",
   "execution_count": 14,
   "outputs": [
    {
     "data": {
      "text/plain": "   Field1                      created_at        id_str lang        lat  \\\n0    1246  Sun May 08 19:42:57 +0000 2016  7.290000e+17   en  22.280900   \n1    1254  Sun May 08 21:20:20 +0000 2016  7.290000e+17   en  22.314882   \n2    3007  Thu May 12 08:04:44 +0000 2016  7.310000e+17   en  22.280900   \n3    3715  Fri May 13 09:07:09 +0000 2016  7.310000e+17   en  22.339341   \n4    4297  Sat May 14 06:37:43 +0000 2016  7.310000e+17   en  22.313420   \n\n          lon                                               text  time_zone  \\\n0  114.178000  Thanks again Hong Kong <ed><U+00A0><U+00BC><ed...  Abu Dhabi   \n1  113.933372  It's that time again! <U+2708><U+FE0F> #HongKo...  Abu Dhabi   \n2  114.178000  Static | Behaviour \\r\\r\\r\\r\\r\\r\\r\\r\\n\\r\\r\\r\\r\\...  Abu Dhabi   \n3  114.204015  The Nan lian garden at Diamond Hill in Hong Ko...  Abu Dhabi   \n4  114.043526  Advance birthday treat from my sister. <U+2764...  Abu Dhabi   \n\n   truncated                      url  ... user_lang  user_url verified  \\\n0      False  https://t.co/TRE2EaWvgv  ...        en       NaN    False   \n1      False  https://t.co/vT7Ig26Toy  ...        en       NaN    False   \n2      False  https://t.co/eDeDOSdZ98  ...        en       NaN    False   \n3      False  https://t.co/UIu8LKGJR5  ...        en       NaN    False   \n4      False  https://t.co/KIIE6Twnx4  ...        en       NaN    False   \n\n  TPU_longitudinal  TPU_cross_sectional  \\\n0              135                  135   \n1              951            950 - 951   \n2              135                  135   \n3              281                  281   \n4              973            971 - 974   \n\n                                        cleaned_text  \\\n0  thanks again hong kong for more great to this ...   \n1  it s that time again u number u hong kong taxi...   \n2  static behaviour china hong kong explore touri...   \n3  the nan garden at diamond hill in hong kong a ...   \n4  advance birthday treat from my sister u number...   \n\n                        date date_secondprocess date_thirdprocess  \\\n0  2016-05-08 19:42:57+00:00     5/8/2016 19:42    5/8/2016 19:42   \n1  2016-05-08 21:20:20+00:00     5/8/2016 21:20    5/8/2016 21:20   \n2  2016-05-12 08:04:44+00:00     5/12/2016 8:04    5/12/2016 8:04   \n3  2016-05-13 09:07:09+00:00     5/13/2016 9:07    5/13/2016 9:07   \n4  2016-05-14 06:37:43+00:00     5/14/2016 6:37    5/14/2016 6:37   \n\n           date_hk  \n0   5/8/2016 23:42  \n1    5/9/2016 1:20  \n2  5/12/2016 12:04  \n3  5/13/2016 13:07  \n4  5/14/2016 10:37  \n\n[5 rows x 22 columns]",
      "text/html": "<div>\n<style scoped>\n    .dataframe tbody tr th:only-of-type {\n        vertical-align: middle;\n    }\n\n    .dataframe tbody tr th {\n        vertical-align: top;\n    }\n\n    .dataframe thead th {\n        text-align: right;\n    }\n</style>\n<table border=\"1\" class=\"dataframe\">\n  <thead>\n    <tr style=\"text-align: right;\">\n      <th></th>\n      <th>Field1</th>\n      <th>created_at</th>\n      <th>id_str</th>\n      <th>lang</th>\n      <th>lat</th>\n      <th>lon</th>\n      <th>text</th>\n      <th>time_zone</th>\n      <th>truncated</th>\n      <th>url</th>\n      <th>...</th>\n      <th>user_lang</th>\n      <th>user_url</th>\n      <th>verified</th>\n      <th>TPU_longitudinal</th>\n      <th>TPU_cross_sectional</th>\n      <th>cleaned_text</th>\n      <th>date</th>\n      <th>date_secondprocess</th>\n      <th>date_thirdprocess</th>\n      <th>date_hk</th>\n    </tr>\n  </thead>\n  <tbody>\n    <tr>\n      <th>0</th>\n      <td>1246</td>\n      <td>Sun May 08 19:42:57 +0000 2016</td>\n      <td>7.290000e+17</td>\n      <td>en</td>\n      <td>22.280900</td>\n      <td>114.178000</td>\n      <td>Thanks again Hong Kong &lt;ed&gt;&lt;U+00A0&gt;&lt;U+00BC&gt;&lt;ed...</td>\n      <td>Abu Dhabi</td>\n      <td>False</td>\n      <td>https://t.co/TRE2EaWvgv</td>\n      <td>...</td>\n      <td>en</td>\n      <td>NaN</td>\n      <td>False</td>\n      <td>135</td>\n      <td>135</td>\n      <td>thanks again hong kong for more great to this ...</td>\n      <td>2016-05-08 19:42:57+00:00</td>\n      <td>5/8/2016 19:42</td>\n      <td>5/8/2016 19:42</td>\n      <td>5/8/2016 23:42</td>\n    </tr>\n    <tr>\n      <th>1</th>\n      <td>1254</td>\n      <td>Sun May 08 21:20:20 +0000 2016</td>\n      <td>7.290000e+17</td>\n      <td>en</td>\n      <td>22.314882</td>\n      <td>113.933372</td>\n      <td>It's that time again! &lt;U+2708&gt;&lt;U+FE0F&gt; #HongKo...</td>\n      <td>Abu Dhabi</td>\n      <td>False</td>\n      <td>https://t.co/vT7Ig26Toy</td>\n      <td>...</td>\n      <td>en</td>\n      <td>NaN</td>\n      <td>False</td>\n      <td>951</td>\n      <td>950 - 951</td>\n      <td>it s that time again u number u hong kong taxi...</td>\n      <td>2016-05-08 21:20:20+00:00</td>\n      <td>5/8/2016 21:20</td>\n      <td>5/8/2016 21:20</td>\n      <td>5/9/2016 1:20</td>\n    </tr>\n    <tr>\n      <th>2</th>\n      <td>3007</td>\n      <td>Thu May 12 08:04:44 +0000 2016</td>\n      <td>7.310000e+17</td>\n      <td>en</td>\n      <td>22.280900</td>\n      <td>114.178000</td>\n      <td>Static | Behaviour \\r\\r\\r\\r\\r\\r\\r\\r\\n\\r\\r\\r\\r\\...</td>\n      <td>Abu Dhabi</td>\n      <td>False</td>\n      <td>https://t.co/eDeDOSdZ98</td>\n      <td>...</td>\n      <td>en</td>\n      <td>NaN</td>\n      <td>False</td>\n      <td>135</td>\n      <td>135</td>\n      <td>static behaviour china hong kong explore touri...</td>\n      <td>2016-05-12 08:04:44+00:00</td>\n      <td>5/12/2016 8:04</td>\n      <td>5/12/2016 8:04</td>\n      <td>5/12/2016 12:04</td>\n    </tr>\n    <tr>\n      <th>3</th>\n      <td>3715</td>\n      <td>Fri May 13 09:07:09 +0000 2016</td>\n      <td>7.310000e+17</td>\n      <td>en</td>\n      <td>22.339341</td>\n      <td>114.204015</td>\n      <td>The Nan lian garden at Diamond Hill in Hong Ko...</td>\n      <td>Abu Dhabi</td>\n      <td>False</td>\n      <td>https://t.co/UIu8LKGJR5</td>\n      <td>...</td>\n      <td>en</td>\n      <td>NaN</td>\n      <td>False</td>\n      <td>281</td>\n      <td>281</td>\n      <td>the nan garden at diamond hill in hong kong a ...</td>\n      <td>2016-05-13 09:07:09+00:00</td>\n      <td>5/13/2016 9:07</td>\n      <td>5/13/2016 9:07</td>\n      <td>5/13/2016 13:07</td>\n    </tr>\n    <tr>\n      <th>4</th>\n      <td>4297</td>\n      <td>Sat May 14 06:37:43 +0000 2016</td>\n      <td>7.310000e+17</td>\n      <td>en</td>\n      <td>22.313420</td>\n      <td>114.043526</td>\n      <td>Advance birthday treat from my sister. &lt;U+2764...</td>\n      <td>Abu Dhabi</td>\n      <td>False</td>\n      <td>https://t.co/KIIE6Twnx4</td>\n      <td>...</td>\n      <td>en</td>\n      <td>NaN</td>\n      <td>False</td>\n      <td>973</td>\n      <td>971 - 974</td>\n      <td>advance birthday treat from my sister u number...</td>\n      <td>2016-05-14 06:37:43+00:00</td>\n      <td>5/14/2016 6:37</td>\n      <td>5/14/2016 6:37</td>\n      <td>5/14/2016 10:37</td>\n    </tr>\n  </tbody>\n</table>\n<p>5 rows × 22 columns</p>\n</div>"
     },
     "execution_count": 14,
     "metadata": {},
     "output_type": "execute_result"
    }
   ],
   "source": [
    "df2.head(5)"
   ],
   "metadata": {
    "collapsed": false
   }
  },
  {
   "cell_type": "code",
   "execution_count": 15,
   "outputs": [],
   "source": [
    "df3 = pd.merge(df1, df2, on='Field1', how='inner')"
   ],
   "metadata": {
    "collapsed": false
   }
  },
  {
   "cell_type": "code",
   "execution_count": 16,
   "outputs": [
    {
     "data": {
      "text/plain": "   OBJECTID_1  Field1                    created_at_x      id_str_x lang_x  \\\n0           1    1246  Sun May 08 19:42:57 +0000 2016  7.290000e+17     en   \n1           2    1254  Sun May 08 21:20:20 +0000 2016  7.290000e+17     en   \n2           3    3007  Thu May 12 08:04:44 +0000 2016  7.310000e+17     en   \n3           4    3715  Fri May 13 09:07:09 +0000 2016  7.310000e+17     en   \n4           5    4297  Sat May 14 06:37:43 +0000 2016  7.310000e+17     en   \n\n  time_zone_x  LanduseTyp                    geometry  \\\n0   Abu Dhabi           8  POINT (114.17800 22.28090)   \n1   Abu Dhabi         999  POINT (113.93337 22.31488)   \n2   Abu Dhabi           8  POINT (114.17800 22.28090)   \n3   Abu Dhabi           7  POINT (114.20402 22.33934)   \n4   Abu Dhabi           3  POINT (114.04353 22.31342)   \n\n                     created_at_y      id_str_y  ... user_lang  user_url  \\\n0  Sun May 08 19:42:57 +0000 2016  7.290000e+17  ...        en       NaN   \n1  Sun May 08 21:20:20 +0000 2016  7.290000e+17  ...        en       NaN   \n2  Thu May 12 08:04:44 +0000 2016  7.310000e+17  ...        en       NaN   \n3  Fri May 13 09:07:09 +0000 2016  7.310000e+17  ...        en       NaN   \n4  Sat May 14 06:37:43 +0000 2016  7.310000e+17  ...        en       NaN   \n\n   verified TPU_longitudinal TPU_cross_sectional  \\\n0     False              135                 135   \n1     False              951           950 - 951   \n2     False              135                 135   \n3     False              281                 281   \n4     False              973           971 - 974   \n\n                                        cleaned_text  \\\n0  thanks again hong kong for more great to this ...   \n1  it s that time again u number u hong kong taxi...   \n2  static behaviour china hong kong explore touri...   \n3  the nan garden at diamond hill in hong kong a ...   \n4  advance birthday treat from my sister u number...   \n\n                        date date_secondprocess  date_thirdprocess  \\\n0  2016-05-08 19:42:57+00:00     5/8/2016 19:42     5/8/2016 19:42   \n1  2016-05-08 21:20:20+00:00     5/8/2016 21:20     5/8/2016 21:20   \n2  2016-05-12 08:04:44+00:00     5/12/2016 8:04     5/12/2016 8:04   \n3  2016-05-13 09:07:09+00:00     5/13/2016 9:07     5/13/2016 9:07   \n4  2016-05-14 06:37:43+00:00     5/14/2016 6:37     5/14/2016 6:37   \n\n           date_hk  \n0   5/8/2016 23:42  \n1    5/9/2016 1:20  \n2  5/12/2016 12:04  \n3  5/13/2016 13:07  \n4  5/14/2016 10:37  \n\n[5 rows x 29 columns]",
      "text/html": "<div>\n<style scoped>\n    .dataframe tbody tr th:only-of-type {\n        vertical-align: middle;\n    }\n\n    .dataframe tbody tr th {\n        vertical-align: top;\n    }\n\n    .dataframe thead th {\n        text-align: right;\n    }\n</style>\n<table border=\"1\" class=\"dataframe\">\n  <thead>\n    <tr style=\"text-align: right;\">\n      <th></th>\n      <th>OBJECTID_1</th>\n      <th>Field1</th>\n      <th>created_at_x</th>\n      <th>id_str_x</th>\n      <th>lang_x</th>\n      <th>time_zone_x</th>\n      <th>LanduseTyp</th>\n      <th>geometry</th>\n      <th>created_at_y</th>\n      <th>id_str_y</th>\n      <th>...</th>\n      <th>user_lang</th>\n      <th>user_url</th>\n      <th>verified</th>\n      <th>TPU_longitudinal</th>\n      <th>TPU_cross_sectional</th>\n      <th>cleaned_text</th>\n      <th>date</th>\n      <th>date_secondprocess</th>\n      <th>date_thirdprocess</th>\n      <th>date_hk</th>\n    </tr>\n  </thead>\n  <tbody>\n    <tr>\n      <th>0</th>\n      <td>1</td>\n      <td>1246</td>\n      <td>Sun May 08 19:42:57 +0000 2016</td>\n      <td>7.290000e+17</td>\n      <td>en</td>\n      <td>Abu Dhabi</td>\n      <td>8</td>\n      <td>POINT (114.17800 22.28090)</td>\n      <td>Sun May 08 19:42:57 +0000 2016</td>\n      <td>7.290000e+17</td>\n      <td>...</td>\n      <td>en</td>\n      <td>NaN</td>\n      <td>False</td>\n      <td>135</td>\n      <td>135</td>\n      <td>thanks again hong kong for more great to this ...</td>\n      <td>2016-05-08 19:42:57+00:00</td>\n      <td>5/8/2016 19:42</td>\n      <td>5/8/2016 19:42</td>\n      <td>5/8/2016 23:42</td>\n    </tr>\n    <tr>\n      <th>1</th>\n      <td>2</td>\n      <td>1254</td>\n      <td>Sun May 08 21:20:20 +0000 2016</td>\n      <td>7.290000e+17</td>\n      <td>en</td>\n      <td>Abu Dhabi</td>\n      <td>999</td>\n      <td>POINT (113.93337 22.31488)</td>\n      <td>Sun May 08 21:20:20 +0000 2016</td>\n      <td>7.290000e+17</td>\n      <td>...</td>\n      <td>en</td>\n      <td>NaN</td>\n      <td>False</td>\n      <td>951</td>\n      <td>950 - 951</td>\n      <td>it s that time again u number u hong kong taxi...</td>\n      <td>2016-05-08 21:20:20+00:00</td>\n      <td>5/8/2016 21:20</td>\n      <td>5/8/2016 21:20</td>\n      <td>5/9/2016 1:20</td>\n    </tr>\n    <tr>\n      <th>2</th>\n      <td>3</td>\n      <td>3007</td>\n      <td>Thu May 12 08:04:44 +0000 2016</td>\n      <td>7.310000e+17</td>\n      <td>en</td>\n      <td>Abu Dhabi</td>\n      <td>8</td>\n      <td>POINT (114.17800 22.28090)</td>\n      <td>Thu May 12 08:04:44 +0000 2016</td>\n      <td>7.310000e+17</td>\n      <td>...</td>\n      <td>en</td>\n      <td>NaN</td>\n      <td>False</td>\n      <td>135</td>\n      <td>135</td>\n      <td>static behaviour china hong kong explore touri...</td>\n      <td>2016-05-12 08:04:44+00:00</td>\n      <td>5/12/2016 8:04</td>\n      <td>5/12/2016 8:04</td>\n      <td>5/12/2016 12:04</td>\n    </tr>\n    <tr>\n      <th>3</th>\n      <td>4</td>\n      <td>3715</td>\n      <td>Fri May 13 09:07:09 +0000 2016</td>\n      <td>7.310000e+17</td>\n      <td>en</td>\n      <td>Abu Dhabi</td>\n      <td>7</td>\n      <td>POINT (114.20402 22.33934)</td>\n      <td>Fri May 13 09:07:09 +0000 2016</td>\n      <td>7.310000e+17</td>\n      <td>...</td>\n      <td>en</td>\n      <td>NaN</td>\n      <td>False</td>\n      <td>281</td>\n      <td>281</td>\n      <td>the nan garden at diamond hill in hong kong a ...</td>\n      <td>2016-05-13 09:07:09+00:00</td>\n      <td>5/13/2016 9:07</td>\n      <td>5/13/2016 9:07</td>\n      <td>5/13/2016 13:07</td>\n    </tr>\n    <tr>\n      <th>4</th>\n      <td>5</td>\n      <td>4297</td>\n      <td>Sat May 14 06:37:43 +0000 2016</td>\n      <td>7.310000e+17</td>\n      <td>en</td>\n      <td>Abu Dhabi</td>\n      <td>3</td>\n      <td>POINT (114.04353 22.31342)</td>\n      <td>Sat May 14 06:37:43 +0000 2016</td>\n      <td>7.310000e+17</td>\n      <td>...</td>\n      <td>en</td>\n      <td>NaN</td>\n      <td>False</td>\n      <td>973</td>\n      <td>971 - 974</td>\n      <td>advance birthday treat from my sister u number...</td>\n      <td>2016-05-14 06:37:43+00:00</td>\n      <td>5/14/2016 6:37</td>\n      <td>5/14/2016 6:37</td>\n      <td>5/14/2016 10:37</td>\n    </tr>\n  </tbody>\n</table>\n<p>5 rows × 29 columns</p>\n</div>"
     },
     "execution_count": 16,
     "metadata": {},
     "output_type": "execute_result"
    }
   ],
   "source": [
    "df3.head(5)"
   ],
   "metadata": {
    "collapsed": false
   }
  },
  {
   "cell_type": "code",
   "execution_count": 17,
   "outputs": [],
   "source": [
    "df4=df3[['OBJECTID_1','Field1','LanduseTyp','created_at_x','id_str_x','time_zone_x','geometry','date_thirdprocess','date_hk']]"
   ],
   "metadata": {
    "collapsed": false
   }
  },
  {
   "cell_type": "code",
   "execution_count": 18,
   "outputs": [
    {
     "data": {
      "text/plain": "   OBJECTID_1  Field1  LanduseTyp                    created_at_x  \\\n0           1    1246           8  Sun May 08 19:42:57 +0000 2016   \n1           2    1254         999  Sun May 08 21:20:20 +0000 2016   \n2           3    3007           8  Thu May 12 08:04:44 +0000 2016   \n3           4    3715           7  Fri May 13 09:07:09 +0000 2016   \n4           5    4297           3  Sat May 14 06:37:43 +0000 2016   \n\n       id_str_x time_zone_x                    geometry date_thirdprocess  \\\n0  7.290000e+17   Abu Dhabi  POINT (114.17800 22.28090)    5/8/2016 19:42   \n1  7.290000e+17   Abu Dhabi  POINT (113.93337 22.31488)    5/8/2016 21:20   \n2  7.310000e+17   Abu Dhabi  POINT (114.17800 22.28090)    5/12/2016 8:04   \n3  7.310000e+17   Abu Dhabi  POINT (114.20402 22.33934)    5/13/2016 9:07   \n4  7.310000e+17   Abu Dhabi  POINT (114.04353 22.31342)    5/14/2016 6:37   \n\n           date_hk  \n0   5/8/2016 23:42  \n1    5/9/2016 1:20  \n2  5/12/2016 12:04  \n3  5/13/2016 13:07  \n4  5/14/2016 10:37  ",
      "text/html": "<div>\n<style scoped>\n    .dataframe tbody tr th:only-of-type {\n        vertical-align: middle;\n    }\n\n    .dataframe tbody tr th {\n        vertical-align: top;\n    }\n\n    .dataframe thead th {\n        text-align: right;\n    }\n</style>\n<table border=\"1\" class=\"dataframe\">\n  <thead>\n    <tr style=\"text-align: right;\">\n      <th></th>\n      <th>OBJECTID_1</th>\n      <th>Field1</th>\n      <th>LanduseTyp</th>\n      <th>created_at_x</th>\n      <th>id_str_x</th>\n      <th>time_zone_x</th>\n      <th>geometry</th>\n      <th>date_thirdprocess</th>\n      <th>date_hk</th>\n    </tr>\n  </thead>\n  <tbody>\n    <tr>\n      <th>0</th>\n      <td>1</td>\n      <td>1246</td>\n      <td>8</td>\n      <td>Sun May 08 19:42:57 +0000 2016</td>\n      <td>7.290000e+17</td>\n      <td>Abu Dhabi</td>\n      <td>POINT (114.17800 22.28090)</td>\n      <td>5/8/2016 19:42</td>\n      <td>5/8/2016 23:42</td>\n    </tr>\n    <tr>\n      <th>1</th>\n      <td>2</td>\n      <td>1254</td>\n      <td>999</td>\n      <td>Sun May 08 21:20:20 +0000 2016</td>\n      <td>7.290000e+17</td>\n      <td>Abu Dhabi</td>\n      <td>POINT (113.93337 22.31488)</td>\n      <td>5/8/2016 21:20</td>\n      <td>5/9/2016 1:20</td>\n    </tr>\n    <tr>\n      <th>2</th>\n      <td>3</td>\n      <td>3007</td>\n      <td>8</td>\n      <td>Thu May 12 08:04:44 +0000 2016</td>\n      <td>7.310000e+17</td>\n      <td>Abu Dhabi</td>\n      <td>POINT (114.17800 22.28090)</td>\n      <td>5/12/2016 8:04</td>\n      <td>5/12/2016 12:04</td>\n    </tr>\n    <tr>\n      <th>3</th>\n      <td>4</td>\n      <td>3715</td>\n      <td>7</td>\n      <td>Fri May 13 09:07:09 +0000 2016</td>\n      <td>7.310000e+17</td>\n      <td>Abu Dhabi</td>\n      <td>POINT (114.20402 22.33934)</td>\n      <td>5/13/2016 9:07</td>\n      <td>5/13/2016 13:07</td>\n    </tr>\n    <tr>\n      <th>4</th>\n      <td>5</td>\n      <td>4297</td>\n      <td>3</td>\n      <td>Sat May 14 06:37:43 +0000 2016</td>\n      <td>7.310000e+17</td>\n      <td>Abu Dhabi</td>\n      <td>POINT (114.04353 22.31342)</td>\n      <td>5/14/2016 6:37</td>\n      <td>5/14/2016 10:37</td>\n    </tr>\n  </tbody>\n</table>\n</div>"
     },
     "execution_count": 18,
     "metadata": {},
     "output_type": "execute_result"
    }
   ],
   "source": [
    "df4.head(5)"
   ],
   "metadata": {
    "collapsed": false
   }
  },
  {
   "cell_type": "code",
   "execution_count": 19,
   "outputs": [
    {
     "data": {
      "text/plain": "OBJECTID_1              int64\nField1                  int64\nLanduseTyp              int64\ncreated_at_x           object\nid_str_x              float64\ntime_zone_x            object\ngeometry             geometry\ndate_thirdprocess      object\ndate_hk                object\ndtype: object"
     },
     "execution_count": 19,
     "metadata": {},
     "output_type": "execute_result"
    }
   ],
   "source": [
    "df4.dtypes"
   ],
   "metadata": {
    "collapsed": false
   }
  },
  {
   "cell_type": "code",
   "execution_count": 21,
   "outputs": [
    {
     "name": "stderr",
     "output_type": "stream",
     "text": [
      "d:\\workspace\\python38\\lib\\site-packages\\geopandas\\geodataframe.py:1443: SettingWithCopyWarning: \n",
      "A value is trying to be set on a copy of a slice from a DataFrame.\n",
      "Try using .loc[row_indexer,col_indexer] = value instead\n",
      "\n",
      "See the caveats in the documentation: https://pandas.pydata.org/pandas-docs/stable/user_guide/indexing.html#returning-a-view-versus-a-copy\n",
      "  super().__setitem__(key, value)\n"
     ]
    }
   ],
   "source": [
    "df4['date_thirdprocess']= pd.to_datetime(df4['date_thirdprocess'])"
   ],
   "metadata": {
    "collapsed": false
   }
  },
  {
   "cell_type": "code",
   "execution_count": 22,
   "outputs": [
    {
     "name": "stderr",
     "output_type": "stream",
     "text": [
      "d:\\workspace\\python38\\lib\\site-packages\\geopandas\\geodataframe.py:1443: SettingWithCopyWarning: \n",
      "A value is trying to be set on a copy of a slice from a DataFrame.\n",
      "Try using .loc[row_indexer,col_indexer] = value instead\n",
      "\n",
      "See the caveats in the documentation: https://pandas.pydata.org/pandas-docs/stable/user_guide/indexing.html#returning-a-view-versus-a-copy\n",
      "  super().__setitem__(key, value)\n"
     ]
    }
   ],
   "source": [
    "df4['date_hk']= pd.to_datetime(df4['date_hk'])"
   ],
   "metadata": {
    "collapsed": false
   }
  },
  {
   "cell_type": "code",
   "execution_count": 23,
   "outputs": [],
   "source": [
    "date_hk_col=pd.DatetimeIndex(df4['date_hk'])"
   ],
   "metadata": {
    "collapsed": false
   }
  },
  {
   "cell_type": "code",
   "execution_count": 61,
   "outputs": [],
   "source": [
    "df5=df4.groupby([date_hk_col.year, date_hk_col.month,date_hk_col.day,date_hk_col.hour,df4['LanduseTyp']]).count()"
   ],
   "metadata": {
    "collapsed": false
   }
  },
  {
   "cell_type": "code",
   "execution_count": 62,
   "outputs": [
    {
     "data": {
      "text/plain": "OBJECTID_1           int64\nField1               int64\ncreated_at_x         int64\nid_str_x             int64\ntime_zone_x          int64\ngeometry             int64\ndate_thirdprocess    int64\ndate_hk              int64\ndtype: object"
     },
     "execution_count": 62,
     "metadata": {},
     "output_type": "execute_result"
    }
   ],
   "source": [
    "df5.dtypes"
   ],
   "metadata": {
    "collapsed": false
   }
  },
  {
   "cell_type": "code",
   "execution_count": 63,
   "outputs": [
    {
     "data": {
      "text/plain": "                                            OBJECTID_1  Field1  created_at_x  \\\ndate_hk date_hk date_hk date_hk LanduseTyp                                     \n2016    5       7       3       999                  1       1             1   \n                        6       7                    1       1             1   \n                                8                    2       2             2   \n                        7       2                    7       7             7   \n                                3                    8       8             8   \n\n                                            id_str_x  time_zone_x  geometry  \\\ndate_hk date_hk date_hk date_hk LanduseTyp                                    \n2016    5       7       3       999                1            1         1   \n                        6       7                  1            1         1   \n                                8                  2            2         2   \n                        7       2                  7            6         7   \n                                3                  8            6         8   \n\n                                            date_thirdprocess  date_hk  \ndate_hk date_hk date_hk date_hk LanduseTyp                              \n2016    5       7       3       999                         1        1  \n                        6       7                           1        1  \n                                8                           2        2  \n                        7       2                           7        7  \n                                3                           8        8  ",
      "text/html": "<div>\n<style scoped>\n    .dataframe tbody tr th:only-of-type {\n        vertical-align: middle;\n    }\n\n    .dataframe tbody tr th {\n        vertical-align: top;\n    }\n\n    .dataframe thead th {\n        text-align: right;\n    }\n</style>\n<table border=\"1\" class=\"dataframe\">\n  <thead>\n    <tr style=\"text-align: right;\">\n      <th></th>\n      <th></th>\n      <th></th>\n      <th></th>\n      <th></th>\n      <th>OBJECTID_1</th>\n      <th>Field1</th>\n      <th>created_at_x</th>\n      <th>id_str_x</th>\n      <th>time_zone_x</th>\n      <th>geometry</th>\n      <th>date_thirdprocess</th>\n      <th>date_hk</th>\n    </tr>\n    <tr>\n      <th>date_hk</th>\n      <th>date_hk</th>\n      <th>date_hk</th>\n      <th>date_hk</th>\n      <th>LanduseTyp</th>\n      <th></th>\n      <th></th>\n      <th></th>\n      <th></th>\n      <th></th>\n      <th></th>\n      <th></th>\n      <th></th>\n    </tr>\n  </thead>\n  <tbody>\n    <tr>\n      <th rowspan=\"5\" valign=\"top\">2016</th>\n      <th rowspan=\"5\" valign=\"top\">5</th>\n      <th rowspan=\"5\" valign=\"top\">7</th>\n      <th>3</th>\n      <th>999</th>\n      <td>1</td>\n      <td>1</td>\n      <td>1</td>\n      <td>1</td>\n      <td>1</td>\n      <td>1</td>\n      <td>1</td>\n      <td>1</td>\n    </tr>\n    <tr>\n      <th rowspan=\"2\" valign=\"top\">6</th>\n      <th>7</th>\n      <td>1</td>\n      <td>1</td>\n      <td>1</td>\n      <td>1</td>\n      <td>1</td>\n      <td>1</td>\n      <td>1</td>\n      <td>1</td>\n    </tr>\n    <tr>\n      <th>8</th>\n      <td>2</td>\n      <td>2</td>\n      <td>2</td>\n      <td>2</td>\n      <td>2</td>\n      <td>2</td>\n      <td>2</td>\n      <td>2</td>\n    </tr>\n    <tr>\n      <th rowspan=\"2\" valign=\"top\">7</th>\n      <th>2</th>\n      <td>7</td>\n      <td>7</td>\n      <td>7</td>\n      <td>7</td>\n      <td>6</td>\n      <td>7</td>\n      <td>7</td>\n      <td>7</td>\n    </tr>\n    <tr>\n      <th>3</th>\n      <td>8</td>\n      <td>8</td>\n      <td>8</td>\n      <td>8</td>\n      <td>6</td>\n      <td>8</td>\n      <td>8</td>\n      <td>8</td>\n    </tr>\n  </tbody>\n</table>\n</div>"
     },
     "execution_count": 63,
     "metadata": {},
     "output_type": "execute_result"
    }
   ],
   "source": [
    "df5.head(5)"
   ],
   "metadata": {
    "collapsed": false
   }
  },
  {
   "cell_type": "code",
   "execution_count": 64,
   "outputs": [],
   "source": [
    "del df5['date_hk']"
   ],
   "metadata": {
    "collapsed": false
   }
  },
  {
   "cell_type": "code",
   "execution_count": 65,
   "outputs": [],
   "source": [
    "del df5['date_thirdprocess']"
   ],
   "metadata": {
    "collapsed": false
   }
  },
  {
   "cell_type": "code",
   "execution_count": 66,
   "outputs": [
    {
     "data": {
      "text/plain": "                                            OBJECTID_1  Field1  created_at_x  \\\ndate_hk date_hk date_hk date_hk LanduseTyp                                     \n2016    5       7       3       999                  1       1             1   \n                        6       7                    1       1             1   \n                                8                    2       2             2   \n                        7       2                    7       7             7   \n                                3                    8       8             8   \n\n                                            id_str_x  time_zone_x  geometry  \ndate_hk date_hk date_hk date_hk LanduseTyp                                   \n2016    5       7       3       999                1            1         1  \n                        6       7                  1            1         1  \n                                8                  2            2         2  \n                        7       2                  7            6         7  \n                                3                  8            6         8  ",
      "text/html": "<div>\n<style scoped>\n    .dataframe tbody tr th:only-of-type {\n        vertical-align: middle;\n    }\n\n    .dataframe tbody tr th {\n        vertical-align: top;\n    }\n\n    .dataframe thead th {\n        text-align: right;\n    }\n</style>\n<table border=\"1\" class=\"dataframe\">\n  <thead>\n    <tr style=\"text-align: right;\">\n      <th></th>\n      <th></th>\n      <th></th>\n      <th></th>\n      <th></th>\n      <th>OBJECTID_1</th>\n      <th>Field1</th>\n      <th>created_at_x</th>\n      <th>id_str_x</th>\n      <th>time_zone_x</th>\n      <th>geometry</th>\n    </tr>\n    <tr>\n      <th>date_hk</th>\n      <th>date_hk</th>\n      <th>date_hk</th>\n      <th>date_hk</th>\n      <th>LanduseTyp</th>\n      <th></th>\n      <th></th>\n      <th></th>\n      <th></th>\n      <th></th>\n      <th></th>\n    </tr>\n  </thead>\n  <tbody>\n    <tr>\n      <th rowspan=\"5\" valign=\"top\">2016</th>\n      <th rowspan=\"5\" valign=\"top\">5</th>\n      <th rowspan=\"5\" valign=\"top\">7</th>\n      <th>3</th>\n      <th>999</th>\n      <td>1</td>\n      <td>1</td>\n      <td>1</td>\n      <td>1</td>\n      <td>1</td>\n      <td>1</td>\n    </tr>\n    <tr>\n      <th rowspan=\"2\" valign=\"top\">6</th>\n      <th>7</th>\n      <td>1</td>\n      <td>1</td>\n      <td>1</td>\n      <td>1</td>\n      <td>1</td>\n      <td>1</td>\n    </tr>\n    <tr>\n      <th>8</th>\n      <td>2</td>\n      <td>2</td>\n      <td>2</td>\n      <td>2</td>\n      <td>2</td>\n      <td>2</td>\n    </tr>\n    <tr>\n      <th rowspan=\"2\" valign=\"top\">7</th>\n      <th>2</th>\n      <td>7</td>\n      <td>7</td>\n      <td>7</td>\n      <td>7</td>\n      <td>6</td>\n      <td>7</td>\n    </tr>\n    <tr>\n      <th>3</th>\n      <td>8</td>\n      <td>8</td>\n      <td>8</td>\n      <td>8</td>\n      <td>6</td>\n      <td>8</td>\n    </tr>\n  </tbody>\n</table>\n</div>"
     },
     "execution_count": 66,
     "metadata": {},
     "output_type": "execute_result"
    }
   ],
   "source": [
    "df5.head(5)"
   ],
   "metadata": {
    "collapsed": false
   }
  },
  {
   "cell_type": "code",
   "execution_count": 67,
   "outputs": [],
   "source": [
    "df5['LanduseTyp'] = df5.index.get_level_values('LanduseTyp')"
   ],
   "metadata": {
    "collapsed": false
   }
  },
  {
   "cell_type": "code",
   "execution_count": 68,
   "outputs": [
    {
     "data": {
      "text/plain": "OBJECTID_1      int64\nField1          int64\ncreated_at_x    int64\nid_str_x        int64\ntime_zone_x     int64\ngeometry        int64\nLanduseTyp      int64\ndtype: object"
     },
     "execution_count": 68,
     "metadata": {},
     "output_type": "execute_result"
    }
   ],
   "source": [
    "df5.dtypes"
   ],
   "metadata": {
    "collapsed": false
   }
  },
  {
   "cell_type": "code",
   "execution_count": 79,
   "outputs": [],
   "source": [
    "del df5['LanduseTyp']"
   ],
   "metadata": {
    "collapsed": false
   }
  },
  {
   "cell_type": "code",
   "execution_count": 80,
   "outputs": [
    {
     "data": {
      "text/plain": "OBJECTID_1      int64\nField1          int64\ncreated_at_x    int64\nid_str_x        int64\ntime_zone_x     int64\ngeometry        int64\ndtype: object"
     },
     "execution_count": 80,
     "metadata": {},
     "output_type": "execute_result"
    }
   ],
   "source": [
    "df5.dtypes"
   ],
   "metadata": {
    "collapsed": false
   }
  },
  {
   "cell_type": "code",
   "execution_count": 81,
   "outputs": [
    {
     "ename": "ValueError",
     "evalue": "cannot insert date_hk, already exists",
     "output_type": "error",
     "traceback": [
      "\u001B[1;31m---------------------------------------------------------------------------\u001B[0m",
      "\u001B[1;31mValueError\u001B[0m                                Traceback (most recent call last)",
      "\u001B[1;32mC:\\Users\\GAOYUN~1\\AppData\\Local\\Temp/ipykernel_1532/3046960758.py\u001B[0m in \u001B[0;36m<module>\u001B[1;34m\u001B[0m\n\u001B[1;32m----> 1\u001B[1;33m \u001B[0mdf5\u001B[0m\u001B[1;33m.\u001B[0m\u001B[0mreset_index\u001B[0m\u001B[1;33m(\u001B[0m\u001B[0mdrop\u001B[0m\u001B[1;33m=\u001B[0m\u001B[1;32mFalse\u001B[0m\u001B[1;33m,\u001B[0m\u001B[0minplace\u001B[0m\u001B[1;33m=\u001B[0m\u001B[1;32mFalse\u001B[0m\u001B[1;33m)\u001B[0m\u001B[1;33m\u001B[0m\u001B[1;33m\u001B[0m\u001B[0m\n\u001B[0m",
      "\u001B[1;32md:\\workspace\\python38\\lib\\site-packages\\pandas\\util\\_decorators.py\u001B[0m in \u001B[0;36mwrapper\u001B[1;34m(*args, **kwargs)\u001B[0m\n\u001B[0;32m    329\u001B[0m                     \u001B[0mstacklevel\u001B[0m\u001B[1;33m=\u001B[0m\u001B[0mfind_stack_level\u001B[0m\u001B[1;33m(\u001B[0m\u001B[1;33m)\u001B[0m\u001B[1;33m,\u001B[0m\u001B[1;33m\u001B[0m\u001B[1;33m\u001B[0m\u001B[0m\n\u001B[0;32m    330\u001B[0m                 )\n\u001B[1;32m--> 331\u001B[1;33m             \u001B[1;32mreturn\u001B[0m \u001B[0mfunc\u001B[0m\u001B[1;33m(\u001B[0m\u001B[1;33m*\u001B[0m\u001B[0margs\u001B[0m\u001B[1;33m,\u001B[0m \u001B[1;33m**\u001B[0m\u001B[0mkwargs\u001B[0m\u001B[1;33m)\u001B[0m\u001B[1;33m\u001B[0m\u001B[1;33m\u001B[0m\u001B[0m\n\u001B[0m\u001B[0;32m    332\u001B[0m \u001B[1;33m\u001B[0m\u001B[0m\n\u001B[0;32m    333\u001B[0m         \u001B[1;31m# error: \"Callable[[VarArg(Any), KwArg(Any)], Any]\" has no\u001B[0m\u001B[1;33m\u001B[0m\u001B[1;33m\u001B[0m\u001B[1;33m\u001B[0m\u001B[0m\n",
      "\u001B[1;32md:\\workspace\\python38\\lib\\site-packages\\pandas\\core\\frame.py\u001B[0m in \u001B[0;36mreset_index\u001B[1;34m(self, level, drop, inplace, col_level, col_fill, allow_duplicates, names)\u001B[0m\n\u001B[0;32m   6356\u001B[0m                     )\n\u001B[0;32m   6357\u001B[0m \u001B[1;33m\u001B[0m\u001B[0m\n\u001B[1;32m-> 6358\u001B[1;33m                 new_obj.insert(\n\u001B[0m\u001B[0;32m   6359\u001B[0m                     \u001B[1;36m0\u001B[0m\u001B[1;33m,\u001B[0m\u001B[1;33m\u001B[0m\u001B[1;33m\u001B[0m\u001B[0m\n\u001B[0;32m   6360\u001B[0m                     \u001B[0mname\u001B[0m\u001B[1;33m,\u001B[0m\u001B[1;33m\u001B[0m\u001B[1;33m\u001B[0m\u001B[0m\n",
      "\u001B[1;32md:\\workspace\\python38\\lib\\site-packages\\pandas\\core\\frame.py\u001B[0m in \u001B[0;36minsert\u001B[1;34m(self, loc, column, value, allow_duplicates)\u001B[0m\n\u001B[0;32m   4812\u001B[0m         \u001B[1;32mif\u001B[0m \u001B[1;32mnot\u001B[0m \u001B[0mallow_duplicates\u001B[0m \u001B[1;32mand\u001B[0m \u001B[0mcolumn\u001B[0m \u001B[1;32min\u001B[0m \u001B[0mself\u001B[0m\u001B[1;33m.\u001B[0m\u001B[0mcolumns\u001B[0m\u001B[1;33m:\u001B[0m\u001B[1;33m\u001B[0m\u001B[1;33m\u001B[0m\u001B[0m\n\u001B[0;32m   4813\u001B[0m             \u001B[1;31m# Should this be a different kind of error??\u001B[0m\u001B[1;33m\u001B[0m\u001B[1;33m\u001B[0m\u001B[1;33m\u001B[0m\u001B[0m\n\u001B[1;32m-> 4814\u001B[1;33m             \u001B[1;32mraise\u001B[0m \u001B[0mValueError\u001B[0m\u001B[1;33m(\u001B[0m\u001B[1;34mf\"cannot insert {column}, already exists\"\u001B[0m\u001B[1;33m)\u001B[0m\u001B[1;33m\u001B[0m\u001B[1;33m\u001B[0m\u001B[0m\n\u001B[0m\u001B[0;32m   4815\u001B[0m         \u001B[1;32mif\u001B[0m \u001B[1;32mnot\u001B[0m \u001B[0misinstance\u001B[0m\u001B[1;33m(\u001B[0m\u001B[0mloc\u001B[0m\u001B[1;33m,\u001B[0m \u001B[0mint\u001B[0m\u001B[1;33m)\u001B[0m\u001B[1;33m:\u001B[0m\u001B[1;33m\u001B[0m\u001B[1;33m\u001B[0m\u001B[0m\n\u001B[0;32m   4816\u001B[0m             \u001B[1;32mraise\u001B[0m \u001B[0mTypeError\u001B[0m\u001B[1;33m(\u001B[0m\u001B[1;34m\"loc must be int\"\u001B[0m\u001B[1;33m)\u001B[0m\u001B[1;33m\u001B[0m\u001B[1;33m\u001B[0m\u001B[0m\n",
      "\u001B[1;31mValueError\u001B[0m: cannot insert date_hk, already exists"
     ]
    }
   ],
   "source": [
    "df5.reset_index(drop=False,inplace=False)"
   ],
   "metadata": {
    "collapsed": false
   }
  },
  {
   "cell_type": "code",
   "execution_count": 83,
   "outputs": [
    {
     "ename": "KeyError",
     "evalue": "'date_hk'",
     "output_type": "error",
     "traceback": [
      "\u001B[1;31m---------------------------------------------------------------------------\u001B[0m",
      "\u001B[1;31mKeyError\u001B[0m                                  Traceback (most recent call last)",
      "\u001B[1;32md:\\workspace\\python38\\lib\\site-packages\\pandas\\core\\indexes\\base.py\u001B[0m in \u001B[0;36mget_loc\u001B[1;34m(self, key, method, tolerance)\u001B[0m\n\u001B[0;32m   3802\u001B[0m             \u001B[1;32mtry\u001B[0m\u001B[1;33m:\u001B[0m\u001B[1;33m\u001B[0m\u001B[1;33m\u001B[0m\u001B[0m\n\u001B[1;32m-> 3803\u001B[1;33m                 \u001B[1;32mreturn\u001B[0m \u001B[0mself\u001B[0m\u001B[1;33m.\u001B[0m\u001B[0m_engine\u001B[0m\u001B[1;33m.\u001B[0m\u001B[0mget_loc\u001B[0m\u001B[1;33m(\u001B[0m\u001B[0mcasted_key\u001B[0m\u001B[1;33m)\u001B[0m\u001B[1;33m\u001B[0m\u001B[1;33m\u001B[0m\u001B[0m\n\u001B[0m\u001B[0;32m   3804\u001B[0m             \u001B[1;32mexcept\u001B[0m \u001B[0mKeyError\u001B[0m \u001B[1;32mas\u001B[0m \u001B[0merr\u001B[0m\u001B[1;33m:\u001B[0m\u001B[1;33m\u001B[0m\u001B[1;33m\u001B[0m\u001B[0m\n",
      "\u001B[1;32md:\\workspace\\python38\\lib\\site-packages\\pandas\\_libs\\index.pyx\u001B[0m in \u001B[0;36mpandas._libs.index.IndexEngine.get_loc\u001B[1;34m()\u001B[0m\n",
      "\u001B[1;32md:\\workspace\\python38\\lib\\site-packages\\pandas\\_libs\\index.pyx\u001B[0m in \u001B[0;36mpandas._libs.index.IndexEngine.get_loc\u001B[1;34m()\u001B[0m\n",
      "\u001B[1;32mpandas\\_libs\\hashtable_class_helper.pxi\u001B[0m in \u001B[0;36mpandas._libs.hashtable.PyObjectHashTable.get_item\u001B[1;34m()\u001B[0m\n",
      "\u001B[1;32mpandas\\_libs\\hashtable_class_helper.pxi\u001B[0m in \u001B[0;36mpandas._libs.hashtable.PyObjectHashTable.get_item\u001B[1;34m()\u001B[0m\n",
      "\u001B[1;31mKeyError\u001B[0m: 'date_hk'",
      "\nThe above exception was the direct cause of the following exception:\n",
      "\u001B[1;31mKeyError\u001B[0m                                  Traceback (most recent call last)",
      "\u001B[1;32mC:\\Users\\GAOYUN~1\\AppData\\Local\\Temp/ipykernel_1532/3944093523.py\u001B[0m in \u001B[0;36m<module>\u001B[1;34m\u001B[0m\n\u001B[1;32m----> 1\u001B[1;33m \u001B[1;32mdel\u001B[0m \u001B[0mdf5\u001B[0m\u001B[1;33m[\u001B[0m\u001B[1;34m'date_hk'\u001B[0m\u001B[1;33m]\u001B[0m\u001B[1;33m\u001B[0m\u001B[1;33m\u001B[0m\u001B[0m\n\u001B[0m",
      "\u001B[1;32md:\\workspace\\python38\\lib\\site-packages\\pandas\\core\\generic.py\u001B[0m in \u001B[0;36m__delitem__\u001B[1;34m(self, key)\u001B[0m\n\u001B[0;32m   4241\u001B[0m             \u001B[1;31m# there was no match, this call should raise the appropriate\u001B[0m\u001B[1;33m\u001B[0m\u001B[1;33m\u001B[0m\u001B[1;33m\u001B[0m\u001B[0m\n\u001B[0;32m   4242\u001B[0m             \u001B[1;31m# exception:\u001B[0m\u001B[1;33m\u001B[0m\u001B[1;33m\u001B[0m\u001B[1;33m\u001B[0m\u001B[0m\n\u001B[1;32m-> 4243\u001B[1;33m             \u001B[0mloc\u001B[0m \u001B[1;33m=\u001B[0m \u001B[0mself\u001B[0m\u001B[1;33m.\u001B[0m\u001B[0maxes\u001B[0m\u001B[1;33m[\u001B[0m\u001B[1;33m-\u001B[0m\u001B[1;36m1\u001B[0m\u001B[1;33m]\u001B[0m\u001B[1;33m.\u001B[0m\u001B[0mget_loc\u001B[0m\u001B[1;33m(\u001B[0m\u001B[0mkey\u001B[0m\u001B[1;33m)\u001B[0m\u001B[1;33m\u001B[0m\u001B[1;33m\u001B[0m\u001B[0m\n\u001B[0m\u001B[0;32m   4244\u001B[0m             \u001B[0mself\u001B[0m\u001B[1;33m.\u001B[0m\u001B[0m_mgr\u001B[0m \u001B[1;33m=\u001B[0m \u001B[0mself\u001B[0m\u001B[1;33m.\u001B[0m\u001B[0m_mgr\u001B[0m\u001B[1;33m.\u001B[0m\u001B[0midelete\u001B[0m\u001B[1;33m(\u001B[0m\u001B[0mloc\u001B[0m\u001B[1;33m)\u001B[0m\u001B[1;33m\u001B[0m\u001B[1;33m\u001B[0m\u001B[0m\n\u001B[0;32m   4245\u001B[0m \u001B[1;33m\u001B[0m\u001B[0m\n",
      "\u001B[1;32md:\\workspace\\python38\\lib\\site-packages\\pandas\\core\\indexes\\base.py\u001B[0m in \u001B[0;36mget_loc\u001B[1;34m(self, key, method, tolerance)\u001B[0m\n\u001B[0;32m   3803\u001B[0m                 \u001B[1;32mreturn\u001B[0m \u001B[0mself\u001B[0m\u001B[1;33m.\u001B[0m\u001B[0m_engine\u001B[0m\u001B[1;33m.\u001B[0m\u001B[0mget_loc\u001B[0m\u001B[1;33m(\u001B[0m\u001B[0mcasted_key\u001B[0m\u001B[1;33m)\u001B[0m\u001B[1;33m\u001B[0m\u001B[1;33m\u001B[0m\u001B[0m\n\u001B[0;32m   3804\u001B[0m             \u001B[1;32mexcept\u001B[0m \u001B[0mKeyError\u001B[0m \u001B[1;32mas\u001B[0m \u001B[0merr\u001B[0m\u001B[1;33m:\u001B[0m\u001B[1;33m\u001B[0m\u001B[1;33m\u001B[0m\u001B[0m\n\u001B[1;32m-> 3805\u001B[1;33m                 \u001B[1;32mraise\u001B[0m \u001B[0mKeyError\u001B[0m\u001B[1;33m(\u001B[0m\u001B[0mkey\u001B[0m\u001B[1;33m)\u001B[0m \u001B[1;32mfrom\u001B[0m \u001B[0merr\u001B[0m\u001B[1;33m\u001B[0m\u001B[1;33m\u001B[0m\u001B[0m\n\u001B[0m\u001B[0;32m   3806\u001B[0m             \u001B[1;32mexcept\u001B[0m \u001B[0mTypeError\u001B[0m\u001B[1;33m:\u001B[0m\u001B[1;33m\u001B[0m\u001B[1;33m\u001B[0m\u001B[0m\n\u001B[0;32m   3807\u001B[0m                 \u001B[1;31m# If we have a listlike key, _check_indexing_error will raise\u001B[0m\u001B[1;33m\u001B[0m\u001B[1;33m\u001B[0m\u001B[1;33m\u001B[0m\u001B[0m\n",
      "\u001B[1;31mKeyError\u001B[0m: 'date_hk'"
     ]
    }
   ],
   "source": [
    "del df5['date_hk']"
   ],
   "metadata": {
    "collapsed": false
   }
  },
  {
   "cell_type": "code",
   "execution_count": 85,
   "outputs": [
    {
     "ename": "ValueError",
     "evalue": "cannot insert date_hk, already exists",
     "output_type": "error",
     "traceback": [
      "\u001B[1;31m---------------------------------------------------------------------------\u001B[0m",
      "\u001B[1;31mValueError\u001B[0m                                Traceback (most recent call last)",
      "\u001B[1;32mC:\\Users\\GAOYUN~1\\AppData\\Local\\Temp/ipykernel_1532/2756392247.py\u001B[0m in \u001B[0;36m<module>\u001B[1;34m\u001B[0m\n\u001B[1;32m----> 1\u001B[1;33m \u001B[0mdf5\u001B[0m\u001B[1;33m.\u001B[0m\u001B[0mreset_index\u001B[0m\u001B[1;33m(\u001B[0m\u001B[0mdrop\u001B[0m\u001B[1;33m=\u001B[0m\u001B[1;32mFalse\u001B[0m\u001B[1;33m)\u001B[0m\u001B[1;33m\u001B[0m\u001B[1;33m\u001B[0m\u001B[0m\n\u001B[0m",
      "\u001B[1;32md:\\workspace\\python38\\lib\\site-packages\\pandas\\util\\_decorators.py\u001B[0m in \u001B[0;36mwrapper\u001B[1;34m(*args, **kwargs)\u001B[0m\n\u001B[0;32m    329\u001B[0m                     \u001B[0mstacklevel\u001B[0m\u001B[1;33m=\u001B[0m\u001B[0mfind_stack_level\u001B[0m\u001B[1;33m(\u001B[0m\u001B[1;33m)\u001B[0m\u001B[1;33m,\u001B[0m\u001B[1;33m\u001B[0m\u001B[1;33m\u001B[0m\u001B[0m\n\u001B[0;32m    330\u001B[0m                 )\n\u001B[1;32m--> 331\u001B[1;33m             \u001B[1;32mreturn\u001B[0m \u001B[0mfunc\u001B[0m\u001B[1;33m(\u001B[0m\u001B[1;33m*\u001B[0m\u001B[0margs\u001B[0m\u001B[1;33m,\u001B[0m \u001B[1;33m**\u001B[0m\u001B[0mkwargs\u001B[0m\u001B[1;33m)\u001B[0m\u001B[1;33m\u001B[0m\u001B[1;33m\u001B[0m\u001B[0m\n\u001B[0m\u001B[0;32m    332\u001B[0m \u001B[1;33m\u001B[0m\u001B[0m\n\u001B[0;32m    333\u001B[0m         \u001B[1;31m# error: \"Callable[[VarArg(Any), KwArg(Any)], Any]\" has no\u001B[0m\u001B[1;33m\u001B[0m\u001B[1;33m\u001B[0m\u001B[1;33m\u001B[0m\u001B[0m\n",
      "\u001B[1;32md:\\workspace\\python38\\lib\\site-packages\\pandas\\core\\frame.py\u001B[0m in \u001B[0;36mreset_index\u001B[1;34m(self, level, drop, inplace, col_level, col_fill, allow_duplicates, names)\u001B[0m\n\u001B[0;32m   6356\u001B[0m                     )\n\u001B[0;32m   6357\u001B[0m \u001B[1;33m\u001B[0m\u001B[0m\n\u001B[1;32m-> 6358\u001B[1;33m                 new_obj.insert(\n\u001B[0m\u001B[0;32m   6359\u001B[0m                     \u001B[1;36m0\u001B[0m\u001B[1;33m,\u001B[0m\u001B[1;33m\u001B[0m\u001B[1;33m\u001B[0m\u001B[0m\n\u001B[0;32m   6360\u001B[0m                     \u001B[0mname\u001B[0m\u001B[1;33m,\u001B[0m\u001B[1;33m\u001B[0m\u001B[1;33m\u001B[0m\u001B[0m\n",
      "\u001B[1;32md:\\workspace\\python38\\lib\\site-packages\\pandas\\core\\frame.py\u001B[0m in \u001B[0;36minsert\u001B[1;34m(self, loc, column, value, allow_duplicates)\u001B[0m\n\u001B[0;32m   4812\u001B[0m         \u001B[1;32mif\u001B[0m \u001B[1;32mnot\u001B[0m \u001B[0mallow_duplicates\u001B[0m \u001B[1;32mand\u001B[0m \u001B[0mcolumn\u001B[0m \u001B[1;32min\u001B[0m \u001B[0mself\u001B[0m\u001B[1;33m.\u001B[0m\u001B[0mcolumns\u001B[0m\u001B[1;33m:\u001B[0m\u001B[1;33m\u001B[0m\u001B[1;33m\u001B[0m\u001B[0m\n\u001B[0;32m   4813\u001B[0m             \u001B[1;31m# Should this be a different kind of error??\u001B[0m\u001B[1;33m\u001B[0m\u001B[1;33m\u001B[0m\u001B[1;33m\u001B[0m\u001B[0m\n\u001B[1;32m-> 4814\u001B[1;33m             \u001B[1;32mraise\u001B[0m \u001B[0mValueError\u001B[0m\u001B[1;33m(\u001B[0m\u001B[1;34mf\"cannot insert {column}, already exists\"\u001B[0m\u001B[1;33m)\u001B[0m\u001B[1;33m\u001B[0m\u001B[1;33m\u001B[0m\u001B[0m\n\u001B[0m\u001B[0;32m   4815\u001B[0m         \u001B[1;32mif\u001B[0m \u001B[1;32mnot\u001B[0m \u001B[0misinstance\u001B[0m\u001B[1;33m(\u001B[0m\u001B[0mloc\u001B[0m\u001B[1;33m,\u001B[0m \u001B[0mint\u001B[0m\u001B[1;33m)\u001B[0m\u001B[1;33m:\u001B[0m\u001B[1;33m\u001B[0m\u001B[1;33m\u001B[0m\u001B[0m\n\u001B[0;32m   4816\u001B[0m             \u001B[1;32mraise\u001B[0m \u001B[0mTypeError\u001B[0m\u001B[1;33m(\u001B[0m\u001B[1;34m\"loc must be int\"\u001B[0m\u001B[1;33m)\u001B[0m\u001B[1;33m\u001B[0m\u001B[1;33m\u001B[0m\u001B[0m\n",
      "\u001B[1;31mValueError\u001B[0m: cannot insert date_hk, already exists"
     ]
    }
   ],
   "source": [
    "df5.reset_index(drop=False)"
   ],
   "metadata": {
    "collapsed": false
   }
  },
  {
   "cell_type": "code",
   "execution_count": 86,
   "outputs": [
    {
     "ename": "ValueError",
     "evalue": "cannot insert date_hk, already exists",
     "output_type": "error",
     "traceback": [
      "\u001B[1;31m---------------------------------------------------------------------------\u001B[0m",
      "\u001B[1;31mValueError\u001B[0m                                Traceback (most recent call last)",
      "\u001B[1;32mC:\\Users\\GAOYUN~1\\AppData\\Local\\Temp/ipykernel_1532/447967088.py\u001B[0m in \u001B[0;36m<module>\u001B[1;34m\u001B[0m\n\u001B[1;32m----> 1\u001B[1;33m \u001B[0mdf5\u001B[0m\u001B[1;33m.\u001B[0m\u001B[0mreset_index\u001B[0m\u001B[1;33m(\u001B[0m\u001B[0minplace\u001B[0m\u001B[1;33m=\u001B[0m\u001B[1;32mFalse\u001B[0m\u001B[1;33m)\u001B[0m\u001B[1;33m\u001B[0m\u001B[1;33m\u001B[0m\u001B[0m\n\u001B[0m",
      "\u001B[1;32md:\\workspace\\python38\\lib\\site-packages\\pandas\\util\\_decorators.py\u001B[0m in \u001B[0;36mwrapper\u001B[1;34m(*args, **kwargs)\u001B[0m\n\u001B[0;32m    329\u001B[0m                     \u001B[0mstacklevel\u001B[0m\u001B[1;33m=\u001B[0m\u001B[0mfind_stack_level\u001B[0m\u001B[1;33m(\u001B[0m\u001B[1;33m)\u001B[0m\u001B[1;33m,\u001B[0m\u001B[1;33m\u001B[0m\u001B[1;33m\u001B[0m\u001B[0m\n\u001B[0;32m    330\u001B[0m                 )\n\u001B[1;32m--> 331\u001B[1;33m             \u001B[1;32mreturn\u001B[0m \u001B[0mfunc\u001B[0m\u001B[1;33m(\u001B[0m\u001B[1;33m*\u001B[0m\u001B[0margs\u001B[0m\u001B[1;33m,\u001B[0m \u001B[1;33m**\u001B[0m\u001B[0mkwargs\u001B[0m\u001B[1;33m)\u001B[0m\u001B[1;33m\u001B[0m\u001B[1;33m\u001B[0m\u001B[0m\n\u001B[0m\u001B[0;32m    332\u001B[0m \u001B[1;33m\u001B[0m\u001B[0m\n\u001B[0;32m    333\u001B[0m         \u001B[1;31m# error: \"Callable[[VarArg(Any), KwArg(Any)], Any]\" has no\u001B[0m\u001B[1;33m\u001B[0m\u001B[1;33m\u001B[0m\u001B[1;33m\u001B[0m\u001B[0m\n",
      "\u001B[1;32md:\\workspace\\python38\\lib\\site-packages\\pandas\\core\\frame.py\u001B[0m in \u001B[0;36mreset_index\u001B[1;34m(self, level, drop, inplace, col_level, col_fill, allow_duplicates, names)\u001B[0m\n\u001B[0;32m   6356\u001B[0m                     )\n\u001B[0;32m   6357\u001B[0m \u001B[1;33m\u001B[0m\u001B[0m\n\u001B[1;32m-> 6358\u001B[1;33m                 new_obj.insert(\n\u001B[0m\u001B[0;32m   6359\u001B[0m                     \u001B[1;36m0\u001B[0m\u001B[1;33m,\u001B[0m\u001B[1;33m\u001B[0m\u001B[1;33m\u001B[0m\u001B[0m\n\u001B[0;32m   6360\u001B[0m                     \u001B[0mname\u001B[0m\u001B[1;33m,\u001B[0m\u001B[1;33m\u001B[0m\u001B[1;33m\u001B[0m\u001B[0m\n",
      "\u001B[1;32md:\\workspace\\python38\\lib\\site-packages\\pandas\\core\\frame.py\u001B[0m in \u001B[0;36minsert\u001B[1;34m(self, loc, column, value, allow_duplicates)\u001B[0m\n\u001B[0;32m   4812\u001B[0m         \u001B[1;32mif\u001B[0m \u001B[1;32mnot\u001B[0m \u001B[0mallow_duplicates\u001B[0m \u001B[1;32mand\u001B[0m \u001B[0mcolumn\u001B[0m \u001B[1;32min\u001B[0m \u001B[0mself\u001B[0m\u001B[1;33m.\u001B[0m\u001B[0mcolumns\u001B[0m\u001B[1;33m:\u001B[0m\u001B[1;33m\u001B[0m\u001B[1;33m\u001B[0m\u001B[0m\n\u001B[0;32m   4813\u001B[0m             \u001B[1;31m# Should this be a different kind of error??\u001B[0m\u001B[1;33m\u001B[0m\u001B[1;33m\u001B[0m\u001B[1;33m\u001B[0m\u001B[0m\n\u001B[1;32m-> 4814\u001B[1;33m             \u001B[1;32mraise\u001B[0m \u001B[0mValueError\u001B[0m\u001B[1;33m(\u001B[0m\u001B[1;34mf\"cannot insert {column}, already exists\"\u001B[0m\u001B[1;33m)\u001B[0m\u001B[1;33m\u001B[0m\u001B[1;33m\u001B[0m\u001B[0m\n\u001B[0m\u001B[0;32m   4815\u001B[0m         \u001B[1;32mif\u001B[0m \u001B[1;32mnot\u001B[0m \u001B[0misinstance\u001B[0m\u001B[1;33m(\u001B[0m\u001B[0mloc\u001B[0m\u001B[1;33m,\u001B[0m \u001B[0mint\u001B[0m\u001B[1;33m)\u001B[0m\u001B[1;33m:\u001B[0m\u001B[1;33m\u001B[0m\u001B[1;33m\u001B[0m\u001B[0m\n\u001B[0;32m   4816\u001B[0m             \u001B[1;32mraise\u001B[0m \u001B[0mTypeError\u001B[0m\u001B[1;33m(\u001B[0m\u001B[1;34m\"loc must be int\"\u001B[0m\u001B[1;33m)\u001B[0m\u001B[1;33m\u001B[0m\u001B[1;33m\u001B[0m\u001B[0m\n",
      "\u001B[1;31mValueError\u001B[0m: cannot insert date_hk, already exists"
     ]
    }
   ],
   "source": [
    "df5.reset_index(inplace=False)"
   ],
   "metadata": {
    "collapsed": false
   }
  },
  {
   "cell_type": "code",
   "execution_count": 87,
   "outputs": [
    {
     "data": {
      "text/plain": "OBJECTID_1      int64\nField1          int64\ncreated_at_x    int64\nid_str_x        int64\ntime_zone_x     int64\ngeometry        int64\ndtype: object"
     },
     "execution_count": 87,
     "metadata": {},
     "output_type": "execute_result"
    }
   ],
   "source": [
    "df5.dtypes"
   ],
   "metadata": {
    "collapsed": false
   }
  },
  {
   "cell_type": "code",
   "execution_count": 88,
   "outputs": [
    {
     "data": {
      "text/plain": "                                            OBJECTID_1  Field1  created_at_x  \\\ndate_hk date_hk date_hk date_hk LanduseTyp                                     \n2016    5       7       3       999                  1       1             1   \n                        6       7                    1       1             1   \n                                8                    2       2             2   \n                        7       2                    7       7             7   \n                                3                    8       8             8   \n\n                                            id_str_x  time_zone_x  geometry  \ndate_hk date_hk date_hk date_hk LanduseTyp                                   \n2016    5       7       3       999                1            1         1  \n                        6       7                  1            1         1  \n                                8                  2            2         2  \n                        7       2                  7            6         7  \n                                3                  8            6         8  ",
      "text/html": "<div>\n<style scoped>\n    .dataframe tbody tr th:only-of-type {\n        vertical-align: middle;\n    }\n\n    .dataframe tbody tr th {\n        vertical-align: top;\n    }\n\n    .dataframe thead th {\n        text-align: right;\n    }\n</style>\n<table border=\"1\" class=\"dataframe\">\n  <thead>\n    <tr style=\"text-align: right;\">\n      <th></th>\n      <th></th>\n      <th></th>\n      <th></th>\n      <th></th>\n      <th>OBJECTID_1</th>\n      <th>Field1</th>\n      <th>created_at_x</th>\n      <th>id_str_x</th>\n      <th>time_zone_x</th>\n      <th>geometry</th>\n    </tr>\n    <tr>\n      <th>date_hk</th>\n      <th>date_hk</th>\n      <th>date_hk</th>\n      <th>date_hk</th>\n      <th>LanduseTyp</th>\n      <th></th>\n      <th></th>\n      <th></th>\n      <th></th>\n      <th></th>\n      <th></th>\n    </tr>\n  </thead>\n  <tbody>\n    <tr>\n      <th rowspan=\"5\" valign=\"top\">2016</th>\n      <th rowspan=\"5\" valign=\"top\">5</th>\n      <th rowspan=\"5\" valign=\"top\">7</th>\n      <th>3</th>\n      <th>999</th>\n      <td>1</td>\n      <td>1</td>\n      <td>1</td>\n      <td>1</td>\n      <td>1</td>\n      <td>1</td>\n    </tr>\n    <tr>\n      <th rowspan=\"2\" valign=\"top\">6</th>\n      <th>7</th>\n      <td>1</td>\n      <td>1</td>\n      <td>1</td>\n      <td>1</td>\n      <td>1</td>\n      <td>1</td>\n    </tr>\n    <tr>\n      <th>8</th>\n      <td>2</td>\n      <td>2</td>\n      <td>2</td>\n      <td>2</td>\n      <td>2</td>\n      <td>2</td>\n    </tr>\n    <tr>\n      <th rowspan=\"2\" valign=\"top\">7</th>\n      <th>2</th>\n      <td>7</td>\n      <td>7</td>\n      <td>7</td>\n      <td>7</td>\n      <td>6</td>\n      <td>7</td>\n    </tr>\n    <tr>\n      <th>3</th>\n      <td>8</td>\n      <td>8</td>\n      <td>8</td>\n      <td>8</td>\n      <td>6</td>\n      <td>8</td>\n    </tr>\n  </tbody>\n</table>\n</div>"
     },
     "execution_count": 88,
     "metadata": {},
     "output_type": "execute_result"
    }
   ],
   "source": [
    "df5.head(5)"
   ],
   "metadata": {
    "collapsed": false
   }
  },
  {
   "cell_type": "code",
   "execution_count": 89,
   "outputs": [
    {
     "data": {
      "text/plain": "OBJECTID_1      int64\nField1          int64\ncreated_at_x    int64\nid_str_x        int64\ntime_zone_x     int64\ngeometry        int64\ndtype: object"
     },
     "execution_count": 89,
     "metadata": {},
     "output_type": "execute_result"
    }
   ],
   "source": [
    "df5.dtypes"
   ],
   "metadata": {
    "collapsed": false
   }
  },
  {
   "cell_type": "code",
   "execution_count": null,
   "outputs": [],
   "source": [
    "df5.reset_index()"
   ],
   "metadata": {
    "collapsed": false
   }
  }
 ],
 "metadata": {
  "kernelspec": {
   "display_name": "Python 3",
   "language": "python",
   "name": "python3"
  },
  "language_info": {
   "codemirror_mode": {
    "name": "ipython",
    "version": 2
   },
   "file_extension": ".py",
   "mimetype": "text/x-python",
   "name": "python",
   "nbconvert_exporter": "python",
   "pygments_lexer": "ipython2",
   "version": "2.7.6"
  }
 },
 "nbformat": 4,
 "nbformat_minor": 0
}
