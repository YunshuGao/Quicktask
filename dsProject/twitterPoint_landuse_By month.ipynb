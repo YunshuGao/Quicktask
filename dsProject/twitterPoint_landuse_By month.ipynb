{
 "cells": [
  {
   "cell_type": "code",
   "execution_count": 1,
   "metadata": {
    "collapsed": true
   },
   "outputs": [
    {
     "name": "stderr",
     "output_type": "stream",
     "text": [
      "d:\\workspace\\python38\\lib\\site-packages\\geopandas\\_compat.py:123: UserWarning: The Shapely GEOS version (3.10.3-CAPI-1.16.1) is incompatible with the GEOS version PyGEOS was compiled with (3.10.4-CAPI-1.16.2). Conversions between both will be slow.\n",
      "  warnings.warn(\n",
      "C:\\Users\\GAOYUN~1\\AppData\\Local\\Temp/ipykernel_16648/4166201505.py:6: DtypeWarning: Columns (7) have mixed types. Specify dtype option on import or set low_memory=False.\n",
      "  df2=pd.read_csv(r\"D:\\GaoYunshu2023\\100011 HK-Work\\RA-project\\001 Task description\\Task1\\result_v2.csv\")\n"
     ]
    }
   ],
   "source": [
    "import pandas as pd\n",
    "import geopandas as gpd\n",
    "import matplotlib.pyplot as plt\n",
    "df=gpd.read_file(r\"D:\\GaoYunshu2023\\100011 HK-Work\\RA-project\\001 Task description\\Task1\\Process\\twitterPoint_final.shp\")\n",
    "df1=df[['OBJECTID_1','Field1','created_at','id_str','lang','time_zone','LanduseTyp','geometry']]\n",
    "df2=pd.read_csv(r\"D:\\GaoYunshu2023\\100011 HK-Work\\RA-project\\001 Task description\\Task1\\result_v2.csv\")\n",
    "df2.rename(columns={df2.columns[0]: \"Field1\" }, inplace = True)\n",
    "df3 = pd.merge(df1, df2, on='Field1', how='inner')\n",
    "df3['date_hk'] = pd.to_datetime(df3['date_hk'])\n",
    "df3['NEWdate_hk_YM'] = pd.to_datetime(df3['date_hk']).dt.strftime('%Y-%m')\n",
    "df3['month'] = df3['date_hk'].dt.month\n",
    "df3['year'] = df3['date_hk'].dt.year\n",
    "df4=df3[['OBJECTID_1','Field1','LanduseTyp','year','month','NEWdate_hk_YM','geometry']]\n",
    "df5=pd.pivot_table(df4,index=['OBJECTID_1','Field1','year','month','NEWdate_hk_YM'],columns=['LanduseTyp'],aggfunc='count').fillna(0).astype(int)\n",
    "df6=df5.groupby(['NEWdate_hk_YM','year','month']).sum()\n",
    "df6.to_csv(r'D:\\GaoYunshu2023\\100011 HK-Work\\RA-project\\001 Task description\\By Month_V1.csv')"
   ]
  },
  {
   "cell_type": "code",
   "execution_count": null,
   "outputs": [],
   "source": [],
   "metadata": {
    "collapsed": false
   }
  }
 ],
 "metadata": {
  "kernelspec": {
   "display_name": "Python 3",
   "language": "python",
   "name": "python3"
  },
  "language_info": {
   "codemirror_mode": {
    "name": "ipython",
    "version": 2
   },
   "file_extension": ".py",
   "mimetype": "text/x-python",
   "name": "python",
   "nbconvert_exporter": "python",
   "pygments_lexer": "ipython2",
   "version": "2.7.6"
  }
 },
 "nbformat": 4,
 "nbformat_minor": 0
}
