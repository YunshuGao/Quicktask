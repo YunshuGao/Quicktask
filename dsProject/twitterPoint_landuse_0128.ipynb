{
 "cells": [
  {
   "cell_type": "code",
   "execution_count": 1,
   "metadata": {
    "collapsed": true
   },
   "outputs": [
    {
     "name": "stderr",
     "output_type": "stream",
     "text": [
      "d:\\workspace\\python38\\lib\\site-packages\\geopandas\\_compat.py:123: UserWarning: The Shapely GEOS version (3.10.3-CAPI-1.16.1) is incompatible with the GEOS version PyGEOS was compiled with (3.10.4-CAPI-1.16.2). Conversions between both will be slow.\n",
      "  warnings.warn(\n"
     ]
    }
   ],
   "source": [
    "import pandas as pd\n",
    "import geopandas as gpd\n",
    "import matplotlib.pyplot as plt"
   ]
  },
  {
   "cell_type": "code",
   "execution_count": 2,
   "outputs": [],
   "source": [
    "df=gpd.read_file(r\"D:\\GaoYunshu2023\\100011 HK-Work\\RA-project\\001 Task description\\Task1\\Process\\twitterPoint_final.shp\")"
   ],
   "metadata": {
    "collapsed": false
   }
  },
  {
   "cell_type": "code",
   "execution_count": 3,
   "outputs": [
    {
     "name": "stderr",
     "output_type": "stream",
     "text": [
      "C:\\Users\\GAOYUN~1\\AppData\\Local\\Temp/ipykernel_15256/4248614074.py:2: DtypeWarning: Columns (7) have mixed types. Specify dtype option on import or set low_memory=False.\n",
      "  df2=pd.read_csv(r\"D:\\GaoYunshu2023\\100011 HK-Work\\RA-project\\001 Task description\\Task1\\result_v2.csv\")\n"
     ]
    }
   ],
   "source": [
    "df1=df[['OBJECTID_1','Field1','created_at','id_str','lang','time_zone','LanduseTyp','geometry']]\n",
    "df2=pd.read_csv(r\"D:\\GaoYunshu2023\\100011 HK-Work\\RA-project\\001 Task description\\Task1\\result_v2.csv\")"
   ],
   "metadata": {
    "collapsed": false
   }
  },
  {
   "cell_type": "code",
   "execution_count": 4,
   "outputs": [],
   "source": [
    "df2.rename(columns={df2.columns[0]: \"Field1\" }, inplace = True)\n",
    "df3 = pd.merge(df1, df2, on='Field1', how='inner')"
   ],
   "metadata": {
    "collapsed": false
   }
  },
  {
   "cell_type": "code",
   "execution_count": 5,
   "outputs": [],
   "source": [
    "df3['date_hk'] = pd.to_datetime(df3['date_hk'])\n",
    "df3['NEWdate_hk'] = pd.to_datetime(df3['date_hk']).dt.strftime('%Y-%m-%d-%H-%M')\n",
    "df3['day'] = df3['date_hk'].dt.day\n",
    "df3['month'] = df3['date_hk'].dt.month\n",
    "df3['year'] = df3['date_hk'].dt.year\n",
    "df3['hour']=df3['date_hk'].dt.hour\n",
    "df3['minute']=df3['date_hk'].dt.minute"
   ],
   "metadata": {
    "collapsed": false
   }
  },
  {
   "cell_type": "code",
   "execution_count": 6,
   "outputs": [
    {
     "data": {
      "text/plain": "   OBJECTID_1  Field1                    created_at_x      id_str_x lang_x  \\\n0           1    1246  Sun May 08 19:42:57 +0000 2016  7.290000e+17     en   \n1           2    1254  Sun May 08 21:20:20 +0000 2016  7.290000e+17     en   \n2           3    3007  Thu May 12 08:04:44 +0000 2016  7.310000e+17     en   \n3           4    3715  Fri May 13 09:07:09 +0000 2016  7.310000e+17     en   \n4           5    4297  Sat May 14 06:37:43 +0000 2016  7.310000e+17     en   \n\n  time_zone_x  LanduseTyp                    geometry  \\\n0   Abu Dhabi           8  POINT (114.17800 22.28090)   \n1   Abu Dhabi         999  POINT (113.93337 22.31488)   \n2   Abu Dhabi           8  POINT (114.17800 22.28090)   \n3   Abu Dhabi           7  POINT (114.20402 22.33934)   \n4   Abu Dhabi           3  POINT (114.04353 22.31342)   \n\n                     created_at_y      id_str_y  ...  \\\n0  Sun May 08 19:42:57 +0000 2016  7.290000e+17  ...   \n1  Sun May 08 21:20:20 +0000 2016  7.290000e+17  ...   \n2  Thu May 12 08:04:44 +0000 2016  7.310000e+17  ...   \n3  Fri May 13 09:07:09 +0000 2016  7.310000e+17  ...   \n4  Sat May 14 06:37:43 +0000 2016  7.310000e+17  ...   \n\n                        date  date_secondprocess  date_thirdprocess  \\\n0  2016-05-08 19:42:57+00:00      5/8/2016 19:42     5/8/2016 19:42   \n1  2016-05-08 21:20:20+00:00      5/8/2016 21:20     5/8/2016 21:20   \n2  2016-05-12 08:04:44+00:00      5/12/2016 8:04     5/12/2016 8:04   \n3  2016-05-13 09:07:09+00:00      5/13/2016 9:07     5/13/2016 9:07   \n4  2016-05-14 06:37:43+00:00      5/14/2016 6:37     5/14/2016 6:37   \n\n              date_hk        NEWdate_hk  day month  year  hour minute  \n0 2016-05-08 23:42:00  2016-05-08-23-42    8     5  2016    23     42  \n1 2016-05-09 01:20:00  2016-05-09-01-20    9     5  2016     1     20  \n2 2016-05-12 12:04:00  2016-05-12-12-04   12     5  2016    12      4  \n3 2016-05-13 13:07:00  2016-05-13-13-07   13     5  2016    13      7  \n4 2016-05-14 10:37:00  2016-05-14-10-37   14     5  2016    10     37  \n\n[5 rows x 35 columns]",
      "text/html": "<div>\n<style scoped>\n    .dataframe tbody tr th:only-of-type {\n        vertical-align: middle;\n    }\n\n    .dataframe tbody tr th {\n        vertical-align: top;\n    }\n\n    .dataframe thead th {\n        text-align: right;\n    }\n</style>\n<table border=\"1\" class=\"dataframe\">\n  <thead>\n    <tr style=\"text-align: right;\">\n      <th></th>\n      <th>OBJECTID_1</th>\n      <th>Field1</th>\n      <th>created_at_x</th>\n      <th>id_str_x</th>\n      <th>lang_x</th>\n      <th>time_zone_x</th>\n      <th>LanduseTyp</th>\n      <th>geometry</th>\n      <th>created_at_y</th>\n      <th>id_str_y</th>\n      <th>...</th>\n      <th>date</th>\n      <th>date_secondprocess</th>\n      <th>date_thirdprocess</th>\n      <th>date_hk</th>\n      <th>NEWdate_hk</th>\n      <th>day</th>\n      <th>month</th>\n      <th>year</th>\n      <th>hour</th>\n      <th>minute</th>\n    </tr>\n  </thead>\n  <tbody>\n    <tr>\n      <th>0</th>\n      <td>1</td>\n      <td>1246</td>\n      <td>Sun May 08 19:42:57 +0000 2016</td>\n      <td>7.290000e+17</td>\n      <td>en</td>\n      <td>Abu Dhabi</td>\n      <td>8</td>\n      <td>POINT (114.17800 22.28090)</td>\n      <td>Sun May 08 19:42:57 +0000 2016</td>\n      <td>7.290000e+17</td>\n      <td>...</td>\n      <td>2016-05-08 19:42:57+00:00</td>\n      <td>5/8/2016 19:42</td>\n      <td>5/8/2016 19:42</td>\n      <td>2016-05-08 23:42:00</td>\n      <td>2016-05-08-23-42</td>\n      <td>8</td>\n      <td>5</td>\n      <td>2016</td>\n      <td>23</td>\n      <td>42</td>\n    </tr>\n    <tr>\n      <th>1</th>\n      <td>2</td>\n      <td>1254</td>\n      <td>Sun May 08 21:20:20 +0000 2016</td>\n      <td>7.290000e+17</td>\n      <td>en</td>\n      <td>Abu Dhabi</td>\n      <td>999</td>\n      <td>POINT (113.93337 22.31488)</td>\n      <td>Sun May 08 21:20:20 +0000 2016</td>\n      <td>7.290000e+17</td>\n      <td>...</td>\n      <td>2016-05-08 21:20:20+00:00</td>\n      <td>5/8/2016 21:20</td>\n      <td>5/8/2016 21:20</td>\n      <td>2016-05-09 01:20:00</td>\n      <td>2016-05-09-01-20</td>\n      <td>9</td>\n      <td>5</td>\n      <td>2016</td>\n      <td>1</td>\n      <td>20</td>\n    </tr>\n    <tr>\n      <th>2</th>\n      <td>3</td>\n      <td>3007</td>\n      <td>Thu May 12 08:04:44 +0000 2016</td>\n      <td>7.310000e+17</td>\n      <td>en</td>\n      <td>Abu Dhabi</td>\n      <td>8</td>\n      <td>POINT (114.17800 22.28090)</td>\n      <td>Thu May 12 08:04:44 +0000 2016</td>\n      <td>7.310000e+17</td>\n      <td>...</td>\n      <td>2016-05-12 08:04:44+00:00</td>\n      <td>5/12/2016 8:04</td>\n      <td>5/12/2016 8:04</td>\n      <td>2016-05-12 12:04:00</td>\n      <td>2016-05-12-12-04</td>\n      <td>12</td>\n      <td>5</td>\n      <td>2016</td>\n      <td>12</td>\n      <td>4</td>\n    </tr>\n    <tr>\n      <th>3</th>\n      <td>4</td>\n      <td>3715</td>\n      <td>Fri May 13 09:07:09 +0000 2016</td>\n      <td>7.310000e+17</td>\n      <td>en</td>\n      <td>Abu Dhabi</td>\n      <td>7</td>\n      <td>POINT (114.20402 22.33934)</td>\n      <td>Fri May 13 09:07:09 +0000 2016</td>\n      <td>7.310000e+17</td>\n      <td>...</td>\n      <td>2016-05-13 09:07:09+00:00</td>\n      <td>5/13/2016 9:07</td>\n      <td>5/13/2016 9:07</td>\n      <td>2016-05-13 13:07:00</td>\n      <td>2016-05-13-13-07</td>\n      <td>13</td>\n      <td>5</td>\n      <td>2016</td>\n      <td>13</td>\n      <td>7</td>\n    </tr>\n    <tr>\n      <th>4</th>\n      <td>5</td>\n      <td>4297</td>\n      <td>Sat May 14 06:37:43 +0000 2016</td>\n      <td>7.310000e+17</td>\n      <td>en</td>\n      <td>Abu Dhabi</td>\n      <td>3</td>\n      <td>POINT (114.04353 22.31342)</td>\n      <td>Sat May 14 06:37:43 +0000 2016</td>\n      <td>7.310000e+17</td>\n      <td>...</td>\n      <td>2016-05-14 06:37:43+00:00</td>\n      <td>5/14/2016 6:37</td>\n      <td>5/14/2016 6:37</td>\n      <td>2016-05-14 10:37:00</td>\n      <td>2016-05-14-10-37</td>\n      <td>14</td>\n      <td>5</td>\n      <td>2016</td>\n      <td>10</td>\n      <td>37</td>\n    </tr>\n  </tbody>\n</table>\n<p>5 rows × 35 columns</p>\n</div>"
     },
     "execution_count": 6,
     "metadata": {},
     "output_type": "execute_result"
    }
   ],
   "source": [
    "df3.head(5)"
   ],
   "metadata": {
    "collapsed": false
   }
  },
  {
   "cell_type": "code",
   "execution_count": 7,
   "outputs": [],
   "source": [
    "df4=df3[['OBJECTID_1','Field1','LanduseTyp','year','month','day','hour','minute','NEWdate_hk','geometry']]"
   ],
   "metadata": {
    "collapsed": false
   }
  },
  {
   "cell_type": "code",
   "execution_count": 8,
   "outputs": [
    {
     "data": {
      "text/plain": "   OBJECTID_1  Field1  LanduseTyp  year  month  day  hour  minute  \\\n0           1    1246           8  2016      5    8    23      42   \n1           2    1254         999  2016      5    9     1      20   \n2           3    3007           8  2016      5   12    12       4   \n3           4    3715           7  2016      5   13    13       7   \n4           5    4297           3  2016      5   14    10      37   \n\n         NEWdate_hk                    geometry  \n0  2016-05-08-23-42  POINT (114.17800 22.28090)  \n1  2016-05-09-01-20  POINT (113.93337 22.31488)  \n2  2016-05-12-12-04  POINT (114.17800 22.28090)  \n3  2016-05-13-13-07  POINT (114.20402 22.33934)  \n4  2016-05-14-10-37  POINT (114.04353 22.31342)  ",
      "text/html": "<div>\n<style scoped>\n    .dataframe tbody tr th:only-of-type {\n        vertical-align: middle;\n    }\n\n    .dataframe tbody tr th {\n        vertical-align: top;\n    }\n\n    .dataframe thead th {\n        text-align: right;\n    }\n</style>\n<table border=\"1\" class=\"dataframe\">\n  <thead>\n    <tr style=\"text-align: right;\">\n      <th></th>\n      <th>OBJECTID_1</th>\n      <th>Field1</th>\n      <th>LanduseTyp</th>\n      <th>year</th>\n      <th>month</th>\n      <th>day</th>\n      <th>hour</th>\n      <th>minute</th>\n      <th>NEWdate_hk</th>\n      <th>geometry</th>\n    </tr>\n  </thead>\n  <tbody>\n    <tr>\n      <th>0</th>\n      <td>1</td>\n      <td>1246</td>\n      <td>8</td>\n      <td>2016</td>\n      <td>5</td>\n      <td>8</td>\n      <td>23</td>\n      <td>42</td>\n      <td>2016-05-08-23-42</td>\n      <td>POINT (114.17800 22.28090)</td>\n    </tr>\n    <tr>\n      <th>1</th>\n      <td>2</td>\n      <td>1254</td>\n      <td>999</td>\n      <td>2016</td>\n      <td>5</td>\n      <td>9</td>\n      <td>1</td>\n      <td>20</td>\n      <td>2016-05-09-01-20</td>\n      <td>POINT (113.93337 22.31488)</td>\n    </tr>\n    <tr>\n      <th>2</th>\n      <td>3</td>\n      <td>3007</td>\n      <td>8</td>\n      <td>2016</td>\n      <td>5</td>\n      <td>12</td>\n      <td>12</td>\n      <td>4</td>\n      <td>2016-05-12-12-04</td>\n      <td>POINT (114.17800 22.28090)</td>\n    </tr>\n    <tr>\n      <th>3</th>\n      <td>4</td>\n      <td>3715</td>\n      <td>7</td>\n      <td>2016</td>\n      <td>5</td>\n      <td>13</td>\n      <td>13</td>\n      <td>7</td>\n      <td>2016-05-13-13-07</td>\n      <td>POINT (114.20402 22.33934)</td>\n    </tr>\n    <tr>\n      <th>4</th>\n      <td>5</td>\n      <td>4297</td>\n      <td>3</td>\n      <td>2016</td>\n      <td>5</td>\n      <td>14</td>\n      <td>10</td>\n      <td>37</td>\n      <td>2016-05-14-10-37</td>\n      <td>POINT (114.04353 22.31342)</td>\n    </tr>\n  </tbody>\n</table>\n</div>"
     },
     "execution_count": 8,
     "metadata": {},
     "output_type": "execute_result"
    }
   ],
   "source": [
    "df4.head(5)"
   ],
   "metadata": {
    "collapsed": false
   }
  },
  {
   "cell_type": "code",
   "execution_count": 9,
   "outputs": [],
   "source": [
    "df5=pd.pivot_table(df4,index=['OBJECTID_1','Field1','year','month','day','hour','minute','NEWdate_hk'],columns=['LanduseTyp'],aggfunc='count').fillna(0).astype(int)"
   ],
   "metadata": {
    "collapsed": false
   }
  },
  {
   "cell_type": "code",
   "execution_count": 10,
   "outputs": [
    {
     "data": {
      "text/plain": "                                                              geometry      \\\nLanduseTyp                                                         1   2     \nOBJECTID_1 Field1 year month day hour minute NEWdate_hk                      \n1          1246   2016 5     8   23   42     2016-05-08-23-42        0   0   \n2          1254   2016 5     9   1    20     2016-05-09-01-20        0   0   \n3          3007   2016 5     12  12   4      2016-05-12-12-04        0   0   \n4          3715   2016 5     13  13   7      2016-05-13-13-07        0   0   \n5          4297   2016 5     14  10   37     2016-05-14-10-37        0   0   \n\n                                                                               \\\nLanduseTyp                                                    3   4   5   6     \nOBJECTID_1 Field1 year month day hour minute NEWdate_hk                         \n1          1246   2016 5     8   23   42     2016-05-08-23-42   0   0   0   0   \n2          1254   2016 5     9   1    20     2016-05-09-01-20   0   0   0   0   \n3          3007   2016 5     12  12   4      2016-05-12-12-04   0   0   0   0   \n4          3715   2016 5     13  13   7      2016-05-13-13-07   0   0   0   0   \n5          4297   2016 5     14  10   37     2016-05-14-10-37   1   0   0   0   \n\n                                                                           \nLanduseTyp                                                    7   8   999  \nOBJECTID_1 Field1 year month day hour minute NEWdate_hk                    \n1          1246   2016 5     8   23   42     2016-05-08-23-42   0   1   0  \n2          1254   2016 5     9   1    20     2016-05-09-01-20   0   0   1  \n3          3007   2016 5     12  12   4      2016-05-12-12-04   0   1   0  \n4          3715   2016 5     13  13   7      2016-05-13-13-07   1   0   0  \n5          4297   2016 5     14  10   37     2016-05-14-10-37   0   0   0  ",
      "text/html": "<div>\n<style scoped>\n    .dataframe tbody tr th:only-of-type {\n        vertical-align: middle;\n    }\n\n    .dataframe tbody tr th {\n        vertical-align: top;\n    }\n\n    .dataframe thead tr th {\n        text-align: left;\n    }\n\n    .dataframe thead tr:last-of-type th {\n        text-align: right;\n    }\n</style>\n<table border=\"1\" class=\"dataframe\">\n  <thead>\n    <tr>\n      <th></th>\n      <th></th>\n      <th></th>\n      <th></th>\n      <th></th>\n      <th></th>\n      <th></th>\n      <th></th>\n      <th colspan=\"9\" halign=\"left\">geometry</th>\n    </tr>\n    <tr>\n      <th></th>\n      <th></th>\n      <th></th>\n      <th></th>\n      <th></th>\n      <th></th>\n      <th></th>\n      <th>LanduseTyp</th>\n      <th>1</th>\n      <th>2</th>\n      <th>3</th>\n      <th>4</th>\n      <th>5</th>\n      <th>6</th>\n      <th>7</th>\n      <th>8</th>\n      <th>999</th>\n    </tr>\n    <tr>\n      <th>OBJECTID_1</th>\n      <th>Field1</th>\n      <th>year</th>\n      <th>month</th>\n      <th>day</th>\n      <th>hour</th>\n      <th>minute</th>\n      <th>NEWdate_hk</th>\n      <th></th>\n      <th></th>\n      <th></th>\n      <th></th>\n      <th></th>\n      <th></th>\n      <th></th>\n      <th></th>\n      <th></th>\n    </tr>\n  </thead>\n  <tbody>\n    <tr>\n      <th>1</th>\n      <th>1246</th>\n      <th>2016</th>\n      <th>5</th>\n      <th>8</th>\n      <th>23</th>\n      <th>42</th>\n      <th>2016-05-08-23-42</th>\n      <td>0</td>\n      <td>0</td>\n      <td>0</td>\n      <td>0</td>\n      <td>0</td>\n      <td>0</td>\n      <td>0</td>\n      <td>1</td>\n      <td>0</td>\n    </tr>\n    <tr>\n      <th>2</th>\n      <th>1254</th>\n      <th>2016</th>\n      <th>5</th>\n      <th>9</th>\n      <th>1</th>\n      <th>20</th>\n      <th>2016-05-09-01-20</th>\n      <td>0</td>\n      <td>0</td>\n      <td>0</td>\n      <td>0</td>\n      <td>0</td>\n      <td>0</td>\n      <td>0</td>\n      <td>0</td>\n      <td>1</td>\n    </tr>\n    <tr>\n      <th>3</th>\n      <th>3007</th>\n      <th>2016</th>\n      <th>5</th>\n      <th>12</th>\n      <th>12</th>\n      <th>4</th>\n      <th>2016-05-12-12-04</th>\n      <td>0</td>\n      <td>0</td>\n      <td>0</td>\n      <td>0</td>\n      <td>0</td>\n      <td>0</td>\n      <td>0</td>\n      <td>1</td>\n      <td>0</td>\n    </tr>\n    <tr>\n      <th>4</th>\n      <th>3715</th>\n      <th>2016</th>\n      <th>5</th>\n      <th>13</th>\n      <th>13</th>\n      <th>7</th>\n      <th>2016-05-13-13-07</th>\n      <td>0</td>\n      <td>0</td>\n      <td>0</td>\n      <td>0</td>\n      <td>0</td>\n      <td>0</td>\n      <td>1</td>\n      <td>0</td>\n      <td>0</td>\n    </tr>\n    <tr>\n      <th>5</th>\n      <th>4297</th>\n      <th>2016</th>\n      <th>5</th>\n      <th>14</th>\n      <th>10</th>\n      <th>37</th>\n      <th>2016-05-14-10-37</th>\n      <td>0</td>\n      <td>0</td>\n      <td>1</td>\n      <td>0</td>\n      <td>0</td>\n      <td>0</td>\n      <td>0</td>\n      <td>0</td>\n      <td>0</td>\n    </tr>\n  </tbody>\n</table>\n</div>"
     },
     "execution_count": 10,
     "metadata": {},
     "output_type": "execute_result"
    }
   ],
   "source": [
    "df5.head(5)"
   ],
   "metadata": {
    "collapsed": false
   }
  },
  {
   "cell_type": "code",
   "execution_count": 11,
   "outputs": [],
   "source": [
    "df6=df5.groupby(['NEWdate_hk','year','month','day','hour','minute']).sum()"
   ],
   "metadata": {
    "collapsed": false
   }
  },
  {
   "cell_type": "code",
   "execution_count": 12,
   "outputs": [
    {
     "data": {
      "text/plain": "                                            geometry                          \\\nLanduseTyp                                       1   2   3   4   5   6   7     \nNEWdate_hk       year month day hour minute                                    \n2016-05-07-03-25 2016 5     7   3    25            0   0   0   0   0   0   0   \n2016-05-07-06-01 2016 5     7   6    1             0   0   0   0   0   0   0   \n2016-05-07-06-17 2016 5     7   6    17            0   0   0   0   0   0   0   \n2016-05-07-06-18 2016 5     7   6    18            0   0   0   0   0   0   1   \n2016-05-07-07-02 2016 5     7   7    2             0   0   0   0   0   0   0   \n\n                                                     \nLanduseTyp                                  8   999  \nNEWdate_hk       year month day hour minute          \n2016-05-07-03-25 2016 5     7   3    25       0   1  \n2016-05-07-06-01 2016 5     7   6    1        1   0  \n2016-05-07-06-17 2016 5     7   6    17       1   0  \n2016-05-07-06-18 2016 5     7   6    18       0   0  \n2016-05-07-07-02 2016 5     7   7    2        0   1  ",
      "text/html": "<div>\n<style scoped>\n    .dataframe tbody tr th:only-of-type {\n        vertical-align: middle;\n    }\n\n    .dataframe tbody tr th {\n        vertical-align: top;\n    }\n\n    .dataframe thead tr th {\n        text-align: left;\n    }\n\n    .dataframe thead tr:last-of-type th {\n        text-align: right;\n    }\n</style>\n<table border=\"1\" class=\"dataframe\">\n  <thead>\n    <tr>\n      <th></th>\n      <th></th>\n      <th></th>\n      <th></th>\n      <th></th>\n      <th></th>\n      <th colspan=\"9\" halign=\"left\">geometry</th>\n    </tr>\n    <tr>\n      <th></th>\n      <th></th>\n      <th></th>\n      <th></th>\n      <th></th>\n      <th>LanduseTyp</th>\n      <th>1</th>\n      <th>2</th>\n      <th>3</th>\n      <th>4</th>\n      <th>5</th>\n      <th>6</th>\n      <th>7</th>\n      <th>8</th>\n      <th>999</th>\n    </tr>\n    <tr>\n      <th>NEWdate_hk</th>\n      <th>year</th>\n      <th>month</th>\n      <th>day</th>\n      <th>hour</th>\n      <th>minute</th>\n      <th></th>\n      <th></th>\n      <th></th>\n      <th></th>\n      <th></th>\n      <th></th>\n      <th></th>\n      <th></th>\n      <th></th>\n    </tr>\n  </thead>\n  <tbody>\n    <tr>\n      <th>2016-05-07-03-25</th>\n      <th>2016</th>\n      <th>5</th>\n      <th>7</th>\n      <th>3</th>\n      <th>25</th>\n      <td>0</td>\n      <td>0</td>\n      <td>0</td>\n      <td>0</td>\n      <td>0</td>\n      <td>0</td>\n      <td>0</td>\n      <td>0</td>\n      <td>1</td>\n    </tr>\n    <tr>\n      <th>2016-05-07-06-01</th>\n      <th>2016</th>\n      <th>5</th>\n      <th>7</th>\n      <th>6</th>\n      <th>1</th>\n      <td>0</td>\n      <td>0</td>\n      <td>0</td>\n      <td>0</td>\n      <td>0</td>\n      <td>0</td>\n      <td>0</td>\n      <td>1</td>\n      <td>0</td>\n    </tr>\n    <tr>\n      <th>2016-05-07-06-17</th>\n      <th>2016</th>\n      <th>5</th>\n      <th>7</th>\n      <th>6</th>\n      <th>17</th>\n      <td>0</td>\n      <td>0</td>\n      <td>0</td>\n      <td>0</td>\n      <td>0</td>\n      <td>0</td>\n      <td>0</td>\n      <td>1</td>\n      <td>0</td>\n    </tr>\n    <tr>\n      <th>2016-05-07-06-18</th>\n      <th>2016</th>\n      <th>5</th>\n      <th>7</th>\n      <th>6</th>\n      <th>18</th>\n      <td>0</td>\n      <td>0</td>\n      <td>0</td>\n      <td>0</td>\n      <td>0</td>\n      <td>0</td>\n      <td>1</td>\n      <td>0</td>\n      <td>0</td>\n    </tr>\n    <tr>\n      <th>2016-05-07-07-02</th>\n      <th>2016</th>\n      <th>5</th>\n      <th>7</th>\n      <th>7</th>\n      <th>2</th>\n      <td>0</td>\n      <td>0</td>\n      <td>0</td>\n      <td>0</td>\n      <td>0</td>\n      <td>0</td>\n      <td>0</td>\n      <td>0</td>\n      <td>1</td>\n    </tr>\n  </tbody>\n</table>\n</div>"
     },
     "execution_count": 12,
     "metadata": {},
     "output_type": "execute_result"
    }
   ],
   "source": [
    "df6.head(5)"
   ],
   "metadata": {
    "collapsed": false
   }
  },
  {
   "cell_type": "code",
   "execution_count": 24,
   "outputs": [],
   "source": [
    "df3['NEWdate_hk_YMD'] = pd.to_datetime(df3['date_hk']).dt.strftime('%Y-%m-%d')\n",
    "df4=df3[['OBJECTID_1','Field1','LanduseTyp','year','month','day','NEWdate_hk_YMD','geometry']]\n",
    "df5=pd.pivot_table(df4,index=['OBJECTID_1','Field1','year','month','day','NEWdate_hk_YMD'],columns=['LanduseTyp'],aggfunc='count').fillna(0).astype(int)"
   ],
   "metadata": {
    "collapsed": false
   }
  },
  {
   "cell_type": "code",
   "execution_count": 25,
   "outputs": [],
   "source": [
    "df7=df5.groupby(['NEWdate_hk_YMD','year','month','day']).sum()"
   ],
   "metadata": {
    "collapsed": false
   }
  },
  {
   "cell_type": "code",
   "execution_count": 26,
   "outputs": [
    {
     "data": {
      "text/plain": "                              geometry                                    \nLanduseTyp                         1    2    3   4   5   6   7    8    999\nNEWdate_hk_YMD year month day                                             \n2016-05-07     2016 5     7          3   59   77  48   2   1  52   81  142\n2016-05-08     2016 5     8          2  100  103  75   4   2  57  125  279\n2016-05-09     2016 5     9          0   57   96  59   2   1  44  112  170\n2016-05-10     2016 5     10         0   69   70  58   1   2  44   81  139\n2016-05-11     2016 5     11         0   65   63  71   1   1  50  111  145",
      "text/html": "<div>\n<style scoped>\n    .dataframe tbody tr th:only-of-type {\n        vertical-align: middle;\n    }\n\n    .dataframe tbody tr th {\n        vertical-align: top;\n    }\n\n    .dataframe thead tr th {\n        text-align: left;\n    }\n\n    .dataframe thead tr:last-of-type th {\n        text-align: right;\n    }\n</style>\n<table border=\"1\" class=\"dataframe\">\n  <thead>\n    <tr>\n      <th></th>\n      <th></th>\n      <th></th>\n      <th></th>\n      <th colspan=\"9\" halign=\"left\">geometry</th>\n    </tr>\n    <tr>\n      <th></th>\n      <th></th>\n      <th></th>\n      <th>LanduseTyp</th>\n      <th>1</th>\n      <th>2</th>\n      <th>3</th>\n      <th>4</th>\n      <th>5</th>\n      <th>6</th>\n      <th>7</th>\n      <th>8</th>\n      <th>999</th>\n    </tr>\n    <tr>\n      <th>NEWdate_hk_YMD</th>\n      <th>year</th>\n      <th>month</th>\n      <th>day</th>\n      <th></th>\n      <th></th>\n      <th></th>\n      <th></th>\n      <th></th>\n      <th></th>\n      <th></th>\n      <th></th>\n      <th></th>\n    </tr>\n  </thead>\n  <tbody>\n    <tr>\n      <th>2016-05-07</th>\n      <th>2016</th>\n      <th>5</th>\n      <th>7</th>\n      <td>3</td>\n      <td>59</td>\n      <td>77</td>\n      <td>48</td>\n      <td>2</td>\n      <td>1</td>\n      <td>52</td>\n      <td>81</td>\n      <td>142</td>\n    </tr>\n    <tr>\n      <th>2016-05-08</th>\n      <th>2016</th>\n      <th>5</th>\n      <th>8</th>\n      <td>2</td>\n      <td>100</td>\n      <td>103</td>\n      <td>75</td>\n      <td>4</td>\n      <td>2</td>\n      <td>57</td>\n      <td>125</td>\n      <td>279</td>\n    </tr>\n    <tr>\n      <th>2016-05-09</th>\n      <th>2016</th>\n      <th>5</th>\n      <th>9</th>\n      <td>0</td>\n      <td>57</td>\n      <td>96</td>\n      <td>59</td>\n      <td>2</td>\n      <td>1</td>\n      <td>44</td>\n      <td>112</td>\n      <td>170</td>\n    </tr>\n    <tr>\n      <th>2016-05-10</th>\n      <th>2016</th>\n      <th>5</th>\n      <th>10</th>\n      <td>0</td>\n      <td>69</td>\n      <td>70</td>\n      <td>58</td>\n      <td>1</td>\n      <td>2</td>\n      <td>44</td>\n      <td>81</td>\n      <td>139</td>\n    </tr>\n    <tr>\n      <th>2016-05-11</th>\n      <th>2016</th>\n      <th>5</th>\n      <th>11</th>\n      <td>0</td>\n      <td>65</td>\n      <td>63</td>\n      <td>71</td>\n      <td>1</td>\n      <td>1</td>\n      <td>50</td>\n      <td>111</td>\n      <td>145</td>\n    </tr>\n  </tbody>\n</table>\n</div>"
     },
     "execution_count": 26,
     "metadata": {},
     "output_type": "execute_result"
    }
   ],
   "source": [
    "df7.head(5)"
   ],
   "metadata": {
    "collapsed": false
   }
  },
  {
   "cell_type": "code",
   "execution_count": 27,
   "outputs": [],
   "source": [
    "df7.to_csv(r'D:\\GaoYunshu2023\\100011 HK-Work\\RA-project\\001 Task description\\By Day_V1.csv')"
   ],
   "metadata": {
    "collapsed": false
   }
  },
  {
   "cell_type": "code",
   "execution_count": null,
   "outputs": [],
   "source": [],
   "metadata": {
    "collapsed": false
   }
  }
 ],
 "metadata": {
  "kernelspec": {
   "display_name": "Python 3",
   "language": "python",
   "name": "python3"
  },
  "language_info": {
   "codemirror_mode": {
    "name": "ipython",
    "version": 2
   },
   "file_extension": ".py",
   "mimetype": "text/x-python",
   "name": "python",
   "nbconvert_exporter": "python",
   "pygments_lexer": "ipython2",
   "version": "2.7.6"
  }
 },
 "nbformat": 4,
 "nbformat_minor": 0
}
