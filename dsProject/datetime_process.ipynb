{
 "cells": [
  {
   "cell_type": "code",
   "execution_count": 3,
   "metadata": {
    "collapsed": true
   },
   "outputs": [],
   "source": [
    "import numpy as np\n",
    "import pandas as pd"
   ]
  },
  {
   "cell_type": "code",
   "execution_count": 4,
   "outputs": [
    {
     "name": "stderr",
     "output_type": "stream",
     "text": [
      "C:\\Users\\user\\AppData\\Local\\Temp\\ipykernel_1516\\3780827200.py:1: DtypeWarning: Columns (7) have mixed types. Specify dtype option on import or set low_memory=False.\n",
      "  data_1=pd.read_csv(\"D:\\\\RA-Tasks\\\\1 Graph neural network_POI\\\\Task1\\\\Process\\\\Hong Kong Twitter 2016.5_2018.12.csv\")\n"
     ]
    }
   ],
   "source": [
    "data_1=pd.read_csv(\"D:\\\\RA-Tasks\\\\1 Graph neural network_POI\\\\Task1\\\\Process\\\\Hong Kong Twitter 2016.5_2018.12.csv\")"
   ],
   "metadata": {
    "collapsed": false
   }
  },
  {
   "cell_type": "code",
   "execution_count": 5,
   "outputs": [
    {
     "data": {
      "text/plain": "   Unnamed: 0                      created_at        id_str lang        lat  \\\n0           0  Sat May 07 06:18:59 +0000 2016  7.288310e+17   en  22.278850   \n1           1  Sat May 07 07:02:19 +0000 2016  7.288420e+17   en  22.315302   \n2           2  Sat May 07 07:02:34 +0000 2016  7.288420e+17   en  22.276808   \n3           3  Sat May 07 07:03:11 +0000 2016  7.288430e+17   en  22.275643   \n4           4  Sat May 07 07:05:37 +0000 2016  7.288430e+17   en  22.302772   \n\n          lon                                               text  \\\n0  114.184620  #Working #Saturday #Afternoon! #Final #Touch i...   \n1  113.934832  I'm at Hong Kong International Airport <U+9999...   \n2  113.916187  The cable car ride... #cablecar #mountain #360...   \n3  114.171174  Love Roses! <ed><U+00A0><U+00BD><ed><U+00B8><U...   \n4  114.011717  Preparing for a photo shoot #glamourshots #bla...   \n\n                    time_zone  truncated                      url  ...  \\\n0                   Hong Kong      False  https://t.co/q4GWk8nZFm  ...   \n1  Eastern Time (US & Canada)      False  https://t.co/s1U275BtH4  ...   \n2                Kuala Lumpur      False  https://t.co/5vwsCLv80G  ...   \n3                   Hong Kong      False  https://t.co/wTrbCG7H8T  ...   \n4                         NaN      False  https://t.co/PEVkAoleNQ  ...   \n\n  verified                    hk_time  year month  month_plus_year day  \\\n0    False  2016-05-07 14:12:59+08:00  2016     5           2016_5   7   \n1    False  2016-05-07 14:56:19+08:00  2016     5           2016_5   7   \n2    False  2016-05-07 14:56:34+08:00  2016     5           2016_5   7   \n3    False  2016-05-07 14:57:11+08:00  2016     5           2016_5   7   \n4    False  2016-05-07 14:59:37+08:00  2016     5           2016_5   7   \n\n   TPU_longitudinal  TPU_cross_sectional  \\\n0               146            146 - 147   \n1               951            950 - 951   \n2               943            941 - 943   \n3               131                  131   \n4               971            971 - 974   \n\n                                        cleaned_text  sentiment  \n0  working saturday afternoon final touch is on t...          1  \n1  i am at hong kong international airport u numb...          1  \n2  the cable car ride repeated cable car mountain...          1  \n3  love 😍 😍 😍 🌹 🌷 💐 flower weekend saturday beaut...          2  \n4           for a photo shoot glamour photo h beauty          2  \n\n[5 rows x 24 columns]",
      "text/html": "<div>\n<style scoped>\n    .dataframe tbody tr th:only-of-type {\n        vertical-align: middle;\n    }\n\n    .dataframe tbody tr th {\n        vertical-align: top;\n    }\n\n    .dataframe thead th {\n        text-align: right;\n    }\n</style>\n<table border=\"1\" class=\"dataframe\">\n  <thead>\n    <tr style=\"text-align: right;\">\n      <th></th>\n      <th>Unnamed: 0</th>\n      <th>created_at</th>\n      <th>id_str</th>\n      <th>lang</th>\n      <th>lat</th>\n      <th>lon</th>\n      <th>text</th>\n      <th>time_zone</th>\n      <th>truncated</th>\n      <th>url</th>\n      <th>...</th>\n      <th>verified</th>\n      <th>hk_time</th>\n      <th>year</th>\n      <th>month</th>\n      <th>month_plus_year</th>\n      <th>day</th>\n      <th>TPU_longitudinal</th>\n      <th>TPU_cross_sectional</th>\n      <th>cleaned_text</th>\n      <th>sentiment</th>\n    </tr>\n  </thead>\n  <tbody>\n    <tr>\n      <th>0</th>\n      <td>0</td>\n      <td>Sat May 07 06:18:59 +0000 2016</td>\n      <td>7.288310e+17</td>\n      <td>en</td>\n      <td>22.278850</td>\n      <td>114.184620</td>\n      <td>#Working #Saturday #Afternoon! #Final #Touch i...</td>\n      <td>Hong Kong</td>\n      <td>False</td>\n      <td>https://t.co/q4GWk8nZFm</td>\n      <td>...</td>\n      <td>False</td>\n      <td>2016-05-07 14:12:59+08:00</td>\n      <td>2016</td>\n      <td>5</td>\n      <td>2016_5</td>\n      <td>7</td>\n      <td>146</td>\n      <td>146 - 147</td>\n      <td>working saturday afternoon final touch is on t...</td>\n      <td>1</td>\n    </tr>\n    <tr>\n      <th>1</th>\n      <td>1</td>\n      <td>Sat May 07 07:02:19 +0000 2016</td>\n      <td>7.288420e+17</td>\n      <td>en</td>\n      <td>22.315302</td>\n      <td>113.934832</td>\n      <td>I'm at Hong Kong International Airport &lt;U+9999...</td>\n      <td>Eastern Time (US &amp; Canada)</td>\n      <td>False</td>\n      <td>https://t.co/s1U275BtH4</td>\n      <td>...</td>\n      <td>False</td>\n      <td>2016-05-07 14:56:19+08:00</td>\n      <td>2016</td>\n      <td>5</td>\n      <td>2016_5</td>\n      <td>7</td>\n      <td>951</td>\n      <td>950 - 951</td>\n      <td>i am at hong kong international airport u numb...</td>\n      <td>1</td>\n    </tr>\n    <tr>\n      <th>2</th>\n      <td>2</td>\n      <td>Sat May 07 07:02:34 +0000 2016</td>\n      <td>7.288420e+17</td>\n      <td>en</td>\n      <td>22.276808</td>\n      <td>113.916187</td>\n      <td>The cable car ride... #cablecar #mountain #360...</td>\n      <td>Kuala Lumpur</td>\n      <td>False</td>\n      <td>https://t.co/5vwsCLv80G</td>\n      <td>...</td>\n      <td>False</td>\n      <td>2016-05-07 14:56:34+08:00</td>\n      <td>2016</td>\n      <td>5</td>\n      <td>2016_5</td>\n      <td>7</td>\n      <td>943</td>\n      <td>941 - 943</td>\n      <td>the cable car ride repeated cable car mountain...</td>\n      <td>1</td>\n    </tr>\n    <tr>\n      <th>3</th>\n      <td>3</td>\n      <td>Sat May 07 07:03:11 +0000 2016</td>\n      <td>7.288430e+17</td>\n      <td>en</td>\n      <td>22.275643</td>\n      <td>114.171174</td>\n      <td>Love Roses! &lt;ed&gt;&lt;U+00A0&gt;&lt;U+00BD&gt;&lt;ed&gt;&lt;U+00B8&gt;&lt;U...</td>\n      <td>Hong Kong</td>\n      <td>False</td>\n      <td>https://t.co/wTrbCG7H8T</td>\n      <td>...</td>\n      <td>False</td>\n      <td>2016-05-07 14:57:11+08:00</td>\n      <td>2016</td>\n      <td>5</td>\n      <td>2016_5</td>\n      <td>7</td>\n      <td>131</td>\n      <td>131</td>\n      <td>love 😍 😍 😍 🌹 🌷 💐 flower weekend saturday beaut...</td>\n      <td>2</td>\n    </tr>\n    <tr>\n      <th>4</th>\n      <td>4</td>\n      <td>Sat May 07 07:05:37 +0000 2016</td>\n      <td>7.288430e+17</td>\n      <td>en</td>\n      <td>22.302772</td>\n      <td>114.011717</td>\n      <td>Preparing for a photo shoot #glamourshots #bla...</td>\n      <td>NaN</td>\n      <td>False</td>\n      <td>https://t.co/PEVkAoleNQ</td>\n      <td>...</td>\n      <td>False</td>\n      <td>2016-05-07 14:59:37+08:00</td>\n      <td>2016</td>\n      <td>5</td>\n      <td>2016_5</td>\n      <td>7</td>\n      <td>971</td>\n      <td>971 - 974</td>\n      <td>for a photo shoot glamour photo h beauty</td>\n      <td>2</td>\n    </tr>\n  </tbody>\n</table>\n<p>5 rows × 24 columns</p>\n</div>"
     },
     "execution_count": 5,
     "metadata": {},
     "output_type": "execute_result"
    }
   ],
   "source": [
    "data_1.head(5)\n"
   ],
   "metadata": {
    "collapsed": false
   }
  },
  {
   "cell_type": "code",
   "execution_count": 6,
   "outputs": [
    {
     "data": {
      "text/plain": "(409626, 24)"
     },
     "execution_count": 6,
     "metadata": {},
     "output_type": "execute_result"
    }
   ],
   "source": [
    "data_1.shape"
   ],
   "metadata": {
    "collapsed": false
   }
  },
  {
   "cell_type": "code",
   "execution_count": 7,
   "outputs": [
    {
     "data": {
      "text/plain": "          Unnamed: 0        id_str            lat            lon  \\\ncount  409626.000000  4.096260e+05  409626.000000  409626.000000   \nmean   221819.125302  8.767195e+17      22.303998     114.137678   \nstd    128834.828099  9.668169e+16       0.041604       0.083600   \nmin         0.000000  7.288310e+17      22.155776     113.851093   \n25%    110110.250000  7.953294e+17      22.280900     114.148412   \n50%    220379.500000  8.610970e+17      22.293423     114.168476   \n75%    333406.750000  9.505236e+17      22.314806     114.178000   \nmax    445971.000000  1.075162e+18      22.559391     114.441454   \n\n        user_id_str           year          month            day  \\\ncount  4.096260e+05  409626.000000  409626.000000  409626.000000   \nmean   1.922317e+16    2016.923882       7.022232      15.479816   \nstd    1.239209e+17       0.765271       3.360192       8.690227   \nmin    8.530000e+02    2016.000000       1.000000       1.000000   \n25%    4.685703e+07    2016.000000       4.000000       8.000000   \n50%    1.476191e+08    2017.000000       7.000000      15.000000   \n75%    4.977202e+08    2018.000000      10.000000      23.000000   \nmax    1.069993e+18    2018.000000      12.000000      31.000000   \n\n       TPU_longitudinal      sentiment  \ncount     409626.000000  409626.000000  \nmean         345.812575       1.437272  \nstd          307.900624       0.554842  \nmin          111.000000       0.000000  \n25%          134.000000       1.000000  \n50%          211.000000       1.000000  \n75%          350.000000       2.000000  \nmax          976.000000       2.000000  ",
      "text/html": "<div>\n<style scoped>\n    .dataframe tbody tr th:only-of-type {\n        vertical-align: middle;\n    }\n\n    .dataframe tbody tr th {\n        vertical-align: top;\n    }\n\n    .dataframe thead th {\n        text-align: right;\n    }\n</style>\n<table border=\"1\" class=\"dataframe\">\n  <thead>\n    <tr style=\"text-align: right;\">\n      <th></th>\n      <th>Unnamed: 0</th>\n      <th>id_str</th>\n      <th>lat</th>\n      <th>lon</th>\n      <th>user_id_str</th>\n      <th>year</th>\n      <th>month</th>\n      <th>day</th>\n      <th>TPU_longitudinal</th>\n      <th>sentiment</th>\n    </tr>\n  </thead>\n  <tbody>\n    <tr>\n      <th>count</th>\n      <td>409626.000000</td>\n      <td>4.096260e+05</td>\n      <td>409626.000000</td>\n      <td>409626.000000</td>\n      <td>4.096260e+05</td>\n      <td>409626.000000</td>\n      <td>409626.000000</td>\n      <td>409626.000000</td>\n      <td>409626.000000</td>\n      <td>409626.000000</td>\n    </tr>\n    <tr>\n      <th>mean</th>\n      <td>221819.125302</td>\n      <td>8.767195e+17</td>\n      <td>22.303998</td>\n      <td>114.137678</td>\n      <td>1.922317e+16</td>\n      <td>2016.923882</td>\n      <td>7.022232</td>\n      <td>15.479816</td>\n      <td>345.812575</td>\n      <td>1.437272</td>\n    </tr>\n    <tr>\n      <th>std</th>\n      <td>128834.828099</td>\n      <td>9.668169e+16</td>\n      <td>0.041604</td>\n      <td>0.083600</td>\n      <td>1.239209e+17</td>\n      <td>0.765271</td>\n      <td>3.360192</td>\n      <td>8.690227</td>\n      <td>307.900624</td>\n      <td>0.554842</td>\n    </tr>\n    <tr>\n      <th>min</th>\n      <td>0.000000</td>\n      <td>7.288310e+17</td>\n      <td>22.155776</td>\n      <td>113.851093</td>\n      <td>8.530000e+02</td>\n      <td>2016.000000</td>\n      <td>1.000000</td>\n      <td>1.000000</td>\n      <td>111.000000</td>\n      <td>0.000000</td>\n    </tr>\n    <tr>\n      <th>25%</th>\n      <td>110110.250000</td>\n      <td>7.953294e+17</td>\n      <td>22.280900</td>\n      <td>114.148412</td>\n      <td>4.685703e+07</td>\n      <td>2016.000000</td>\n      <td>4.000000</td>\n      <td>8.000000</td>\n      <td>134.000000</td>\n      <td>1.000000</td>\n    </tr>\n    <tr>\n      <th>50%</th>\n      <td>220379.500000</td>\n      <td>8.610970e+17</td>\n      <td>22.293423</td>\n      <td>114.168476</td>\n      <td>1.476191e+08</td>\n      <td>2017.000000</td>\n      <td>7.000000</td>\n      <td>15.000000</td>\n      <td>211.000000</td>\n      <td>1.000000</td>\n    </tr>\n    <tr>\n      <th>75%</th>\n      <td>333406.750000</td>\n      <td>9.505236e+17</td>\n      <td>22.314806</td>\n      <td>114.178000</td>\n      <td>4.977202e+08</td>\n      <td>2018.000000</td>\n      <td>10.000000</td>\n      <td>23.000000</td>\n      <td>350.000000</td>\n      <td>2.000000</td>\n    </tr>\n    <tr>\n      <th>max</th>\n      <td>445971.000000</td>\n      <td>1.075162e+18</td>\n      <td>22.559391</td>\n      <td>114.441454</td>\n      <td>1.069993e+18</td>\n      <td>2018.000000</td>\n      <td>12.000000</td>\n      <td>31.000000</td>\n      <td>976.000000</td>\n      <td>2.000000</td>\n    </tr>\n  </tbody>\n</table>\n</div>"
     },
     "execution_count": 7,
     "metadata": {},
     "output_type": "execute_result"
    }
   ],
   "source": [
    "data_1.describe()"
   ],
   "metadata": {
    "collapsed": false
   }
  },
  {
   "cell_type": "code",
   "execution_count": 8,
   "outputs": [
    {
     "data": {
      "text/plain": "Unnamed: 0               int64\ncreated_at              object\nid_str                 float64\nlang                    object\nlat                    float64\nlon                    float64\ntext                    object\ntime_zone               object\ntruncated                 bool\nurl                     object\nuser_created_at         object\nuser_id_str              int64\nuser_lang               object\nuser_url                object\nverified                  bool\nhk_time                 object\nyear                     int64\nmonth                    int64\nmonth_plus_year         object\nday                      int64\nTPU_longitudinal         int64\nTPU_cross_sectional     object\ncleaned_text            object\nsentiment                int64\ndtype: object"
     },
     "execution_count": 8,
     "metadata": {},
     "output_type": "execute_result"
    }
   ],
   "source": [
    "data_1.dtypes"
   ],
   "metadata": {
    "collapsed": false
   }
  },
  {
   "cell_type": "code",
   "execution_count": 10,
   "outputs": [],
   "source": [
    "from datetime import datetime"
   ],
   "metadata": {
    "collapsed": false
   }
  },
  {
   "cell_type": "code",
   "execution_count": 12,
   "outputs": [
    {
     "ename": "KeyError",
     "evalue": "'datetime'",
     "output_type": "error",
     "traceback": [
      "\u001B[1;31m---------------------------------------------------------------------------\u001B[0m",
      "\u001B[1;31mKeyError\u001B[0m                                  Traceback (most recent call last)",
      "File \u001B[1;32mD:\\Projetcs\\lib\\site-packages\\pandas\\core\\indexes\\base.py:3803\u001B[0m, in \u001B[0;36mIndex.get_loc\u001B[1;34m(self, key, method, tolerance)\u001B[0m\n\u001B[0;32m   3802\u001B[0m \u001B[38;5;28;01mtry\u001B[39;00m:\n\u001B[1;32m-> 3803\u001B[0m     \u001B[38;5;28;01mreturn\u001B[39;00m \u001B[38;5;28;43mself\u001B[39;49m\u001B[38;5;241;43m.\u001B[39;49m\u001B[43m_engine\u001B[49m\u001B[38;5;241;43m.\u001B[39;49m\u001B[43mget_loc\u001B[49m\u001B[43m(\u001B[49m\u001B[43mcasted_key\u001B[49m\u001B[43m)\u001B[49m\n\u001B[0;32m   3804\u001B[0m \u001B[38;5;28;01mexcept\u001B[39;00m \u001B[38;5;167;01mKeyError\u001B[39;00m \u001B[38;5;28;01mas\u001B[39;00m err:\n",
      "File \u001B[1;32mD:\\Projetcs\\lib\\site-packages\\pandas\\_libs\\index.pyx:138\u001B[0m, in \u001B[0;36mpandas._libs.index.IndexEngine.get_loc\u001B[1;34m()\u001B[0m\n",
      "File \u001B[1;32mD:\\Projetcs\\lib\\site-packages\\pandas\\_libs\\index.pyx:165\u001B[0m, in \u001B[0;36mpandas._libs.index.IndexEngine.get_loc\u001B[1;34m()\u001B[0m\n",
      "File \u001B[1;32mpandas\\_libs\\hashtable_class_helper.pxi:5745\u001B[0m, in \u001B[0;36mpandas._libs.hashtable.PyObjectHashTable.get_item\u001B[1;34m()\u001B[0m\n",
      "File \u001B[1;32mpandas\\_libs\\hashtable_class_helper.pxi:5753\u001B[0m, in \u001B[0;36mpandas._libs.hashtable.PyObjectHashTable.get_item\u001B[1;34m()\u001B[0m\n",
      "\u001B[1;31mKeyError\u001B[0m: 'datetime'",
      "\nThe above exception was the direct cause of the following exception:\n",
      "\u001B[1;31mKeyError\u001B[0m                                  Traceback (most recent call last)",
      "Cell \u001B[1;32mIn[12], line 1\u001B[0m\n\u001B[1;32m----> 1\u001B[0m \u001B[43mdata_1\u001B[49m\u001B[43m[\u001B[49m\u001B[38;5;124;43m'\u001B[39;49m\u001B[38;5;124;43mdatetime\u001B[39;49m\u001B[38;5;124;43m'\u001B[39;49m\u001B[43m]\u001B[49m\u001B[38;5;241m.\u001B[39mdtype\n",
      "File \u001B[1;32mD:\\Projetcs\\lib\\site-packages\\pandas\\core\\frame.py:3805\u001B[0m, in \u001B[0;36mDataFrame.__getitem__\u001B[1;34m(self, key)\u001B[0m\n\u001B[0;32m   3803\u001B[0m \u001B[38;5;28;01mif\u001B[39;00m \u001B[38;5;28mself\u001B[39m\u001B[38;5;241m.\u001B[39mcolumns\u001B[38;5;241m.\u001B[39mnlevels \u001B[38;5;241m>\u001B[39m \u001B[38;5;241m1\u001B[39m:\n\u001B[0;32m   3804\u001B[0m     \u001B[38;5;28;01mreturn\u001B[39;00m \u001B[38;5;28mself\u001B[39m\u001B[38;5;241m.\u001B[39m_getitem_multilevel(key)\n\u001B[1;32m-> 3805\u001B[0m indexer \u001B[38;5;241m=\u001B[39m \u001B[38;5;28;43mself\u001B[39;49m\u001B[38;5;241;43m.\u001B[39;49m\u001B[43mcolumns\u001B[49m\u001B[38;5;241;43m.\u001B[39;49m\u001B[43mget_loc\u001B[49m\u001B[43m(\u001B[49m\u001B[43mkey\u001B[49m\u001B[43m)\u001B[49m\n\u001B[0;32m   3806\u001B[0m \u001B[38;5;28;01mif\u001B[39;00m is_integer(indexer):\n\u001B[0;32m   3807\u001B[0m     indexer \u001B[38;5;241m=\u001B[39m [indexer]\n",
      "File \u001B[1;32mD:\\Projetcs\\lib\\site-packages\\pandas\\core\\indexes\\base.py:3805\u001B[0m, in \u001B[0;36mIndex.get_loc\u001B[1;34m(self, key, method, tolerance)\u001B[0m\n\u001B[0;32m   3803\u001B[0m     \u001B[38;5;28;01mreturn\u001B[39;00m \u001B[38;5;28mself\u001B[39m\u001B[38;5;241m.\u001B[39m_engine\u001B[38;5;241m.\u001B[39mget_loc(casted_key)\n\u001B[0;32m   3804\u001B[0m \u001B[38;5;28;01mexcept\u001B[39;00m \u001B[38;5;167;01mKeyError\u001B[39;00m \u001B[38;5;28;01mas\u001B[39;00m err:\n\u001B[1;32m-> 3805\u001B[0m     \u001B[38;5;28;01mraise\u001B[39;00m \u001B[38;5;167;01mKeyError\u001B[39;00m(key) \u001B[38;5;28;01mfrom\u001B[39;00m \u001B[38;5;21;01merr\u001B[39;00m\n\u001B[0;32m   3806\u001B[0m \u001B[38;5;28;01mexcept\u001B[39;00m \u001B[38;5;167;01mTypeError\u001B[39;00m:\n\u001B[0;32m   3807\u001B[0m     \u001B[38;5;66;03m# If we have a listlike key, _check_indexing_error will raise\u001B[39;00m\n\u001B[0;32m   3808\u001B[0m     \u001B[38;5;66;03m#  InvalidIndexError. Otherwise we fall through and re-raise\u001B[39;00m\n\u001B[0;32m   3809\u001B[0m     \u001B[38;5;66;03m#  the TypeError.\u001B[39;00m\n\u001B[0;32m   3810\u001B[0m     \u001B[38;5;28mself\u001B[39m\u001B[38;5;241m.\u001B[39m_check_indexing_error(key)\n",
      "\u001B[1;31mKeyError\u001B[0m: 'datetime'"
     ]
    }
   ],
   "source": [
    "data_1['datetime'].dtype\n"
   ],
   "metadata": {
    "collapsed": false
   }
  },
  {
   "cell_type": "code",
   "execution_count": 14,
   "outputs": [
    {
     "data": {
      "text/plain": "dtype('O')"
     },
     "execution_count": 14,
     "metadata": {},
     "output_type": "execute_result"
    }
   ],
   "source": [
    "data_1['created_at'].dtype"
   ],
   "metadata": {
    "collapsed": false
   }
  },
  {
   "cell_type": "code",
   "execution_count": 15,
   "outputs": [
    {
     "data": {
      "text/plain": "dtype('O')"
     },
     "execution_count": 15,
     "metadata": {},
     "output_type": "execute_result"
    }
   ],
   "source": [
    "data_1['created_at'].dtypes"
   ],
   "metadata": {
    "collapsed": false
   }
  },
  {
   "cell_type": "code",
   "execution_count": 16,
   "outputs": [
    {
     "ename": "AttributeError",
     "evalue": "'DataFrame' object has no attribute 'strftime'",
     "output_type": "error",
     "traceback": [
      "\u001B[1;31m---------------------------------------------------------------------------\u001B[0m",
      "\u001B[1;31mAttributeError\u001B[0m                            Traceback (most recent call last)",
      "Cell \u001B[1;32mIn[16], line 1\u001B[0m\n\u001B[1;32m----> 1\u001B[0m data_1[\u001B[38;5;124m'\u001B[39m\u001B[38;5;124mdatetime\u001B[39m\u001B[38;5;124m'\u001B[39m]\u001B[38;5;241m=\u001B[39m\u001B[43mdata_1\u001B[49m\u001B[43m[\u001B[49m\u001B[43m[\u001B[49m\u001B[38;5;124;43m'\u001B[39;49m\u001B[38;5;124;43mcreated_at\u001B[39;49m\u001B[38;5;124;43m'\u001B[39;49m\u001B[43m]\u001B[49m\u001B[43m]\u001B[49m\u001B[38;5;241;43m.\u001B[39;49m\u001B[43mstrftime\u001B[49m(data_1[[\u001B[38;5;124m'\u001B[39m\u001B[38;5;124mcreated_at\u001B[39m\u001B[38;5;124m'\u001B[39m]]\u001B[38;5;241m.\u001B[39mstrptime(s, \u001B[38;5;124m'\u001B[39m\u001B[38;5;124m%\u001B[39m\u001B[38;5;124mY-\u001B[39m\u001B[38;5;124m%\u001B[39m\u001B[38;5;124mm-\u001B[39m\u001B[38;5;132;01m%d\u001B[39;00m\u001B[38;5;124mT\u001B[39m\u001B[38;5;124m%\u001B[39m\u001B[38;5;124mH:\u001B[39m\u001B[38;5;124m%\u001B[39m\u001B[38;5;124mM:\u001B[39m\u001B[38;5;124m%\u001B[39m\u001B[38;5;124mS.000\u001B[39m\u001B[38;5;124m%\u001B[39m\u001B[38;5;124mz\u001B[39m\u001B[38;5;124m'\u001B[39m ), \u001B[38;5;124m'\u001B[39m\u001B[38;5;124m%\u001B[39m\u001B[38;5;124mY-\u001B[39m\u001B[38;5;124m%\u001B[39m\u001B[38;5;124mm-\u001B[39m\u001B[38;5;132;01m%d\u001B[39;00m\u001B[38;5;124m \u001B[39m\u001B[38;5;124m%\u001B[39m\u001B[38;5;124mH:\u001B[39m\u001B[38;5;124m%\u001B[39m\u001B[38;5;124mM:\u001B[39m\u001B[38;5;124m%\u001B[39m\u001B[38;5;124mS\u001B[39m\u001B[38;5;124m'\u001B[39m )\n",
      "File \u001B[1;32mD:\\Projetcs\\lib\\site-packages\\pandas\\core\\generic.py:5902\u001B[0m, in \u001B[0;36mNDFrame.__getattr__\u001B[1;34m(self, name)\u001B[0m\n\u001B[0;32m   5895\u001B[0m \u001B[38;5;28;01mif\u001B[39;00m (\n\u001B[0;32m   5896\u001B[0m     name \u001B[38;5;129;01mnot\u001B[39;00m \u001B[38;5;129;01min\u001B[39;00m \u001B[38;5;28mself\u001B[39m\u001B[38;5;241m.\u001B[39m_internal_names_set\n\u001B[0;32m   5897\u001B[0m     \u001B[38;5;129;01mand\u001B[39;00m name \u001B[38;5;129;01mnot\u001B[39;00m \u001B[38;5;129;01min\u001B[39;00m \u001B[38;5;28mself\u001B[39m\u001B[38;5;241m.\u001B[39m_metadata\n\u001B[0;32m   5898\u001B[0m     \u001B[38;5;129;01mand\u001B[39;00m name \u001B[38;5;129;01mnot\u001B[39;00m \u001B[38;5;129;01min\u001B[39;00m \u001B[38;5;28mself\u001B[39m\u001B[38;5;241m.\u001B[39m_accessors\n\u001B[0;32m   5899\u001B[0m     \u001B[38;5;129;01mand\u001B[39;00m \u001B[38;5;28mself\u001B[39m\u001B[38;5;241m.\u001B[39m_info_axis\u001B[38;5;241m.\u001B[39m_can_hold_identifiers_and_holds_name(name)\n\u001B[0;32m   5900\u001B[0m ):\n\u001B[0;32m   5901\u001B[0m     \u001B[38;5;28;01mreturn\u001B[39;00m \u001B[38;5;28mself\u001B[39m[name]\n\u001B[1;32m-> 5902\u001B[0m \u001B[38;5;28;01mreturn\u001B[39;00m \u001B[38;5;28;43mobject\u001B[39;49m\u001B[38;5;241;43m.\u001B[39;49m\u001B[38;5;21;43m__getattribute__\u001B[39;49m\u001B[43m(\u001B[49m\u001B[38;5;28;43mself\u001B[39;49m\u001B[43m,\u001B[49m\u001B[43m \u001B[49m\u001B[43mname\u001B[49m\u001B[43m)\u001B[49m\n",
      "\u001B[1;31mAttributeError\u001B[0m: 'DataFrame' object has no attribute 'strftime'"
     ]
    }
   ],
   "source": [
    "data_1['datetime']=data_1[['created_at']].strftime(data_1[['created_at']].strptime(s, '%Y-%m-%dT%H:%M:%S.000%z' ), '%Y-%m-%d %H:%M:%S' )"
   ],
   "metadata": {
    "collapsed": false
   }
  },
  {
   "cell_type": "code",
   "execution_count": 17,
   "outputs": [],
   "source": [
    "data_1['date'] = pd.to_datetime(data_1['created_at'])"
   ],
   "metadata": {
    "collapsed": false
   }
  },
  {
   "cell_type": "code",
   "execution_count": 18,
   "outputs": [
    {
     "data": {
      "text/plain": "   Unnamed: 0                      created_at        id_str lang        lat  \\\n0           0  Sat May 07 06:18:59 +0000 2016  7.288310e+17   en  22.278850   \n1           1  Sat May 07 07:02:19 +0000 2016  7.288420e+17   en  22.315302   \n2           2  Sat May 07 07:02:34 +0000 2016  7.288420e+17   en  22.276808   \n3           3  Sat May 07 07:03:11 +0000 2016  7.288430e+17   en  22.275643   \n4           4  Sat May 07 07:05:37 +0000 2016  7.288430e+17   en  22.302772   \n\n          lon                                               text  \\\n0  114.184620  #Working #Saturday #Afternoon! #Final #Touch i...   \n1  113.934832  I'm at Hong Kong International Airport <U+9999...   \n2  113.916187  The cable car ride... #cablecar #mountain #360...   \n3  114.171174  Love Roses! <ed><U+00A0><U+00BD><ed><U+00B8><U...   \n4  114.011717  Preparing for a photo shoot #glamourshots #bla...   \n\n                    time_zone  truncated                      url  ...  \\\n0                   Hong Kong      False  https://t.co/q4GWk8nZFm  ...   \n1  Eastern Time (US & Canada)      False  https://t.co/s1U275BtH4  ...   \n2                Kuala Lumpur      False  https://t.co/5vwsCLv80G  ...   \n3                   Hong Kong      False  https://t.co/wTrbCG7H8T  ...   \n4                         NaN      False  https://t.co/PEVkAoleNQ  ...   \n\n                     hk_time  year month month_plus_year  day  \\\n0  2016-05-07 14:12:59+08:00  2016     5          2016_5    7   \n1  2016-05-07 14:56:19+08:00  2016     5          2016_5    7   \n2  2016-05-07 14:56:34+08:00  2016     5          2016_5    7   \n3  2016-05-07 14:57:11+08:00  2016     5          2016_5    7   \n4  2016-05-07 14:59:37+08:00  2016     5          2016_5    7   \n\n  TPU_longitudinal  TPU_cross_sectional  \\\n0              146            146 - 147   \n1              951            950 - 951   \n2              943            941 - 943   \n3              131                  131   \n4              971            971 - 974   \n\n                                        cleaned_text sentiment  \\\n0  working saturday afternoon final touch is on t...         1   \n1  i am at hong kong international airport u numb...         1   \n2  the cable car ride repeated cable car mountain...         1   \n3  love 😍 😍 😍 🌹 🌷 💐 flower weekend saturday beaut...         2   \n4           for a photo shoot glamour photo h beauty         2   \n\n                       date  \n0 2016-05-07 06:18:59+00:00  \n1 2016-05-07 07:02:19+00:00  \n2 2016-05-07 07:02:34+00:00  \n3 2016-05-07 07:03:11+00:00  \n4 2016-05-07 07:05:37+00:00  \n\n[5 rows x 25 columns]",
      "text/html": "<div>\n<style scoped>\n    .dataframe tbody tr th:only-of-type {\n        vertical-align: middle;\n    }\n\n    .dataframe tbody tr th {\n        vertical-align: top;\n    }\n\n    .dataframe thead th {\n        text-align: right;\n    }\n</style>\n<table border=\"1\" class=\"dataframe\">\n  <thead>\n    <tr style=\"text-align: right;\">\n      <th></th>\n      <th>Unnamed: 0</th>\n      <th>created_at</th>\n      <th>id_str</th>\n      <th>lang</th>\n      <th>lat</th>\n      <th>lon</th>\n      <th>text</th>\n      <th>time_zone</th>\n      <th>truncated</th>\n      <th>url</th>\n      <th>...</th>\n      <th>hk_time</th>\n      <th>year</th>\n      <th>month</th>\n      <th>month_plus_year</th>\n      <th>day</th>\n      <th>TPU_longitudinal</th>\n      <th>TPU_cross_sectional</th>\n      <th>cleaned_text</th>\n      <th>sentiment</th>\n      <th>date</th>\n    </tr>\n  </thead>\n  <tbody>\n    <tr>\n      <th>0</th>\n      <td>0</td>\n      <td>Sat May 07 06:18:59 +0000 2016</td>\n      <td>7.288310e+17</td>\n      <td>en</td>\n      <td>22.278850</td>\n      <td>114.184620</td>\n      <td>#Working #Saturday #Afternoon! #Final #Touch i...</td>\n      <td>Hong Kong</td>\n      <td>False</td>\n      <td>https://t.co/q4GWk8nZFm</td>\n      <td>...</td>\n      <td>2016-05-07 14:12:59+08:00</td>\n      <td>2016</td>\n      <td>5</td>\n      <td>2016_5</td>\n      <td>7</td>\n      <td>146</td>\n      <td>146 - 147</td>\n      <td>working saturday afternoon final touch is on t...</td>\n      <td>1</td>\n      <td>2016-05-07 06:18:59+00:00</td>\n    </tr>\n    <tr>\n      <th>1</th>\n      <td>1</td>\n      <td>Sat May 07 07:02:19 +0000 2016</td>\n      <td>7.288420e+17</td>\n      <td>en</td>\n      <td>22.315302</td>\n      <td>113.934832</td>\n      <td>I'm at Hong Kong International Airport &lt;U+9999...</td>\n      <td>Eastern Time (US &amp; Canada)</td>\n      <td>False</td>\n      <td>https://t.co/s1U275BtH4</td>\n      <td>...</td>\n      <td>2016-05-07 14:56:19+08:00</td>\n      <td>2016</td>\n      <td>5</td>\n      <td>2016_5</td>\n      <td>7</td>\n      <td>951</td>\n      <td>950 - 951</td>\n      <td>i am at hong kong international airport u numb...</td>\n      <td>1</td>\n      <td>2016-05-07 07:02:19+00:00</td>\n    </tr>\n    <tr>\n      <th>2</th>\n      <td>2</td>\n      <td>Sat May 07 07:02:34 +0000 2016</td>\n      <td>7.288420e+17</td>\n      <td>en</td>\n      <td>22.276808</td>\n      <td>113.916187</td>\n      <td>The cable car ride... #cablecar #mountain #360...</td>\n      <td>Kuala Lumpur</td>\n      <td>False</td>\n      <td>https://t.co/5vwsCLv80G</td>\n      <td>...</td>\n      <td>2016-05-07 14:56:34+08:00</td>\n      <td>2016</td>\n      <td>5</td>\n      <td>2016_5</td>\n      <td>7</td>\n      <td>943</td>\n      <td>941 - 943</td>\n      <td>the cable car ride repeated cable car mountain...</td>\n      <td>1</td>\n      <td>2016-05-07 07:02:34+00:00</td>\n    </tr>\n    <tr>\n      <th>3</th>\n      <td>3</td>\n      <td>Sat May 07 07:03:11 +0000 2016</td>\n      <td>7.288430e+17</td>\n      <td>en</td>\n      <td>22.275643</td>\n      <td>114.171174</td>\n      <td>Love Roses! &lt;ed&gt;&lt;U+00A0&gt;&lt;U+00BD&gt;&lt;ed&gt;&lt;U+00B8&gt;&lt;U...</td>\n      <td>Hong Kong</td>\n      <td>False</td>\n      <td>https://t.co/wTrbCG7H8T</td>\n      <td>...</td>\n      <td>2016-05-07 14:57:11+08:00</td>\n      <td>2016</td>\n      <td>5</td>\n      <td>2016_5</td>\n      <td>7</td>\n      <td>131</td>\n      <td>131</td>\n      <td>love 😍 😍 😍 🌹 🌷 💐 flower weekend saturday beaut...</td>\n      <td>2</td>\n      <td>2016-05-07 07:03:11+00:00</td>\n    </tr>\n    <tr>\n      <th>4</th>\n      <td>4</td>\n      <td>Sat May 07 07:05:37 +0000 2016</td>\n      <td>7.288430e+17</td>\n      <td>en</td>\n      <td>22.302772</td>\n      <td>114.011717</td>\n      <td>Preparing for a photo shoot #glamourshots #bla...</td>\n      <td>NaN</td>\n      <td>False</td>\n      <td>https://t.co/PEVkAoleNQ</td>\n      <td>...</td>\n      <td>2016-05-07 14:59:37+08:00</td>\n      <td>2016</td>\n      <td>5</td>\n      <td>2016_5</td>\n      <td>7</td>\n      <td>971</td>\n      <td>971 - 974</td>\n      <td>for a photo shoot glamour photo h beauty</td>\n      <td>2</td>\n      <td>2016-05-07 07:05:37+00:00</td>\n    </tr>\n  </tbody>\n</table>\n<p>5 rows × 25 columns</p>\n</div>"
     },
     "execution_count": 18,
     "metadata": {},
     "output_type": "execute_result"
    }
   ],
   "source": [
    "data_1.head(5)"
   ],
   "metadata": {
    "collapsed": false
   }
  },
  {
   "cell_type": "code",
   "execution_count": 23,
   "outputs": [
    {
     "data": {
      "text/plain": "                     Unnamed: 0  created_at  id_str    lang     lat     lon  \\\ntime_zone                                                                     \nAbu Dhabi                   975         975     975     975     975     975   \nAdelaide                    160         160     160     160     160     160   \nAlaska                    15068       15068   15068   15068   15068   15068   \nAlmaty                        8           8       8       8       8       8   \nAmerica/Anguilla              2           2       2       2       2       2   \n...                         ...         ...     ...     ...     ...     ...   \nWest Central Africa          77          77      77      77      77      77   \nYakutsk                      53          53      53      53      53      53   \nYerevan                      15          15      15      15      15      15   \nZagreb                       22          22      22      22      22      22   \nNaN                      124191      124191  124191  124191  124191  124191   \n\n                       text  truncated     url  user_created_at  ...  hk_time  \\\ntime_zone                                                        ...            \nAbu Dhabi               975        975     975              975  ...      975   \nAdelaide                160        160     156              160  ...      160   \nAlaska                15068      15068   14972            15068  ...    15068   \nAlmaty                    8          8       8                8  ...        8   \nAmerica/Anguilla          2          2       2                2  ...        2   \n...                     ...        ...     ...              ...  ...      ...   \nWest Central Africa      77         77      77               77  ...       77   \nYakutsk                  53         53      53               53  ...       53   \nYerevan                  15         15      15               15  ...       15   \nZagreb                   22         22      21               22  ...       22   \nNaN                  124191     124191  121920           124191  ...   124191   \n\n                       year   month  month_plus_year     day  \\\ntime_zone                                                      \nAbu Dhabi               975     975              975     975   \nAdelaide                160     160              160     160   \nAlaska                15068   15068            15068   15068   \nAlmaty                    8       8                8       8   \nAmerica/Anguilla          2       2                2       2   \n...                     ...     ...              ...     ...   \nWest Central Africa      77      77               77      77   \nYakutsk                  53      53               53      53   \nYerevan                  15      15               15      15   \nZagreb                   22      22               22      22   \nNaN                  124191  124191           124191  124191   \n\n                     TPU_longitudinal  TPU_cross_sectional  cleaned_text  \\\ntime_zone                                                                  \nAbu Dhabi                         975                  975           975   \nAdelaide                          160                  160           160   \nAlaska                          15068                15068         15068   \nAlmaty                              8                    8             8   \nAmerica/Anguilla                    2                    2             2   \n...                               ...                  ...           ...   \nWest Central Africa                77                   77            77   \nYakutsk                            53                   53            53   \nYerevan                            15                   15            15   \nZagreb                             22                   22            22   \nNaN                            124191               124191        124191   \n\n                     sentiment    date  \ntime_zone                               \nAbu Dhabi                  975     975  \nAdelaide                   160     160  \nAlaska                   15068   15068  \nAlmaty                       8       8  \nAmerica/Anguilla             2       2  \n...                        ...     ...  \nWest Central Africa         77      77  \nYakutsk                     53      53  \nYerevan                     15      15  \nZagreb                      22      22  \nNaN                     124191  124191  \n\n[176 rows x 24 columns]",
      "text/html": "<div>\n<style scoped>\n    .dataframe tbody tr th:only-of-type {\n        vertical-align: middle;\n    }\n\n    .dataframe tbody tr th {\n        vertical-align: top;\n    }\n\n    .dataframe thead th {\n        text-align: right;\n    }\n</style>\n<table border=\"1\" class=\"dataframe\">\n  <thead>\n    <tr style=\"text-align: right;\">\n      <th></th>\n      <th>Unnamed: 0</th>\n      <th>created_at</th>\n      <th>id_str</th>\n      <th>lang</th>\n      <th>lat</th>\n      <th>lon</th>\n      <th>text</th>\n      <th>truncated</th>\n      <th>url</th>\n      <th>user_created_at</th>\n      <th>...</th>\n      <th>hk_time</th>\n      <th>year</th>\n      <th>month</th>\n      <th>month_plus_year</th>\n      <th>day</th>\n      <th>TPU_longitudinal</th>\n      <th>TPU_cross_sectional</th>\n      <th>cleaned_text</th>\n      <th>sentiment</th>\n      <th>date</th>\n    </tr>\n    <tr>\n      <th>time_zone</th>\n      <th></th>\n      <th></th>\n      <th></th>\n      <th></th>\n      <th></th>\n      <th></th>\n      <th></th>\n      <th></th>\n      <th></th>\n      <th></th>\n      <th></th>\n      <th></th>\n      <th></th>\n      <th></th>\n      <th></th>\n      <th></th>\n      <th></th>\n      <th></th>\n      <th></th>\n      <th></th>\n      <th></th>\n    </tr>\n  </thead>\n  <tbody>\n    <tr>\n      <th>Abu Dhabi</th>\n      <td>975</td>\n      <td>975</td>\n      <td>975</td>\n      <td>975</td>\n      <td>975</td>\n      <td>975</td>\n      <td>975</td>\n      <td>975</td>\n      <td>975</td>\n      <td>975</td>\n      <td>...</td>\n      <td>975</td>\n      <td>975</td>\n      <td>975</td>\n      <td>975</td>\n      <td>975</td>\n      <td>975</td>\n      <td>975</td>\n      <td>975</td>\n      <td>975</td>\n      <td>975</td>\n    </tr>\n    <tr>\n      <th>Adelaide</th>\n      <td>160</td>\n      <td>160</td>\n      <td>160</td>\n      <td>160</td>\n      <td>160</td>\n      <td>160</td>\n      <td>160</td>\n      <td>160</td>\n      <td>156</td>\n      <td>160</td>\n      <td>...</td>\n      <td>160</td>\n      <td>160</td>\n      <td>160</td>\n      <td>160</td>\n      <td>160</td>\n      <td>160</td>\n      <td>160</td>\n      <td>160</td>\n      <td>160</td>\n      <td>160</td>\n    </tr>\n    <tr>\n      <th>Alaska</th>\n      <td>15068</td>\n      <td>15068</td>\n      <td>15068</td>\n      <td>15068</td>\n      <td>15068</td>\n      <td>15068</td>\n      <td>15068</td>\n      <td>15068</td>\n      <td>14972</td>\n      <td>15068</td>\n      <td>...</td>\n      <td>15068</td>\n      <td>15068</td>\n      <td>15068</td>\n      <td>15068</td>\n      <td>15068</td>\n      <td>15068</td>\n      <td>15068</td>\n      <td>15068</td>\n      <td>15068</td>\n      <td>15068</td>\n    </tr>\n    <tr>\n      <th>Almaty</th>\n      <td>8</td>\n      <td>8</td>\n      <td>8</td>\n      <td>8</td>\n      <td>8</td>\n      <td>8</td>\n      <td>8</td>\n      <td>8</td>\n      <td>8</td>\n      <td>8</td>\n      <td>...</td>\n      <td>8</td>\n      <td>8</td>\n      <td>8</td>\n      <td>8</td>\n      <td>8</td>\n      <td>8</td>\n      <td>8</td>\n      <td>8</td>\n      <td>8</td>\n      <td>8</td>\n    </tr>\n    <tr>\n      <th>America/Anguilla</th>\n      <td>2</td>\n      <td>2</td>\n      <td>2</td>\n      <td>2</td>\n      <td>2</td>\n      <td>2</td>\n      <td>2</td>\n      <td>2</td>\n      <td>2</td>\n      <td>2</td>\n      <td>...</td>\n      <td>2</td>\n      <td>2</td>\n      <td>2</td>\n      <td>2</td>\n      <td>2</td>\n      <td>2</td>\n      <td>2</td>\n      <td>2</td>\n      <td>2</td>\n      <td>2</td>\n    </tr>\n    <tr>\n      <th>...</th>\n      <td>...</td>\n      <td>...</td>\n      <td>...</td>\n      <td>...</td>\n      <td>...</td>\n      <td>...</td>\n      <td>...</td>\n      <td>...</td>\n      <td>...</td>\n      <td>...</td>\n      <td>...</td>\n      <td>...</td>\n      <td>...</td>\n      <td>...</td>\n      <td>...</td>\n      <td>...</td>\n      <td>...</td>\n      <td>...</td>\n      <td>...</td>\n      <td>...</td>\n      <td>...</td>\n    </tr>\n    <tr>\n      <th>West Central Africa</th>\n      <td>77</td>\n      <td>77</td>\n      <td>77</td>\n      <td>77</td>\n      <td>77</td>\n      <td>77</td>\n      <td>77</td>\n      <td>77</td>\n      <td>77</td>\n      <td>77</td>\n      <td>...</td>\n      <td>77</td>\n      <td>77</td>\n      <td>77</td>\n      <td>77</td>\n      <td>77</td>\n      <td>77</td>\n      <td>77</td>\n      <td>77</td>\n      <td>77</td>\n      <td>77</td>\n    </tr>\n    <tr>\n      <th>Yakutsk</th>\n      <td>53</td>\n      <td>53</td>\n      <td>53</td>\n      <td>53</td>\n      <td>53</td>\n      <td>53</td>\n      <td>53</td>\n      <td>53</td>\n      <td>53</td>\n      <td>53</td>\n      <td>...</td>\n      <td>53</td>\n      <td>53</td>\n      <td>53</td>\n      <td>53</td>\n      <td>53</td>\n      <td>53</td>\n      <td>53</td>\n      <td>53</td>\n      <td>53</td>\n      <td>53</td>\n    </tr>\n    <tr>\n      <th>Yerevan</th>\n      <td>15</td>\n      <td>15</td>\n      <td>15</td>\n      <td>15</td>\n      <td>15</td>\n      <td>15</td>\n      <td>15</td>\n      <td>15</td>\n      <td>15</td>\n      <td>15</td>\n      <td>...</td>\n      <td>15</td>\n      <td>15</td>\n      <td>15</td>\n      <td>15</td>\n      <td>15</td>\n      <td>15</td>\n      <td>15</td>\n      <td>15</td>\n      <td>15</td>\n      <td>15</td>\n    </tr>\n    <tr>\n      <th>Zagreb</th>\n      <td>22</td>\n      <td>22</td>\n      <td>22</td>\n      <td>22</td>\n      <td>22</td>\n      <td>22</td>\n      <td>22</td>\n      <td>22</td>\n      <td>21</td>\n      <td>22</td>\n      <td>...</td>\n      <td>22</td>\n      <td>22</td>\n      <td>22</td>\n      <td>22</td>\n      <td>22</td>\n      <td>22</td>\n      <td>22</td>\n      <td>22</td>\n      <td>22</td>\n      <td>22</td>\n    </tr>\n    <tr>\n      <th>NaN</th>\n      <td>124191</td>\n      <td>124191</td>\n      <td>124191</td>\n      <td>124191</td>\n      <td>124191</td>\n      <td>124191</td>\n      <td>124191</td>\n      <td>124191</td>\n      <td>121920</td>\n      <td>124191</td>\n      <td>...</td>\n      <td>124191</td>\n      <td>124191</td>\n      <td>124191</td>\n      <td>124191</td>\n      <td>124191</td>\n      <td>124191</td>\n      <td>124191</td>\n      <td>124191</td>\n      <td>124191</td>\n      <td>124191</td>\n    </tr>\n  </tbody>\n</table>\n<p>176 rows × 24 columns</p>\n</div>"
     },
     "execution_count": 23,
     "metadata": {},
     "output_type": "execute_result"
    }
   ],
   "source": [
    "data_1.groupby(['time_zone'],dropna=False).count()"
   ],
   "metadata": {
    "collapsed": false
   }
  },
  {
   "cell_type": "code",
   "execution_count": 24,
   "outputs": [],
   "source": [
    "import pytz"
   ],
   "metadata": {
    "collapsed": false
   }
  },
  {
   "cell_type": "code",
   "execution_count": 25,
   "outputs": [
    {
     "data": {
      "text/plain": "['Africa/Abidjan', 'Africa/Accra', 'Africa/Addis_Ababa', 'Africa/Algiers', 'Africa/Asmara', 'Africa/Asmera', 'Africa/Bamako', 'Africa/Bangui', 'Africa/Banjul', 'Africa/Bissau', 'Africa/Blantyre', 'Africa/Brazzaville', 'Africa/Bujumbura', 'Africa/Cairo', 'Africa/Casablanca', 'Africa/Ceuta', 'Africa/Conakry', 'Africa/Dakar', 'Africa/Dar_es_Salaam', 'Africa/Djibouti', 'Africa/Douala', 'Africa/El_Aaiun', 'Africa/Freetown', 'Africa/Gaborone', 'Africa/Harare', 'Africa/Johannesburg', 'Africa/Juba', 'Africa/Kampala', 'Africa/Khartoum', 'Africa/Kigali', 'Africa/Kinshasa', 'Africa/Lagos', 'Africa/Libreville', 'Africa/Lome', 'Africa/Luanda', 'Africa/Lubumbashi', 'Africa/Lusaka', 'Africa/Malabo', 'Africa/Maputo', 'Africa/Maseru', 'Africa/Mbabane', 'Africa/Mogadishu', 'Africa/Monrovia', 'Africa/Nairobi', 'Africa/Ndjamena', 'Africa/Niamey', 'Africa/Nouakchott', 'Africa/Ouagadougou', 'Africa/Porto-Novo', 'Africa/Sao_Tome', 'Africa/Timbuktu', 'Africa/Tripoli', 'Africa/Tunis', 'Africa/Windhoek', 'America/Adak', 'America/Anchorage', 'America/Anguilla', 'America/Antigua', 'America/Araguaina', 'America/Argentina/Buenos_Aires', 'America/Argentina/Catamarca', 'America/Argentina/ComodRivadavia', 'America/Argentina/Cordoba', 'America/Argentina/Jujuy', 'America/Argentina/La_Rioja', 'America/Argentina/Mendoza', 'America/Argentina/Rio_Gallegos', 'America/Argentina/Salta', 'America/Argentina/San_Juan', 'America/Argentina/San_Luis', 'America/Argentina/Tucuman', 'America/Argentina/Ushuaia', 'America/Aruba', 'America/Asuncion', 'America/Atikokan', 'America/Atka', 'America/Bahia', 'America/Bahia_Banderas', 'America/Barbados', 'America/Belem', 'America/Belize', 'America/Blanc-Sablon', 'America/Boa_Vista', 'America/Bogota', 'America/Boise', 'America/Buenos_Aires', 'America/Cambridge_Bay', 'America/Campo_Grande', 'America/Cancun', 'America/Caracas', 'America/Catamarca', 'America/Cayenne', 'America/Cayman', 'America/Chicago', 'America/Chihuahua', 'America/Ciudad_Juarez', 'America/Coral_Harbour', 'America/Cordoba', 'America/Costa_Rica', 'America/Creston', 'America/Cuiaba', 'America/Curacao', 'America/Danmarkshavn', 'America/Dawson', 'America/Dawson_Creek', 'America/Denver', 'America/Detroit', 'America/Dominica', 'America/Edmonton', 'America/Eirunepe', 'America/El_Salvador', 'America/Ensenada', 'America/Fort_Nelson', 'America/Fort_Wayne', 'America/Fortaleza', 'America/Glace_Bay', 'America/Godthab', 'America/Goose_Bay', 'America/Grand_Turk', 'America/Grenada', 'America/Guadeloupe', 'America/Guatemala', 'America/Guayaquil', 'America/Guyana', 'America/Halifax', 'America/Havana', 'America/Hermosillo', 'America/Indiana/Indianapolis', 'America/Indiana/Knox', 'America/Indiana/Marengo', 'America/Indiana/Petersburg', 'America/Indiana/Tell_City', 'America/Indiana/Vevay', 'America/Indiana/Vincennes', 'America/Indiana/Winamac', 'America/Indianapolis', 'America/Inuvik', 'America/Iqaluit', 'America/Jamaica', 'America/Jujuy', 'America/Juneau', 'America/Kentucky/Louisville', 'America/Kentucky/Monticello', 'America/Knox_IN', 'America/Kralendijk', 'America/La_Paz', 'America/Lima', 'America/Los_Angeles', 'America/Louisville', 'America/Lower_Princes', 'America/Maceio', 'America/Managua', 'America/Manaus', 'America/Marigot', 'America/Martinique', 'America/Matamoros', 'America/Mazatlan', 'America/Mendoza', 'America/Menominee', 'America/Merida', 'America/Metlakatla', 'America/Mexico_City', 'America/Miquelon', 'America/Moncton', 'America/Monterrey', 'America/Montevideo', 'America/Montreal', 'America/Montserrat', 'America/Nassau', 'America/New_York', 'America/Nipigon', 'America/Nome', 'America/Noronha', 'America/North_Dakota/Beulah', 'America/North_Dakota/Center', 'America/North_Dakota/New_Salem', 'America/Nuuk', 'America/Ojinaga', 'America/Panama', 'America/Pangnirtung', 'America/Paramaribo', 'America/Phoenix', 'America/Port-au-Prince', 'America/Port_of_Spain', 'America/Porto_Acre', 'America/Porto_Velho', 'America/Puerto_Rico', 'America/Punta_Arenas', 'America/Rainy_River', 'America/Rankin_Inlet', 'America/Recife', 'America/Regina', 'America/Resolute', 'America/Rio_Branco', 'America/Rosario', 'America/Santa_Isabel', 'America/Santarem', 'America/Santiago', 'America/Santo_Domingo', 'America/Sao_Paulo', 'America/Scoresbysund', 'America/Shiprock', 'America/Sitka', 'America/St_Barthelemy', 'America/St_Johns', 'America/St_Kitts', 'America/St_Lucia', 'America/St_Thomas', 'America/St_Vincent', 'America/Swift_Current', 'America/Tegucigalpa', 'America/Thule', 'America/Thunder_Bay', 'America/Tijuana', 'America/Toronto', 'America/Tortola', 'America/Vancouver', 'America/Virgin', 'America/Whitehorse', 'America/Winnipeg', 'America/Yakutat', 'America/Yellowknife', 'Antarctica/Casey', 'Antarctica/Davis', 'Antarctica/DumontDUrville', 'Antarctica/Macquarie', 'Antarctica/Mawson', 'Antarctica/McMurdo', 'Antarctica/Palmer', 'Antarctica/Rothera', 'Antarctica/South_Pole', 'Antarctica/Syowa', 'Antarctica/Troll', 'Antarctica/Vostok', 'Arctic/Longyearbyen', 'Asia/Aden', 'Asia/Almaty', 'Asia/Amman', 'Asia/Anadyr', 'Asia/Aqtau', 'Asia/Aqtobe', 'Asia/Ashgabat', 'Asia/Ashkhabad', 'Asia/Atyrau', 'Asia/Baghdad', 'Asia/Bahrain', 'Asia/Baku', 'Asia/Bangkok', 'Asia/Barnaul', 'Asia/Beirut', 'Asia/Bishkek', 'Asia/Brunei', 'Asia/Calcutta', 'Asia/Chita', 'Asia/Choibalsan', 'Asia/Chongqing', 'Asia/Chungking', 'Asia/Colombo', 'Asia/Dacca', 'Asia/Damascus', 'Asia/Dhaka', 'Asia/Dili', 'Asia/Dubai', 'Asia/Dushanbe', 'Asia/Famagusta', 'Asia/Gaza', 'Asia/Harbin', 'Asia/Hebron', 'Asia/Ho_Chi_Minh', 'Asia/Hong_Kong', 'Asia/Hovd', 'Asia/Irkutsk', 'Asia/Istanbul', 'Asia/Jakarta', 'Asia/Jayapura', 'Asia/Jerusalem', 'Asia/Kabul', 'Asia/Kamchatka', 'Asia/Karachi', 'Asia/Kashgar', 'Asia/Kathmandu', 'Asia/Katmandu', 'Asia/Khandyga', 'Asia/Kolkata', 'Asia/Krasnoyarsk', 'Asia/Kuala_Lumpur', 'Asia/Kuching', 'Asia/Kuwait', 'Asia/Macao', 'Asia/Macau', 'Asia/Magadan', 'Asia/Makassar', 'Asia/Manila', 'Asia/Muscat', 'Asia/Nicosia', 'Asia/Novokuznetsk', 'Asia/Novosibirsk', 'Asia/Omsk', 'Asia/Oral', 'Asia/Phnom_Penh', 'Asia/Pontianak', 'Asia/Pyongyang', 'Asia/Qatar', 'Asia/Qostanay', 'Asia/Qyzylorda', 'Asia/Rangoon', 'Asia/Riyadh', 'Asia/Saigon', 'Asia/Sakhalin', 'Asia/Samarkand', 'Asia/Seoul', 'Asia/Shanghai', 'Asia/Singapore', 'Asia/Srednekolymsk', 'Asia/Taipei', 'Asia/Tashkent', 'Asia/Tbilisi', 'Asia/Tehran', 'Asia/Tel_Aviv', 'Asia/Thimbu', 'Asia/Thimphu', 'Asia/Tokyo', 'Asia/Tomsk', 'Asia/Ujung_Pandang', 'Asia/Ulaanbaatar', 'Asia/Ulan_Bator', 'Asia/Urumqi', 'Asia/Ust-Nera', 'Asia/Vientiane', 'Asia/Vladivostok', 'Asia/Yakutsk', 'Asia/Yangon', 'Asia/Yekaterinburg', 'Asia/Yerevan', 'Atlantic/Azores', 'Atlantic/Bermuda', 'Atlantic/Canary', 'Atlantic/Cape_Verde', 'Atlantic/Faeroe', 'Atlantic/Faroe', 'Atlantic/Jan_Mayen', 'Atlantic/Madeira', 'Atlantic/Reykjavik', 'Atlantic/South_Georgia', 'Atlantic/St_Helena', 'Atlantic/Stanley', 'Australia/ACT', 'Australia/Adelaide', 'Australia/Brisbane', 'Australia/Broken_Hill', 'Australia/Canberra', 'Australia/Currie', 'Australia/Darwin', 'Australia/Eucla', 'Australia/Hobart', 'Australia/LHI', 'Australia/Lindeman', 'Australia/Lord_Howe', 'Australia/Melbourne', 'Australia/NSW', 'Australia/North', 'Australia/Perth', 'Australia/Queensland', 'Australia/South', 'Australia/Sydney', 'Australia/Tasmania', 'Australia/Victoria', 'Australia/West', 'Australia/Yancowinna', 'Brazil/Acre', 'Brazil/DeNoronha', 'Brazil/East', 'Brazil/West', 'CET', 'CST6CDT', 'Canada/Atlantic', 'Canada/Central', 'Canada/Eastern', 'Canada/Mountain', 'Canada/Newfoundland', 'Canada/Pacific', 'Canada/Saskatchewan', 'Canada/Yukon', 'Chile/Continental', 'Chile/EasterIsland', 'Cuba', 'EET', 'EST', 'EST5EDT', 'Egypt', 'Eire', 'Etc/GMT', 'Etc/GMT+0', 'Etc/GMT+1', 'Etc/GMT+10', 'Etc/GMT+11', 'Etc/GMT+12', 'Etc/GMT+2', 'Etc/GMT+3', 'Etc/GMT+4', 'Etc/GMT+5', 'Etc/GMT+6', 'Etc/GMT+7', 'Etc/GMT+8', 'Etc/GMT+9', 'Etc/GMT-0', 'Etc/GMT-1', 'Etc/GMT-10', 'Etc/GMT-11', 'Etc/GMT-12', 'Etc/GMT-13', 'Etc/GMT-14', 'Etc/GMT-2', 'Etc/GMT-3', 'Etc/GMT-4', 'Etc/GMT-5', 'Etc/GMT-6', 'Etc/GMT-7', 'Etc/GMT-8', 'Etc/GMT-9', 'Etc/GMT0', 'Etc/Greenwich', 'Etc/UCT', 'Etc/UTC', 'Etc/Universal', 'Etc/Zulu', 'Europe/Amsterdam', 'Europe/Andorra', 'Europe/Astrakhan', 'Europe/Athens', 'Europe/Belfast', 'Europe/Belgrade', 'Europe/Berlin', 'Europe/Bratislava', 'Europe/Brussels', 'Europe/Bucharest', 'Europe/Budapest', 'Europe/Busingen', 'Europe/Chisinau', 'Europe/Copenhagen', 'Europe/Dublin', 'Europe/Gibraltar', 'Europe/Guernsey', 'Europe/Helsinki', 'Europe/Isle_of_Man', 'Europe/Istanbul', 'Europe/Jersey', 'Europe/Kaliningrad', 'Europe/Kiev', 'Europe/Kirov', 'Europe/Kyiv', 'Europe/Lisbon', 'Europe/Ljubljana', 'Europe/London', 'Europe/Luxembourg', 'Europe/Madrid', 'Europe/Malta', 'Europe/Mariehamn', 'Europe/Minsk', 'Europe/Monaco', 'Europe/Moscow', 'Europe/Nicosia', 'Europe/Oslo', 'Europe/Paris', 'Europe/Podgorica', 'Europe/Prague', 'Europe/Riga', 'Europe/Rome', 'Europe/Samara', 'Europe/San_Marino', 'Europe/Sarajevo', 'Europe/Saratov', 'Europe/Simferopol', 'Europe/Skopje', 'Europe/Sofia', 'Europe/Stockholm', 'Europe/Tallinn', 'Europe/Tirane', 'Europe/Tiraspol', 'Europe/Ulyanovsk', 'Europe/Uzhgorod', 'Europe/Vaduz', 'Europe/Vatican', 'Europe/Vienna', 'Europe/Vilnius', 'Europe/Volgograd', 'Europe/Warsaw', 'Europe/Zagreb', 'Europe/Zaporozhye', 'Europe/Zurich', 'GB', 'GB-Eire', 'GMT', 'GMT+0', 'GMT-0', 'GMT0', 'Greenwich', 'HST', 'Hongkong', 'Iceland', 'Indian/Antananarivo', 'Indian/Chagos', 'Indian/Christmas', 'Indian/Cocos', 'Indian/Comoro', 'Indian/Kerguelen', 'Indian/Mahe', 'Indian/Maldives', 'Indian/Mauritius', 'Indian/Mayotte', 'Indian/Reunion', 'Iran', 'Israel', 'Jamaica', 'Japan', 'Kwajalein', 'Libya', 'MET', 'MST', 'MST7MDT', 'Mexico/BajaNorte', 'Mexico/BajaSur', 'Mexico/General', 'NZ', 'NZ-CHAT', 'Navajo', 'PRC', 'PST8PDT', 'Pacific/Apia', 'Pacific/Auckland', 'Pacific/Bougainville', 'Pacific/Chatham', 'Pacific/Chuuk', 'Pacific/Easter', 'Pacific/Efate', 'Pacific/Enderbury', 'Pacific/Fakaofo', 'Pacific/Fiji', 'Pacific/Funafuti', 'Pacific/Galapagos', 'Pacific/Gambier', 'Pacific/Guadalcanal', 'Pacific/Guam', 'Pacific/Honolulu', 'Pacific/Johnston', 'Pacific/Kanton', 'Pacific/Kiritimati', 'Pacific/Kosrae', 'Pacific/Kwajalein', 'Pacific/Majuro', 'Pacific/Marquesas', 'Pacific/Midway', 'Pacific/Nauru', 'Pacific/Niue', 'Pacific/Norfolk', 'Pacific/Noumea', 'Pacific/Pago_Pago', 'Pacific/Palau', 'Pacific/Pitcairn', 'Pacific/Pohnpei', 'Pacific/Ponape', 'Pacific/Port_Moresby', 'Pacific/Rarotonga', 'Pacific/Saipan', 'Pacific/Samoa', 'Pacific/Tahiti', 'Pacific/Tarawa', 'Pacific/Tongatapu', 'Pacific/Truk', 'Pacific/Wake', 'Pacific/Wallis', 'Pacific/Yap', 'Poland', 'Portugal', 'ROC', 'ROK', 'Singapore', 'Turkey', 'UCT', 'US/Alaska', 'US/Aleutian', 'US/Arizona', 'US/Central', 'US/East-Indiana', 'US/Eastern', 'US/Hawaii', 'US/Indiana-Starke', 'US/Michigan', 'US/Mountain', 'US/Pacific', 'US/Samoa', 'UTC', 'Universal', 'W-SU', 'WET', 'Zulu']"
     },
     "execution_count": 25,
     "metadata": {},
     "output_type": "execute_result"
    }
   ],
   "source": [
    "pytz.all_timezones"
   ],
   "metadata": {
    "collapsed": false
   }
  },
  {
   "cell_type": "code",
   "execution_count": 29,
   "outputs": [
    {
     "ename": "AttributeError",
     "evalue": "'Series' object has no attribute 'upper'",
     "output_type": "error",
     "traceback": [
      "\u001B[1;31m---------------------------------------------------------------------------\u001B[0m",
      "\u001B[1;31mAttributeError\u001B[0m                            Traceback (most recent call last)",
      "Cell \u001B[1;32mIn[29], line 2\u001B[0m\n\u001B[0;32m      1\u001B[0m \u001B[38;5;66;03m# create both timezone objects\u001B[39;00m\n\u001B[1;32m----> 2\u001B[0m data_1[\u001B[38;5;124m'\u001B[39m\u001B[38;5;124mold_timezone\u001B[39m\u001B[38;5;124m'\u001B[39m]\u001B[38;5;241m=\u001B[39m\u001B[43mpytz\u001B[49m\u001B[38;5;241;43m.\u001B[39;49m\u001B[43mtimezone\u001B[49m\u001B[43m(\u001B[49m\u001B[43mdata_1\u001B[49m\u001B[43m[\u001B[49m\u001B[38;5;124;43m'\u001B[39;49m\u001B[38;5;124;43mtime_zone\u001B[39;49m\u001B[38;5;124;43m'\u001B[39;49m\u001B[43m]\u001B[49m\u001B[43m)\u001B[49m\n",
      "File \u001B[1;32mD:\\Projetcs\\lib\\site-packages\\pytz\\__init__.py:170\u001B[0m, in \u001B[0;36mtimezone\u001B[1;34m(zone)\u001B[0m\n\u001B[0;32m    167\u001B[0m \u001B[38;5;28;01mif\u001B[39;00m zone \u001B[38;5;129;01mis\u001B[39;00m \u001B[38;5;28;01mNone\u001B[39;00m:\n\u001B[0;32m    168\u001B[0m     \u001B[38;5;28;01mraise\u001B[39;00m UnknownTimeZoneError(\u001B[38;5;28;01mNone\u001B[39;00m)\n\u001B[1;32m--> 170\u001B[0m \u001B[38;5;28;01mif\u001B[39;00m \u001B[43mzone\u001B[49m\u001B[38;5;241;43m.\u001B[39;49m\u001B[43mupper\u001B[49m() \u001B[38;5;241m==\u001B[39m \u001B[38;5;124m'\u001B[39m\u001B[38;5;124mUTC\u001B[39m\u001B[38;5;124m'\u001B[39m:\n\u001B[0;32m    171\u001B[0m     \u001B[38;5;28;01mreturn\u001B[39;00m utc\n\u001B[0;32m    173\u001B[0m \u001B[38;5;28;01mtry\u001B[39;00m:\n",
      "File \u001B[1;32mD:\\Projetcs\\lib\\site-packages\\pandas\\core\\generic.py:5902\u001B[0m, in \u001B[0;36mNDFrame.__getattr__\u001B[1;34m(self, name)\u001B[0m\n\u001B[0;32m   5895\u001B[0m \u001B[38;5;28;01mif\u001B[39;00m (\n\u001B[0;32m   5896\u001B[0m     name \u001B[38;5;129;01mnot\u001B[39;00m \u001B[38;5;129;01min\u001B[39;00m \u001B[38;5;28mself\u001B[39m\u001B[38;5;241m.\u001B[39m_internal_names_set\n\u001B[0;32m   5897\u001B[0m     \u001B[38;5;129;01mand\u001B[39;00m name \u001B[38;5;129;01mnot\u001B[39;00m \u001B[38;5;129;01min\u001B[39;00m \u001B[38;5;28mself\u001B[39m\u001B[38;5;241m.\u001B[39m_metadata\n\u001B[0;32m   5898\u001B[0m     \u001B[38;5;129;01mand\u001B[39;00m name \u001B[38;5;129;01mnot\u001B[39;00m \u001B[38;5;129;01min\u001B[39;00m \u001B[38;5;28mself\u001B[39m\u001B[38;5;241m.\u001B[39m_accessors\n\u001B[0;32m   5899\u001B[0m     \u001B[38;5;129;01mand\u001B[39;00m \u001B[38;5;28mself\u001B[39m\u001B[38;5;241m.\u001B[39m_info_axis\u001B[38;5;241m.\u001B[39m_can_hold_identifiers_and_holds_name(name)\n\u001B[0;32m   5900\u001B[0m ):\n\u001B[0;32m   5901\u001B[0m     \u001B[38;5;28;01mreturn\u001B[39;00m \u001B[38;5;28mself\u001B[39m[name]\n\u001B[1;32m-> 5902\u001B[0m \u001B[38;5;28;01mreturn\u001B[39;00m \u001B[38;5;28;43mobject\u001B[39;49m\u001B[38;5;241;43m.\u001B[39;49m\u001B[38;5;21;43m__getattribute__\u001B[39;49m\u001B[43m(\u001B[49m\u001B[38;5;28;43mself\u001B[39;49m\u001B[43m,\u001B[49m\u001B[43m \u001B[49m\u001B[43mname\u001B[49m\u001B[43m)\u001B[49m\n",
      "\u001B[1;31mAttributeError\u001B[0m: 'Series' object has no attribute 'upper'"
     ]
    }
   ],
   "source": [
    "# create both timezone objects\n",
    "data_1['old_timezone']=pytz.timezone(data_1['time_zone'])"
   ],
   "metadata": {
    "collapsed": false
   }
  },
  {
   "cell_type": "code",
   "execution_count": 30,
   "outputs": [
    {
     "data": {
      "text/plain": "        Unnamed: 0                      created_at        id_str lang  \\\n1246          1330  Sun May 08 19:42:57 +0000 2016  7.293962e+17   en   \n1254          1345  Sun May 08 21:20:20 +0000 2016  7.294207e+17   en   \n3007          3258  Thu May 12 08:04:44 +0000 2016  7.306700e+17   en   \n3715          4019  Fri May 13 09:07:09 +0000 2016  7.310481e+17   en   \n4297          4648  Sat May 14 06:37:43 +0000 2016  7.313729e+17   en   \n...            ...                             ...           ...  ...   \n349252      379873  Wed May 09 18:43:15 +0000 2018  9.942867e+17   en   \n349375      380010  Thu May 10 07:08:36 +0000 2018  9.944743e+17   en   \n350534      381306  Sun May 13 11:00:51 +0000 2018  9.956199e+17   en   \n350689      381470  Sun May 13 18:12:41 +0000 2018  9.957286e+17   en   \n350866      381660  Mon May 14 10:46:59 +0000 2018  9.959788e+17   en   \n\n              lat         lon  \\\n1246    22.280900  114.178000   \n1254    22.314882  113.933372   \n3007    22.280900  114.178000   \n3715    22.339341  114.204015   \n4297    22.313420  114.043526   \n...           ...         ...   \n349252  22.256568  113.902456   \n349375  22.282600  114.158200   \n350534  22.313515  114.043407   \n350689  22.281948  114.159555   \n350866  22.294422  114.165078   \n\n                                                     text  time_zone  \\\n1246    Thanks again Hong Kong <ed><U+00A0><U+00BC><ed...  Abu Dhabi   \n1254    It's that time again! <U+2708><U+FE0F> #HongKo...  Abu Dhabi   \n3007    Static | Behaviour \\r\\r\\r\\r\\r\\r\\r\\r\\n\\r\\r\\r\\r\\...  Abu Dhabi   \n3715    The Nan lian garden at Diamond Hill in Hong Ko...  Abu Dhabi   \n4297    Advance birthday treat from my sister. <U+2764...  Abu Dhabi   \n...                                                   ...        ...   \n349252  Keep close to Nature's heart... and break clea...  Abu Dhabi   \n349375  Life in HongKong transcends culture and culina...  Abu Dhabi   \n350534  Mom: a title just above queen. Happy Motherâ...  Abu Dhabi   \n350689  The arts, quite simply, nourish the soul. They...  Abu Dhabi   \n350866  it's about to be on ..\\r\\r\\r\\r\\r\\r\\r\\n#hongkon...  Abu Dhabi   \n\n        truncated                      url  ...                    hk_time  \\\n1246        False  https://t.co/TRE2EaWvgv  ...  2016-05-09 03:36:57+08:00   \n1254        False  https://t.co/vT7Ig26Toy  ...  2016-05-09 05:14:20+08:00   \n3007        False  https://t.co/eDeDOSdZ98  ...  2016-05-12 15:58:44+08:00   \n3715        False  https://t.co/UIu8LKGJR5  ...  2016-05-13 17:01:09+08:00   \n4297        False  https://t.co/KIIE6Twnx4  ...  2016-05-14 14:31:43+08:00   \n...           ...                      ...  ...                        ...   \n349252      False  https://t.co/PP5ZeNGlMk  ...  2018-05-10 02:37:15+08:00   \n349375      False  https://t.co/9oeIFxp6qM  ...  2018-05-10 15:02:36+08:00   \n350534      False  https://t.co/abjAYTV5AM  ...  2018-05-13 18:54:51+08:00   \n350689      False  https://t.co/C1PN8xah1e  ...  2018-05-14 02:06:41+08:00   \n350866      False  https://t.co/wT9lMgOk9l  ...  2018-05-14 18:40:59+08:00   \n\n        year month month_plus_year  day TPU_longitudinal  TPU_cross_sectional  \\\n1246    2016     5          2016_5    9              135                  135   \n1254    2016     5          2016_5    9              951            950 - 951   \n3007    2016     5          2016_5   12              135                  135   \n3715    2016     5          2016_5   13              281                  281   \n4297    2016     5          2016_5   14              973            971 - 974   \n...      ...   ...             ...  ...              ...                  ...   \n349252  2018     5          2018_5   10              941            941 - 943   \n349375  2018     5          2018_5   10              123    121 and 123 - 124   \n350534  2018     5          2018_5   13              973            971 - 974   \n350689  2018     5          2018_5   14              123    121 and 123 - 124   \n350866  2018     5          2018_5   14              211                  211   \n\n                                             cleaned_text sentiment  \\\n1246    thanks again hong kong for more great to this ...         2   \n1254    it s that time again u number u hong kong taxi...         2   \n3007    static behaviour china hong kong explore touri...         1   \n3715    the nan garden at diamond hill in hong kong a ...         1   \n4297    advance birthday treat from my sister u number...         2   \n...                                                   ...       ...   \n349252  keep close to nature s heart repeated and brea...         1   \n349375                life in culture and culinary number         1   \n350534  a title just above queen happy mother number n...         2   \n350689  the quite simply nourish the soul they sustain...         2   \n350866  it s about to be on repeated hong kong view ph...         1   \n\n                            date  \n1246   2016-05-08 19:42:57+00:00  \n1254   2016-05-08 21:20:20+00:00  \n3007   2016-05-12 08:04:44+00:00  \n3715   2016-05-13 09:07:09+00:00  \n4297   2016-05-14 06:37:43+00:00  \n...                          ...  \n349252 2018-05-09 18:43:15+00:00  \n349375 2018-05-10 07:08:36+00:00  \n350534 2018-05-13 11:00:51+00:00  \n350689 2018-05-13 18:12:41+00:00  \n350866 2018-05-14 10:46:59+00:00  \n\n[975 rows x 25 columns]",
      "text/html": "<div>\n<style scoped>\n    .dataframe tbody tr th:only-of-type {\n        vertical-align: middle;\n    }\n\n    .dataframe tbody tr th {\n        vertical-align: top;\n    }\n\n    .dataframe thead th {\n        text-align: right;\n    }\n</style>\n<table border=\"1\" class=\"dataframe\">\n  <thead>\n    <tr style=\"text-align: right;\">\n      <th></th>\n      <th>Unnamed: 0</th>\n      <th>created_at</th>\n      <th>id_str</th>\n      <th>lang</th>\n      <th>lat</th>\n      <th>lon</th>\n      <th>text</th>\n      <th>time_zone</th>\n      <th>truncated</th>\n      <th>url</th>\n      <th>...</th>\n      <th>hk_time</th>\n      <th>year</th>\n      <th>month</th>\n      <th>month_plus_year</th>\n      <th>day</th>\n      <th>TPU_longitudinal</th>\n      <th>TPU_cross_sectional</th>\n      <th>cleaned_text</th>\n      <th>sentiment</th>\n      <th>date</th>\n    </tr>\n  </thead>\n  <tbody>\n    <tr>\n      <th>1246</th>\n      <td>1330</td>\n      <td>Sun May 08 19:42:57 +0000 2016</td>\n      <td>7.293962e+17</td>\n      <td>en</td>\n      <td>22.280900</td>\n      <td>114.178000</td>\n      <td>Thanks again Hong Kong &lt;ed&gt;&lt;U+00A0&gt;&lt;U+00BC&gt;&lt;ed...</td>\n      <td>Abu Dhabi</td>\n      <td>False</td>\n      <td>https://t.co/TRE2EaWvgv</td>\n      <td>...</td>\n      <td>2016-05-09 03:36:57+08:00</td>\n      <td>2016</td>\n      <td>5</td>\n      <td>2016_5</td>\n      <td>9</td>\n      <td>135</td>\n      <td>135</td>\n      <td>thanks again hong kong for more great to this ...</td>\n      <td>2</td>\n      <td>2016-05-08 19:42:57+00:00</td>\n    </tr>\n    <tr>\n      <th>1254</th>\n      <td>1345</td>\n      <td>Sun May 08 21:20:20 +0000 2016</td>\n      <td>7.294207e+17</td>\n      <td>en</td>\n      <td>22.314882</td>\n      <td>113.933372</td>\n      <td>It's that time again! &lt;U+2708&gt;&lt;U+FE0F&gt; #HongKo...</td>\n      <td>Abu Dhabi</td>\n      <td>False</td>\n      <td>https://t.co/vT7Ig26Toy</td>\n      <td>...</td>\n      <td>2016-05-09 05:14:20+08:00</td>\n      <td>2016</td>\n      <td>5</td>\n      <td>2016_5</td>\n      <td>9</td>\n      <td>951</td>\n      <td>950 - 951</td>\n      <td>it s that time again u number u hong kong taxi...</td>\n      <td>2</td>\n      <td>2016-05-08 21:20:20+00:00</td>\n    </tr>\n    <tr>\n      <th>3007</th>\n      <td>3258</td>\n      <td>Thu May 12 08:04:44 +0000 2016</td>\n      <td>7.306700e+17</td>\n      <td>en</td>\n      <td>22.280900</td>\n      <td>114.178000</td>\n      <td>Static | Behaviour \\r\\r\\r\\r\\r\\r\\r\\r\\n\\r\\r\\r\\r\\...</td>\n      <td>Abu Dhabi</td>\n      <td>False</td>\n      <td>https://t.co/eDeDOSdZ98</td>\n      <td>...</td>\n      <td>2016-05-12 15:58:44+08:00</td>\n      <td>2016</td>\n      <td>5</td>\n      <td>2016_5</td>\n      <td>12</td>\n      <td>135</td>\n      <td>135</td>\n      <td>static behaviour china hong kong explore touri...</td>\n      <td>1</td>\n      <td>2016-05-12 08:04:44+00:00</td>\n    </tr>\n    <tr>\n      <th>3715</th>\n      <td>4019</td>\n      <td>Fri May 13 09:07:09 +0000 2016</td>\n      <td>7.310481e+17</td>\n      <td>en</td>\n      <td>22.339341</td>\n      <td>114.204015</td>\n      <td>The Nan lian garden at Diamond Hill in Hong Ko...</td>\n      <td>Abu Dhabi</td>\n      <td>False</td>\n      <td>https://t.co/UIu8LKGJR5</td>\n      <td>...</td>\n      <td>2016-05-13 17:01:09+08:00</td>\n      <td>2016</td>\n      <td>5</td>\n      <td>2016_5</td>\n      <td>13</td>\n      <td>281</td>\n      <td>281</td>\n      <td>the nan garden at diamond hill in hong kong a ...</td>\n      <td>1</td>\n      <td>2016-05-13 09:07:09+00:00</td>\n    </tr>\n    <tr>\n      <th>4297</th>\n      <td>4648</td>\n      <td>Sat May 14 06:37:43 +0000 2016</td>\n      <td>7.313729e+17</td>\n      <td>en</td>\n      <td>22.313420</td>\n      <td>114.043526</td>\n      <td>Advance birthday treat from my sister. &lt;U+2764...</td>\n      <td>Abu Dhabi</td>\n      <td>False</td>\n      <td>https://t.co/KIIE6Twnx4</td>\n      <td>...</td>\n      <td>2016-05-14 14:31:43+08:00</td>\n      <td>2016</td>\n      <td>5</td>\n      <td>2016_5</td>\n      <td>14</td>\n      <td>973</td>\n      <td>971 - 974</td>\n      <td>advance birthday treat from my sister u number...</td>\n      <td>2</td>\n      <td>2016-05-14 06:37:43+00:00</td>\n    </tr>\n    <tr>\n      <th>...</th>\n      <td>...</td>\n      <td>...</td>\n      <td>...</td>\n      <td>...</td>\n      <td>...</td>\n      <td>...</td>\n      <td>...</td>\n      <td>...</td>\n      <td>...</td>\n      <td>...</td>\n      <td>...</td>\n      <td>...</td>\n      <td>...</td>\n      <td>...</td>\n      <td>...</td>\n      <td>...</td>\n      <td>...</td>\n      <td>...</td>\n      <td>...</td>\n      <td>...</td>\n      <td>...</td>\n    </tr>\n    <tr>\n      <th>349252</th>\n      <td>379873</td>\n      <td>Wed May 09 18:43:15 +0000 2018</td>\n      <td>9.942867e+17</td>\n      <td>en</td>\n      <td>22.256568</td>\n      <td>113.902456</td>\n      <td>Keep close to Nature's heart... and break clea...</td>\n      <td>Abu Dhabi</td>\n      <td>False</td>\n      <td>https://t.co/PP5ZeNGlMk</td>\n      <td>...</td>\n      <td>2018-05-10 02:37:15+08:00</td>\n      <td>2018</td>\n      <td>5</td>\n      <td>2018_5</td>\n      <td>10</td>\n      <td>941</td>\n      <td>941 - 943</td>\n      <td>keep close to nature s heart repeated and brea...</td>\n      <td>1</td>\n      <td>2018-05-09 18:43:15+00:00</td>\n    </tr>\n    <tr>\n      <th>349375</th>\n      <td>380010</td>\n      <td>Thu May 10 07:08:36 +0000 2018</td>\n      <td>9.944743e+17</td>\n      <td>en</td>\n      <td>22.282600</td>\n      <td>114.158200</td>\n      <td>Life in HongKong transcends culture and culina...</td>\n      <td>Abu Dhabi</td>\n      <td>False</td>\n      <td>https://t.co/9oeIFxp6qM</td>\n      <td>...</td>\n      <td>2018-05-10 15:02:36+08:00</td>\n      <td>2018</td>\n      <td>5</td>\n      <td>2018_5</td>\n      <td>10</td>\n      <td>123</td>\n      <td>121 and 123 - 124</td>\n      <td>life in culture and culinary number</td>\n      <td>1</td>\n      <td>2018-05-10 07:08:36+00:00</td>\n    </tr>\n    <tr>\n      <th>350534</th>\n      <td>381306</td>\n      <td>Sun May 13 11:00:51 +0000 2018</td>\n      <td>9.956199e+17</td>\n      <td>en</td>\n      <td>22.313515</td>\n      <td>114.043407</td>\n      <td>Mom: a title just above queen. Happy Motherâ...</td>\n      <td>Abu Dhabi</td>\n      <td>False</td>\n      <td>https://t.co/abjAYTV5AM</td>\n      <td>...</td>\n      <td>2018-05-13 18:54:51+08:00</td>\n      <td>2018</td>\n      <td>5</td>\n      <td>2018_5</td>\n      <td>13</td>\n      <td>973</td>\n      <td>971 - 974</td>\n      <td>a title just above queen happy mother number n...</td>\n      <td>2</td>\n      <td>2018-05-13 11:00:51+00:00</td>\n    </tr>\n    <tr>\n      <th>350689</th>\n      <td>381470</td>\n      <td>Sun May 13 18:12:41 +0000 2018</td>\n      <td>9.957286e+17</td>\n      <td>en</td>\n      <td>22.281948</td>\n      <td>114.159555</td>\n      <td>The arts, quite simply, nourish the soul. They...</td>\n      <td>Abu Dhabi</td>\n      <td>False</td>\n      <td>https://t.co/C1PN8xah1e</td>\n      <td>...</td>\n      <td>2018-05-14 02:06:41+08:00</td>\n      <td>2018</td>\n      <td>5</td>\n      <td>2018_5</td>\n      <td>14</td>\n      <td>123</td>\n      <td>121 and 123 - 124</td>\n      <td>the quite simply nourish the soul they sustain...</td>\n      <td>2</td>\n      <td>2018-05-13 18:12:41+00:00</td>\n    </tr>\n    <tr>\n      <th>350866</th>\n      <td>381660</td>\n      <td>Mon May 14 10:46:59 +0000 2018</td>\n      <td>9.959788e+17</td>\n      <td>en</td>\n      <td>22.294422</td>\n      <td>114.165078</td>\n      <td>it's about to be on ..\\r\\r\\r\\r\\r\\r\\r\\n#hongkon...</td>\n      <td>Abu Dhabi</td>\n      <td>False</td>\n      <td>https://t.co/wT9lMgOk9l</td>\n      <td>...</td>\n      <td>2018-05-14 18:40:59+08:00</td>\n      <td>2018</td>\n      <td>5</td>\n      <td>2018_5</td>\n      <td>14</td>\n      <td>211</td>\n      <td>211</td>\n      <td>it s about to be on repeated hong kong view ph...</td>\n      <td>1</td>\n      <td>2018-05-14 10:46:59+00:00</td>\n    </tr>\n  </tbody>\n</table>\n<p>975 rows × 25 columns</p>\n</div>"
     },
     "execution_count": 30,
     "metadata": {},
     "output_type": "execute_result"
    }
   ],
   "source": [
    "data_1[data_1.time_zone=='Abu Dhabi']"
   ],
   "metadata": {
    "collapsed": false
   }
  },
  {
   "cell_type": "code",
   "execution_count": 31,
   "outputs": [
    {
     "data": {
      "text/plain": "1246     2016-05-08 19:42:57+00:00\n1254     2016-05-08 21:20:20+00:00\n3007     2016-05-12 08:04:44+00:00\n3715     2016-05-13 09:07:09+00:00\n4297     2016-05-14 06:37:43+00:00\n                    ...           \n349252   2018-05-09 18:43:15+00:00\n349375   2018-05-10 07:08:36+00:00\n350534   2018-05-13 11:00:51+00:00\n350689   2018-05-13 18:12:41+00:00\n350866   2018-05-14 10:46:59+00:00\nName: date, Length: 975, dtype: datetime64[ns, UTC]"
     },
     "execution_count": 31,
     "metadata": {},
     "output_type": "execute_result"
    }
   ],
   "source": [
    "data_2=data_1[data_1.time_zone=='Abu Dhabi']\n",
    "data_2['date']"
   ],
   "metadata": {
    "collapsed": false
   }
  },
  {
   "cell_type": "code",
   "execution_count": 32,
   "outputs": [
    {
     "ename": "TypeError",
     "evalue": "index is not a valid DatetimeIndex or PeriodIndex",
     "output_type": "error",
     "traceback": [
      "\u001B[1;31m---------------------------------------------------------------------------\u001B[0m",
      "\u001B[1;31mTypeError\u001B[0m                                 Traceback (most recent call last)",
      "Cell \u001B[1;32mIn[32], line 1\u001B[0m\n\u001B[1;32m----> 1\u001B[0m \u001B[43mdata_2\u001B[49m\u001B[38;5;241;43m.\u001B[39;49m\u001B[43mtz_convert\u001B[49m\u001B[43m(\u001B[49m\u001B[38;5;124;43m'\u001B[39;49m\u001B[38;5;124;43mhk_time\u001B[39;49m\u001B[38;5;124;43m'\u001B[39;49m\u001B[43m)\u001B[49m\n",
      "File \u001B[1;32mD:\\Projetcs\\lib\\site-packages\\pandas\\core\\generic.py:10512\u001B[0m, in \u001B[0;36mNDFrame.tz_convert\u001B[1;34m(self, tz, axis, level, copy)\u001B[0m\n\u001B[0;32m  10510\u001B[0m     \u001B[38;5;28;01mif\u001B[39;00m level \u001B[38;5;129;01mnot\u001B[39;00m \u001B[38;5;129;01min\u001B[39;00m (\u001B[38;5;28;01mNone\u001B[39;00m, \u001B[38;5;241m0\u001B[39m, ax\u001B[38;5;241m.\u001B[39mname):\n\u001B[0;32m  10511\u001B[0m         \u001B[38;5;28;01mraise\u001B[39;00m \u001B[38;5;167;01mValueError\u001B[39;00m(\u001B[38;5;124mf\u001B[39m\u001B[38;5;124m\"\u001B[39m\u001B[38;5;124mThe level \u001B[39m\u001B[38;5;132;01m{\u001B[39;00mlevel\u001B[38;5;132;01m}\u001B[39;00m\u001B[38;5;124m is not valid\u001B[39m\u001B[38;5;124m\"\u001B[39m)\n\u001B[1;32m> 10512\u001B[0m     ax \u001B[38;5;241m=\u001B[39m \u001B[43m_tz_convert\u001B[49m\u001B[43m(\u001B[49m\u001B[43max\u001B[49m\u001B[43m,\u001B[49m\u001B[43m \u001B[49m\u001B[43mtz\u001B[49m\u001B[43m)\u001B[49m\n\u001B[0;32m  10514\u001B[0m result \u001B[38;5;241m=\u001B[39m \u001B[38;5;28mself\u001B[39m\u001B[38;5;241m.\u001B[39mcopy(deep\u001B[38;5;241m=\u001B[39mcopy)\n\u001B[0;32m  10515\u001B[0m result \u001B[38;5;241m=\u001B[39m result\u001B[38;5;241m.\u001B[39mset_axis(ax, axis\u001B[38;5;241m=\u001B[39maxis, copy\u001B[38;5;241m=\u001B[39m\u001B[38;5;28;01mFalse\u001B[39;00m)\n",
      "File \u001B[1;32mD:\\Projetcs\\lib\\site-packages\\pandas\\core\\generic.py:10494\u001B[0m, in \u001B[0;36mNDFrame.tz_convert.<locals>._tz_convert\u001B[1;34m(ax, tz)\u001B[0m\n\u001B[0;32m  10492\u001B[0m \u001B[38;5;28;01mif\u001B[39;00m \u001B[38;5;28mlen\u001B[39m(ax) \u001B[38;5;241m>\u001B[39m \u001B[38;5;241m0\u001B[39m:\n\u001B[0;32m  10493\u001B[0m     ax_name \u001B[38;5;241m=\u001B[39m \u001B[38;5;28mself\u001B[39m\u001B[38;5;241m.\u001B[39m_get_axis_name(axis)\n\u001B[1;32m> 10494\u001B[0m     \u001B[38;5;28;01mraise\u001B[39;00m \u001B[38;5;167;01mTypeError\u001B[39;00m(\n\u001B[0;32m  10495\u001B[0m         \u001B[38;5;124mf\u001B[39m\u001B[38;5;124m\"\u001B[39m\u001B[38;5;132;01m{\u001B[39;00max_name\u001B[38;5;132;01m}\u001B[39;00m\u001B[38;5;124m is not a valid DatetimeIndex or PeriodIndex\u001B[39m\u001B[38;5;124m\"\u001B[39m\n\u001B[0;32m  10496\u001B[0m     )\n\u001B[0;32m  10497\u001B[0m \u001B[38;5;28;01melse\u001B[39;00m:\n\u001B[0;32m  10498\u001B[0m     ax \u001B[38;5;241m=\u001B[39m DatetimeIndex([], tz\u001B[38;5;241m=\u001B[39mtz)\n",
      "\u001B[1;31mTypeError\u001B[0m: index is not a valid DatetimeIndex or PeriodIndex"
     ]
    }
   ],
   "source": [
    "data_2.tz_convert('hk_time')"
   ],
   "metadata": {
    "collapsed": false
   }
  },
  {
   "cell_type": "code",
   "execution_count": 33,
   "outputs": [
    {
     "ename": "TypeError",
     "evalue": "index is not a valid DatetimeIndex or PeriodIndex",
     "output_type": "error",
     "traceback": [
      "\u001B[1;31m---------------------------------------------------------------------------\u001B[0m",
      "\u001B[1;31mTypeError\u001B[0m                                 Traceback (most recent call last)",
      "Cell \u001B[1;32mIn[33], line 1\u001B[0m\n\u001B[1;32m----> 1\u001B[0m \u001B[43mdata_2\u001B[49m\u001B[38;5;241;43m.\u001B[39;49m\u001B[43mtz_localize\u001B[49m\u001B[43m(\u001B[49m\u001B[38;5;124;43m'\u001B[39;49m\u001B[38;5;124;43mUTC\u001B[39;49m\u001B[38;5;124;43m'\u001B[39;49m\u001B[43m)\u001B[49m\n",
      "File \u001B[1;32mD:\\Projetcs\\lib\\site-packages\\pandas\\core\\generic.py:10682\u001B[0m, in \u001B[0;36mNDFrame.tz_localize\u001B[1;34m(self, tz, axis, level, copy, ambiguous, nonexistent)\u001B[0m\n\u001B[0;32m  10680\u001B[0m     \u001B[38;5;28;01mif\u001B[39;00m level \u001B[38;5;129;01mnot\u001B[39;00m \u001B[38;5;129;01min\u001B[39;00m (\u001B[38;5;28;01mNone\u001B[39;00m, \u001B[38;5;241m0\u001B[39m, ax\u001B[38;5;241m.\u001B[39mname):\n\u001B[0;32m  10681\u001B[0m         \u001B[38;5;28;01mraise\u001B[39;00m \u001B[38;5;167;01mValueError\u001B[39;00m(\u001B[38;5;124mf\u001B[39m\u001B[38;5;124m\"\u001B[39m\u001B[38;5;124mThe level \u001B[39m\u001B[38;5;132;01m{\u001B[39;00mlevel\u001B[38;5;132;01m}\u001B[39;00m\u001B[38;5;124m is not valid\u001B[39m\u001B[38;5;124m\"\u001B[39m)\n\u001B[1;32m> 10682\u001B[0m     ax \u001B[38;5;241m=\u001B[39m \u001B[43m_tz_localize\u001B[49m\u001B[43m(\u001B[49m\u001B[43max\u001B[49m\u001B[43m,\u001B[49m\u001B[43m \u001B[49m\u001B[43mtz\u001B[49m\u001B[43m,\u001B[49m\u001B[43m \u001B[49m\u001B[43mambiguous\u001B[49m\u001B[43m,\u001B[49m\u001B[43m \u001B[49m\u001B[43mnonexistent\u001B[49m\u001B[43m)\u001B[49m\n\u001B[0;32m  10684\u001B[0m result \u001B[38;5;241m=\u001B[39m \u001B[38;5;28mself\u001B[39m\u001B[38;5;241m.\u001B[39mcopy(deep\u001B[38;5;241m=\u001B[39mcopy)\n\u001B[0;32m  10685\u001B[0m result \u001B[38;5;241m=\u001B[39m result\u001B[38;5;241m.\u001B[39mset_axis(ax, axis\u001B[38;5;241m=\u001B[39maxis, copy\u001B[38;5;241m=\u001B[39m\u001B[38;5;28;01mFalse\u001B[39;00m)\n",
      "File \u001B[1;32mD:\\Projetcs\\lib\\site-packages\\pandas\\core\\generic.py:10664\u001B[0m, in \u001B[0;36mNDFrame.tz_localize.<locals>._tz_localize\u001B[1;34m(ax, tz, ambiguous, nonexistent)\u001B[0m\n\u001B[0;32m  10662\u001B[0m \u001B[38;5;28;01mif\u001B[39;00m \u001B[38;5;28mlen\u001B[39m(ax) \u001B[38;5;241m>\u001B[39m \u001B[38;5;241m0\u001B[39m:\n\u001B[0;32m  10663\u001B[0m     ax_name \u001B[38;5;241m=\u001B[39m \u001B[38;5;28mself\u001B[39m\u001B[38;5;241m.\u001B[39m_get_axis_name(axis)\n\u001B[1;32m> 10664\u001B[0m     \u001B[38;5;28;01mraise\u001B[39;00m \u001B[38;5;167;01mTypeError\u001B[39;00m(\n\u001B[0;32m  10665\u001B[0m         \u001B[38;5;124mf\u001B[39m\u001B[38;5;124m\"\u001B[39m\u001B[38;5;132;01m{\u001B[39;00max_name\u001B[38;5;132;01m}\u001B[39;00m\u001B[38;5;124m is not a valid DatetimeIndex or PeriodIndex\u001B[39m\u001B[38;5;124m\"\u001B[39m\n\u001B[0;32m  10666\u001B[0m     )\n\u001B[0;32m  10667\u001B[0m \u001B[38;5;28;01melse\u001B[39;00m:\n\u001B[0;32m  10668\u001B[0m     ax \u001B[38;5;241m=\u001B[39m DatetimeIndex([], tz\u001B[38;5;241m=\u001B[39mtz)\n",
      "\u001B[1;31mTypeError\u001B[0m: index is not a valid DatetimeIndex or PeriodIndex"
     ]
    }
   ],
   "source": [
    "data_2.tz_localize('UTC')"
   ],
   "metadata": {
    "collapsed": false
   }
  },
  {
   "cell_type": "code",
   "execution_count": 34,
   "outputs": [
    {
     "data": {
      "text/plain": "                            date\n1246   2016-05-08 19:42:57+00:00\n1254   2016-05-08 21:20:20+00:00\n3007   2016-05-12 08:04:44+00:00\n3715   2016-05-13 09:07:09+00:00\n4297   2016-05-14 06:37:43+00:00\n...                          ...\n349252 2018-05-09 18:43:15+00:00\n349375 2018-05-10 07:08:36+00:00\n350534 2018-05-13 11:00:51+00:00\n350689 2018-05-13 18:12:41+00:00\n350866 2018-05-14 10:46:59+00:00\n\n[975 rows x 1 columns]",
      "text/html": "<div>\n<style scoped>\n    .dataframe tbody tr th:only-of-type {\n        vertical-align: middle;\n    }\n\n    .dataframe tbody tr th {\n        vertical-align: top;\n    }\n\n    .dataframe thead th {\n        text-align: right;\n    }\n</style>\n<table border=\"1\" class=\"dataframe\">\n  <thead>\n    <tr style=\"text-align: right;\">\n      <th></th>\n      <th>date</th>\n    </tr>\n  </thead>\n  <tbody>\n    <tr>\n      <th>1246</th>\n      <td>2016-05-08 19:42:57+00:00</td>\n    </tr>\n    <tr>\n      <th>1254</th>\n      <td>2016-05-08 21:20:20+00:00</td>\n    </tr>\n    <tr>\n      <th>3007</th>\n      <td>2016-05-12 08:04:44+00:00</td>\n    </tr>\n    <tr>\n      <th>3715</th>\n      <td>2016-05-13 09:07:09+00:00</td>\n    </tr>\n    <tr>\n      <th>4297</th>\n      <td>2016-05-14 06:37:43+00:00</td>\n    </tr>\n    <tr>\n      <th>...</th>\n      <td>...</td>\n    </tr>\n    <tr>\n      <th>349252</th>\n      <td>2018-05-09 18:43:15+00:00</td>\n    </tr>\n    <tr>\n      <th>349375</th>\n      <td>2018-05-10 07:08:36+00:00</td>\n    </tr>\n    <tr>\n      <th>350534</th>\n      <td>2018-05-13 11:00:51+00:00</td>\n    </tr>\n    <tr>\n      <th>350689</th>\n      <td>2018-05-13 18:12:41+00:00</td>\n    </tr>\n    <tr>\n      <th>350866</th>\n      <td>2018-05-14 10:46:59+00:00</td>\n    </tr>\n  </tbody>\n</table>\n<p>975 rows × 1 columns</p>\n</div>"
     },
     "execution_count": 34,
     "metadata": {},
     "output_type": "execute_result"
    }
   ],
   "source": [
    "data_2[['date']]"
   ],
   "metadata": {
    "collapsed": false
   }
  },
  {
   "cell_type": "code",
   "execution_count": 35,
   "outputs": [
    {
     "ename": "TypeError",
     "evalue": "index is not a valid DatetimeIndex or PeriodIndex",
     "output_type": "error",
     "traceback": [
      "\u001B[1;31m---------------------------------------------------------------------------\u001B[0m",
      "\u001B[1;31mTypeError\u001B[0m                                 Traceback (most recent call last)",
      "Cell \u001B[1;32mIn[35], line 1\u001B[0m\n\u001B[1;32m----> 1\u001B[0m \u001B[43mdata_2\u001B[49m\u001B[43m[\u001B[49m\u001B[43m[\u001B[49m\u001B[38;5;124;43m'\u001B[39;49m\u001B[38;5;124;43mdate\u001B[39;49m\u001B[38;5;124;43m'\u001B[39;49m\u001B[43m]\u001B[49m\u001B[43m]\u001B[49m\u001B[38;5;241;43m.\u001B[39;49m\u001B[43mtz_localize\u001B[49m\u001B[43m(\u001B[49m\u001B[38;5;124;43m'\u001B[39;49m\u001B[38;5;124;43mUTC\u001B[39;49m\u001B[38;5;124;43m'\u001B[39;49m\u001B[43m)\u001B[49m\n",
      "File \u001B[1;32mD:\\Projetcs\\lib\\site-packages\\pandas\\core\\generic.py:10682\u001B[0m, in \u001B[0;36mNDFrame.tz_localize\u001B[1;34m(self, tz, axis, level, copy, ambiguous, nonexistent)\u001B[0m\n\u001B[0;32m  10680\u001B[0m     \u001B[38;5;28;01mif\u001B[39;00m level \u001B[38;5;129;01mnot\u001B[39;00m \u001B[38;5;129;01min\u001B[39;00m (\u001B[38;5;28;01mNone\u001B[39;00m, \u001B[38;5;241m0\u001B[39m, ax\u001B[38;5;241m.\u001B[39mname):\n\u001B[0;32m  10681\u001B[0m         \u001B[38;5;28;01mraise\u001B[39;00m \u001B[38;5;167;01mValueError\u001B[39;00m(\u001B[38;5;124mf\u001B[39m\u001B[38;5;124m\"\u001B[39m\u001B[38;5;124mThe level \u001B[39m\u001B[38;5;132;01m{\u001B[39;00mlevel\u001B[38;5;132;01m}\u001B[39;00m\u001B[38;5;124m is not valid\u001B[39m\u001B[38;5;124m\"\u001B[39m)\n\u001B[1;32m> 10682\u001B[0m     ax \u001B[38;5;241m=\u001B[39m \u001B[43m_tz_localize\u001B[49m\u001B[43m(\u001B[49m\u001B[43max\u001B[49m\u001B[43m,\u001B[49m\u001B[43m \u001B[49m\u001B[43mtz\u001B[49m\u001B[43m,\u001B[49m\u001B[43m \u001B[49m\u001B[43mambiguous\u001B[49m\u001B[43m,\u001B[49m\u001B[43m \u001B[49m\u001B[43mnonexistent\u001B[49m\u001B[43m)\u001B[49m\n\u001B[0;32m  10684\u001B[0m result \u001B[38;5;241m=\u001B[39m \u001B[38;5;28mself\u001B[39m\u001B[38;5;241m.\u001B[39mcopy(deep\u001B[38;5;241m=\u001B[39mcopy)\n\u001B[0;32m  10685\u001B[0m result \u001B[38;5;241m=\u001B[39m result\u001B[38;5;241m.\u001B[39mset_axis(ax, axis\u001B[38;5;241m=\u001B[39maxis, copy\u001B[38;5;241m=\u001B[39m\u001B[38;5;28;01mFalse\u001B[39;00m)\n",
      "File \u001B[1;32mD:\\Projetcs\\lib\\site-packages\\pandas\\core\\generic.py:10664\u001B[0m, in \u001B[0;36mNDFrame.tz_localize.<locals>._tz_localize\u001B[1;34m(ax, tz, ambiguous, nonexistent)\u001B[0m\n\u001B[0;32m  10662\u001B[0m \u001B[38;5;28;01mif\u001B[39;00m \u001B[38;5;28mlen\u001B[39m(ax) \u001B[38;5;241m>\u001B[39m \u001B[38;5;241m0\u001B[39m:\n\u001B[0;32m  10663\u001B[0m     ax_name \u001B[38;5;241m=\u001B[39m \u001B[38;5;28mself\u001B[39m\u001B[38;5;241m.\u001B[39m_get_axis_name(axis)\n\u001B[1;32m> 10664\u001B[0m     \u001B[38;5;28;01mraise\u001B[39;00m \u001B[38;5;167;01mTypeError\u001B[39;00m(\n\u001B[0;32m  10665\u001B[0m         \u001B[38;5;124mf\u001B[39m\u001B[38;5;124m\"\u001B[39m\u001B[38;5;132;01m{\u001B[39;00max_name\u001B[38;5;132;01m}\u001B[39;00m\u001B[38;5;124m is not a valid DatetimeIndex or PeriodIndex\u001B[39m\u001B[38;5;124m\"\u001B[39m\n\u001B[0;32m  10666\u001B[0m     )\n\u001B[0;32m  10667\u001B[0m \u001B[38;5;28;01melse\u001B[39;00m:\n\u001B[0;32m  10668\u001B[0m     ax \u001B[38;5;241m=\u001B[39m DatetimeIndex([], tz\u001B[38;5;241m=\u001B[39mtz)\n",
      "\u001B[1;31mTypeError\u001B[0m: index is not a valid DatetimeIndex or PeriodIndex"
     ]
    }
   ],
   "source": [
    "data_2[['date']].tz_localize('UTC')"
   ],
   "metadata": {
    "collapsed": false
   }
  },
  {
   "cell_type": "code",
   "execution_count": 37,
   "outputs": [],
   "source": [
    "data_2=data_1.set_index('date')"
   ],
   "metadata": {
    "collapsed": false
   }
  },
  {
   "cell_type": "code",
   "execution_count": 38,
   "outputs": [
    {
     "data": {
      "text/plain": "                           Unnamed: 0                      created_at  \\\ndate                                                                    \n2016-05-07 06:18:59+00:00           0  Sat May 07 06:18:59 +0000 2016   \n2016-05-07 07:02:19+00:00           1  Sat May 07 07:02:19 +0000 2016   \n2016-05-07 07:02:34+00:00           2  Sat May 07 07:02:34 +0000 2016   \n2016-05-07 07:03:11+00:00           3  Sat May 07 07:03:11 +0000 2016   \n2016-05-07 07:05:37+00:00           4  Sat May 07 07:05:37 +0000 2016   \n\n                                 id_str lang        lat         lon  \\\ndate                                                                  \n2016-05-07 06:18:59+00:00  7.288310e+17   en  22.278850  114.184620   \n2016-05-07 07:02:19+00:00  7.288420e+17   en  22.315302  113.934832   \n2016-05-07 07:02:34+00:00  7.288420e+17   en  22.276808  113.916187   \n2016-05-07 07:03:11+00:00  7.288430e+17   en  22.275643  114.171174   \n2016-05-07 07:05:37+00:00  7.288430e+17   en  22.302772  114.011717   \n\n                                                                        text  \\\ndate                                                                           \n2016-05-07 06:18:59+00:00  #Working #Saturday #Afternoon! #Final #Touch i...   \n2016-05-07 07:02:19+00:00  I'm at Hong Kong International Airport <U+9999...   \n2016-05-07 07:02:34+00:00  The cable car ride... #cablecar #mountain #360...   \n2016-05-07 07:03:11+00:00  Love Roses! <ed><U+00A0><U+00BD><ed><U+00B8><U...   \n2016-05-07 07:05:37+00:00  Preparing for a photo shoot #glamourshots #bla...   \n\n                                            time_zone  truncated  \\\ndate                                                               \n2016-05-07 06:18:59+00:00                   Hong Kong      False   \n2016-05-07 07:02:19+00:00  Eastern Time (US & Canada)      False   \n2016-05-07 07:02:34+00:00                Kuala Lumpur      False   \n2016-05-07 07:03:11+00:00                   Hong Kong      False   \n2016-05-07 07:05:37+00:00                         NaN      False   \n\n                                               url  ... verified  \\\ndate                                                ...            \n2016-05-07 06:18:59+00:00  https://t.co/q4GWk8nZFm  ...    False   \n2016-05-07 07:02:19+00:00  https://t.co/s1U275BtH4  ...    False   \n2016-05-07 07:02:34+00:00  https://t.co/5vwsCLv80G  ...    False   \n2016-05-07 07:03:11+00:00  https://t.co/wTrbCG7H8T  ...    False   \n2016-05-07 07:05:37+00:00  https://t.co/PEVkAoleNQ  ...    False   \n\n                                             hk_time  year month  \\\ndate                                                               \n2016-05-07 06:18:59+00:00  2016-05-07 14:12:59+08:00  2016     5   \n2016-05-07 07:02:19+00:00  2016-05-07 14:56:19+08:00  2016     5   \n2016-05-07 07:02:34+00:00  2016-05-07 14:56:34+08:00  2016     5   \n2016-05-07 07:03:11+00:00  2016-05-07 14:57:11+08:00  2016     5   \n2016-05-07 07:05:37+00:00  2016-05-07 14:59:37+08:00  2016     5   \n\n                           month_plus_year day  TPU_longitudinal  \\\ndate                                                               \n2016-05-07 06:18:59+00:00           2016_5   7               146   \n2016-05-07 07:02:19+00:00           2016_5   7               951   \n2016-05-07 07:02:34+00:00           2016_5   7               943   \n2016-05-07 07:03:11+00:00           2016_5   7               131   \n2016-05-07 07:05:37+00:00           2016_5   7               971   \n\n                           TPU_cross_sectional  \\\ndate                                             \n2016-05-07 06:18:59+00:00            146 - 147   \n2016-05-07 07:02:19+00:00            950 - 951   \n2016-05-07 07:02:34+00:00            941 - 943   \n2016-05-07 07:03:11+00:00                  131   \n2016-05-07 07:05:37+00:00            971 - 974   \n\n                                                                cleaned_text  \\\ndate                                                                           \n2016-05-07 06:18:59+00:00  working saturday afternoon final touch is on t...   \n2016-05-07 07:02:19+00:00  i am at hong kong international airport u numb...   \n2016-05-07 07:02:34+00:00  the cable car ride repeated cable car mountain...   \n2016-05-07 07:03:11+00:00  love 😍 😍 😍 🌹 🌷 💐 flower weekend saturday beaut...   \n2016-05-07 07:05:37+00:00           for a photo shoot glamour photo h beauty   \n\n                           sentiment  \ndate                                  \n2016-05-07 06:18:59+00:00          1  \n2016-05-07 07:02:19+00:00          1  \n2016-05-07 07:02:34+00:00          1  \n2016-05-07 07:03:11+00:00          2  \n2016-05-07 07:05:37+00:00          2  \n\n[5 rows x 24 columns]",
      "text/html": "<div>\n<style scoped>\n    .dataframe tbody tr th:only-of-type {\n        vertical-align: middle;\n    }\n\n    .dataframe tbody tr th {\n        vertical-align: top;\n    }\n\n    .dataframe thead th {\n        text-align: right;\n    }\n</style>\n<table border=\"1\" class=\"dataframe\">\n  <thead>\n    <tr style=\"text-align: right;\">\n      <th></th>\n      <th>Unnamed: 0</th>\n      <th>created_at</th>\n      <th>id_str</th>\n      <th>lang</th>\n      <th>lat</th>\n      <th>lon</th>\n      <th>text</th>\n      <th>time_zone</th>\n      <th>truncated</th>\n      <th>url</th>\n      <th>...</th>\n      <th>verified</th>\n      <th>hk_time</th>\n      <th>year</th>\n      <th>month</th>\n      <th>month_plus_year</th>\n      <th>day</th>\n      <th>TPU_longitudinal</th>\n      <th>TPU_cross_sectional</th>\n      <th>cleaned_text</th>\n      <th>sentiment</th>\n    </tr>\n    <tr>\n      <th>date</th>\n      <th></th>\n      <th></th>\n      <th></th>\n      <th></th>\n      <th></th>\n      <th></th>\n      <th></th>\n      <th></th>\n      <th></th>\n      <th></th>\n      <th></th>\n      <th></th>\n      <th></th>\n      <th></th>\n      <th></th>\n      <th></th>\n      <th></th>\n      <th></th>\n      <th></th>\n      <th></th>\n      <th></th>\n    </tr>\n  </thead>\n  <tbody>\n    <tr>\n      <th>2016-05-07 06:18:59+00:00</th>\n      <td>0</td>\n      <td>Sat May 07 06:18:59 +0000 2016</td>\n      <td>7.288310e+17</td>\n      <td>en</td>\n      <td>22.278850</td>\n      <td>114.184620</td>\n      <td>#Working #Saturday #Afternoon! #Final #Touch i...</td>\n      <td>Hong Kong</td>\n      <td>False</td>\n      <td>https://t.co/q4GWk8nZFm</td>\n      <td>...</td>\n      <td>False</td>\n      <td>2016-05-07 14:12:59+08:00</td>\n      <td>2016</td>\n      <td>5</td>\n      <td>2016_5</td>\n      <td>7</td>\n      <td>146</td>\n      <td>146 - 147</td>\n      <td>working saturday afternoon final touch is on t...</td>\n      <td>1</td>\n    </tr>\n    <tr>\n      <th>2016-05-07 07:02:19+00:00</th>\n      <td>1</td>\n      <td>Sat May 07 07:02:19 +0000 2016</td>\n      <td>7.288420e+17</td>\n      <td>en</td>\n      <td>22.315302</td>\n      <td>113.934832</td>\n      <td>I'm at Hong Kong International Airport &lt;U+9999...</td>\n      <td>Eastern Time (US &amp; Canada)</td>\n      <td>False</td>\n      <td>https://t.co/s1U275BtH4</td>\n      <td>...</td>\n      <td>False</td>\n      <td>2016-05-07 14:56:19+08:00</td>\n      <td>2016</td>\n      <td>5</td>\n      <td>2016_5</td>\n      <td>7</td>\n      <td>951</td>\n      <td>950 - 951</td>\n      <td>i am at hong kong international airport u numb...</td>\n      <td>1</td>\n    </tr>\n    <tr>\n      <th>2016-05-07 07:02:34+00:00</th>\n      <td>2</td>\n      <td>Sat May 07 07:02:34 +0000 2016</td>\n      <td>7.288420e+17</td>\n      <td>en</td>\n      <td>22.276808</td>\n      <td>113.916187</td>\n      <td>The cable car ride... #cablecar #mountain #360...</td>\n      <td>Kuala Lumpur</td>\n      <td>False</td>\n      <td>https://t.co/5vwsCLv80G</td>\n      <td>...</td>\n      <td>False</td>\n      <td>2016-05-07 14:56:34+08:00</td>\n      <td>2016</td>\n      <td>5</td>\n      <td>2016_5</td>\n      <td>7</td>\n      <td>943</td>\n      <td>941 - 943</td>\n      <td>the cable car ride repeated cable car mountain...</td>\n      <td>1</td>\n    </tr>\n    <tr>\n      <th>2016-05-07 07:03:11+00:00</th>\n      <td>3</td>\n      <td>Sat May 07 07:03:11 +0000 2016</td>\n      <td>7.288430e+17</td>\n      <td>en</td>\n      <td>22.275643</td>\n      <td>114.171174</td>\n      <td>Love Roses! &lt;ed&gt;&lt;U+00A0&gt;&lt;U+00BD&gt;&lt;ed&gt;&lt;U+00B8&gt;&lt;U...</td>\n      <td>Hong Kong</td>\n      <td>False</td>\n      <td>https://t.co/wTrbCG7H8T</td>\n      <td>...</td>\n      <td>False</td>\n      <td>2016-05-07 14:57:11+08:00</td>\n      <td>2016</td>\n      <td>5</td>\n      <td>2016_5</td>\n      <td>7</td>\n      <td>131</td>\n      <td>131</td>\n      <td>love 😍 😍 😍 🌹 🌷 💐 flower weekend saturday beaut...</td>\n      <td>2</td>\n    </tr>\n    <tr>\n      <th>2016-05-07 07:05:37+00:00</th>\n      <td>4</td>\n      <td>Sat May 07 07:05:37 +0000 2016</td>\n      <td>7.288430e+17</td>\n      <td>en</td>\n      <td>22.302772</td>\n      <td>114.011717</td>\n      <td>Preparing for a photo shoot #glamourshots #bla...</td>\n      <td>NaN</td>\n      <td>False</td>\n      <td>https://t.co/PEVkAoleNQ</td>\n      <td>...</td>\n      <td>False</td>\n      <td>2016-05-07 14:59:37+08:00</td>\n      <td>2016</td>\n      <td>5</td>\n      <td>2016_5</td>\n      <td>7</td>\n      <td>971</td>\n      <td>971 - 974</td>\n      <td>for a photo shoot glamour photo h beauty</td>\n      <td>2</td>\n    </tr>\n  </tbody>\n</table>\n<p>5 rows × 24 columns</p>\n</div>"
     },
     "execution_count": 38,
     "metadata": {},
     "output_type": "execute_result"
    }
   ],
   "source": [
    "data_2.head(5)"
   ],
   "metadata": {
    "collapsed": false
   }
  },
  {
   "cell_type": "code",
   "execution_count": 39,
   "outputs": [
    {
     "data": {
      "text/plain": "DatetimeIndex(['2016-05-07 06:18:59+00:00', '2016-05-07 07:02:19+00:00',\n               '2016-05-07 07:02:34+00:00', '2016-05-07 07:03:11+00:00',\n               '2016-05-07 07:05:37+00:00', '2016-05-07 07:06:33+00:00',\n               '2016-05-07 07:08:26+00:00', '2016-05-07 07:08:29+00:00',\n               '2016-05-07 07:09:15+00:00', '2016-05-07 07:09:20+00:00',\n               ...\n               '2018-12-18 18:14:39+00:00', '2018-12-18 18:20:42+00:00',\n               '2018-12-18 18:42:46+00:00', '2018-12-18 18:56:55+00:00',\n               '2018-12-18 20:33:39+00:00', '2018-12-18 21:47:11+00:00',\n               '2018-12-18 21:54:21+00:00', '2018-12-18 22:32:24+00:00',\n               '2018-12-18 22:51:54+00:00', '2018-12-18 22:54:09+00:00'],\n              dtype='datetime64[ns, UTC]', name='date', length=409626, freq=None)"
     },
     "execution_count": 39,
     "metadata": {},
     "output_type": "execute_result"
    }
   ],
   "source": [
    "data_2.index"
   ],
   "metadata": {
    "collapsed": false
   }
  },
  {
   "cell_type": "code",
   "execution_count": 43,
   "outputs": [],
   "source": [
    "data_2=data_2.tz_convert(tz='Hongkong')"
   ],
   "metadata": {
    "collapsed": false
   }
  },
  {
   "cell_type": "code",
   "execution_count": 44,
   "outputs": [
    {
     "data": {
      "text/plain": "                           Unnamed: 0                      created_at  \\\ndate                                                                    \n2016-05-07 14:18:59+08:00           0  Sat May 07 06:18:59 +0000 2016   \n2016-05-07 15:02:19+08:00           1  Sat May 07 07:02:19 +0000 2016   \n2016-05-07 15:02:34+08:00           2  Sat May 07 07:02:34 +0000 2016   \n2016-05-07 15:03:11+08:00           3  Sat May 07 07:03:11 +0000 2016   \n2016-05-07 15:05:37+08:00           4  Sat May 07 07:05:37 +0000 2016   \n\n                                 id_str lang        lat         lon  \\\ndate                                                                  \n2016-05-07 14:18:59+08:00  7.288310e+17   en  22.278850  114.184620   \n2016-05-07 15:02:19+08:00  7.288420e+17   en  22.315302  113.934832   \n2016-05-07 15:02:34+08:00  7.288420e+17   en  22.276808  113.916187   \n2016-05-07 15:03:11+08:00  7.288430e+17   en  22.275643  114.171174   \n2016-05-07 15:05:37+08:00  7.288430e+17   en  22.302772  114.011717   \n\n                                                                        text  \\\ndate                                                                           \n2016-05-07 14:18:59+08:00  #Working #Saturday #Afternoon! #Final #Touch i...   \n2016-05-07 15:02:19+08:00  I'm at Hong Kong International Airport <U+9999...   \n2016-05-07 15:02:34+08:00  The cable car ride... #cablecar #mountain #360...   \n2016-05-07 15:03:11+08:00  Love Roses! <ed><U+00A0><U+00BD><ed><U+00B8><U...   \n2016-05-07 15:05:37+08:00  Preparing for a photo shoot #glamourshots #bla...   \n\n                                            time_zone  truncated  \\\ndate                                                               \n2016-05-07 14:18:59+08:00                   Hong Kong      False   \n2016-05-07 15:02:19+08:00  Eastern Time (US & Canada)      False   \n2016-05-07 15:02:34+08:00                Kuala Lumpur      False   \n2016-05-07 15:03:11+08:00                   Hong Kong      False   \n2016-05-07 15:05:37+08:00                         NaN      False   \n\n                                               url  ... verified  \\\ndate                                                ...            \n2016-05-07 14:18:59+08:00  https://t.co/q4GWk8nZFm  ...    False   \n2016-05-07 15:02:19+08:00  https://t.co/s1U275BtH4  ...    False   \n2016-05-07 15:02:34+08:00  https://t.co/5vwsCLv80G  ...    False   \n2016-05-07 15:03:11+08:00  https://t.co/wTrbCG7H8T  ...    False   \n2016-05-07 15:05:37+08:00  https://t.co/PEVkAoleNQ  ...    False   \n\n                                             hk_time  year month  \\\ndate                                                               \n2016-05-07 14:18:59+08:00  2016-05-07 14:12:59+08:00  2016     5   \n2016-05-07 15:02:19+08:00  2016-05-07 14:56:19+08:00  2016     5   \n2016-05-07 15:02:34+08:00  2016-05-07 14:56:34+08:00  2016     5   \n2016-05-07 15:03:11+08:00  2016-05-07 14:57:11+08:00  2016     5   \n2016-05-07 15:05:37+08:00  2016-05-07 14:59:37+08:00  2016     5   \n\n                           month_plus_year day  TPU_longitudinal  \\\ndate                                                               \n2016-05-07 14:18:59+08:00           2016_5   7               146   \n2016-05-07 15:02:19+08:00           2016_5   7               951   \n2016-05-07 15:02:34+08:00           2016_5   7               943   \n2016-05-07 15:03:11+08:00           2016_5   7               131   \n2016-05-07 15:05:37+08:00           2016_5   7               971   \n\n                           TPU_cross_sectional  \\\ndate                                             \n2016-05-07 14:18:59+08:00            146 - 147   \n2016-05-07 15:02:19+08:00            950 - 951   \n2016-05-07 15:02:34+08:00            941 - 943   \n2016-05-07 15:03:11+08:00                  131   \n2016-05-07 15:05:37+08:00            971 - 974   \n\n                                                                cleaned_text  \\\ndate                                                                           \n2016-05-07 14:18:59+08:00  working saturday afternoon final touch is on t...   \n2016-05-07 15:02:19+08:00  i am at hong kong international airport u numb...   \n2016-05-07 15:02:34+08:00  the cable car ride repeated cable car mountain...   \n2016-05-07 15:03:11+08:00  love 😍 😍 😍 🌹 🌷 💐 flower weekend saturday beaut...   \n2016-05-07 15:05:37+08:00           for a photo shoot glamour photo h beauty   \n\n                           sentiment  \ndate                                  \n2016-05-07 14:18:59+08:00          1  \n2016-05-07 15:02:19+08:00          1  \n2016-05-07 15:02:34+08:00          1  \n2016-05-07 15:03:11+08:00          2  \n2016-05-07 15:05:37+08:00          2  \n\n[5 rows x 24 columns]",
      "text/html": "<div>\n<style scoped>\n    .dataframe tbody tr th:only-of-type {\n        vertical-align: middle;\n    }\n\n    .dataframe tbody tr th {\n        vertical-align: top;\n    }\n\n    .dataframe thead th {\n        text-align: right;\n    }\n</style>\n<table border=\"1\" class=\"dataframe\">\n  <thead>\n    <tr style=\"text-align: right;\">\n      <th></th>\n      <th>Unnamed: 0</th>\n      <th>created_at</th>\n      <th>id_str</th>\n      <th>lang</th>\n      <th>lat</th>\n      <th>lon</th>\n      <th>text</th>\n      <th>time_zone</th>\n      <th>truncated</th>\n      <th>url</th>\n      <th>...</th>\n      <th>verified</th>\n      <th>hk_time</th>\n      <th>year</th>\n      <th>month</th>\n      <th>month_plus_year</th>\n      <th>day</th>\n      <th>TPU_longitudinal</th>\n      <th>TPU_cross_sectional</th>\n      <th>cleaned_text</th>\n      <th>sentiment</th>\n    </tr>\n    <tr>\n      <th>date</th>\n      <th></th>\n      <th></th>\n      <th></th>\n      <th></th>\n      <th></th>\n      <th></th>\n      <th></th>\n      <th></th>\n      <th></th>\n      <th></th>\n      <th></th>\n      <th></th>\n      <th></th>\n      <th></th>\n      <th></th>\n      <th></th>\n      <th></th>\n      <th></th>\n      <th></th>\n      <th></th>\n      <th></th>\n    </tr>\n  </thead>\n  <tbody>\n    <tr>\n      <th>2016-05-07 14:18:59+08:00</th>\n      <td>0</td>\n      <td>Sat May 07 06:18:59 +0000 2016</td>\n      <td>7.288310e+17</td>\n      <td>en</td>\n      <td>22.278850</td>\n      <td>114.184620</td>\n      <td>#Working #Saturday #Afternoon! #Final #Touch i...</td>\n      <td>Hong Kong</td>\n      <td>False</td>\n      <td>https://t.co/q4GWk8nZFm</td>\n      <td>...</td>\n      <td>False</td>\n      <td>2016-05-07 14:12:59+08:00</td>\n      <td>2016</td>\n      <td>5</td>\n      <td>2016_5</td>\n      <td>7</td>\n      <td>146</td>\n      <td>146 - 147</td>\n      <td>working saturday afternoon final touch is on t...</td>\n      <td>1</td>\n    </tr>\n    <tr>\n      <th>2016-05-07 15:02:19+08:00</th>\n      <td>1</td>\n      <td>Sat May 07 07:02:19 +0000 2016</td>\n      <td>7.288420e+17</td>\n      <td>en</td>\n      <td>22.315302</td>\n      <td>113.934832</td>\n      <td>I'm at Hong Kong International Airport &lt;U+9999...</td>\n      <td>Eastern Time (US &amp; Canada)</td>\n      <td>False</td>\n      <td>https://t.co/s1U275BtH4</td>\n      <td>...</td>\n      <td>False</td>\n      <td>2016-05-07 14:56:19+08:00</td>\n      <td>2016</td>\n      <td>5</td>\n      <td>2016_5</td>\n      <td>7</td>\n      <td>951</td>\n      <td>950 - 951</td>\n      <td>i am at hong kong international airport u numb...</td>\n      <td>1</td>\n    </tr>\n    <tr>\n      <th>2016-05-07 15:02:34+08:00</th>\n      <td>2</td>\n      <td>Sat May 07 07:02:34 +0000 2016</td>\n      <td>7.288420e+17</td>\n      <td>en</td>\n      <td>22.276808</td>\n      <td>113.916187</td>\n      <td>The cable car ride... #cablecar #mountain #360...</td>\n      <td>Kuala Lumpur</td>\n      <td>False</td>\n      <td>https://t.co/5vwsCLv80G</td>\n      <td>...</td>\n      <td>False</td>\n      <td>2016-05-07 14:56:34+08:00</td>\n      <td>2016</td>\n      <td>5</td>\n      <td>2016_5</td>\n      <td>7</td>\n      <td>943</td>\n      <td>941 - 943</td>\n      <td>the cable car ride repeated cable car mountain...</td>\n      <td>1</td>\n    </tr>\n    <tr>\n      <th>2016-05-07 15:03:11+08:00</th>\n      <td>3</td>\n      <td>Sat May 07 07:03:11 +0000 2016</td>\n      <td>7.288430e+17</td>\n      <td>en</td>\n      <td>22.275643</td>\n      <td>114.171174</td>\n      <td>Love Roses! &lt;ed&gt;&lt;U+00A0&gt;&lt;U+00BD&gt;&lt;ed&gt;&lt;U+00B8&gt;&lt;U...</td>\n      <td>Hong Kong</td>\n      <td>False</td>\n      <td>https://t.co/wTrbCG7H8T</td>\n      <td>...</td>\n      <td>False</td>\n      <td>2016-05-07 14:57:11+08:00</td>\n      <td>2016</td>\n      <td>5</td>\n      <td>2016_5</td>\n      <td>7</td>\n      <td>131</td>\n      <td>131</td>\n      <td>love 😍 😍 😍 🌹 🌷 💐 flower weekend saturday beaut...</td>\n      <td>2</td>\n    </tr>\n    <tr>\n      <th>2016-05-07 15:05:37+08:00</th>\n      <td>4</td>\n      <td>Sat May 07 07:05:37 +0000 2016</td>\n      <td>7.288430e+17</td>\n      <td>en</td>\n      <td>22.302772</td>\n      <td>114.011717</td>\n      <td>Preparing for a photo shoot #glamourshots #bla...</td>\n      <td>NaN</td>\n      <td>False</td>\n      <td>https://t.co/PEVkAoleNQ</td>\n      <td>...</td>\n      <td>False</td>\n      <td>2016-05-07 14:59:37+08:00</td>\n      <td>2016</td>\n      <td>5</td>\n      <td>2016_5</td>\n      <td>7</td>\n      <td>971</td>\n      <td>971 - 974</td>\n      <td>for a photo shoot glamour photo h beauty</td>\n      <td>2</td>\n    </tr>\n  </tbody>\n</table>\n<p>5 rows × 24 columns</p>\n</div>"
     },
     "execution_count": 44,
     "metadata": {},
     "output_type": "execute_result"
    }
   ],
   "source": [
    "data_2.head(5)"
   ],
   "metadata": {
    "collapsed": false
   }
  },
  {
   "cell_type": "code",
   "execution_count": 46,
   "outputs": [
    {
     "ename": "KeyboardInterrupt",
     "evalue": "",
     "output_type": "error",
     "traceback": [
      "\u001B[1;31m---------------------------------------------------------------------------\u001B[0m",
      "\u001B[1;31mKeyboardInterrupt\u001B[0m                         Traceback (most recent call last)",
      "File \u001B[1;32mD:\\Software-Gao\\Python\\lib\\zoneinfo\\_common.py:12\u001B[0m, in \u001B[0;36mload_tzdata\u001B[1;34m(key)\u001B[0m\n\u001B[0;32m      9\u001B[0m resource_name \u001B[38;5;241m=\u001B[39m components[\u001B[38;5;241m-\u001B[39m\u001B[38;5;241m1\u001B[39m]\n\u001B[0;32m     11\u001B[0m \u001B[38;5;28;01mtry\u001B[39;00m:\n\u001B[1;32m---> 12\u001B[0m     \u001B[38;5;28;01mreturn\u001B[39;00m \u001B[43mimportlib\u001B[49m\u001B[38;5;241;43m.\u001B[39;49m\u001B[43mresources\u001B[49m\u001B[38;5;241;43m.\u001B[39;49m\u001B[43mopen_binary\u001B[49m\u001B[43m(\u001B[49m\u001B[43mpackage_name\u001B[49m\u001B[43m,\u001B[49m\u001B[43m \u001B[49m\u001B[43mresource_name\u001B[49m\u001B[43m)\u001B[49m\n\u001B[0;32m     13\u001B[0m \u001B[38;5;28;01mexcept\u001B[39;00m (\u001B[38;5;167;01mImportError\u001B[39;00m, \u001B[38;5;167;01mFileNotFoundError\u001B[39;00m, \u001B[38;5;167;01mUnicodeEncodeError\u001B[39;00m):\n\u001B[0;32m     14\u001B[0m     \u001B[38;5;66;03m# There are three types of exception that can be raised that all amount\u001B[39;00m\n\u001B[0;32m     15\u001B[0m     \u001B[38;5;66;03m# to \"we cannot find this key\":\u001B[39;00m\n\u001B[1;32m   (...)\u001B[0m\n\u001B[0;32m     22\u001B[0m     \u001B[38;5;66;03m# UnicodeEncodeError: If package_name or resource_name are not UTF-8,\u001B[39;00m\n\u001B[0;32m     23\u001B[0m     \u001B[38;5;66;03m#   such as keys containing a surrogate character.\u001B[39;00m\n\u001B[0;32m     24\u001B[0m     \u001B[38;5;28;01mraise\u001B[39;00m ZoneInfoNotFoundError(\u001B[38;5;124mf\u001B[39m\u001B[38;5;124m\"\u001B[39m\u001B[38;5;124mNo time zone found with key \u001B[39m\u001B[38;5;132;01m{\u001B[39;00mkey\u001B[38;5;132;01m}\u001B[39;00m\u001B[38;5;124m\"\u001B[39m)\n",
      "File \u001B[1;32mD:\\Software-Gao\\Python\\lib\\importlib\\resources.py:43\u001B[0m, in \u001B[0;36mopen_binary\u001B[1;34m(package, resource)\u001B[0m\n\u001B[0;32m     41\u001B[0m \u001B[38;5;250m\u001B[39m\u001B[38;5;124;03m\"\"\"Return a file-like object opened for binary reading of the resource.\"\"\"\u001B[39;00m\n\u001B[0;32m     42\u001B[0m resource \u001B[38;5;241m=\u001B[39m _common\u001B[38;5;241m.\u001B[39mnormalize_path(resource)\n\u001B[1;32m---> 43\u001B[0m package \u001B[38;5;241m=\u001B[39m \u001B[43m_common\u001B[49m\u001B[38;5;241;43m.\u001B[39;49m\u001B[43mget_package\u001B[49m\u001B[43m(\u001B[49m\u001B[43mpackage\u001B[49m\u001B[43m)\u001B[49m\n\u001B[0;32m     44\u001B[0m reader \u001B[38;5;241m=\u001B[39m _common\u001B[38;5;241m.\u001B[39mget_resource_reader(package)\n\u001B[0;32m     45\u001B[0m \u001B[38;5;28;01mif\u001B[39;00m reader \u001B[38;5;129;01mis\u001B[39;00m \u001B[38;5;129;01mnot\u001B[39;00m \u001B[38;5;28;01mNone\u001B[39;00m:\n",
      "File \u001B[1;32mD:\\Software-Gao\\Python\\lib\\importlib\\_common.py:66\u001B[0m, in \u001B[0;36mget_package\u001B[1;34m(package)\u001B[0m\n\u001B[0;32m     60\u001B[0m \u001B[38;5;28;01mdef\u001B[39;00m \u001B[38;5;21mget_package\u001B[39m(package):\n\u001B[0;32m     61\u001B[0m     \u001B[38;5;66;03m# type: (Package) -> types.ModuleType\u001B[39;00m\n\u001B[0;32m     62\u001B[0m \u001B[38;5;250m    \u001B[39m\u001B[38;5;124;03m\"\"\"Take a package name or module object and return the module.\u001B[39;00m\n\u001B[0;32m     63\u001B[0m \n\u001B[0;32m     64\u001B[0m \u001B[38;5;124;03m    Raise an exception if the resolved module is not a package.\u001B[39;00m\n\u001B[0;32m     65\u001B[0m \u001B[38;5;124;03m    \"\"\"\u001B[39;00m\n\u001B[1;32m---> 66\u001B[0m     resolved \u001B[38;5;241m=\u001B[39m \u001B[43mresolve\u001B[49m\u001B[43m(\u001B[49m\u001B[43mpackage\u001B[49m\u001B[43m)\u001B[49m\n\u001B[0;32m     67\u001B[0m     \u001B[38;5;28;01mif\u001B[39;00m wrap_spec(resolved)\u001B[38;5;241m.\u001B[39msubmodule_search_locations \u001B[38;5;129;01mis\u001B[39;00m \u001B[38;5;28;01mNone\u001B[39;00m:\n\u001B[0;32m     68\u001B[0m         \u001B[38;5;28;01mraise\u001B[39;00m \u001B[38;5;167;01mTypeError\u001B[39;00m(\u001B[38;5;124mf\u001B[39m\u001B[38;5;124m'\u001B[39m\u001B[38;5;132;01m{\u001B[39;00mpackage\u001B[38;5;132;01m!r}\u001B[39;00m\u001B[38;5;124m is not a package\u001B[39m\u001B[38;5;124m'\u001B[39m)\n",
      "File \u001B[1;32mD:\\Software-Gao\\Python\\lib\\importlib\\_common.py:57\u001B[0m, in \u001B[0;36mresolve\u001B[1;34m(cand)\u001B[0m\n\u001B[0;32m     55\u001B[0m \u001B[38;5;28;01mdef\u001B[39;00m \u001B[38;5;21mresolve\u001B[39m(cand):\n\u001B[0;32m     56\u001B[0m     \u001B[38;5;66;03m# type: (Package) -> types.ModuleType\u001B[39;00m\n\u001B[1;32m---> 57\u001B[0m     \u001B[38;5;28;01mreturn\u001B[39;00m cand \u001B[38;5;28;01mif\u001B[39;00m \u001B[38;5;28misinstance\u001B[39m(cand, types\u001B[38;5;241m.\u001B[39mModuleType) \u001B[38;5;28;01melse\u001B[39;00m \u001B[43mimportlib\u001B[49m\u001B[38;5;241;43m.\u001B[39;49m\u001B[43mimport_module\u001B[49m\u001B[43m(\u001B[49m\u001B[43mcand\u001B[49m\u001B[43m)\u001B[49m\n",
      "File \u001B[1;32mD:\\Software-Gao\\Python\\lib\\importlib\\__init__.py:126\u001B[0m, in \u001B[0;36mimport_module\u001B[1;34m(name, package)\u001B[0m\n\u001B[0;32m    124\u001B[0m             \u001B[38;5;28;01mbreak\u001B[39;00m\n\u001B[0;32m    125\u001B[0m         level \u001B[38;5;241m+\u001B[39m\u001B[38;5;241m=\u001B[39m \u001B[38;5;241m1\u001B[39m\n\u001B[1;32m--> 126\u001B[0m \u001B[38;5;28;01mreturn\u001B[39;00m \u001B[43m_bootstrap\u001B[49m\u001B[38;5;241;43m.\u001B[39;49m\u001B[43m_gcd_import\u001B[49m\u001B[43m(\u001B[49m\u001B[43mname\u001B[49m\u001B[43m[\u001B[49m\u001B[43mlevel\u001B[49m\u001B[43m:\u001B[49m\u001B[43m]\u001B[49m\u001B[43m,\u001B[49m\u001B[43m \u001B[49m\u001B[43mpackage\u001B[49m\u001B[43m,\u001B[49m\u001B[43m \u001B[49m\u001B[43mlevel\u001B[49m\u001B[43m)\u001B[49m\n",
      "File \u001B[1;32m<frozen importlib._bootstrap>:1050\u001B[0m, in \u001B[0;36m_gcd_import\u001B[1;34m(name, package, level)\u001B[0m\n",
      "File \u001B[1;32m<frozen importlib._bootstrap>:1027\u001B[0m, in \u001B[0;36m_find_and_load\u001B[1;34m(name, import_)\u001B[0m\n",
      "File \u001B[1;32m<frozen importlib._bootstrap>:992\u001B[0m, in \u001B[0;36m_find_and_load_unlocked\u001B[1;34m(name, import_)\u001B[0m\n",
      "File \u001B[1;32m<frozen importlib._bootstrap>:241\u001B[0m, in \u001B[0;36m_call_with_frames_removed\u001B[1;34m(f, *args, **kwds)\u001B[0m\n",
      "File \u001B[1;32m<frozen importlib._bootstrap>:1050\u001B[0m, in \u001B[0;36m_gcd_import\u001B[1;34m(name, package, level)\u001B[0m\n",
      "File \u001B[1;32m<frozen importlib._bootstrap>:1027\u001B[0m, in \u001B[0;36m_find_and_load\u001B[1;34m(name, import_)\u001B[0m\n",
      "File \u001B[1;32m<frozen importlib._bootstrap>:1002\u001B[0m, in \u001B[0;36m_find_and_load_unlocked\u001B[1;34m(name, import_)\u001B[0m\n",
      "File \u001B[1;32m<frozen importlib._bootstrap>:945\u001B[0m, in \u001B[0;36m_find_spec\u001B[1;34m(name, path, target)\u001B[0m\n",
      "File \u001B[1;32m<frozen importlib._bootstrap_external>:1439\u001B[0m, in \u001B[0;36mfind_spec\u001B[1;34m(cls, fullname, path, target)\u001B[0m\n",
      "File \u001B[1;32m<frozen importlib._bootstrap_external>:1411\u001B[0m, in \u001B[0;36m_get_spec\u001B[1;34m(cls, fullname, path, target)\u001B[0m\n",
      "File \u001B[1;32m<frozen importlib._bootstrap_external>:1544\u001B[0m, in \u001B[0;36mfind_spec\u001B[1;34m(self, fullname, target)\u001B[0m\n",
      "File \u001B[1;32m<frozen importlib._bootstrap_external>:147\u001B[0m, in \u001B[0;36m_path_stat\u001B[1;34m(path)\u001B[0m\n",
      "\u001B[1;31mKeyboardInterrupt\u001B[0m: "
     ]
    },
    {
     "name": "stderr",
     "output_type": "stream",
     "text": [
      "Exception ignored in: 'pandas._libs.tslibs.timezones.is_utc_zoneinfo'\n",
      "Traceback (most recent call last):\n",
      "  File \"D:\\Software-Gao\\Python\\lib\\zoneinfo\\_common.py\", line 12, in load_tzdata\n",
      "    return importlib.resources.open_binary(package_name, resource_name)\n",
      "  File \"D:\\Software-Gao\\Python\\lib\\importlib\\resources.py\", line 43, in open_binary\n",
      "    package = _common.get_package(package)\n",
      "  File \"D:\\Software-Gao\\Python\\lib\\importlib\\_common.py\", line 66, in get_package\n",
      "    resolved = resolve(package)\n",
      "  File \"D:\\Software-Gao\\Python\\lib\\importlib\\_common.py\", line 57, in resolve\n",
      "    return cand if isinstance(cand, types.ModuleType) else importlib.import_module(cand)\n",
      "  File \"D:\\Software-Gao\\Python\\lib\\importlib\\__init__.py\", line 126, in import_module\n",
      "    return _bootstrap._gcd_import(name[level:], package, level)\n",
      "  File \"<frozen importlib._bootstrap>\", line 1050, in _gcd_import\n",
      "  File \"<frozen importlib._bootstrap>\", line 1027, in _find_and_load\n",
      "  File \"<frozen importlib._bootstrap>\", line 992, in _find_and_load_unlocked\n",
      "  File \"<frozen importlib._bootstrap>\", line 241, in _call_with_frames_removed\n",
      "  File \"<frozen importlib._bootstrap>\", line 1050, in _gcd_import\n",
      "  File \"<frozen importlib._bootstrap>\", line 1027, in _find_and_load\n",
      "  File \"<frozen importlib._bootstrap>\", line 1002, in _find_and_load_unlocked\n",
      "  File \"<frozen importlib._bootstrap>\", line 945, in _find_spec\n",
      "  File \"<frozen importlib._bootstrap_external>\", line 1439, in find_spec\n",
      "  File \"<frozen importlib._bootstrap_external>\", line 1411, in _get_spec\n",
      "  File \"<frozen importlib._bootstrap_external>\", line 1544, in find_spec\n",
      "  File \"<frozen importlib._bootstrap_external>\", line 147, in _path_stat\n",
      "KeyboardInterrupt: \n"
     ]
    },
    {
     "ename": "KeyboardInterrupt",
     "evalue": "",
     "output_type": "error",
     "traceback": [
      "\u001B[1;31m---------------------------------------------------------------------------\u001B[0m",
      "\u001B[1;31mKeyboardInterrupt\u001B[0m                         Traceback (most recent call last)",
      "File \u001B[1;32mD:\\Software-Gao\\Python\\lib\\zoneinfo\\_common.py:12\u001B[0m, in \u001B[0;36mload_tzdata\u001B[1;34m(key)\u001B[0m\n\u001B[0;32m      9\u001B[0m resource_name \u001B[38;5;241m=\u001B[39m components[\u001B[38;5;241m-\u001B[39m\u001B[38;5;241m1\u001B[39m]\n\u001B[0;32m     11\u001B[0m \u001B[38;5;28;01mtry\u001B[39;00m:\n\u001B[1;32m---> 12\u001B[0m     \u001B[38;5;28;01mreturn\u001B[39;00m \u001B[43mimportlib\u001B[49m\u001B[38;5;241;43m.\u001B[39;49m\u001B[43mresources\u001B[49m\u001B[38;5;241;43m.\u001B[39;49m\u001B[43mopen_binary\u001B[49m\u001B[43m(\u001B[49m\u001B[43mpackage_name\u001B[49m\u001B[43m,\u001B[49m\u001B[43m \u001B[49m\u001B[43mresource_name\u001B[49m\u001B[43m)\u001B[49m\n\u001B[0;32m     13\u001B[0m \u001B[38;5;28;01mexcept\u001B[39;00m (\u001B[38;5;167;01mImportError\u001B[39;00m, \u001B[38;5;167;01mFileNotFoundError\u001B[39;00m, \u001B[38;5;167;01mUnicodeEncodeError\u001B[39;00m):\n\u001B[0;32m     14\u001B[0m     \u001B[38;5;66;03m# There are three types of exception that can be raised that all amount\u001B[39;00m\n\u001B[0;32m     15\u001B[0m     \u001B[38;5;66;03m# to \"we cannot find this key\":\u001B[39;00m\n\u001B[1;32m   (...)\u001B[0m\n\u001B[0;32m     22\u001B[0m     \u001B[38;5;66;03m# UnicodeEncodeError: If package_name or resource_name are not UTF-8,\u001B[39;00m\n\u001B[0;32m     23\u001B[0m     \u001B[38;5;66;03m#   such as keys containing a surrogate character.\u001B[39;00m\n\u001B[0;32m     24\u001B[0m     \u001B[38;5;28;01mraise\u001B[39;00m ZoneInfoNotFoundError(\u001B[38;5;124mf\u001B[39m\u001B[38;5;124m\"\u001B[39m\u001B[38;5;124mNo time zone found with key \u001B[39m\u001B[38;5;132;01m{\u001B[39;00mkey\u001B[38;5;132;01m}\u001B[39;00m\u001B[38;5;124m\"\u001B[39m)\n",
      "File \u001B[1;32mD:\\Software-Gao\\Python\\lib\\importlib\\resources.py:43\u001B[0m, in \u001B[0;36mopen_binary\u001B[1;34m(package, resource)\u001B[0m\n\u001B[0;32m     41\u001B[0m \u001B[38;5;250m\u001B[39m\u001B[38;5;124;03m\"\"\"Return a file-like object opened for binary reading of the resource.\"\"\"\u001B[39;00m\n\u001B[0;32m     42\u001B[0m resource \u001B[38;5;241m=\u001B[39m _common\u001B[38;5;241m.\u001B[39mnormalize_path(resource)\n\u001B[1;32m---> 43\u001B[0m package \u001B[38;5;241m=\u001B[39m \u001B[43m_common\u001B[49m\u001B[38;5;241;43m.\u001B[39;49m\u001B[43mget_package\u001B[49m\u001B[43m(\u001B[49m\u001B[43mpackage\u001B[49m\u001B[43m)\u001B[49m\n\u001B[0;32m     44\u001B[0m reader \u001B[38;5;241m=\u001B[39m _common\u001B[38;5;241m.\u001B[39mget_resource_reader(package)\n\u001B[0;32m     45\u001B[0m \u001B[38;5;28;01mif\u001B[39;00m reader \u001B[38;5;129;01mis\u001B[39;00m \u001B[38;5;129;01mnot\u001B[39;00m \u001B[38;5;28;01mNone\u001B[39;00m:\n",
      "File \u001B[1;32mD:\\Software-Gao\\Python\\lib\\importlib\\_common.py:66\u001B[0m, in \u001B[0;36mget_package\u001B[1;34m(package)\u001B[0m\n\u001B[0;32m     60\u001B[0m \u001B[38;5;28;01mdef\u001B[39;00m \u001B[38;5;21mget_package\u001B[39m(package):\n\u001B[0;32m     61\u001B[0m     \u001B[38;5;66;03m# type: (Package) -> types.ModuleType\u001B[39;00m\n\u001B[0;32m     62\u001B[0m \u001B[38;5;250m    \u001B[39m\u001B[38;5;124;03m\"\"\"Take a package name or module object and return the module.\u001B[39;00m\n\u001B[0;32m     63\u001B[0m \n\u001B[0;32m     64\u001B[0m \u001B[38;5;124;03m    Raise an exception if the resolved module is not a package.\u001B[39;00m\n\u001B[0;32m     65\u001B[0m \u001B[38;5;124;03m    \"\"\"\u001B[39;00m\n\u001B[1;32m---> 66\u001B[0m     resolved \u001B[38;5;241m=\u001B[39m \u001B[43mresolve\u001B[49m\u001B[43m(\u001B[49m\u001B[43mpackage\u001B[49m\u001B[43m)\u001B[49m\n\u001B[0;32m     67\u001B[0m     \u001B[38;5;28;01mif\u001B[39;00m wrap_spec(resolved)\u001B[38;5;241m.\u001B[39msubmodule_search_locations \u001B[38;5;129;01mis\u001B[39;00m \u001B[38;5;28;01mNone\u001B[39;00m:\n\u001B[0;32m     68\u001B[0m         \u001B[38;5;28;01mraise\u001B[39;00m \u001B[38;5;167;01mTypeError\u001B[39;00m(\u001B[38;5;124mf\u001B[39m\u001B[38;5;124m'\u001B[39m\u001B[38;5;132;01m{\u001B[39;00mpackage\u001B[38;5;132;01m!r}\u001B[39;00m\u001B[38;5;124m is not a package\u001B[39m\u001B[38;5;124m'\u001B[39m)\n",
      "File \u001B[1;32mD:\\Software-Gao\\Python\\lib\\importlib\\_common.py:57\u001B[0m, in \u001B[0;36mresolve\u001B[1;34m(cand)\u001B[0m\n\u001B[0;32m     55\u001B[0m \u001B[38;5;28;01mdef\u001B[39;00m \u001B[38;5;21mresolve\u001B[39m(cand):\n\u001B[0;32m     56\u001B[0m     \u001B[38;5;66;03m# type: (Package) -> types.ModuleType\u001B[39;00m\n\u001B[1;32m---> 57\u001B[0m     \u001B[38;5;28;01mreturn\u001B[39;00m cand \u001B[38;5;28;01mif\u001B[39;00m \u001B[38;5;28misinstance\u001B[39m(cand, types\u001B[38;5;241m.\u001B[39mModuleType) \u001B[38;5;28;01melse\u001B[39;00m \u001B[43mimportlib\u001B[49m\u001B[38;5;241;43m.\u001B[39;49m\u001B[43mimport_module\u001B[49m\u001B[43m(\u001B[49m\u001B[43mcand\u001B[49m\u001B[43m)\u001B[49m\n",
      "File \u001B[1;32mD:\\Software-Gao\\Python\\lib\\importlib\\__init__.py:126\u001B[0m, in \u001B[0;36mimport_module\u001B[1;34m(name, package)\u001B[0m\n\u001B[0;32m    124\u001B[0m             \u001B[38;5;28;01mbreak\u001B[39;00m\n\u001B[0;32m    125\u001B[0m         level \u001B[38;5;241m+\u001B[39m\u001B[38;5;241m=\u001B[39m \u001B[38;5;241m1\u001B[39m\n\u001B[1;32m--> 126\u001B[0m \u001B[38;5;28;01mreturn\u001B[39;00m \u001B[43m_bootstrap\u001B[49m\u001B[38;5;241;43m.\u001B[39;49m\u001B[43m_gcd_import\u001B[49m\u001B[43m(\u001B[49m\u001B[43mname\u001B[49m\u001B[43m[\u001B[49m\u001B[43mlevel\u001B[49m\u001B[43m:\u001B[49m\u001B[43m]\u001B[49m\u001B[43m,\u001B[49m\u001B[43m \u001B[49m\u001B[43mpackage\u001B[49m\u001B[43m,\u001B[49m\u001B[43m \u001B[49m\u001B[43mlevel\u001B[49m\u001B[43m)\u001B[49m\n",
      "File \u001B[1;32m<frozen importlib._bootstrap>:1050\u001B[0m, in \u001B[0;36m_gcd_import\u001B[1;34m(name, package, level)\u001B[0m\n",
      "File \u001B[1;32m<frozen importlib._bootstrap>:1027\u001B[0m, in \u001B[0;36m_find_and_load\u001B[1;34m(name, import_)\u001B[0m\n",
      "File \u001B[1;32m<frozen importlib._bootstrap>:992\u001B[0m, in \u001B[0;36m_find_and_load_unlocked\u001B[1;34m(name, import_)\u001B[0m\n",
      "File \u001B[1;32m<frozen importlib._bootstrap>:241\u001B[0m, in \u001B[0;36m_call_with_frames_removed\u001B[1;34m(f, *args, **kwds)\u001B[0m\n",
      "File \u001B[1;32m<frozen importlib._bootstrap>:1050\u001B[0m, in \u001B[0;36m_gcd_import\u001B[1;34m(name, package, level)\u001B[0m\n",
      "File \u001B[1;32m<frozen importlib._bootstrap>:1027\u001B[0m, in \u001B[0;36m_find_and_load\u001B[1;34m(name, import_)\u001B[0m\n",
      "File \u001B[1;32m<frozen importlib._bootstrap>:1002\u001B[0m, in \u001B[0;36m_find_and_load_unlocked\u001B[1;34m(name, import_)\u001B[0m\n",
      "File \u001B[1;32m<frozen importlib._bootstrap>:945\u001B[0m, in \u001B[0;36m_find_spec\u001B[1;34m(name, path, target)\u001B[0m\n",
      "File \u001B[1;32m<frozen importlib._bootstrap_external>:1439\u001B[0m, in \u001B[0;36mfind_spec\u001B[1;34m(cls, fullname, path, target)\u001B[0m\n",
      "File \u001B[1;32m<frozen importlib._bootstrap_external>:1411\u001B[0m, in \u001B[0;36m_get_spec\u001B[1;34m(cls, fullname, path, target)\u001B[0m\n",
      "File \u001B[1;32m<frozen importlib._bootstrap_external>:1544\u001B[0m, in \u001B[0;36mfind_spec\u001B[1;34m(self, fullname, target)\u001B[0m\n",
      "File \u001B[1;32m<frozen importlib._bootstrap_external>:147\u001B[0m, in \u001B[0;36m_path_stat\u001B[1;34m(path)\u001B[0m\n",
      "\u001B[1;31mKeyboardInterrupt\u001B[0m: "
     ]
    },
    {
     "name": "stderr",
     "output_type": "stream",
     "text": [
      "Exception ignored in: 'pandas._libs.tslibs.timezones.is_utc_zoneinfo'\n",
      "Traceback (most recent call last):\n",
      "  File \"D:\\Software-Gao\\Python\\lib\\zoneinfo\\_common.py\", line 12, in load_tzdata\n",
      "    return importlib.resources.open_binary(package_name, resource_name)\n",
      "  File \"D:\\Software-Gao\\Python\\lib\\importlib\\resources.py\", line 43, in open_binary\n",
      "    package = _common.get_package(package)\n",
      "  File \"D:\\Software-Gao\\Python\\lib\\importlib\\_common.py\", line 66, in get_package\n",
      "    resolved = resolve(package)\n",
      "  File \"D:\\Software-Gao\\Python\\lib\\importlib\\_common.py\", line 57, in resolve\n",
      "    return cand if isinstance(cand, types.ModuleType) else importlib.import_module(cand)\n",
      "  File \"D:\\Software-Gao\\Python\\lib\\importlib\\__init__.py\", line 126, in import_module\n",
      "    return _bootstrap._gcd_import(name[level:], package, level)\n",
      "  File \"<frozen importlib._bootstrap>\", line 1050, in _gcd_import\n",
      "  File \"<frozen importlib._bootstrap>\", line 1027, in _find_and_load\n",
      "  File \"<frozen importlib._bootstrap>\", line 992, in _find_and_load_unlocked\n",
      "  File \"<frozen importlib._bootstrap>\", line 241, in _call_with_frames_removed\n",
      "  File \"<frozen importlib._bootstrap>\", line 1050, in _gcd_import\n",
      "  File \"<frozen importlib._bootstrap>\", line 1027, in _find_and_load\n",
      "  File \"<frozen importlib._bootstrap>\", line 1002, in _find_and_load_unlocked\n",
      "  File \"<frozen importlib._bootstrap>\", line 945, in _find_spec\n",
      "  File \"<frozen importlib._bootstrap_external>\", line 1439, in find_spec\n",
      "  File \"<frozen importlib._bootstrap_external>\", line 1411, in _get_spec\n",
      "  File \"<frozen importlib._bootstrap_external>\", line 1544, in find_spec\n",
      "  File \"<frozen importlib._bootstrap_external>\", line 147, in _path_stat\n",
      "KeyboardInterrupt: \n"
     ]
    },
    {
     "ename": "KeyboardInterrupt",
     "evalue": "",
     "output_type": "error",
     "traceback": [
      "\u001B[1;31m---------------------------------------------------------------------------\u001B[0m",
      "\u001B[1;31mKeyboardInterrupt\u001B[0m                         Traceback (most recent call last)",
      "File \u001B[1;32mD:\\Software-Gao\\Python\\lib\\zoneinfo\\_common.py:12\u001B[0m, in \u001B[0;36mload_tzdata\u001B[1;34m(key)\u001B[0m\n\u001B[0;32m      9\u001B[0m resource_name \u001B[38;5;241m=\u001B[39m components[\u001B[38;5;241m-\u001B[39m\u001B[38;5;241m1\u001B[39m]\n\u001B[0;32m     11\u001B[0m \u001B[38;5;28;01mtry\u001B[39;00m:\n\u001B[1;32m---> 12\u001B[0m     \u001B[38;5;28;01mreturn\u001B[39;00m \u001B[43mimportlib\u001B[49m\u001B[38;5;241;43m.\u001B[39;49m\u001B[43mresources\u001B[49m\u001B[38;5;241;43m.\u001B[39;49m\u001B[43mopen_binary\u001B[49m\u001B[43m(\u001B[49m\u001B[43mpackage_name\u001B[49m\u001B[43m,\u001B[49m\u001B[43m \u001B[49m\u001B[43mresource_name\u001B[49m\u001B[43m)\u001B[49m\n\u001B[0;32m     13\u001B[0m \u001B[38;5;28;01mexcept\u001B[39;00m (\u001B[38;5;167;01mImportError\u001B[39;00m, \u001B[38;5;167;01mFileNotFoundError\u001B[39;00m, \u001B[38;5;167;01mUnicodeEncodeError\u001B[39;00m):\n\u001B[0;32m     14\u001B[0m     \u001B[38;5;66;03m# There are three types of exception that can be raised that all amount\u001B[39;00m\n\u001B[0;32m     15\u001B[0m     \u001B[38;5;66;03m# to \"we cannot find this key\":\u001B[39;00m\n\u001B[1;32m   (...)\u001B[0m\n\u001B[0;32m     22\u001B[0m     \u001B[38;5;66;03m# UnicodeEncodeError: If package_name or resource_name are not UTF-8,\u001B[39;00m\n\u001B[0;32m     23\u001B[0m     \u001B[38;5;66;03m#   such as keys containing a surrogate character.\u001B[39;00m\n\u001B[0;32m     24\u001B[0m     \u001B[38;5;28;01mraise\u001B[39;00m ZoneInfoNotFoundError(\u001B[38;5;124mf\u001B[39m\u001B[38;5;124m\"\u001B[39m\u001B[38;5;124mNo time zone found with key \u001B[39m\u001B[38;5;132;01m{\u001B[39;00mkey\u001B[38;5;132;01m}\u001B[39;00m\u001B[38;5;124m\"\u001B[39m)\n",
      "File \u001B[1;32mD:\\Software-Gao\\Python\\lib\\importlib\\resources.py:43\u001B[0m, in \u001B[0;36mopen_binary\u001B[1;34m(package, resource)\u001B[0m\n\u001B[0;32m     41\u001B[0m \u001B[38;5;250m\u001B[39m\u001B[38;5;124;03m\"\"\"Return a file-like object opened for binary reading of the resource.\"\"\"\u001B[39;00m\n\u001B[0;32m     42\u001B[0m resource \u001B[38;5;241m=\u001B[39m _common\u001B[38;5;241m.\u001B[39mnormalize_path(resource)\n\u001B[1;32m---> 43\u001B[0m package \u001B[38;5;241m=\u001B[39m \u001B[43m_common\u001B[49m\u001B[38;5;241;43m.\u001B[39;49m\u001B[43mget_package\u001B[49m\u001B[43m(\u001B[49m\u001B[43mpackage\u001B[49m\u001B[43m)\u001B[49m\n\u001B[0;32m     44\u001B[0m reader \u001B[38;5;241m=\u001B[39m _common\u001B[38;5;241m.\u001B[39mget_resource_reader(package)\n\u001B[0;32m     45\u001B[0m \u001B[38;5;28;01mif\u001B[39;00m reader \u001B[38;5;129;01mis\u001B[39;00m \u001B[38;5;129;01mnot\u001B[39;00m \u001B[38;5;28;01mNone\u001B[39;00m:\n",
      "File \u001B[1;32mD:\\Software-Gao\\Python\\lib\\importlib\\_common.py:66\u001B[0m, in \u001B[0;36mget_package\u001B[1;34m(package)\u001B[0m\n\u001B[0;32m     60\u001B[0m \u001B[38;5;28;01mdef\u001B[39;00m \u001B[38;5;21mget_package\u001B[39m(package):\n\u001B[0;32m     61\u001B[0m     \u001B[38;5;66;03m# type: (Package) -> types.ModuleType\u001B[39;00m\n\u001B[0;32m     62\u001B[0m \u001B[38;5;250m    \u001B[39m\u001B[38;5;124;03m\"\"\"Take a package name or module object and return the module.\u001B[39;00m\n\u001B[0;32m     63\u001B[0m \n\u001B[0;32m     64\u001B[0m \u001B[38;5;124;03m    Raise an exception if the resolved module is not a package.\u001B[39;00m\n\u001B[0;32m     65\u001B[0m \u001B[38;5;124;03m    \"\"\"\u001B[39;00m\n\u001B[1;32m---> 66\u001B[0m     resolved \u001B[38;5;241m=\u001B[39m \u001B[43mresolve\u001B[49m\u001B[43m(\u001B[49m\u001B[43mpackage\u001B[49m\u001B[43m)\u001B[49m\n\u001B[0;32m     67\u001B[0m     \u001B[38;5;28;01mif\u001B[39;00m wrap_spec(resolved)\u001B[38;5;241m.\u001B[39msubmodule_search_locations \u001B[38;5;129;01mis\u001B[39;00m \u001B[38;5;28;01mNone\u001B[39;00m:\n\u001B[0;32m     68\u001B[0m         \u001B[38;5;28;01mraise\u001B[39;00m \u001B[38;5;167;01mTypeError\u001B[39;00m(\u001B[38;5;124mf\u001B[39m\u001B[38;5;124m'\u001B[39m\u001B[38;5;132;01m{\u001B[39;00mpackage\u001B[38;5;132;01m!r}\u001B[39;00m\u001B[38;5;124m is not a package\u001B[39m\u001B[38;5;124m'\u001B[39m)\n",
      "File \u001B[1;32mD:\\Software-Gao\\Python\\lib\\importlib\\_common.py:57\u001B[0m, in \u001B[0;36mresolve\u001B[1;34m(cand)\u001B[0m\n\u001B[0;32m     55\u001B[0m \u001B[38;5;28;01mdef\u001B[39;00m \u001B[38;5;21mresolve\u001B[39m(cand):\n\u001B[0;32m     56\u001B[0m     \u001B[38;5;66;03m# type: (Package) -> types.ModuleType\u001B[39;00m\n\u001B[1;32m---> 57\u001B[0m     \u001B[38;5;28;01mreturn\u001B[39;00m cand \u001B[38;5;28;01mif\u001B[39;00m \u001B[38;5;28misinstance\u001B[39m(cand, types\u001B[38;5;241m.\u001B[39mModuleType) \u001B[38;5;28;01melse\u001B[39;00m \u001B[43mimportlib\u001B[49m\u001B[38;5;241;43m.\u001B[39;49m\u001B[43mimport_module\u001B[49m\u001B[43m(\u001B[49m\u001B[43mcand\u001B[49m\u001B[43m)\u001B[49m\n",
      "File \u001B[1;32mD:\\Software-Gao\\Python\\lib\\importlib\\__init__.py:126\u001B[0m, in \u001B[0;36mimport_module\u001B[1;34m(name, package)\u001B[0m\n\u001B[0;32m    124\u001B[0m             \u001B[38;5;28;01mbreak\u001B[39;00m\n\u001B[0;32m    125\u001B[0m         level \u001B[38;5;241m+\u001B[39m\u001B[38;5;241m=\u001B[39m \u001B[38;5;241m1\u001B[39m\n\u001B[1;32m--> 126\u001B[0m \u001B[38;5;28;01mreturn\u001B[39;00m \u001B[43m_bootstrap\u001B[49m\u001B[38;5;241;43m.\u001B[39;49m\u001B[43m_gcd_import\u001B[49m\u001B[43m(\u001B[49m\u001B[43mname\u001B[49m\u001B[43m[\u001B[49m\u001B[43mlevel\u001B[49m\u001B[43m:\u001B[49m\u001B[43m]\u001B[49m\u001B[43m,\u001B[49m\u001B[43m \u001B[49m\u001B[43mpackage\u001B[49m\u001B[43m,\u001B[49m\u001B[43m \u001B[49m\u001B[43mlevel\u001B[49m\u001B[43m)\u001B[49m\n",
      "File \u001B[1;32m<frozen importlib._bootstrap>:1050\u001B[0m, in \u001B[0;36m_gcd_import\u001B[1;34m(name, package, level)\u001B[0m\n",
      "File \u001B[1;32m<frozen importlib._bootstrap>:1027\u001B[0m, in \u001B[0;36m_find_and_load\u001B[1;34m(name, import_)\u001B[0m\n",
      "File \u001B[1;32m<frozen importlib._bootstrap>:992\u001B[0m, in \u001B[0;36m_find_and_load_unlocked\u001B[1;34m(name, import_)\u001B[0m\n",
      "File \u001B[1;32m<frozen importlib._bootstrap>:241\u001B[0m, in \u001B[0;36m_call_with_frames_removed\u001B[1;34m(f, *args, **kwds)\u001B[0m\n",
      "File \u001B[1;32m<frozen importlib._bootstrap>:1050\u001B[0m, in \u001B[0;36m_gcd_import\u001B[1;34m(name, package, level)\u001B[0m\n",
      "File \u001B[1;32m<frozen importlib._bootstrap>:1027\u001B[0m, in \u001B[0;36m_find_and_load\u001B[1;34m(name, import_)\u001B[0m\n",
      "File \u001B[1;32m<frozen importlib._bootstrap>:1002\u001B[0m, in \u001B[0;36m_find_and_load_unlocked\u001B[1;34m(name, import_)\u001B[0m\n",
      "File \u001B[1;32m<frozen importlib._bootstrap>:945\u001B[0m, in \u001B[0;36m_find_spec\u001B[1;34m(name, path, target)\u001B[0m\n",
      "File \u001B[1;32m<frozen importlib._bootstrap_external>:1439\u001B[0m, in \u001B[0;36mfind_spec\u001B[1;34m(cls, fullname, path, target)\u001B[0m\n",
      "File \u001B[1;32m<frozen importlib._bootstrap_external>:1411\u001B[0m, in \u001B[0;36m_get_spec\u001B[1;34m(cls, fullname, path, target)\u001B[0m\n",
      "File \u001B[1;32m<frozen importlib._bootstrap_external>:1544\u001B[0m, in \u001B[0;36mfind_spec\u001B[1;34m(self, fullname, target)\u001B[0m\n",
      "File \u001B[1;32m<frozen importlib._bootstrap_external>:147\u001B[0m, in \u001B[0;36m_path_stat\u001B[1;34m(path)\u001B[0m\n",
      "\u001B[1;31mKeyboardInterrupt\u001B[0m: "
     ]
    },
    {
     "name": "stderr",
     "output_type": "stream",
     "text": [
      "Exception ignored in: 'pandas._libs.tslibs.timezones.is_utc_zoneinfo'\n",
      "Traceback (most recent call last):\n",
      "  File \"D:\\Software-Gao\\Python\\lib\\zoneinfo\\_common.py\", line 12, in load_tzdata\n",
      "    return importlib.resources.open_binary(package_name, resource_name)\n",
      "  File \"D:\\Software-Gao\\Python\\lib\\importlib\\resources.py\", line 43, in open_binary\n",
      "    package = _common.get_package(package)\n",
      "  File \"D:\\Software-Gao\\Python\\lib\\importlib\\_common.py\", line 66, in get_package\n",
      "    resolved = resolve(package)\n",
      "  File \"D:\\Software-Gao\\Python\\lib\\importlib\\_common.py\", line 57, in resolve\n",
      "    return cand if isinstance(cand, types.ModuleType) else importlib.import_module(cand)\n",
      "  File \"D:\\Software-Gao\\Python\\lib\\importlib\\__init__.py\", line 126, in import_module\n",
      "    return _bootstrap._gcd_import(name[level:], package, level)\n",
      "  File \"<frozen importlib._bootstrap>\", line 1050, in _gcd_import\n",
      "  File \"<frozen importlib._bootstrap>\", line 1027, in _find_and_load\n",
      "  File \"<frozen importlib._bootstrap>\", line 992, in _find_and_load_unlocked\n",
      "  File \"<frozen importlib._bootstrap>\", line 241, in _call_with_frames_removed\n",
      "  File \"<frozen importlib._bootstrap>\", line 1050, in _gcd_import\n",
      "  File \"<frozen importlib._bootstrap>\", line 1027, in _find_and_load\n",
      "  File \"<frozen importlib._bootstrap>\", line 1002, in _find_and_load_unlocked\n",
      "  File \"<frozen importlib._bootstrap>\", line 945, in _find_spec\n",
      "  File \"<frozen importlib._bootstrap_external>\", line 1439, in find_spec\n",
      "  File \"<frozen importlib._bootstrap_external>\", line 1411, in _get_spec\n",
      "  File \"<frozen importlib._bootstrap_external>\", line 1544, in find_spec\n",
      "  File \"<frozen importlib._bootstrap_external>\", line 147, in _path_stat\n",
      "KeyboardInterrupt: \n"
     ]
    },
    {
     "ename": "KeyboardInterrupt",
     "evalue": "",
     "output_type": "error",
     "traceback": [
      "\u001B[1;31m---------------------------------------------------------------------------\u001B[0m",
      "\u001B[1;31mKeyboardInterrupt\u001B[0m                         Traceback (most recent call last)",
      "File \u001B[1;32mD:\\Software-Gao\\Python\\lib\\zoneinfo\\_common.py:12\u001B[0m, in \u001B[0;36mload_tzdata\u001B[1;34m(key)\u001B[0m\n\u001B[0;32m      9\u001B[0m resource_name \u001B[38;5;241m=\u001B[39m components[\u001B[38;5;241m-\u001B[39m\u001B[38;5;241m1\u001B[39m]\n\u001B[0;32m     11\u001B[0m \u001B[38;5;28;01mtry\u001B[39;00m:\n\u001B[1;32m---> 12\u001B[0m     \u001B[38;5;28;01mreturn\u001B[39;00m \u001B[43mimportlib\u001B[49m\u001B[38;5;241;43m.\u001B[39;49m\u001B[43mresources\u001B[49m\u001B[38;5;241;43m.\u001B[39;49m\u001B[43mopen_binary\u001B[49m\u001B[43m(\u001B[49m\u001B[43mpackage_name\u001B[49m\u001B[43m,\u001B[49m\u001B[43m \u001B[49m\u001B[43mresource_name\u001B[49m\u001B[43m)\u001B[49m\n\u001B[0;32m     13\u001B[0m \u001B[38;5;28;01mexcept\u001B[39;00m (\u001B[38;5;167;01mImportError\u001B[39;00m, \u001B[38;5;167;01mFileNotFoundError\u001B[39;00m, \u001B[38;5;167;01mUnicodeEncodeError\u001B[39;00m):\n\u001B[0;32m     14\u001B[0m     \u001B[38;5;66;03m# There are three types of exception that can be raised that all amount\u001B[39;00m\n\u001B[0;32m     15\u001B[0m     \u001B[38;5;66;03m# to \"we cannot find this key\":\u001B[39;00m\n\u001B[1;32m   (...)\u001B[0m\n\u001B[0;32m     22\u001B[0m     \u001B[38;5;66;03m# UnicodeEncodeError: If package_name or resource_name are not UTF-8,\u001B[39;00m\n\u001B[0;32m     23\u001B[0m     \u001B[38;5;66;03m#   such as keys containing a surrogate character.\u001B[39;00m\n\u001B[0;32m     24\u001B[0m     \u001B[38;5;28;01mraise\u001B[39;00m ZoneInfoNotFoundError(\u001B[38;5;124mf\u001B[39m\u001B[38;5;124m\"\u001B[39m\u001B[38;5;124mNo time zone found with key \u001B[39m\u001B[38;5;132;01m{\u001B[39;00mkey\u001B[38;5;132;01m}\u001B[39;00m\u001B[38;5;124m\"\u001B[39m)\n",
      "File \u001B[1;32mD:\\Software-Gao\\Python\\lib\\importlib\\resources.py:43\u001B[0m, in \u001B[0;36mopen_binary\u001B[1;34m(package, resource)\u001B[0m\n\u001B[0;32m     41\u001B[0m \u001B[38;5;250m\u001B[39m\u001B[38;5;124;03m\"\"\"Return a file-like object opened for binary reading of the resource.\"\"\"\u001B[39;00m\n\u001B[0;32m     42\u001B[0m resource \u001B[38;5;241m=\u001B[39m _common\u001B[38;5;241m.\u001B[39mnormalize_path(resource)\n\u001B[1;32m---> 43\u001B[0m package \u001B[38;5;241m=\u001B[39m \u001B[43m_common\u001B[49m\u001B[38;5;241;43m.\u001B[39;49m\u001B[43mget_package\u001B[49m\u001B[43m(\u001B[49m\u001B[43mpackage\u001B[49m\u001B[43m)\u001B[49m\n\u001B[0;32m     44\u001B[0m reader \u001B[38;5;241m=\u001B[39m _common\u001B[38;5;241m.\u001B[39mget_resource_reader(package)\n\u001B[0;32m     45\u001B[0m \u001B[38;5;28;01mif\u001B[39;00m reader \u001B[38;5;129;01mis\u001B[39;00m \u001B[38;5;129;01mnot\u001B[39;00m \u001B[38;5;28;01mNone\u001B[39;00m:\n",
      "File \u001B[1;32mD:\\Software-Gao\\Python\\lib\\importlib\\_common.py:66\u001B[0m, in \u001B[0;36mget_package\u001B[1;34m(package)\u001B[0m\n\u001B[0;32m     60\u001B[0m \u001B[38;5;28;01mdef\u001B[39;00m \u001B[38;5;21mget_package\u001B[39m(package):\n\u001B[0;32m     61\u001B[0m     \u001B[38;5;66;03m# type: (Package) -> types.ModuleType\u001B[39;00m\n\u001B[0;32m     62\u001B[0m \u001B[38;5;250m    \u001B[39m\u001B[38;5;124;03m\"\"\"Take a package name or module object and return the module.\u001B[39;00m\n\u001B[0;32m     63\u001B[0m \n\u001B[0;32m     64\u001B[0m \u001B[38;5;124;03m    Raise an exception if the resolved module is not a package.\u001B[39;00m\n\u001B[0;32m     65\u001B[0m \u001B[38;5;124;03m    \"\"\"\u001B[39;00m\n\u001B[1;32m---> 66\u001B[0m     resolved \u001B[38;5;241m=\u001B[39m \u001B[43mresolve\u001B[49m\u001B[43m(\u001B[49m\u001B[43mpackage\u001B[49m\u001B[43m)\u001B[49m\n\u001B[0;32m     67\u001B[0m     \u001B[38;5;28;01mif\u001B[39;00m wrap_spec(resolved)\u001B[38;5;241m.\u001B[39msubmodule_search_locations \u001B[38;5;129;01mis\u001B[39;00m \u001B[38;5;28;01mNone\u001B[39;00m:\n\u001B[0;32m     68\u001B[0m         \u001B[38;5;28;01mraise\u001B[39;00m \u001B[38;5;167;01mTypeError\u001B[39;00m(\u001B[38;5;124mf\u001B[39m\u001B[38;5;124m'\u001B[39m\u001B[38;5;132;01m{\u001B[39;00mpackage\u001B[38;5;132;01m!r}\u001B[39;00m\u001B[38;5;124m is not a package\u001B[39m\u001B[38;5;124m'\u001B[39m)\n",
      "File \u001B[1;32mD:\\Software-Gao\\Python\\lib\\importlib\\_common.py:57\u001B[0m, in \u001B[0;36mresolve\u001B[1;34m(cand)\u001B[0m\n\u001B[0;32m     55\u001B[0m \u001B[38;5;28;01mdef\u001B[39;00m \u001B[38;5;21mresolve\u001B[39m(cand):\n\u001B[0;32m     56\u001B[0m     \u001B[38;5;66;03m# type: (Package) -> types.ModuleType\u001B[39;00m\n\u001B[1;32m---> 57\u001B[0m     \u001B[38;5;28;01mreturn\u001B[39;00m cand \u001B[38;5;28;01mif\u001B[39;00m \u001B[38;5;28misinstance\u001B[39m(cand, types\u001B[38;5;241m.\u001B[39mModuleType) \u001B[38;5;28;01melse\u001B[39;00m \u001B[43mimportlib\u001B[49m\u001B[38;5;241;43m.\u001B[39;49m\u001B[43mimport_module\u001B[49m\u001B[43m(\u001B[49m\u001B[43mcand\u001B[49m\u001B[43m)\u001B[49m\n",
      "File \u001B[1;32mD:\\Software-Gao\\Python\\lib\\importlib\\__init__.py:126\u001B[0m, in \u001B[0;36mimport_module\u001B[1;34m(name, package)\u001B[0m\n\u001B[0;32m    124\u001B[0m             \u001B[38;5;28;01mbreak\u001B[39;00m\n\u001B[0;32m    125\u001B[0m         level \u001B[38;5;241m+\u001B[39m\u001B[38;5;241m=\u001B[39m \u001B[38;5;241m1\u001B[39m\n\u001B[1;32m--> 126\u001B[0m \u001B[38;5;28;01mreturn\u001B[39;00m \u001B[43m_bootstrap\u001B[49m\u001B[38;5;241;43m.\u001B[39;49m\u001B[43m_gcd_import\u001B[49m\u001B[43m(\u001B[49m\u001B[43mname\u001B[49m\u001B[43m[\u001B[49m\u001B[43mlevel\u001B[49m\u001B[43m:\u001B[49m\u001B[43m]\u001B[49m\u001B[43m,\u001B[49m\u001B[43m \u001B[49m\u001B[43mpackage\u001B[49m\u001B[43m,\u001B[49m\u001B[43m \u001B[49m\u001B[43mlevel\u001B[49m\u001B[43m)\u001B[49m\n",
      "File \u001B[1;32m<frozen importlib._bootstrap>:1050\u001B[0m, in \u001B[0;36m_gcd_import\u001B[1;34m(name, package, level)\u001B[0m\n",
      "File \u001B[1;32m<frozen importlib._bootstrap>:1027\u001B[0m, in \u001B[0;36m_find_and_load\u001B[1;34m(name, import_)\u001B[0m\n",
      "File \u001B[1;32m<frozen importlib._bootstrap>:992\u001B[0m, in \u001B[0;36m_find_and_load_unlocked\u001B[1;34m(name, import_)\u001B[0m\n",
      "File \u001B[1;32m<frozen importlib._bootstrap>:241\u001B[0m, in \u001B[0;36m_call_with_frames_removed\u001B[1;34m(f, *args, **kwds)\u001B[0m\n",
      "File \u001B[1;32m<frozen importlib._bootstrap>:1050\u001B[0m, in \u001B[0;36m_gcd_import\u001B[1;34m(name, package, level)\u001B[0m\n",
      "File \u001B[1;32m<frozen importlib._bootstrap>:1027\u001B[0m, in \u001B[0;36m_find_and_load\u001B[1;34m(name, import_)\u001B[0m\n",
      "File \u001B[1;32m<frozen importlib._bootstrap>:1002\u001B[0m, in \u001B[0;36m_find_and_load_unlocked\u001B[1;34m(name, import_)\u001B[0m\n",
      "File \u001B[1;32m<frozen importlib._bootstrap>:945\u001B[0m, in \u001B[0;36m_find_spec\u001B[1;34m(name, path, target)\u001B[0m\n",
      "File \u001B[1;32m<frozen importlib._bootstrap_external>:1439\u001B[0m, in \u001B[0;36mfind_spec\u001B[1;34m(cls, fullname, path, target)\u001B[0m\n",
      "File \u001B[1;32m<frozen importlib._bootstrap_external>:1411\u001B[0m, in \u001B[0;36m_get_spec\u001B[1;34m(cls, fullname, path, target)\u001B[0m\n",
      "File \u001B[1;32m<frozen importlib._bootstrap_external>:1544\u001B[0m, in \u001B[0;36mfind_spec\u001B[1;34m(self, fullname, target)\u001B[0m\n",
      "File \u001B[1;32m<frozen importlib._bootstrap_external>:147\u001B[0m, in \u001B[0;36m_path_stat\u001B[1;34m(path)\u001B[0m\n",
      "\u001B[1;31mKeyboardInterrupt\u001B[0m: "
     ]
    },
    {
     "name": "stderr",
     "output_type": "stream",
     "text": [
      "Exception ignored in: 'pandas._libs.tslibs.timezones.is_utc_zoneinfo'\n",
      "Traceback (most recent call last):\n",
      "  File \"D:\\Software-Gao\\Python\\lib\\zoneinfo\\_common.py\", line 12, in load_tzdata\n",
      "    return importlib.resources.open_binary(package_name, resource_name)\n",
      "  File \"D:\\Software-Gao\\Python\\lib\\importlib\\resources.py\", line 43, in open_binary\n",
      "    package = _common.get_package(package)\n",
      "  File \"D:\\Software-Gao\\Python\\lib\\importlib\\_common.py\", line 66, in get_package\n",
      "    resolved = resolve(package)\n",
      "  File \"D:\\Software-Gao\\Python\\lib\\importlib\\_common.py\", line 57, in resolve\n",
      "    return cand if isinstance(cand, types.ModuleType) else importlib.import_module(cand)\n",
      "  File \"D:\\Software-Gao\\Python\\lib\\importlib\\__init__.py\", line 126, in import_module\n",
      "    return _bootstrap._gcd_import(name[level:], package, level)\n",
      "  File \"<frozen importlib._bootstrap>\", line 1050, in _gcd_import\n",
      "  File \"<frozen importlib._bootstrap>\", line 1027, in _find_and_load\n",
      "  File \"<frozen importlib._bootstrap>\", line 992, in _find_and_load_unlocked\n",
      "  File \"<frozen importlib._bootstrap>\", line 241, in _call_with_frames_removed\n",
      "  File \"<frozen importlib._bootstrap>\", line 1050, in _gcd_import\n",
      "  File \"<frozen importlib._bootstrap>\", line 1027, in _find_and_load\n",
      "  File \"<frozen importlib._bootstrap>\", line 1002, in _find_and_load_unlocked\n",
      "  File \"<frozen importlib._bootstrap>\", line 945, in _find_spec\n",
      "  File \"<frozen importlib._bootstrap_external>\", line 1439, in find_spec\n",
      "  File \"<frozen importlib._bootstrap_external>\", line 1411, in _get_spec\n",
      "  File \"<frozen importlib._bootstrap_external>\", line 1544, in find_spec\n",
      "  File \"<frozen importlib._bootstrap_external>\", line 147, in _path_stat\n",
      "KeyboardInterrupt: \n"
     ]
    },
    {
     "ename": "KeyboardInterrupt",
     "evalue": "",
     "output_type": "error",
     "traceback": [
      "\u001B[1;31m---------------------------------------------------------------------------\u001B[0m",
      "\u001B[1;31mKeyboardInterrupt\u001B[0m                         Traceback (most recent call last)",
      "File \u001B[1;32mD:\\Software-Gao\\Python\\lib\\zoneinfo\\_common.py:12\u001B[0m, in \u001B[0;36mload_tzdata\u001B[1;34m(key)\u001B[0m\n\u001B[0;32m      9\u001B[0m resource_name \u001B[38;5;241m=\u001B[39m components[\u001B[38;5;241m-\u001B[39m\u001B[38;5;241m1\u001B[39m]\n\u001B[0;32m     11\u001B[0m \u001B[38;5;28;01mtry\u001B[39;00m:\n\u001B[1;32m---> 12\u001B[0m     \u001B[38;5;28;01mreturn\u001B[39;00m \u001B[43mimportlib\u001B[49m\u001B[38;5;241;43m.\u001B[39;49m\u001B[43mresources\u001B[49m\u001B[38;5;241;43m.\u001B[39;49m\u001B[43mopen_binary\u001B[49m\u001B[43m(\u001B[49m\u001B[43mpackage_name\u001B[49m\u001B[43m,\u001B[49m\u001B[43m \u001B[49m\u001B[43mresource_name\u001B[49m\u001B[43m)\u001B[49m\n\u001B[0;32m     13\u001B[0m \u001B[38;5;28;01mexcept\u001B[39;00m (\u001B[38;5;167;01mImportError\u001B[39;00m, \u001B[38;5;167;01mFileNotFoundError\u001B[39;00m, \u001B[38;5;167;01mUnicodeEncodeError\u001B[39;00m):\n\u001B[0;32m     14\u001B[0m     \u001B[38;5;66;03m# There are three types of exception that can be raised that all amount\u001B[39;00m\n\u001B[0;32m     15\u001B[0m     \u001B[38;5;66;03m# to \"we cannot find this key\":\u001B[39;00m\n\u001B[1;32m   (...)\u001B[0m\n\u001B[0;32m     22\u001B[0m     \u001B[38;5;66;03m# UnicodeEncodeError: If package_name or resource_name are not UTF-8,\u001B[39;00m\n\u001B[0;32m     23\u001B[0m     \u001B[38;5;66;03m#   such as keys containing a surrogate character.\u001B[39;00m\n\u001B[0;32m     24\u001B[0m     \u001B[38;5;28;01mraise\u001B[39;00m ZoneInfoNotFoundError(\u001B[38;5;124mf\u001B[39m\u001B[38;5;124m\"\u001B[39m\u001B[38;5;124mNo time zone found with key \u001B[39m\u001B[38;5;132;01m{\u001B[39;00mkey\u001B[38;5;132;01m}\u001B[39;00m\u001B[38;5;124m\"\u001B[39m)\n",
      "File \u001B[1;32mD:\\Software-Gao\\Python\\lib\\importlib\\resources.py:43\u001B[0m, in \u001B[0;36mopen_binary\u001B[1;34m(package, resource)\u001B[0m\n\u001B[0;32m     41\u001B[0m \u001B[38;5;250m\u001B[39m\u001B[38;5;124;03m\"\"\"Return a file-like object opened for binary reading of the resource.\"\"\"\u001B[39;00m\n\u001B[0;32m     42\u001B[0m resource \u001B[38;5;241m=\u001B[39m _common\u001B[38;5;241m.\u001B[39mnormalize_path(resource)\n\u001B[1;32m---> 43\u001B[0m package \u001B[38;5;241m=\u001B[39m \u001B[43m_common\u001B[49m\u001B[38;5;241;43m.\u001B[39;49m\u001B[43mget_package\u001B[49m\u001B[43m(\u001B[49m\u001B[43mpackage\u001B[49m\u001B[43m)\u001B[49m\n\u001B[0;32m     44\u001B[0m reader \u001B[38;5;241m=\u001B[39m _common\u001B[38;5;241m.\u001B[39mget_resource_reader(package)\n\u001B[0;32m     45\u001B[0m \u001B[38;5;28;01mif\u001B[39;00m reader \u001B[38;5;129;01mis\u001B[39;00m \u001B[38;5;129;01mnot\u001B[39;00m \u001B[38;5;28;01mNone\u001B[39;00m:\n",
      "File \u001B[1;32mD:\\Software-Gao\\Python\\lib\\importlib\\_common.py:66\u001B[0m, in \u001B[0;36mget_package\u001B[1;34m(package)\u001B[0m\n\u001B[0;32m     60\u001B[0m \u001B[38;5;28;01mdef\u001B[39;00m \u001B[38;5;21mget_package\u001B[39m(package):\n\u001B[0;32m     61\u001B[0m     \u001B[38;5;66;03m# type: (Package) -> types.ModuleType\u001B[39;00m\n\u001B[0;32m     62\u001B[0m \u001B[38;5;250m    \u001B[39m\u001B[38;5;124;03m\"\"\"Take a package name or module object and return the module.\u001B[39;00m\n\u001B[0;32m     63\u001B[0m \n\u001B[0;32m     64\u001B[0m \u001B[38;5;124;03m    Raise an exception if the resolved module is not a package.\u001B[39;00m\n\u001B[0;32m     65\u001B[0m \u001B[38;5;124;03m    \"\"\"\u001B[39;00m\n\u001B[1;32m---> 66\u001B[0m     resolved \u001B[38;5;241m=\u001B[39m \u001B[43mresolve\u001B[49m\u001B[43m(\u001B[49m\u001B[43mpackage\u001B[49m\u001B[43m)\u001B[49m\n\u001B[0;32m     67\u001B[0m     \u001B[38;5;28;01mif\u001B[39;00m wrap_spec(resolved)\u001B[38;5;241m.\u001B[39msubmodule_search_locations \u001B[38;5;129;01mis\u001B[39;00m \u001B[38;5;28;01mNone\u001B[39;00m:\n\u001B[0;32m     68\u001B[0m         \u001B[38;5;28;01mraise\u001B[39;00m \u001B[38;5;167;01mTypeError\u001B[39;00m(\u001B[38;5;124mf\u001B[39m\u001B[38;5;124m'\u001B[39m\u001B[38;5;132;01m{\u001B[39;00mpackage\u001B[38;5;132;01m!r}\u001B[39;00m\u001B[38;5;124m is not a package\u001B[39m\u001B[38;5;124m'\u001B[39m)\n",
      "File \u001B[1;32mD:\\Software-Gao\\Python\\lib\\importlib\\_common.py:57\u001B[0m, in \u001B[0;36mresolve\u001B[1;34m(cand)\u001B[0m\n\u001B[0;32m     55\u001B[0m \u001B[38;5;28;01mdef\u001B[39;00m \u001B[38;5;21mresolve\u001B[39m(cand):\n\u001B[0;32m     56\u001B[0m     \u001B[38;5;66;03m# type: (Package) -> types.ModuleType\u001B[39;00m\n\u001B[1;32m---> 57\u001B[0m     \u001B[38;5;28;01mreturn\u001B[39;00m cand \u001B[38;5;28;01mif\u001B[39;00m \u001B[38;5;28misinstance\u001B[39m(cand, types\u001B[38;5;241m.\u001B[39mModuleType) \u001B[38;5;28;01melse\u001B[39;00m \u001B[43mimportlib\u001B[49m\u001B[38;5;241;43m.\u001B[39;49m\u001B[43mimport_module\u001B[49m\u001B[43m(\u001B[49m\u001B[43mcand\u001B[49m\u001B[43m)\u001B[49m\n",
      "File \u001B[1;32mD:\\Software-Gao\\Python\\lib\\importlib\\__init__.py:126\u001B[0m, in \u001B[0;36mimport_module\u001B[1;34m(name, package)\u001B[0m\n\u001B[0;32m    124\u001B[0m             \u001B[38;5;28;01mbreak\u001B[39;00m\n\u001B[0;32m    125\u001B[0m         level \u001B[38;5;241m+\u001B[39m\u001B[38;5;241m=\u001B[39m \u001B[38;5;241m1\u001B[39m\n\u001B[1;32m--> 126\u001B[0m \u001B[38;5;28;01mreturn\u001B[39;00m \u001B[43m_bootstrap\u001B[49m\u001B[38;5;241;43m.\u001B[39;49m\u001B[43m_gcd_import\u001B[49m\u001B[43m(\u001B[49m\u001B[43mname\u001B[49m\u001B[43m[\u001B[49m\u001B[43mlevel\u001B[49m\u001B[43m:\u001B[49m\u001B[43m]\u001B[49m\u001B[43m,\u001B[49m\u001B[43m \u001B[49m\u001B[43mpackage\u001B[49m\u001B[43m,\u001B[49m\u001B[43m \u001B[49m\u001B[43mlevel\u001B[49m\u001B[43m)\u001B[49m\n",
      "File \u001B[1;32m<frozen importlib._bootstrap>:1050\u001B[0m, in \u001B[0;36m_gcd_import\u001B[1;34m(name, package, level)\u001B[0m\n",
      "File \u001B[1;32m<frozen importlib._bootstrap>:1027\u001B[0m, in \u001B[0;36m_find_and_load\u001B[1;34m(name, import_)\u001B[0m\n",
      "File \u001B[1;32m<frozen importlib._bootstrap>:992\u001B[0m, in \u001B[0;36m_find_and_load_unlocked\u001B[1;34m(name, import_)\u001B[0m\n",
      "File \u001B[1;32m<frozen importlib._bootstrap>:241\u001B[0m, in \u001B[0;36m_call_with_frames_removed\u001B[1;34m(f, *args, **kwds)\u001B[0m\n",
      "File \u001B[1;32m<frozen importlib._bootstrap>:1050\u001B[0m, in \u001B[0;36m_gcd_import\u001B[1;34m(name, package, level)\u001B[0m\n",
      "File \u001B[1;32m<frozen importlib._bootstrap>:1027\u001B[0m, in \u001B[0;36m_find_and_load\u001B[1;34m(name, import_)\u001B[0m\n",
      "File \u001B[1;32m<frozen importlib._bootstrap>:1002\u001B[0m, in \u001B[0;36m_find_and_load_unlocked\u001B[1;34m(name, import_)\u001B[0m\n",
      "File \u001B[1;32m<frozen importlib._bootstrap>:945\u001B[0m, in \u001B[0;36m_find_spec\u001B[1;34m(name, path, target)\u001B[0m\n",
      "File \u001B[1;32m<frozen importlib._bootstrap_external>:1439\u001B[0m, in \u001B[0;36mfind_spec\u001B[1;34m(cls, fullname, path, target)\u001B[0m\n",
      "File \u001B[1;32m<frozen importlib._bootstrap_external>:1411\u001B[0m, in \u001B[0;36m_get_spec\u001B[1;34m(cls, fullname, path, target)\u001B[0m\n",
      "File \u001B[1;32m<frozen importlib._bootstrap_external>:1544\u001B[0m, in \u001B[0;36mfind_spec\u001B[1;34m(self, fullname, target)\u001B[0m\n",
      "File \u001B[1;32m<frozen importlib._bootstrap_external>:147\u001B[0m, in \u001B[0;36m_path_stat\u001B[1;34m(path)\u001B[0m\n",
      "\u001B[1;31mKeyboardInterrupt\u001B[0m: "
     ]
    },
    {
     "name": "stderr",
     "output_type": "stream",
     "text": [
      "Exception ignored in: 'pandas._libs.tslibs.timezones.is_utc_zoneinfo'\n",
      "Traceback (most recent call last):\n",
      "  File \"D:\\Software-Gao\\Python\\lib\\zoneinfo\\_common.py\", line 12, in load_tzdata\n",
      "    return importlib.resources.open_binary(package_name, resource_name)\n",
      "  File \"D:\\Software-Gao\\Python\\lib\\importlib\\resources.py\", line 43, in open_binary\n",
      "    package = _common.get_package(package)\n",
      "  File \"D:\\Software-Gao\\Python\\lib\\importlib\\_common.py\", line 66, in get_package\n",
      "    resolved = resolve(package)\n",
      "  File \"D:\\Software-Gao\\Python\\lib\\importlib\\_common.py\", line 57, in resolve\n",
      "    return cand if isinstance(cand, types.ModuleType) else importlib.import_module(cand)\n",
      "  File \"D:\\Software-Gao\\Python\\lib\\importlib\\__init__.py\", line 126, in import_module\n",
      "    return _bootstrap._gcd_import(name[level:], package, level)\n",
      "  File \"<frozen importlib._bootstrap>\", line 1050, in _gcd_import\n",
      "  File \"<frozen importlib._bootstrap>\", line 1027, in _find_and_load\n",
      "  File \"<frozen importlib._bootstrap>\", line 992, in _find_and_load_unlocked\n",
      "  File \"<frozen importlib._bootstrap>\", line 241, in _call_with_frames_removed\n",
      "  File \"<frozen importlib._bootstrap>\", line 1050, in _gcd_import\n",
      "  File \"<frozen importlib._bootstrap>\", line 1027, in _find_and_load\n",
      "  File \"<frozen importlib._bootstrap>\", line 1002, in _find_and_load_unlocked\n",
      "  File \"<frozen importlib._bootstrap>\", line 945, in _find_spec\n",
      "  File \"<frozen importlib._bootstrap_external>\", line 1439, in find_spec\n",
      "  File \"<frozen importlib._bootstrap_external>\", line 1411, in _get_spec\n",
      "  File \"<frozen importlib._bootstrap_external>\", line 1544, in find_spec\n",
      "  File \"<frozen importlib._bootstrap_external>\", line 147, in _path_stat\n",
      "KeyboardInterrupt: \n"
     ]
    }
   ],
   "source": [
    "data_2.to_csv('D:\\\\RA-Tasks\\\\1 Graph neural network_POI\\\\Task1\\\\Process\\\\out.csv')"
   ],
   "metadata": {
    "collapsed": false
   }
  },
  {
   "cell_type": "code",
   "execution_count": 47,
   "outputs": [
    {
     "ename": "KeyError",
     "evalue": "'timezone'",
     "output_type": "error",
     "traceback": [
      "\u001B[1;31m---------------------------------------------------------------------------\u001B[0m",
      "\u001B[1;31mKeyError\u001B[0m                                  Traceback (most recent call last)",
      "Cell \u001B[1;32mIn[47], line 1\u001B[0m\n\u001B[1;32m----> 1\u001B[0m \u001B[43mdata_2\u001B[49m\u001B[38;5;241;43m.\u001B[39;49m\u001B[43mgroupby\u001B[49m\u001B[43m(\u001B[49m\u001B[43m[\u001B[49m\u001B[38;5;124;43m'\u001B[39;49m\u001B[38;5;124;43mtimezone\u001B[39;49m\u001B[38;5;124;43m'\u001B[39;49m\u001B[43m]\u001B[49m\u001B[43m,\u001B[49m\u001B[43mdropna\u001B[49m\u001B[38;5;241;43m=\u001B[39;49m\u001B[38;5;28;43;01mFalse\u001B[39;49;00m\u001B[43m)\u001B[49m\n",
      "File \u001B[1;32mD:\\Projetcs\\lib\\site-packages\\pandas\\core\\frame.py:8399\u001B[0m, in \u001B[0;36mDataFrame.groupby\u001B[1;34m(self, by, axis, level, as_index, sort, group_keys, squeeze, observed, dropna)\u001B[0m\n\u001B[0;32m   8396\u001B[0m     \u001B[38;5;28;01mraise\u001B[39;00m \u001B[38;5;167;01mTypeError\u001B[39;00m(\u001B[38;5;124m\"\u001B[39m\u001B[38;5;124mYou have to supply one of \u001B[39m\u001B[38;5;124m'\u001B[39m\u001B[38;5;124mby\u001B[39m\u001B[38;5;124m'\u001B[39m\u001B[38;5;124m and \u001B[39m\u001B[38;5;124m'\u001B[39m\u001B[38;5;124mlevel\u001B[39m\u001B[38;5;124m'\u001B[39m\u001B[38;5;124m\"\u001B[39m)\n\u001B[0;32m   8397\u001B[0m axis \u001B[38;5;241m=\u001B[39m \u001B[38;5;28mself\u001B[39m\u001B[38;5;241m.\u001B[39m_get_axis_number(axis)\n\u001B[1;32m-> 8399\u001B[0m \u001B[38;5;28;01mreturn\u001B[39;00m \u001B[43mDataFrameGroupBy\u001B[49m\u001B[43m(\u001B[49m\n\u001B[0;32m   8400\u001B[0m \u001B[43m    \u001B[49m\u001B[43mobj\u001B[49m\u001B[38;5;241;43m=\u001B[39;49m\u001B[38;5;28;43mself\u001B[39;49m\u001B[43m,\u001B[49m\n\u001B[0;32m   8401\u001B[0m \u001B[43m    \u001B[49m\u001B[43mkeys\u001B[49m\u001B[38;5;241;43m=\u001B[39;49m\u001B[43mby\u001B[49m\u001B[43m,\u001B[49m\n\u001B[0;32m   8402\u001B[0m \u001B[43m    \u001B[49m\u001B[43maxis\u001B[49m\u001B[38;5;241;43m=\u001B[39;49m\u001B[43maxis\u001B[49m\u001B[43m,\u001B[49m\n\u001B[0;32m   8403\u001B[0m \u001B[43m    \u001B[49m\u001B[43mlevel\u001B[49m\u001B[38;5;241;43m=\u001B[39;49m\u001B[43mlevel\u001B[49m\u001B[43m,\u001B[49m\n\u001B[0;32m   8404\u001B[0m \u001B[43m    \u001B[49m\u001B[43mas_index\u001B[49m\u001B[38;5;241;43m=\u001B[39;49m\u001B[43mas_index\u001B[49m\u001B[43m,\u001B[49m\n\u001B[0;32m   8405\u001B[0m \u001B[43m    \u001B[49m\u001B[43msort\u001B[49m\u001B[38;5;241;43m=\u001B[39;49m\u001B[43msort\u001B[49m\u001B[43m,\u001B[49m\n\u001B[0;32m   8406\u001B[0m \u001B[43m    \u001B[49m\u001B[43mgroup_keys\u001B[49m\u001B[38;5;241;43m=\u001B[39;49m\u001B[43mgroup_keys\u001B[49m\u001B[43m,\u001B[49m\n\u001B[0;32m   8407\u001B[0m \u001B[43m    \u001B[49m\u001B[43msqueeze\u001B[49m\u001B[38;5;241;43m=\u001B[39;49m\u001B[43msqueeze\u001B[49m\u001B[43m,\u001B[49m\n\u001B[0;32m   8408\u001B[0m \u001B[43m    \u001B[49m\u001B[43mobserved\u001B[49m\u001B[38;5;241;43m=\u001B[39;49m\u001B[43mobserved\u001B[49m\u001B[43m,\u001B[49m\n\u001B[0;32m   8409\u001B[0m \u001B[43m    \u001B[49m\u001B[43mdropna\u001B[49m\u001B[38;5;241;43m=\u001B[39;49m\u001B[43mdropna\u001B[49m\u001B[43m,\u001B[49m\n\u001B[0;32m   8410\u001B[0m \u001B[43m\u001B[49m\u001B[43m)\u001B[49m\n",
      "File \u001B[1;32mD:\\Projetcs\\lib\\site-packages\\pandas\\core\\groupby\\groupby.py:959\u001B[0m, in \u001B[0;36mGroupBy.__init__\u001B[1;34m(self, obj, keys, axis, level, grouper, exclusions, selection, as_index, sort, group_keys, squeeze, observed, mutated, dropna)\u001B[0m\n\u001B[0;32m    956\u001B[0m \u001B[38;5;28;01mif\u001B[39;00m grouper \u001B[38;5;129;01mis\u001B[39;00m \u001B[38;5;28;01mNone\u001B[39;00m:\n\u001B[0;32m    957\u001B[0m     \u001B[38;5;28;01mfrom\u001B[39;00m \u001B[38;5;21;01mpandas\u001B[39;00m\u001B[38;5;21;01m.\u001B[39;00m\u001B[38;5;21;01mcore\u001B[39;00m\u001B[38;5;21;01m.\u001B[39;00m\u001B[38;5;21;01mgroupby\u001B[39;00m\u001B[38;5;21;01m.\u001B[39;00m\u001B[38;5;21;01mgrouper\u001B[39;00m \u001B[38;5;28;01mimport\u001B[39;00m get_grouper\n\u001B[1;32m--> 959\u001B[0m     grouper, exclusions, obj \u001B[38;5;241m=\u001B[39m \u001B[43mget_grouper\u001B[49m\u001B[43m(\u001B[49m\n\u001B[0;32m    960\u001B[0m \u001B[43m        \u001B[49m\u001B[43mobj\u001B[49m\u001B[43m,\u001B[49m\n\u001B[0;32m    961\u001B[0m \u001B[43m        \u001B[49m\u001B[43mkeys\u001B[49m\u001B[43m,\u001B[49m\n\u001B[0;32m    962\u001B[0m \u001B[43m        \u001B[49m\u001B[43maxis\u001B[49m\u001B[38;5;241;43m=\u001B[39;49m\u001B[43maxis\u001B[49m\u001B[43m,\u001B[49m\n\u001B[0;32m    963\u001B[0m \u001B[43m        \u001B[49m\u001B[43mlevel\u001B[49m\u001B[38;5;241;43m=\u001B[39;49m\u001B[43mlevel\u001B[49m\u001B[43m,\u001B[49m\n\u001B[0;32m    964\u001B[0m \u001B[43m        \u001B[49m\u001B[43msort\u001B[49m\u001B[38;5;241;43m=\u001B[39;49m\u001B[43msort\u001B[49m\u001B[43m,\u001B[49m\n\u001B[0;32m    965\u001B[0m \u001B[43m        \u001B[49m\u001B[43mobserved\u001B[49m\u001B[38;5;241;43m=\u001B[39;49m\u001B[43mobserved\u001B[49m\u001B[43m,\u001B[49m\n\u001B[0;32m    966\u001B[0m \u001B[43m        \u001B[49m\u001B[43mmutated\u001B[49m\u001B[38;5;241;43m=\u001B[39;49m\u001B[38;5;28;43mself\u001B[39;49m\u001B[38;5;241;43m.\u001B[39;49m\u001B[43mmutated\u001B[49m\u001B[43m,\u001B[49m\n\u001B[0;32m    967\u001B[0m \u001B[43m        \u001B[49m\u001B[43mdropna\u001B[49m\u001B[38;5;241;43m=\u001B[39;49m\u001B[38;5;28;43mself\u001B[39;49m\u001B[38;5;241;43m.\u001B[39;49m\u001B[43mdropna\u001B[49m\u001B[43m,\u001B[49m\n\u001B[0;32m    968\u001B[0m \u001B[43m    \u001B[49m\u001B[43m)\u001B[49m\n\u001B[0;32m    970\u001B[0m \u001B[38;5;28mself\u001B[39m\u001B[38;5;241m.\u001B[39mobj \u001B[38;5;241m=\u001B[39m obj\n\u001B[0;32m    971\u001B[0m \u001B[38;5;28mself\u001B[39m\u001B[38;5;241m.\u001B[39maxis \u001B[38;5;241m=\u001B[39m obj\u001B[38;5;241m.\u001B[39m_get_axis_number(axis)\n",
      "File \u001B[1;32mD:\\Projetcs\\lib\\site-packages\\pandas\\core\\groupby\\grouper.py:888\u001B[0m, in \u001B[0;36mget_grouper\u001B[1;34m(obj, key, axis, level, sort, observed, mutated, validate, dropna)\u001B[0m\n\u001B[0;32m    886\u001B[0m         in_axis, level, gpr \u001B[38;5;241m=\u001B[39m \u001B[38;5;28;01mFalse\u001B[39;00m, gpr, \u001B[38;5;28;01mNone\u001B[39;00m\n\u001B[0;32m    887\u001B[0m     \u001B[38;5;28;01melse\u001B[39;00m:\n\u001B[1;32m--> 888\u001B[0m         \u001B[38;5;28;01mraise\u001B[39;00m \u001B[38;5;167;01mKeyError\u001B[39;00m(gpr)\n\u001B[0;32m    889\u001B[0m \u001B[38;5;28;01melif\u001B[39;00m \u001B[38;5;28misinstance\u001B[39m(gpr, Grouper) \u001B[38;5;129;01mand\u001B[39;00m gpr\u001B[38;5;241m.\u001B[39mkey \u001B[38;5;129;01mis\u001B[39;00m \u001B[38;5;129;01mnot\u001B[39;00m \u001B[38;5;28;01mNone\u001B[39;00m:\n\u001B[0;32m    890\u001B[0m     \u001B[38;5;66;03m# Add key to exclusions\u001B[39;00m\n\u001B[0;32m    891\u001B[0m     exclusions\u001B[38;5;241m.\u001B[39madd(gpr\u001B[38;5;241m.\u001B[39mkey)\n",
      "\u001B[1;31mKeyError\u001B[0m: 'timezone'"
     ]
    }
   ],
   "source": [
    "data_2.groupby(['timezone'],dropna=False)"
   ],
   "metadata": {
    "collapsed": false
   }
  },
  {
   "cell_type": "code",
   "execution_count": 48,
   "outputs": [],
   "source": [
    "data_3=data_1.set_index('date')"
   ],
   "metadata": {
    "collapsed": false
   }
  },
  {
   "cell_type": "code",
   "execution_count": 49,
   "outputs": [
    {
     "data": {
      "text/plain": "                           Unnamed: 0                      created_at  \\\ndate                                                                    \n2016-05-07 06:18:59+00:00           0  Sat May 07 06:18:59 +0000 2016   \n2016-05-07 07:02:19+00:00           1  Sat May 07 07:02:19 +0000 2016   \n2016-05-07 07:02:34+00:00           2  Sat May 07 07:02:34 +0000 2016   \n2016-05-07 07:03:11+00:00           3  Sat May 07 07:03:11 +0000 2016   \n2016-05-07 07:05:37+00:00           4  Sat May 07 07:05:37 +0000 2016   \n\n                                 id_str lang        lat         lon  \\\ndate                                                                  \n2016-05-07 06:18:59+00:00  7.288310e+17   en  22.278850  114.184620   \n2016-05-07 07:02:19+00:00  7.288420e+17   en  22.315302  113.934832   \n2016-05-07 07:02:34+00:00  7.288420e+17   en  22.276808  113.916187   \n2016-05-07 07:03:11+00:00  7.288430e+17   en  22.275643  114.171174   \n2016-05-07 07:05:37+00:00  7.288430e+17   en  22.302772  114.011717   \n\n                                                                        text  \\\ndate                                                                           \n2016-05-07 06:18:59+00:00  #Working #Saturday #Afternoon! #Final #Touch i...   \n2016-05-07 07:02:19+00:00  I'm at Hong Kong International Airport <U+9999...   \n2016-05-07 07:02:34+00:00  The cable car ride... #cablecar #mountain #360...   \n2016-05-07 07:03:11+00:00  Love Roses! <ed><U+00A0><U+00BD><ed><U+00B8><U...   \n2016-05-07 07:05:37+00:00  Preparing for a photo shoot #glamourshots #bla...   \n\n                                            time_zone  truncated  \\\ndate                                                               \n2016-05-07 06:18:59+00:00                   Hong Kong      False   \n2016-05-07 07:02:19+00:00  Eastern Time (US & Canada)      False   \n2016-05-07 07:02:34+00:00                Kuala Lumpur      False   \n2016-05-07 07:03:11+00:00                   Hong Kong      False   \n2016-05-07 07:05:37+00:00                         NaN      False   \n\n                                               url  ... verified  \\\ndate                                                ...            \n2016-05-07 06:18:59+00:00  https://t.co/q4GWk8nZFm  ...    False   \n2016-05-07 07:02:19+00:00  https://t.co/s1U275BtH4  ...    False   \n2016-05-07 07:02:34+00:00  https://t.co/5vwsCLv80G  ...    False   \n2016-05-07 07:03:11+00:00  https://t.co/wTrbCG7H8T  ...    False   \n2016-05-07 07:05:37+00:00  https://t.co/PEVkAoleNQ  ...    False   \n\n                                             hk_time  year month  \\\ndate                                                               \n2016-05-07 06:18:59+00:00  2016-05-07 14:12:59+08:00  2016     5   \n2016-05-07 07:02:19+00:00  2016-05-07 14:56:19+08:00  2016     5   \n2016-05-07 07:02:34+00:00  2016-05-07 14:56:34+08:00  2016     5   \n2016-05-07 07:03:11+00:00  2016-05-07 14:57:11+08:00  2016     5   \n2016-05-07 07:05:37+00:00  2016-05-07 14:59:37+08:00  2016     5   \n\n                           month_plus_year day  TPU_longitudinal  \\\ndate                                                               \n2016-05-07 06:18:59+00:00           2016_5   7               146   \n2016-05-07 07:02:19+00:00           2016_5   7               951   \n2016-05-07 07:02:34+00:00           2016_5   7               943   \n2016-05-07 07:03:11+00:00           2016_5   7               131   \n2016-05-07 07:05:37+00:00           2016_5   7               971   \n\n                           TPU_cross_sectional  \\\ndate                                             \n2016-05-07 06:18:59+00:00            146 - 147   \n2016-05-07 07:02:19+00:00            950 - 951   \n2016-05-07 07:02:34+00:00            941 - 943   \n2016-05-07 07:03:11+00:00                  131   \n2016-05-07 07:05:37+00:00            971 - 974   \n\n                                                                cleaned_text  \\\ndate                                                                           \n2016-05-07 06:18:59+00:00  working saturday afternoon final touch is on t...   \n2016-05-07 07:02:19+00:00  i am at hong kong international airport u numb...   \n2016-05-07 07:02:34+00:00  the cable car ride repeated cable car mountain...   \n2016-05-07 07:03:11+00:00  love 😍 😍 😍 🌹 🌷 💐 flower weekend saturday beaut...   \n2016-05-07 07:05:37+00:00           for a photo shoot glamour photo h beauty   \n\n                           sentiment  \ndate                                  \n2016-05-07 06:18:59+00:00          1  \n2016-05-07 07:02:19+00:00          1  \n2016-05-07 07:02:34+00:00          1  \n2016-05-07 07:03:11+00:00          2  \n2016-05-07 07:05:37+00:00          2  \n\n[5 rows x 24 columns]",
      "text/html": "<div>\n<style scoped>\n    .dataframe tbody tr th:only-of-type {\n        vertical-align: middle;\n    }\n\n    .dataframe tbody tr th {\n        vertical-align: top;\n    }\n\n    .dataframe thead th {\n        text-align: right;\n    }\n</style>\n<table border=\"1\" class=\"dataframe\">\n  <thead>\n    <tr style=\"text-align: right;\">\n      <th></th>\n      <th>Unnamed: 0</th>\n      <th>created_at</th>\n      <th>id_str</th>\n      <th>lang</th>\n      <th>lat</th>\n      <th>lon</th>\n      <th>text</th>\n      <th>time_zone</th>\n      <th>truncated</th>\n      <th>url</th>\n      <th>...</th>\n      <th>verified</th>\n      <th>hk_time</th>\n      <th>year</th>\n      <th>month</th>\n      <th>month_plus_year</th>\n      <th>day</th>\n      <th>TPU_longitudinal</th>\n      <th>TPU_cross_sectional</th>\n      <th>cleaned_text</th>\n      <th>sentiment</th>\n    </tr>\n    <tr>\n      <th>date</th>\n      <th></th>\n      <th></th>\n      <th></th>\n      <th></th>\n      <th></th>\n      <th></th>\n      <th></th>\n      <th></th>\n      <th></th>\n      <th></th>\n      <th></th>\n      <th></th>\n      <th></th>\n      <th></th>\n      <th></th>\n      <th></th>\n      <th></th>\n      <th></th>\n      <th></th>\n      <th></th>\n      <th></th>\n    </tr>\n  </thead>\n  <tbody>\n    <tr>\n      <th>2016-05-07 06:18:59+00:00</th>\n      <td>0</td>\n      <td>Sat May 07 06:18:59 +0000 2016</td>\n      <td>7.288310e+17</td>\n      <td>en</td>\n      <td>22.278850</td>\n      <td>114.184620</td>\n      <td>#Working #Saturday #Afternoon! #Final #Touch i...</td>\n      <td>Hong Kong</td>\n      <td>False</td>\n      <td>https://t.co/q4GWk8nZFm</td>\n      <td>...</td>\n      <td>False</td>\n      <td>2016-05-07 14:12:59+08:00</td>\n      <td>2016</td>\n      <td>5</td>\n      <td>2016_5</td>\n      <td>7</td>\n      <td>146</td>\n      <td>146 - 147</td>\n      <td>working saturday afternoon final touch is on t...</td>\n      <td>1</td>\n    </tr>\n    <tr>\n      <th>2016-05-07 07:02:19+00:00</th>\n      <td>1</td>\n      <td>Sat May 07 07:02:19 +0000 2016</td>\n      <td>7.288420e+17</td>\n      <td>en</td>\n      <td>22.315302</td>\n      <td>113.934832</td>\n      <td>I'm at Hong Kong International Airport &lt;U+9999...</td>\n      <td>Eastern Time (US &amp; Canada)</td>\n      <td>False</td>\n      <td>https://t.co/s1U275BtH4</td>\n      <td>...</td>\n      <td>False</td>\n      <td>2016-05-07 14:56:19+08:00</td>\n      <td>2016</td>\n      <td>5</td>\n      <td>2016_5</td>\n      <td>7</td>\n      <td>951</td>\n      <td>950 - 951</td>\n      <td>i am at hong kong international airport u numb...</td>\n      <td>1</td>\n    </tr>\n    <tr>\n      <th>2016-05-07 07:02:34+00:00</th>\n      <td>2</td>\n      <td>Sat May 07 07:02:34 +0000 2016</td>\n      <td>7.288420e+17</td>\n      <td>en</td>\n      <td>22.276808</td>\n      <td>113.916187</td>\n      <td>The cable car ride... #cablecar #mountain #360...</td>\n      <td>Kuala Lumpur</td>\n      <td>False</td>\n      <td>https://t.co/5vwsCLv80G</td>\n      <td>...</td>\n      <td>False</td>\n      <td>2016-05-07 14:56:34+08:00</td>\n      <td>2016</td>\n      <td>5</td>\n      <td>2016_5</td>\n      <td>7</td>\n      <td>943</td>\n      <td>941 - 943</td>\n      <td>the cable car ride repeated cable car mountain...</td>\n      <td>1</td>\n    </tr>\n    <tr>\n      <th>2016-05-07 07:03:11+00:00</th>\n      <td>3</td>\n      <td>Sat May 07 07:03:11 +0000 2016</td>\n      <td>7.288430e+17</td>\n      <td>en</td>\n      <td>22.275643</td>\n      <td>114.171174</td>\n      <td>Love Roses! &lt;ed&gt;&lt;U+00A0&gt;&lt;U+00BD&gt;&lt;ed&gt;&lt;U+00B8&gt;&lt;U...</td>\n      <td>Hong Kong</td>\n      <td>False</td>\n      <td>https://t.co/wTrbCG7H8T</td>\n      <td>...</td>\n      <td>False</td>\n      <td>2016-05-07 14:57:11+08:00</td>\n      <td>2016</td>\n      <td>5</td>\n      <td>2016_5</td>\n      <td>7</td>\n      <td>131</td>\n      <td>131</td>\n      <td>love 😍 😍 😍 🌹 🌷 💐 flower weekend saturday beaut...</td>\n      <td>2</td>\n    </tr>\n    <tr>\n      <th>2016-05-07 07:05:37+00:00</th>\n      <td>4</td>\n      <td>Sat May 07 07:05:37 +0000 2016</td>\n      <td>7.288430e+17</td>\n      <td>en</td>\n      <td>22.302772</td>\n      <td>114.011717</td>\n      <td>Preparing for a photo shoot #glamourshots #bla...</td>\n      <td>NaN</td>\n      <td>False</td>\n      <td>https://t.co/PEVkAoleNQ</td>\n      <td>...</td>\n      <td>False</td>\n      <td>2016-05-07 14:59:37+08:00</td>\n      <td>2016</td>\n      <td>5</td>\n      <td>2016_5</td>\n      <td>7</td>\n      <td>971</td>\n      <td>971 - 974</td>\n      <td>for a photo shoot glamour photo h beauty</td>\n      <td>2</td>\n    </tr>\n  </tbody>\n</table>\n<p>5 rows × 24 columns</p>\n</div>"
     },
     "execution_count": 49,
     "metadata": {},
     "output_type": "execute_result"
    }
   ],
   "source": [
    "data_3.head(5)"
   ],
   "metadata": {
    "collapsed": false
   }
  },
  {
   "cell_type": "code",
   "execution_count": 50,
   "outputs": [],
   "source": [
    "data_1.to_csv('D:\\\\RA-Tasks\\\\1 Graph neural network_POI\\\\Task1\\\\Process\\\\date_out.csv')"
   ],
   "metadata": {
    "collapsed": false
   }
  },
  {
   "cell_type": "code",
   "execution_count": 51,
   "outputs": [
    {
     "name": "stderr",
     "output_type": "stream",
     "text": [
      "C:\\Users\\user\\AppData\\Local\\Temp\\ipykernel_1516\\3627721383.py:1: DtypeWarning: Columns (6) have mixed types. Specify dtype option on import or set low_memory=False.\n",
      "  df=pd.read_csv('D:\\\\RA-Tasks\\\\1 Graph neural network_POI\\\\Task1\\\\Process\\\\date_out.csv')\n"
     ]
    }
   ],
   "source": [
    "df=pd.read_csv('D:\\\\RA-Tasks\\\\1 Graph neural network_POI\\\\Task1\\\\Process\\\\date_out.csv')"
   ],
   "metadata": {
    "collapsed": false
   }
  },
  {
   "cell_type": "code",
   "execution_count": 52,
   "outputs": [
    {
     "data": {
      "text/plain": "                       created_at        id_str lang        lat         lon  \\\n0  Sat May 07 06:18:59 +0000 2016  7.290000e+17   en  22.278850  114.184620   \n1  Sat May 07 07:02:19 +0000 2016  7.290000e+17   en  22.315302  113.934832   \n2  Sat May 07 07:02:34 +0000 2016  7.290000e+17   en  22.276808  113.916187   \n3  Sat May 07 07:03:11 +0000 2016  7.290000e+17   en  22.275643  114.171174   \n4  Sat May 07 07:05:37 +0000 2016  7.290000e+17   en  22.302772  114.011717   \n\n                                                text  \\\n0  #Working #Saturday #Afternoon! #Final #Touch i...   \n1  I'm at Hong Kong International Airport <U+9999...   \n2  The cable car ride... #cablecar #mountain #360...   \n3  Love Roses! <ed><U+00A0><U+00BD><ed><U+00B8><U...   \n4  Preparing for a photo shoot #glamourshots #bla...   \n\n                    time_zone  truncated                      url  \\\n0                   Hong Kong      False  https://t.co/q4GWk8nZFm   \n1  Eastern Time (US & Canada)      False  https://t.co/s1U275BtH4   \n2                Kuala Lumpur      False  https://t.co/5vwsCLv80G   \n3                   Hong Kong      False  https://t.co/wTrbCG7H8T   \n4                         NaN      False  https://t.co/PEVkAoleNQ   \n\n                  user_created_at  user_id_str user_lang  \\\n0  Fri Jun 12 04:48:36 +0000 2009   46583766.0        en   \n1  Mon Jul 27 02:58:20 +0000 2009   60469721.0        en   \n2  Thu Feb 19 05:16:04 +0000 2009   21278240.0        en   \n3  Tue May 19 22:04:58 +0000 2009   41223671.0        en   \n4  Sun Sep 30 03:33:15 +0000 2012  854043475.0        en   \n\n                                   user_url  verified  TPU_longitudinal  \\\n0  http://www.facebook.com/derekhysteric525     False               146   \n1   http://manishmaurya89.blogspot.com/?m=1     False               951   \n2            http://kotakitam.wordpress.com     False               943   \n3             http://www.denkipenki.vsco.co     False               131   \n4            http://about.me/natalia.segura     False               971   \n\n  TPU_cross_sectional                                       cleaned_text  \\\n0           146 - 147  working saturday afternoon final touch is on t...   \n1           950 - 951  i am at hong kong international airport u numb...   \n2           941 - 943  the cable car ride repeated cable car mountain...   \n3                 131  love 😍 😍 😍 🌹 🌷 💐 flower weekend saturday beaut...   \n4           971 - 974           for a photo shoot glamour photo h beauty   \n\n                        date   date_secondprocess  \n0  2016-05-07 06:18:59+00:00  2016-05-07 06:18:59  \n1  2016-05-07 07:02:19+00:00  2016-05-07 07:02:19  \n2  2016-05-07 07:02:34+00:00  2016-05-07 07:02:34  \n3  2016-05-07 07:03:11+00:00  2016-05-07 07:03:11  \n4  2016-05-07 07:05:37+00:00  2016-05-07 07:05:37  ",
      "text/html": "<div>\n<style scoped>\n    .dataframe tbody tr th:only-of-type {\n        vertical-align: middle;\n    }\n\n    .dataframe tbody tr th {\n        vertical-align: top;\n    }\n\n    .dataframe thead th {\n        text-align: right;\n    }\n</style>\n<table border=\"1\" class=\"dataframe\">\n  <thead>\n    <tr style=\"text-align: right;\">\n      <th></th>\n      <th>created_at</th>\n      <th>id_str</th>\n      <th>lang</th>\n      <th>lat</th>\n      <th>lon</th>\n      <th>text</th>\n      <th>time_zone</th>\n      <th>truncated</th>\n      <th>url</th>\n      <th>user_created_at</th>\n      <th>user_id_str</th>\n      <th>user_lang</th>\n      <th>user_url</th>\n      <th>verified</th>\n      <th>TPU_longitudinal</th>\n      <th>TPU_cross_sectional</th>\n      <th>cleaned_text</th>\n      <th>date</th>\n      <th>date_secondprocess</th>\n    </tr>\n  </thead>\n  <tbody>\n    <tr>\n      <th>0</th>\n      <td>Sat May 07 06:18:59 +0000 2016</td>\n      <td>7.290000e+17</td>\n      <td>en</td>\n      <td>22.278850</td>\n      <td>114.184620</td>\n      <td>#Working #Saturday #Afternoon! #Final #Touch i...</td>\n      <td>Hong Kong</td>\n      <td>False</td>\n      <td>https://t.co/q4GWk8nZFm</td>\n      <td>Fri Jun 12 04:48:36 +0000 2009</td>\n      <td>46583766.0</td>\n      <td>en</td>\n      <td>http://www.facebook.com/derekhysteric525</td>\n      <td>False</td>\n      <td>146</td>\n      <td>146 - 147</td>\n      <td>working saturday afternoon final touch is on t...</td>\n      <td>2016-05-07 06:18:59+00:00</td>\n      <td>2016-05-07 06:18:59</td>\n    </tr>\n    <tr>\n      <th>1</th>\n      <td>Sat May 07 07:02:19 +0000 2016</td>\n      <td>7.290000e+17</td>\n      <td>en</td>\n      <td>22.315302</td>\n      <td>113.934832</td>\n      <td>I'm at Hong Kong International Airport &lt;U+9999...</td>\n      <td>Eastern Time (US &amp; Canada)</td>\n      <td>False</td>\n      <td>https://t.co/s1U275BtH4</td>\n      <td>Mon Jul 27 02:58:20 +0000 2009</td>\n      <td>60469721.0</td>\n      <td>en</td>\n      <td>http://manishmaurya89.blogspot.com/?m=1</td>\n      <td>False</td>\n      <td>951</td>\n      <td>950 - 951</td>\n      <td>i am at hong kong international airport u numb...</td>\n      <td>2016-05-07 07:02:19+00:00</td>\n      <td>2016-05-07 07:02:19</td>\n    </tr>\n    <tr>\n      <th>2</th>\n      <td>Sat May 07 07:02:34 +0000 2016</td>\n      <td>7.290000e+17</td>\n      <td>en</td>\n      <td>22.276808</td>\n      <td>113.916187</td>\n      <td>The cable car ride... #cablecar #mountain #360...</td>\n      <td>Kuala Lumpur</td>\n      <td>False</td>\n      <td>https://t.co/5vwsCLv80G</td>\n      <td>Thu Feb 19 05:16:04 +0000 2009</td>\n      <td>21278240.0</td>\n      <td>en</td>\n      <td>http://kotakitam.wordpress.com</td>\n      <td>False</td>\n      <td>943</td>\n      <td>941 - 943</td>\n      <td>the cable car ride repeated cable car mountain...</td>\n      <td>2016-05-07 07:02:34+00:00</td>\n      <td>2016-05-07 07:02:34</td>\n    </tr>\n    <tr>\n      <th>3</th>\n      <td>Sat May 07 07:03:11 +0000 2016</td>\n      <td>7.290000e+17</td>\n      <td>en</td>\n      <td>22.275643</td>\n      <td>114.171174</td>\n      <td>Love Roses! &lt;ed&gt;&lt;U+00A0&gt;&lt;U+00BD&gt;&lt;ed&gt;&lt;U+00B8&gt;&lt;U...</td>\n      <td>Hong Kong</td>\n      <td>False</td>\n      <td>https://t.co/wTrbCG7H8T</td>\n      <td>Tue May 19 22:04:58 +0000 2009</td>\n      <td>41223671.0</td>\n      <td>en</td>\n      <td>http://www.denkipenki.vsco.co</td>\n      <td>False</td>\n      <td>131</td>\n      <td>131</td>\n      <td>love 😍 😍 😍 🌹 🌷 💐 flower weekend saturday beaut...</td>\n      <td>2016-05-07 07:03:11+00:00</td>\n      <td>2016-05-07 07:03:11</td>\n    </tr>\n    <tr>\n      <th>4</th>\n      <td>Sat May 07 07:05:37 +0000 2016</td>\n      <td>7.290000e+17</td>\n      <td>en</td>\n      <td>22.302772</td>\n      <td>114.011717</td>\n      <td>Preparing for a photo shoot #glamourshots #bla...</td>\n      <td>NaN</td>\n      <td>False</td>\n      <td>https://t.co/PEVkAoleNQ</td>\n      <td>Sun Sep 30 03:33:15 +0000 2012</td>\n      <td>854043475.0</td>\n      <td>en</td>\n      <td>http://about.me/natalia.segura</td>\n      <td>False</td>\n      <td>971</td>\n      <td>971 - 974</td>\n      <td>for a photo shoot glamour photo h beauty</td>\n      <td>2016-05-07 07:05:37+00:00</td>\n      <td>2016-05-07 07:05:37</td>\n    </tr>\n  </tbody>\n</table>\n</div>"
     },
     "execution_count": 52,
     "metadata": {},
     "output_type": "execute_result"
    }
   ],
   "source": [
    "df.head(5)"
   ],
   "metadata": {
    "collapsed": false
   }
  },
  {
   "cell_type": "code",
   "execution_count": 53,
   "outputs": [
    {
     "ename": "ValueError",
     "evalue": "The truth value of a Series is ambiguous. Use a.empty, a.bool(), a.item(), a.any() or a.all().",
     "output_type": "error",
     "traceback": [
      "\u001B[1;31m---------------------------------------------------------------------------\u001B[0m",
      "\u001B[1;31mValueError\u001B[0m                                Traceback (most recent call last)",
      "Cell \u001B[1;32mIn[53], line 1\u001B[0m\n\u001B[1;32m----> 1\u001B[0m \u001B[38;5;28;01mif\u001B[39;00m \u001B[43mdf\u001B[49m\u001B[43m[\u001B[49m\u001B[38;5;124;43m'\u001B[39;49m\u001B[38;5;124;43mtime_zone\u001B[39;49m\u001B[38;5;124;43m'\u001B[39;49m\u001B[43m]\u001B[49m\u001B[38;5;241;43m==\u001B[39;49m\u001B[38;5;124;43m'\u001B[39;49m\u001B[38;5;124;43mAbu Dhabi\u001B[39;49m\u001B[38;5;124;43m'\u001B[39;49m:\n\u001B[0;32m      2\u001B[0m     df[\u001B[38;5;124m'\u001B[39m\u001B[38;5;124mHK_date\u001B[39m\u001B[38;5;124m'\u001B[39m]\u001B[38;5;241m=\u001B[39mdf[\u001B[38;5;124m'\u001B[39m\u001B[38;5;124mdate\u001B[39m\u001B[38;5;124m'\u001B[39m]\u001B[38;5;241m+\u001B[39m\u001B[38;5;241m4\u001B[39m\n",
      "File \u001B[1;32mD:\\Projetcs\\lib\\site-packages\\pandas\\core\\generic.py:1527\u001B[0m, in \u001B[0;36mNDFrame.__nonzero__\u001B[1;34m(self)\u001B[0m\n\u001B[0;32m   1525\u001B[0m \u001B[38;5;129m@final\u001B[39m\n\u001B[0;32m   1526\u001B[0m \u001B[38;5;28;01mdef\u001B[39;00m \u001B[38;5;21m__nonzero__\u001B[39m(\u001B[38;5;28mself\u001B[39m) \u001B[38;5;241m-\u001B[39m\u001B[38;5;241m>\u001B[39m NoReturn:\n\u001B[1;32m-> 1527\u001B[0m     \u001B[38;5;28;01mraise\u001B[39;00m \u001B[38;5;167;01mValueError\u001B[39;00m(\n\u001B[0;32m   1528\u001B[0m         \u001B[38;5;124mf\u001B[39m\u001B[38;5;124m\"\u001B[39m\u001B[38;5;124mThe truth value of a \u001B[39m\u001B[38;5;132;01m{\u001B[39;00m\u001B[38;5;28mtype\u001B[39m(\u001B[38;5;28mself\u001B[39m)\u001B[38;5;241m.\u001B[39m\u001B[38;5;18m__name__\u001B[39m\u001B[38;5;132;01m}\u001B[39;00m\u001B[38;5;124m is ambiguous. \u001B[39m\u001B[38;5;124m\"\u001B[39m\n\u001B[0;32m   1529\u001B[0m         \u001B[38;5;124m\"\u001B[39m\u001B[38;5;124mUse a.empty, a.bool(), a.item(), a.any() or a.all().\u001B[39m\u001B[38;5;124m\"\u001B[39m\n\u001B[0;32m   1530\u001B[0m     )\n",
      "\u001B[1;31mValueError\u001B[0m: The truth value of a Series is ambiguous. Use a.empty, a.bool(), a.item(), a.any() or a.all()."
     ]
    }
   ],
   "source": [
    "if df['time_zone']=='Abu Dhabi':\n",
    "    df['HK_date']=df['date']+4"
   ],
   "metadata": {
    "collapsed": false
   }
  },
  {
   "cell_type": "code",
   "execution_count": 54,
   "outputs": [
    {
     "data": {
      "text/plain": "0                          Hong Kong\n1         Eastern Time (US & Canada)\n2                       Kuala Lumpur\n3                          Hong Kong\n4                                NaN\n                     ...            \n409621                           NaN\n409622                           NaN\n409623                           NaN\n409624                           NaN\n409625                           NaN\nName: time_zone, Length: 409626, dtype: object"
     },
     "execution_count": 54,
     "metadata": {},
     "output_type": "execute_result"
    }
   ],
   "source": [
    "df['time_zone']"
   ],
   "metadata": {
    "collapsed": false
   }
  },
  {
   "cell_type": "code",
   "execution_count": 55,
   "outputs": [
    {
     "data": {
      "text/plain": "0         False\n1         False\n2         False\n3         False\n4         False\n          ...  \n409621    False\n409622    False\n409623    False\n409624    False\n409625    False\nName: time_zone, Length: 409626, dtype: bool"
     },
     "execution_count": 55,
     "metadata": {},
     "output_type": "execute_result"
    }
   ],
   "source": [
    "df['time_zone']=='Abu Dhabi'"
   ],
   "metadata": {
    "collapsed": false
   }
  },
  {
   "cell_type": "markdown",
   "source": [],
   "metadata": {
    "collapsed": false
   }
  },
  {
   "cell_type": "code",
   "execution_count": 56,
   "outputs": [
    {
     "ename": "ValueError",
     "evalue": "The truth value of a Series is ambiguous. Use a.empty, a.bool(), a.item(), a.any() or a.all().",
     "output_type": "error",
     "traceback": [
      "\u001B[1;31m---------------------------------------------------------------------------\u001B[0m",
      "\u001B[1;31mValueError\u001B[0m                                Traceback (most recent call last)",
      "Cell \u001B[1;32mIn[56], line 1\u001B[0m\n\u001B[1;32m----> 1\u001B[0m \u001B[38;5;28;01mif\u001B[39;00m \u001B[43mdf\u001B[49m\u001B[43m[\u001B[49m\u001B[38;5;124;43m'\u001B[39;49m\u001B[38;5;124;43mtime_zone\u001B[39;49m\u001B[38;5;124;43m'\u001B[39;49m\u001B[43m]\u001B[49m\u001B[38;5;241;43m==\u001B[39;49m\u001B[38;5;124;43m'\u001B[39;49m\u001B[38;5;124;43mAbu Dhabi\u001B[39;49m\u001B[38;5;124;43m'\u001B[39;49m:\n\u001B[0;32m      2\u001B[0m     df[\u001B[38;5;124m'\u001B[39m\u001B[38;5;124mnew_hk_datetime\u001B[39m\u001B[38;5;124m'\u001B[39m] \u001B[38;5;241m=\u001B[39m df[\u001B[38;5;124m'\u001B[39m\u001B[38;5;124mdate\u001B[39m\u001B[38;5;124m'\u001B[39m] \u001B[38;5;241m+\u001B[39m pd\u001B[38;5;241m.\u001B[39mTimedelta(hours\u001B[38;5;241m=\u001B[39m\u001B[38;5;241m4\u001B[39m, minutes\u001B[38;5;241m=\u001B[39m\u001B[38;5;241m0\u001B[39m, seconds\u001B[38;5;241m=\u001B[39m\u001B[38;5;241m0\u001B[39m)\n",
      "File \u001B[1;32mD:\\Projetcs\\lib\\site-packages\\pandas\\core\\generic.py:1527\u001B[0m, in \u001B[0;36mNDFrame.__nonzero__\u001B[1;34m(self)\u001B[0m\n\u001B[0;32m   1525\u001B[0m \u001B[38;5;129m@final\u001B[39m\n\u001B[0;32m   1526\u001B[0m \u001B[38;5;28;01mdef\u001B[39;00m \u001B[38;5;21m__nonzero__\u001B[39m(\u001B[38;5;28mself\u001B[39m) \u001B[38;5;241m-\u001B[39m\u001B[38;5;241m>\u001B[39m NoReturn:\n\u001B[1;32m-> 1527\u001B[0m     \u001B[38;5;28;01mraise\u001B[39;00m \u001B[38;5;167;01mValueError\u001B[39;00m(\n\u001B[0;32m   1528\u001B[0m         \u001B[38;5;124mf\u001B[39m\u001B[38;5;124m\"\u001B[39m\u001B[38;5;124mThe truth value of a \u001B[39m\u001B[38;5;132;01m{\u001B[39;00m\u001B[38;5;28mtype\u001B[39m(\u001B[38;5;28mself\u001B[39m)\u001B[38;5;241m.\u001B[39m\u001B[38;5;18m__name__\u001B[39m\u001B[38;5;132;01m}\u001B[39;00m\u001B[38;5;124m is ambiguous. \u001B[39m\u001B[38;5;124m\"\u001B[39m\n\u001B[0;32m   1529\u001B[0m         \u001B[38;5;124m\"\u001B[39m\u001B[38;5;124mUse a.empty, a.bool(), a.item(), a.any() or a.all().\u001B[39m\u001B[38;5;124m\"\u001B[39m\n\u001B[0;32m   1530\u001B[0m     )\n",
      "\u001B[1;31mValueError\u001B[0m: The truth value of a Series is ambiguous. Use a.empty, a.bool(), a.item(), a.any() or a.all()."
     ]
    }
   ],
   "source": [
    "if df['time_zone']=='Abu Dhabi':\n",
    "    df['new_hk_datetime'] = df['date'] + pd.Timedelta(hours=4, minutes=0, seconds=0)"
   ],
   "metadata": {
    "collapsed": false
   }
  },
  {
   "cell_type": "code",
   "execution_count": 57,
   "outputs": [
    {
     "data": {
      "text/plain": "0         2016-05-07 06:18:59+00:00\n1         2016-05-07 07:02:19+00:00\n2         2016-05-07 07:02:34+00:00\n3         2016-05-07 07:03:11+00:00\n4         2016-05-07 07:05:37+00:00\n                    ...            \n409621    2018-12-18 21:47:11+00:00\n409622    2018-12-18 21:54:21+00:00\n409623    2018-12-18 22:32:24+00:00\n409624    2018-12-18 22:51:54+00:00\n409625    2018-12-18 22:54:09+00:00\nName: date, Length: 409626, dtype: object"
     },
     "execution_count": 57,
     "metadata": {},
     "output_type": "execute_result"
    }
   ],
   "source": [
    "df['date']"
   ],
   "metadata": {
    "collapsed": false
   }
  },
  {
   "cell_type": "code",
   "execution_count": 58,
   "outputs": [
    {
     "data": {
      "text/plain": "0         2016-05-07 06:18:59\n1         2016-05-07 07:02:19\n2         2016-05-07 07:02:34\n3         2016-05-07 07:03:11\n4         2016-05-07 07:05:37\n                 ...         \n409621    2018-12-18 21:47:11\n409622    2018-12-18 21:54:21\n409623    2018-12-18 22:32:24\n409624    2018-12-18 22:51:54\n409625    2018-12-18 22:54:09\nName: date_secondprocess, Length: 409626, dtype: object"
     },
     "execution_count": 58,
     "metadata": {},
     "output_type": "execute_result"
    }
   ],
   "source": [
    "df['date_secondprocess']"
   ],
   "metadata": {
    "collapsed": false
   }
  },
  {
   "cell_type": "code",
   "execution_count": 59,
   "outputs": [],
   "source": [
    "df['date_thirdprocess']= pd.to_datetime(df['date_secondprocess'])"
   ],
   "metadata": {
    "collapsed": false
   }
  },
  {
   "cell_type": "code",
   "execution_count": 60,
   "outputs": [
    {
     "data": {
      "text/plain": "0        2016-05-07 06:18:59\n1        2016-05-07 07:02:19\n2        2016-05-07 07:02:34\n3        2016-05-07 07:03:11\n4        2016-05-07 07:05:37\n                 ...        \n409621   2018-12-18 21:47:11\n409622   2018-12-18 21:54:21\n409623   2018-12-18 22:32:24\n409624   2018-12-18 22:51:54\n409625   2018-12-18 22:54:09\nName: date_thirdprocess, Length: 409626, dtype: datetime64[ns]"
     },
     "execution_count": 60,
     "metadata": {},
     "output_type": "execute_result"
    }
   ],
   "source": [
    "df['date_thirdprocess']"
   ],
   "metadata": {
    "collapsed": false
   }
  },
  {
   "cell_type": "code",
   "execution_count": 64,
   "outputs": [
    {
     "data": {
      "text/plain": "                       created_at        id_str lang        lat         lon  \\\n0  Sat May 07 06:18:59 +0000 2016  7.290000e+17   en  22.278850  114.184620   \n1  Sat May 07 07:02:19 +0000 2016  7.290000e+17   en  22.315302  113.934832   \n2  Sat May 07 07:02:34 +0000 2016  7.290000e+17   en  22.276808  113.916187   \n3  Sat May 07 07:03:11 +0000 2016  7.290000e+17   en  22.275643  114.171174   \n4  Sat May 07 07:05:37 +0000 2016  7.290000e+17   en  22.302772  114.011717   \n\n                                                text  \\\n0  #Working #Saturday #Afternoon! #Final #Touch i...   \n1  I'm at Hong Kong International Airport <U+9999...   \n2  The cable car ride... #cablecar #mountain #360...   \n3  Love Roses! <ed><U+00A0><U+00BD><ed><U+00B8><U...   \n4  Preparing for a photo shoot #glamourshots #bla...   \n\n                    time_zone  truncated                      url  \\\n0                   Hong Kong      False  https://t.co/q4GWk8nZFm   \n1  Eastern Time (US & Canada)      False  https://t.co/s1U275BtH4   \n2                Kuala Lumpur      False  https://t.co/5vwsCLv80G   \n3                   Hong Kong      False  https://t.co/wTrbCG7H8T   \n4                         NaN      False  https://t.co/PEVkAoleNQ   \n\n                  user_created_at  user_id_str user_lang  \\\n0  Fri Jun 12 04:48:36 +0000 2009   46583766.0        en   \n1  Mon Jul 27 02:58:20 +0000 2009   60469721.0        en   \n2  Thu Feb 19 05:16:04 +0000 2009   21278240.0        en   \n3  Tue May 19 22:04:58 +0000 2009   41223671.0        en   \n4  Sun Sep 30 03:33:15 +0000 2012  854043475.0        en   \n\n                                   user_url  verified  TPU_longitudinal  \\\n0  http://www.facebook.com/derekhysteric525     False               146   \n1   http://manishmaurya89.blogspot.com/?m=1     False               951   \n2            http://kotakitam.wordpress.com     False               943   \n3             http://www.denkipenki.vsco.co     False               131   \n4            http://about.me/natalia.segura     False               971   \n\n  TPU_cross_sectional                                       cleaned_text  \\\n0           146 - 147  working saturday afternoon final touch is on t...   \n1           950 - 951  i am at hong kong international airport u numb...   \n2           941 - 943  the cable car ride repeated cable car mountain...   \n3                 131  love 😍 😍 😍 🌹 🌷 💐 flower weekend saturday beaut...   \n4           971 - 974           for a photo shoot glamour photo h beauty   \n\n                        date   date_secondprocess   date_thirdprocess  \n0  2016-05-07 06:18:59+00:00  2016-05-07 06:18:59 2016-05-07 06:18:59  \n1  2016-05-07 07:02:19+00:00  2016-05-07 07:02:19 2016-05-07 07:02:19  \n2  2016-05-07 07:02:34+00:00  2016-05-07 07:02:34 2016-05-07 07:02:34  \n3  2016-05-07 07:03:11+00:00  2016-05-07 07:03:11 2016-05-07 07:03:11  \n4  2016-05-07 07:05:37+00:00  2016-05-07 07:05:37 2016-05-07 07:05:37  ",
      "text/html": "<div>\n<style scoped>\n    .dataframe tbody tr th:only-of-type {\n        vertical-align: middle;\n    }\n\n    .dataframe tbody tr th {\n        vertical-align: top;\n    }\n\n    .dataframe thead th {\n        text-align: right;\n    }\n</style>\n<table border=\"1\" class=\"dataframe\">\n  <thead>\n    <tr style=\"text-align: right;\">\n      <th></th>\n      <th>created_at</th>\n      <th>id_str</th>\n      <th>lang</th>\n      <th>lat</th>\n      <th>lon</th>\n      <th>text</th>\n      <th>time_zone</th>\n      <th>truncated</th>\n      <th>url</th>\n      <th>user_created_at</th>\n      <th>user_id_str</th>\n      <th>user_lang</th>\n      <th>user_url</th>\n      <th>verified</th>\n      <th>TPU_longitudinal</th>\n      <th>TPU_cross_sectional</th>\n      <th>cleaned_text</th>\n      <th>date</th>\n      <th>date_secondprocess</th>\n      <th>date_thirdprocess</th>\n    </tr>\n  </thead>\n  <tbody>\n    <tr>\n      <th>0</th>\n      <td>Sat May 07 06:18:59 +0000 2016</td>\n      <td>7.290000e+17</td>\n      <td>en</td>\n      <td>22.278850</td>\n      <td>114.184620</td>\n      <td>#Working #Saturday #Afternoon! #Final #Touch i...</td>\n      <td>Hong Kong</td>\n      <td>False</td>\n      <td>https://t.co/q4GWk8nZFm</td>\n      <td>Fri Jun 12 04:48:36 +0000 2009</td>\n      <td>46583766.0</td>\n      <td>en</td>\n      <td>http://www.facebook.com/derekhysteric525</td>\n      <td>False</td>\n      <td>146</td>\n      <td>146 - 147</td>\n      <td>working saturday afternoon final touch is on t...</td>\n      <td>2016-05-07 06:18:59+00:00</td>\n      <td>2016-05-07 06:18:59</td>\n      <td>2016-05-07 06:18:59</td>\n    </tr>\n    <tr>\n      <th>1</th>\n      <td>Sat May 07 07:02:19 +0000 2016</td>\n      <td>7.290000e+17</td>\n      <td>en</td>\n      <td>22.315302</td>\n      <td>113.934832</td>\n      <td>I'm at Hong Kong International Airport &lt;U+9999...</td>\n      <td>Eastern Time (US &amp; Canada)</td>\n      <td>False</td>\n      <td>https://t.co/s1U275BtH4</td>\n      <td>Mon Jul 27 02:58:20 +0000 2009</td>\n      <td>60469721.0</td>\n      <td>en</td>\n      <td>http://manishmaurya89.blogspot.com/?m=1</td>\n      <td>False</td>\n      <td>951</td>\n      <td>950 - 951</td>\n      <td>i am at hong kong international airport u numb...</td>\n      <td>2016-05-07 07:02:19+00:00</td>\n      <td>2016-05-07 07:02:19</td>\n      <td>2016-05-07 07:02:19</td>\n    </tr>\n    <tr>\n      <th>2</th>\n      <td>Sat May 07 07:02:34 +0000 2016</td>\n      <td>7.290000e+17</td>\n      <td>en</td>\n      <td>22.276808</td>\n      <td>113.916187</td>\n      <td>The cable car ride... #cablecar #mountain #360...</td>\n      <td>Kuala Lumpur</td>\n      <td>False</td>\n      <td>https://t.co/5vwsCLv80G</td>\n      <td>Thu Feb 19 05:16:04 +0000 2009</td>\n      <td>21278240.0</td>\n      <td>en</td>\n      <td>http://kotakitam.wordpress.com</td>\n      <td>False</td>\n      <td>943</td>\n      <td>941 - 943</td>\n      <td>the cable car ride repeated cable car mountain...</td>\n      <td>2016-05-07 07:02:34+00:00</td>\n      <td>2016-05-07 07:02:34</td>\n      <td>2016-05-07 07:02:34</td>\n    </tr>\n    <tr>\n      <th>3</th>\n      <td>Sat May 07 07:03:11 +0000 2016</td>\n      <td>7.290000e+17</td>\n      <td>en</td>\n      <td>22.275643</td>\n      <td>114.171174</td>\n      <td>Love Roses! &lt;ed&gt;&lt;U+00A0&gt;&lt;U+00BD&gt;&lt;ed&gt;&lt;U+00B8&gt;&lt;U...</td>\n      <td>Hong Kong</td>\n      <td>False</td>\n      <td>https://t.co/wTrbCG7H8T</td>\n      <td>Tue May 19 22:04:58 +0000 2009</td>\n      <td>41223671.0</td>\n      <td>en</td>\n      <td>http://www.denkipenki.vsco.co</td>\n      <td>False</td>\n      <td>131</td>\n      <td>131</td>\n      <td>love 😍 😍 😍 🌹 🌷 💐 flower weekend saturday beaut...</td>\n      <td>2016-05-07 07:03:11+00:00</td>\n      <td>2016-05-07 07:03:11</td>\n      <td>2016-05-07 07:03:11</td>\n    </tr>\n    <tr>\n      <th>4</th>\n      <td>Sat May 07 07:05:37 +0000 2016</td>\n      <td>7.290000e+17</td>\n      <td>en</td>\n      <td>22.302772</td>\n      <td>114.011717</td>\n      <td>Preparing for a photo shoot #glamourshots #bla...</td>\n      <td>NaN</td>\n      <td>False</td>\n      <td>https://t.co/PEVkAoleNQ</td>\n      <td>Sun Sep 30 03:33:15 +0000 2012</td>\n      <td>854043475.0</td>\n      <td>en</td>\n      <td>http://about.me/natalia.segura</td>\n      <td>False</td>\n      <td>971</td>\n      <td>971 - 974</td>\n      <td>for a photo shoot glamour photo h beauty</td>\n      <td>2016-05-07 07:05:37+00:00</td>\n      <td>2016-05-07 07:05:37</td>\n      <td>2016-05-07 07:05:37</td>\n    </tr>\n  </tbody>\n</table>\n</div>"
     },
     "execution_count": 64,
     "metadata": {},
     "output_type": "execute_result"
    }
   ],
   "source": [
    "df.head(5)"
   ],
   "metadata": {
    "collapsed": false
   }
  },
  {
   "cell_type": "code",
   "execution_count": 106,
   "outputs": [
    {
     "name": "stderr",
     "output_type": "stream",
     "text": [
      "C:\\Users\\user\\AppData\\Local\\Temp\\ipykernel_1516\\411352342.py:1: SettingWithCopyWarning: \n",
      "A value is trying to be set on a copy of a slice from a DataFrame.\n",
      "Try using .loc[row_indexer,col_indexer] = value instead\n",
      "\n",
      "See the caveats in the documentation: https://pandas.pydata.org/pandas-docs/stable/user_guide/indexing.html#returning-a-view-versus-a-copy\n",
      "  df.loc[lambda df: df['time_zone'] == 'Abu Dhabi']['date_hk']= df.loc[lambda df: df['time_zone'] == 'Abu Dhabi']['date_thirdprocess'] + pd.Timedelta(hours=4, minutes=0, seconds=0)\n",
      "C:\\Users\\user\\AppData\\Local\\Temp\\ipykernel_1516\\411352342.py:2: SettingWithCopyWarning: \n",
      "A value is trying to be set on a copy of a slice from a DataFrame.\n",
      "Try using .loc[row_indexer,col_indexer] = value instead\n",
      "\n",
      "See the caveats in the documentation: https://pandas.pydata.org/pandas-docs/stable/user_guide/indexing.html#returning-a-view-versus-a-copy\n",
      "  df.loc[lambda df: df['time_zone'] == 'Hong Kong']['date_hk']= df.loc[lambda df: df['time_zone'] == 'Hong Kong']['date_thirdprocess']+ pd.Timedelta(hours=0, minutes=0, seconds=0)\n"
     ]
    }
   ],
   "source": [
    "df.loc[lambda df: df['time_zone'] == 'Abu Dhabi']['date_hk']= df.loc[lambda df: df['time_zone'] == 'Abu Dhabi']['date_thirdprocess'] + pd.Timedelta(hours=4, minutes=0, seconds=0)\n",
    "df.loc[lambda df: df['time_zone'] == 'Hong Kong']['date_hk']= df.loc[lambda df: df['time_zone'] == 'Hong Kong']['date_thirdprocess']+ pd.Timedelta(hours=0, minutes=0, seconds=0)"
   ],
   "metadata": {
    "collapsed": false
   }
  },
  {
   "cell_type": "code",
   "execution_count": 107,
   "outputs": [
    {
     "data": {
      "text/plain": "                       created_at        id_str lang        lat         lon  \\\n0  Sat May 07 06:18:59 +0000 2016  7.290000e+17   en  22.278850  114.184620   \n1  Sat May 07 07:02:19 +0000 2016  7.290000e+17   en  22.315302  113.934832   \n2  Sat May 07 07:02:34 +0000 2016  7.290000e+17   en  22.276808  113.916187   \n3  Sat May 07 07:03:11 +0000 2016  7.290000e+17   en  22.275643  114.171174   \n4  Sat May 07 07:05:37 +0000 2016  7.290000e+17   en  22.302772  114.011717   \n\n                                                text  \\\n0  #Working #Saturday #Afternoon! #Final #Touch i...   \n1  I'm at Hong Kong International Airport <U+9999...   \n2  The cable car ride... #cablecar #mountain #360...   \n3  Love Roses! <ed><U+00A0><U+00BD><ed><U+00B8><U...   \n4  Preparing for a photo shoot #glamourshots #bla...   \n\n                    time_zone  truncated                      url  \\\n0                   Hong Kong      False  https://t.co/q4GWk8nZFm   \n1  Eastern Time (US & Canada)      False  https://t.co/s1U275BtH4   \n2                Kuala Lumpur      False  https://t.co/5vwsCLv80G   \n3                   Hong Kong      False  https://t.co/wTrbCG7H8T   \n4                         NaN      False  https://t.co/PEVkAoleNQ   \n\n                  user_created_at  ...  user_lang  \\\n0  Fri Jun 12 04:48:36 +0000 2009  ...         en   \n1  Mon Jul 27 02:58:20 +0000 2009  ...         en   \n2  Thu Feb 19 05:16:04 +0000 2009  ...         en   \n3  Tue May 19 22:04:58 +0000 2009  ...         en   \n4  Sun Sep 30 03:33:15 +0000 2012  ...         en   \n\n                                   user_url verified  TPU_longitudinal  \\\n0  http://www.facebook.com/derekhysteric525    False               146   \n1   http://manishmaurya89.blogspot.com/?m=1    False               951   \n2            http://kotakitam.wordpress.com    False               943   \n3             http://www.denkipenki.vsco.co    False               131   \n4            http://about.me/natalia.segura    False               971   \n\n   TPU_cross_sectional                                       cleaned_text  \\\n0            146 - 147  working saturday afternoon final touch is on t...   \n1            950 - 951  i am at hong kong international airport u numb...   \n2            941 - 943  the cable car ride repeated cable car mountain...   \n3                  131  love 😍 😍 😍 🌹 🌷 💐 flower weekend saturday beaut...   \n4            971 - 974           for a photo shoot glamour photo h beauty   \n\n                        date   date_secondprocess   date_thirdprocess  \\\n0  2016-05-07 06:18:59+00:00  2016-05-07 06:18:59 2016-05-07 06:18:59   \n1  2016-05-07 07:02:19+00:00  2016-05-07 07:02:19 2016-05-07 07:02:19   \n2  2016-05-07 07:02:34+00:00  2016-05-07 07:02:34 2016-05-07 07:02:34   \n3  2016-05-07 07:03:11+00:00  2016-05-07 07:03:11 2016-05-07 07:03:11   \n4  2016-05-07 07:05:37+00:00  2016-05-07 07:05:37 2016-05-07 07:05:37   \n\n              date_hk  \n0 2016-05-07 10:18:59  \n1 2016-05-07 11:02:19  \n2 2016-05-07 11:02:34  \n3 2016-05-07 11:03:11  \n4 2016-05-07 11:05:37  \n\n[5 rows x 21 columns]",
      "text/html": "<div>\n<style scoped>\n    .dataframe tbody tr th:only-of-type {\n        vertical-align: middle;\n    }\n\n    .dataframe tbody tr th {\n        vertical-align: top;\n    }\n\n    .dataframe thead th {\n        text-align: right;\n    }\n</style>\n<table border=\"1\" class=\"dataframe\">\n  <thead>\n    <tr style=\"text-align: right;\">\n      <th></th>\n      <th>created_at</th>\n      <th>id_str</th>\n      <th>lang</th>\n      <th>lat</th>\n      <th>lon</th>\n      <th>text</th>\n      <th>time_zone</th>\n      <th>truncated</th>\n      <th>url</th>\n      <th>user_created_at</th>\n      <th>...</th>\n      <th>user_lang</th>\n      <th>user_url</th>\n      <th>verified</th>\n      <th>TPU_longitudinal</th>\n      <th>TPU_cross_sectional</th>\n      <th>cleaned_text</th>\n      <th>date</th>\n      <th>date_secondprocess</th>\n      <th>date_thirdprocess</th>\n      <th>date_hk</th>\n    </tr>\n  </thead>\n  <tbody>\n    <tr>\n      <th>0</th>\n      <td>Sat May 07 06:18:59 +0000 2016</td>\n      <td>7.290000e+17</td>\n      <td>en</td>\n      <td>22.278850</td>\n      <td>114.184620</td>\n      <td>#Working #Saturday #Afternoon! #Final #Touch i...</td>\n      <td>Hong Kong</td>\n      <td>False</td>\n      <td>https://t.co/q4GWk8nZFm</td>\n      <td>Fri Jun 12 04:48:36 +0000 2009</td>\n      <td>...</td>\n      <td>en</td>\n      <td>http://www.facebook.com/derekhysteric525</td>\n      <td>False</td>\n      <td>146</td>\n      <td>146 - 147</td>\n      <td>working saturday afternoon final touch is on t...</td>\n      <td>2016-05-07 06:18:59+00:00</td>\n      <td>2016-05-07 06:18:59</td>\n      <td>2016-05-07 06:18:59</td>\n      <td>2016-05-07 10:18:59</td>\n    </tr>\n    <tr>\n      <th>1</th>\n      <td>Sat May 07 07:02:19 +0000 2016</td>\n      <td>7.290000e+17</td>\n      <td>en</td>\n      <td>22.315302</td>\n      <td>113.934832</td>\n      <td>I'm at Hong Kong International Airport &lt;U+9999...</td>\n      <td>Eastern Time (US &amp; Canada)</td>\n      <td>False</td>\n      <td>https://t.co/s1U275BtH4</td>\n      <td>Mon Jul 27 02:58:20 +0000 2009</td>\n      <td>...</td>\n      <td>en</td>\n      <td>http://manishmaurya89.blogspot.com/?m=1</td>\n      <td>False</td>\n      <td>951</td>\n      <td>950 - 951</td>\n      <td>i am at hong kong international airport u numb...</td>\n      <td>2016-05-07 07:02:19+00:00</td>\n      <td>2016-05-07 07:02:19</td>\n      <td>2016-05-07 07:02:19</td>\n      <td>2016-05-07 11:02:19</td>\n    </tr>\n    <tr>\n      <th>2</th>\n      <td>Sat May 07 07:02:34 +0000 2016</td>\n      <td>7.290000e+17</td>\n      <td>en</td>\n      <td>22.276808</td>\n      <td>113.916187</td>\n      <td>The cable car ride... #cablecar #mountain #360...</td>\n      <td>Kuala Lumpur</td>\n      <td>False</td>\n      <td>https://t.co/5vwsCLv80G</td>\n      <td>Thu Feb 19 05:16:04 +0000 2009</td>\n      <td>...</td>\n      <td>en</td>\n      <td>http://kotakitam.wordpress.com</td>\n      <td>False</td>\n      <td>943</td>\n      <td>941 - 943</td>\n      <td>the cable car ride repeated cable car mountain...</td>\n      <td>2016-05-07 07:02:34+00:00</td>\n      <td>2016-05-07 07:02:34</td>\n      <td>2016-05-07 07:02:34</td>\n      <td>2016-05-07 11:02:34</td>\n    </tr>\n    <tr>\n      <th>3</th>\n      <td>Sat May 07 07:03:11 +0000 2016</td>\n      <td>7.290000e+17</td>\n      <td>en</td>\n      <td>22.275643</td>\n      <td>114.171174</td>\n      <td>Love Roses! &lt;ed&gt;&lt;U+00A0&gt;&lt;U+00BD&gt;&lt;ed&gt;&lt;U+00B8&gt;&lt;U...</td>\n      <td>Hong Kong</td>\n      <td>False</td>\n      <td>https://t.co/wTrbCG7H8T</td>\n      <td>Tue May 19 22:04:58 +0000 2009</td>\n      <td>...</td>\n      <td>en</td>\n      <td>http://www.denkipenki.vsco.co</td>\n      <td>False</td>\n      <td>131</td>\n      <td>131</td>\n      <td>love 😍 😍 😍 🌹 🌷 💐 flower weekend saturday beaut...</td>\n      <td>2016-05-07 07:03:11+00:00</td>\n      <td>2016-05-07 07:03:11</td>\n      <td>2016-05-07 07:03:11</td>\n      <td>2016-05-07 11:03:11</td>\n    </tr>\n    <tr>\n      <th>4</th>\n      <td>Sat May 07 07:05:37 +0000 2016</td>\n      <td>7.290000e+17</td>\n      <td>en</td>\n      <td>22.302772</td>\n      <td>114.011717</td>\n      <td>Preparing for a photo shoot #glamourshots #bla...</td>\n      <td>NaN</td>\n      <td>False</td>\n      <td>https://t.co/PEVkAoleNQ</td>\n      <td>Sun Sep 30 03:33:15 +0000 2012</td>\n      <td>...</td>\n      <td>en</td>\n      <td>http://about.me/natalia.segura</td>\n      <td>False</td>\n      <td>971</td>\n      <td>971 - 974</td>\n      <td>for a photo shoot glamour photo h beauty</td>\n      <td>2016-05-07 07:05:37+00:00</td>\n      <td>2016-05-07 07:05:37</td>\n      <td>2016-05-07 07:05:37</td>\n      <td>2016-05-07 11:05:37</td>\n    </tr>\n  </tbody>\n</table>\n<p>5 rows × 21 columns</p>\n</div>"
     },
     "execution_count": 107,
     "metadata": {},
     "output_type": "execute_result"
    }
   ],
   "source": [
    "df.head(5)"
   ],
   "metadata": {
    "collapsed": false
   }
  },
  {
   "cell_type": "code",
   "execution_count": 79,
   "outputs": [],
   "source": [
    "if (df['time_zone']=='Abu Dhabi').any():\n",
    "    df['date_hk']= df['date_thirdprocess'] + pd.Timedelta(hours=4, minutes=0, seconds=0)\n",
    "\n",
    "if (df['time_zone']=='Adelaide').any():\n",
    "    df['date_hk']= df['date_thirdprocess'] - pd.Timedelta(hours=2, minutes=30, seconds=0)\n",
    "\n",
    "if (df['time_zone']=='Alaska').any():\n",
    "    df['date_hk']= df['date_thirdprocess'] + pd.Timedelta(hours=17, minutes=0, seconds=0)\n",
    "\n",
    "if (df['time_zone']=='Almaty').any():\n",
    "    df['date_hk']= df['date_thirdprocess'] + pd.Timedelta(hours=2, minutes=0, seconds=0)\n",
    "\n",
    "if (df['time_zone']=='America/Anguilla').any():\n",
    "    df['date_hk']= df['date_thirdprocess'] + pd.Timedelta(hours=12, minutes=0, seconds=0)\n",
    "\n",
    "if (df['time_zone']=='America/Bogota').any():\n",
    "    df['date_hk']= df['date_thirdprocess'] + pd.Timedelta(hours=13, minutes=0, seconds=0)\n",
    "\n",
    "if (df['time_zone']=='America/Boise').any():\n",
    "    df['date_hk']= df['date_thirdprocess'] + pd.Timedelta(hours=15, minutes=0, seconds=0)\n",
    "\n",
    "if (df['time_zone']=='America/Chicago').any():\n",
    "    df['date_hk']= df['date_thirdprocess'] + pd.Timedelta(hours=14, minutes=0, seconds=0)\n",
    "\n",
    "if (df['time_zone']=='America/Denver').any():\n",
    "    df['date_hk']= df['date_thirdprocess'] + pd.Timedelta(hours=15, minutes=0, seconds=0)\n",
    "\n",
    "if (df['time_zone']=='America/Detroit').any():\n",
    "    df['date_hk']= df['date_thirdprocess'] + pd.Timedelta(hours=13, minutes=0, seconds=0)\n",
    "\n",
    "if (df['time_zone']=='America/Edmonton').any():\n",
    "    df['date_hk']= df['date_thirdprocess'] + pd.Timedelta(hours=15, minutes=0, seconds=0)\n",
    "\n",
    "if (df['time_zone']=='America/Los_Angeles').any():\n",
    "    df['date_hk']= df['date_thirdprocess'] + pd.Timedelta(hours=16, minutes=0, seconds=0)\n",
    "\n",
    "if (df['time_zone']=='America/Mexico_City').any():\n",
    "    df['date_hk']= df['date_thirdprocess'] + pd.Timedelta(hours=14, minutes=0, seconds=0)\n",
    "\n",
    "\n",
    "\n",
    "if (df['time_zone']=='America/New_York').any():\n",
    "    df['date_hk']= df['date_thirdprocess'] + pd.Timedelta(hours=13, minutes=0, seconds=0)\n",
    "\n",
    "if (df['time_zone']=='America/Toronto').any():\n",
    "    df['date_hk']= df['date_thirdprocess'] + pd.Timedelta(hours=13, minutes=0, seconds=0)\n",
    "\n",
    "if (df['time_zone']=='America/Vancouver').any():\n",
    "    df['date_hk']= df['date_thirdprocess'] + pd.Timedelta(hours=16, minutes=0, seconds=0)\n",
    "\n",
    "if (df['time_zone']=='Amsterdam').any():\n",
    "    df['date_hk']= df['date_thirdprocess'] + pd.Timedelta(hours=7, minutes=0, seconds=0)\n",
    "\n",
    "if (df['time_zone']=='Arizona').any():\n",
    "    df['date_hk']= df['date_thirdprocess'] + pd.Timedelta(hours=15, minutes=0, seconds=0)\n",
    "\n",
    "if (df['time_zone']=='Asia/Bangkok').any():\n",
    "    df['date_hk']= df['date_thirdprocess'] + pd.Timedelta(hours=1, minutes=0, seconds=0)\n",
    "\n",
    "if (df['time_zone']=='Asia/Calcutta').any():\n",
    "    df['date_hk']= df['date_thirdprocess'] + pd.Timedelta(hours=2, minutes=30, seconds=0)\n",
    "\n",
    "if (df['time_zone']=='Asia/Dubai').any():\n",
    "    df['date_hk']= df['date_thirdprocess'] + pd.Timedelta(hours=4, minutes=0, seconds=0)\n",
    "\n",
    "if (df['time_zone']=='Asia/Hong_Kong').any():\n",
    "    df['date_hk']= df['date_thirdprocess']\n",
    "\n",
    "if (df['time_zone']=='Asia/Jakarta').any():\n",
    "    df['date_hk']= df['date_thirdprocess'] + pd.Timedelta(hours=1, minutes=0, seconds=0)\n",
    "\n",
    "if (df['time_zone']=='Asia/Jerusalem').any():\n",
    "    df['date_hk']= df['date_thirdprocess'] + pd.Timedelta(hours=6, minutes=0, seconds=0)\n",
    "\n",
    "if (df['time_zone']=='Asia/Kolkata').any():\n",
    "    df['date_hk']= df['date_thirdprocess'] + pd.Timedelta(hours=2, minutes=30, seconds=0)\n",
    "\n",
    "if (df['time_zone']=='Asia/Kuala_Lumpur').any():\n",
    "    df['date_hk']= df['date_thirdprocess']\n",
    "\n",
    "if (df['time_zone']=='Asia/Kuwait').any():\n",
    "    df['date_hk']= df['date_thirdprocess'] + pd.Timedelta(hours=5, minutes=0, seconds=0)\n",
    "\n",
    "if (df['time_zone']=='Asia/Manila').any():\n",
    "    df['date_hk']= df['date_thirdprocess']\n",
    "\n",
    "if (df['time_zone']=='Asia/Shanghai').any():\n",
    "    df['date_hk']= df['date_thirdprocess']\n",
    "\n",
    "if (df['time_zone']=='Asia/Singapore').any():\n",
    "    df['date_hk']= df['date_thirdprocess']\n",
    "\n",
    "if (df['time_zone']=='Asia/Taipei').any():\n",
    "    df['date_hk']= df['date_thirdprocess']\n",
    "\n",
    "if (df['time_zone']=='Asia/Tokyo').any():\n",
    "    df['date_hk']= df['date_thirdprocess'] - pd.Timedelta(hours=1, minutes=0, seconds=0)\n",
    "\n",
    "if (df['time_zone']=='Athens').any():\n",
    "    df['date_hk']= df['date_thirdprocess'] + pd.Timedelta(hours=6, minutes=0, seconds=0)\n",
    "\n",
    "if (df['time_zone']=='Atlantic Time (Canada)').any():\n",
    "    df['date_hk']= df['date_thirdprocess'] + pd.Timedelta(hours=12, minutes=0, seconds=0)\n",
    "\n",
    "if (df['time_zone']=='Atlantic/Madeira').any():\n",
    "    df['date_hk']= df['date_thirdprocess'] + pd.Timedelta(hours=8, minutes=0, seconds=0)\n",
    "\n",
    "if (df['time_zone']=='Auckland').any():\n",
    "    df['date_hk']= df['date_thirdprocess'] - pd.Timedelta(hours=5, minutes=0, seconds=0)\n",
    "\n",
    "if (df['time_zone']=='BST').any():\n",
    "    df['date_hk']= df['date_thirdprocess'] + pd.Timedelta(hours=7, minutes=0, seconds=0)\n",
    "\n",
    "if (df['time_zone']=='Baghdad').any():\n",
    "    df['date_hk']= df['date_thirdprocess'] + pd.Timedelta(hours=5, minutes=0, seconds=0)\n",
    "\n",
    "if (df['time_zone']=='Baku').any():\n",
    "    df['date_hk']= df['date_thirdprocess'] + pd.Timedelta(hours=4, minutes=0, seconds=0)\n",
    "\n",
    "if (df['time_zone']=='Bangkok').any():\n",
    "    df['date_hk']= df['date_thirdprocess'] + pd.Timedelta(hours=1, minutes=0, seconds=0)\n",
    "\n",
    "if (df['time_zone']=='Beijing').any():\n",
    "    df['date_hk']= df['date_thirdprocess']\n",
    "\n",
    "if (df['time_zone']=='Belgrade').any():\n",
    "    df['date_hk']= df['date_thirdprocess'] + pd.Timedelta(hours=7, minutes=0, seconds=0)\n",
    "\n",
    "if (df['time_zone']=='Berlin').any():\n",
    "    df['date_hk']= df['date_thirdprocess'] + pd.Timedelta(hours=7, minutes=0, seconds=0)\n",
    "\n",
    "if (df['time_zone']=='Bern').any():\n",
    "    df['date_hk']= df['date_thirdprocess'] + pd.Timedelta(hours=7, minutes=0, seconds=0)\n",
    "\n",
    "if (df['time_zone']=='Bogota').any():\n",
    "    df['date_hk']= df['date_thirdprocess'] + pd.Timedelta(hours=13, minutes=0, seconds=0)\n",
    "\n",
    "if (df['time_zone']=='Brasilia').any():\n",
    "    df['date_hk']= df['date_thirdprocess'] + pd.Timedelta(hours=11, minutes=0, seconds=0)\n",
    "\n",
    "if (df['time_zone']=='Bratislava').any():\n",
    "    df['date_hk']= df['date_thirdprocess'] + pd.Timedelta(hours=7, minutes=0, seconds=0)\n",
    "\n",
    "if (df['time_zone']=='Brisbane').any():\n",
    "    df['date_hk']= df['date_thirdprocess'] - pd.Timedelta(hours=2, minutes=0, seconds=0)\n",
    "\n",
    "if (df['time_zone']=='Brussels').any():\n",
    "    df['date_hk']= df['date_thirdprocess'] + pd.Timedelta(hours=7, minutes=0, seconds=0)\n",
    "\n",
    "if (df['time_zone']=='Bucharest').any():\n",
    "    df['date_hk']= df['date_thirdprocess'] + pd.Timedelta(hours=6, minutes=0, seconds=0)\n",
    "\n",
    "if (df['time_zone']=='Budapest').any():\n",
    "    df['date_hk']= df['date_thirdprocess'] + pd.Timedelta(hours=7, minutes=0, seconds=0)\n",
    "\n",
    "if (df['time_zone']=='Buenos Aires').any():\n",
    "    df['date_hk']= df['date_thirdprocess'] + pd.Timedelta(hours=11, minutes=0, seconds=0)\n",
    "\n",
    "if (df['time_zone']=='Cairo').any():\n",
    "    df['date_hk']= df['date_thirdprocess'] + pd.Timedelta(hours=6, minutes=0, seconds=0)\n",
    "\n",
    "if (df['time_zone']=='Canada/Pacific').any():\n",
    "    df['date_hk']= df['date_thirdprocess'] + pd.Timedelta(hours=16, minutes=0, seconds=0)\n",
    "\n",
    "if (df['time_zone']=='Canberra').any():\n",
    "    df['date_hk']= df['date_thirdprocess'] - pd.Timedelta(hours=3, minutes=0, seconds=0)\n",
    "\n",
    "if (df['time_zone']=='Caracas').any():\n",
    "    df['date_hk']= df['date_thirdprocess'] + pd.Timedelta(hours=12, minutes=0, seconds=0)\n",
    "\n",
    "if (df['time_zone']=='Casablanca').any():\n",
    "    df['date_hk']= df['date_thirdprocess'] + pd.Timedelta(hours=7, minutes=0, seconds=0)\n",
    "\n",
    "if (df['time_zone']=='Central America').any():\n",
    "    df['date_hk']= df['date_thirdprocess'] + pd.Timedelta(hours=14, minutes=0, seconds=0)\n",
    "\n",
    "if (df['time_zone']=='Central Time (US & Canada)').any():\n",
    "    df['date_hk']= df['date_thirdprocess'] + pd.Timedelta(hours=14, minutes=0, seconds=0)\n",
    "\n",
    "if (df['time_zone']=='Chennai').any():\n",
    "    df['date_hk']= df['date_thirdprocess'] + pd.Timedelta(hours=2, minutes=30, seconds=0)\n",
    "\n",
    "if (df['time_zone']=='Chihuahua').any():\n",
    "    df['date_hk']= df['date_thirdprocess'] + pd.Timedelta(hours=14, minutes=0, seconds=0)\n",
    "\n",
    "if (df['time_zone']=='Chongqing').any():\n",
    "    df['date_hk']= df['date_thirdprocess']\n",
    "\n",
    "if (df['time_zone']=='Copenhagen').any():\n",
    "    df['date_hk']= df['date_thirdprocess'] + pd.Timedelta(hours=7, minutes=0, seconds=0)\n",
    "\n",
    "if (df['time_zone']=='Darwin').any():\n",
    "    df['date_hk']= df['date_thirdprocess'] - pd.Timedelta(hours=1, minutes=30, seconds=0)\n",
    "\n",
    "if (df['time_zone']=='Dhaka').any():\n",
    "    df['date_hk']= df['date_thirdprocess'] + pd.Timedelta(hours=2, minutes=0, seconds=0)\n",
    "\n",
    "if (df['time_zone']=='Dublin').any():\n",
    "    df['date_hk']= df['date_thirdprocess'] + pd.Timedelta(hours=8, minutes=0, seconds=0)\n",
    "\n",
    "if (df['time_zone']=='Eastern Time (US & Canada)').any():\n",
    "    df['date_hk']= df['date_thirdprocess'] + pd.Timedelta(hours=13, minutes=0, seconds=0)\n",
    "\n",
    "if (df['time_zone']=='Edinburgh').any():\n",
    "    df['date_hk']= df['date_thirdprocess'] + pd.Timedelta(hours=8, minutes=0, seconds=0)\n",
    "#but the name of the city is (Y)Ekaterinburg\n",
    "if (df['time_zone']=='Ekaterinburg').any():\n",
    "    df['date_hk']= df['date_thirdprocess'] + pd.Timedelta(hours=3, minutes=0, seconds=0)\n",
    "\n",
    "if (df['time_zone']=='Etc/UTC').any():\n",
    "    df['date_hk']= df['date_thirdprocess']\n",
    "\n",
    "if (df['time_zone']=='Europe/London').any():\n",
    "    df['date_hk']= df['date_thirdprocess'] + pd.Timedelta(hours=8, minutes=0, seconds=0)\n",
    "\n",
    "if (df['time_zone']=='Europe/Madrid').any():\n",
    "    df['date_hk']= df['date_thirdprocess'] + pd.Timedelta(hours=7, minutes=0, seconds=0)\n",
    "\n",
    "if (df['time_zone']=='Fiji').any():\n",
    "    df['date_hk']= df['date_thirdprocess'] - pd.Timedelta(hours=4, minutes=0, seconds=0)\n",
    "\n",
    "if (df['time_zone']=='GMT+3').any():\n",
    "    df['date_hk']= df['date_thirdprocess'] + pd.Timedelta(hours=3, minutes=0, seconds=0)\n",
    "\n",
    "if (df['time_zone']=='GMT+7').any():\n",
    "    df['date_hk']= df['date_thirdprocess'] + pd.Timedelta(hours=1, minutes=0, seconds=0)\n",
    "\n",
    "if (df['time_zone']=='GMT+8').any():\n",
    "    df['date_hk']= df['date_thirdprocess']\n",
    "\n",
    "if (df['time_zone']=='GMT+9').any():\n",
    "    df['date_hk']= df['date_thirdprocess'] - pd.Timedelta(hours=1, minutes=0, seconds=0)\n",
    "\n",
    "if (df['time_zone']=='GMT-4').any():\n",
    "    df['date_hk']= df['date_thirdprocess'] + pd.Timedelta(hours=12, minutes=0, seconds=0)\n",
    "\n",
    "if (df['time_zone']=='GMT-7').any():\n",
    "    df['date_hk']= df['date_thirdprocess'] + pd.Timedelta(hours=15, minutes=0, seconds=0)\n",
    "\n",
    "if (df['time_zone']=='Georgetown').any():\n",
    "    df['date_hk']= df['date_thirdprocess'] + pd.Timedelta(hours=12, minutes=0, seconds=0)\n",
    "\n",
    "if (df['time_zone']=='Greenland').any():\n",
    "    df['date_hk']= df['date_thirdprocess'] + pd.Timedelta(hours=11, minutes=0, seconds=0)\n",
    "\n",
    "if (df['time_zone']=='Guadalajara').any():\n",
    "    df['date_hk']= df['date_thirdprocess'] + pd.Timedelta(hours=14, minutes=0, seconds=0)\n",
    "\n",
    "if (df['time_zone']=='Guam').any():\n",
    "    df['date_hk']= df['date_thirdprocess'] - pd.Timedelta(hours=2, minutes=0, seconds=0)\n",
    "\n",
    "if (df['time_zone']=='Hanoi').any():\n",
    "    df['date_hk']= df['date_thirdprocess'] + pd.Timedelta(hours=1, minutes=0, seconds=0)\n",
    "\n",
    "if (df['time_zone']=='Harare').any():\n",
    "    df['date_hk']= df['date_thirdprocess'] + pd.Timedelta(hours=6, minutes=0, seconds=0)\n",
    "\n",
    "if (df['time_zone']=='Hawaii').any():\n",
    "    df['date_hk']= df['date_thirdprocess'] + pd.Timedelta(hours=18, minutes=0, seconds=0)\n",
    "\n",
    "if (df['time_zone']=='Helsinki').any():\n",
    "    df['date_hk']= df['date_thirdprocess'] + pd.Timedelta(hours=6, minutes=0, seconds=0)\n",
    "\n",
    "if (df['time_zone']=='Hobart').any():\n",
    "    df['date_hk']= df['date_thirdprocess'] - pd.Timedelta(hours=3, minutes=0, seconds=0)\n",
    "\n",
    "if (df['time_zone']=='Hong Kong').any():\n",
    "    df['date_hk']= df['date_thirdprocess']\n",
    "\n",
    "if (df['time_zone']=='Indiana (East)').any():\n",
    "    df['date_hk']= df['date_thirdprocess'] + pd.Timedelta(hours=13, minutes=0, seconds=0)\n",
    "\n",
    "if (df['time_zone']=='International Date Line West').any():\n",
    "    df['date_hk']= df['date_thirdprocess'] - pd.Timedelta(hours=4, minutes=0, seconds=0)\n",
    "\n",
    "if (df['time_zone']=='Irkutsk').any():\n",
    "    df['date_hk']= df['date_thirdprocess']\n",
    "\n",
    "if (df['time_zone']=='Islamabad').any():\n",
    "    df['date_hk']= df['date_thirdprocess'] + pd.Timedelta(hours=3, minutes=0, seconds=0)\n",
    "\n",
    "if (df['time_zone']=='Istanbul').any():\n",
    "    df['date_hk']= df['date_thirdprocess'] + pd.Timedelta(hours=5, minutes=0, seconds=0)\n",
    "\n",
    "if (df['time_zone']=='JST').any():\n",
    "    df['date_hk']= df['date_thirdprocess'] - pd.Timedelta(hours=1, minutes=0, seconds=0)\n",
    "\n",
    "if (df['time_zone']=='Jakarta').any():\n",
    "    df['date_hk']= df['date_thirdprocess'] + pd.Timedelta(hours=1, minutes=0, seconds=0)\n",
    "\n",
    "if (df['time_zone']=='Jerusalem').any():\n",
    "    df['date_hk']= df['date_thirdprocess'] + pd.Timedelta(hours=6, minutes=0, seconds=0)\n",
    "\n",
    "if (df['time_zone']=='Kabul').any():\n",
    "    df['date_hk']= df['date_thirdprocess'] + pd.Timedelta(hours=3, minutes=30, seconds=0)\n",
    "\n",
    "if (df['time_zone']=='Kamchatka').any():\n",
    "    df['date_hk']= df['date_thirdprocess'] - pd.Timedelta(hours=4, minutes=0, seconds=0)\n",
    "\n",
    "if (df['time_zone']=='Karachi').any():\n",
    "    df['date_hk']= df['date_thirdprocess'] + pd.Timedelta(hours=3, minutes=0, seconds=0)\n",
    "\n",
    "if (df['time_zone']=='Kathmandu').any():\n",
    "    df['date_hk']= df['date_thirdprocess'] + pd.Timedelta(hours=2, minutes=15, seconds=0)\n",
    "\n",
    "if (df['time_zone']=='Kiev').any():\n",
    "    df['date_hk']= df['date_thirdprocess'] + pd.Timedelta(hours=6, minutes=0, seconds=0)\n",
    "\n",
    "if (df['time_zone']=='Kolkata').any():\n",
    "    df['date_hk']= df['date_thirdprocess'] + pd.Timedelta(hours=2, minutes=30, seconds=0)\n",
    "\n",
    "if (df['time_zone']=='Krasnoyarsk').any():\n",
    "    df['date_hk']= df['date_thirdprocess'] + pd.Timedelta(hours=1, minutes=0, seconds=0)\n",
    "\n",
    "if (df['time_zone']=='Kuala Lumpur').any():\n",
    "    df['date_hk']= df['date_thirdprocess']\n",
    "\n",
    "if (df['time_zone']=='Kuwait').any():\n",
    "    df['date_hk']= df['date_thirdprocess'] + pd.Timedelta(hours=5, minutes=0, seconds=0)\n",
    "\n",
    "if (df['time_zone']=='Kyiv').any():\n",
    "    df['date_hk']= df['date_thirdprocess'] + pd.Timedelta(hours=6, minutes=0, seconds=0)\n",
    "\n",
    "if (df['time_zone']=='La Paz').any():\n",
    "    df['date_hk']= df['date_thirdprocess'] + pd.Timedelta(hours=12, minutes=0, seconds=0)\n",
    "\n",
    "if (df['time_zone']=='Lima').any():\n",
    "    df['date_hk']= df['date_thirdprocess'] + pd.Timedelta(hours=13, minutes=0, seconds=0)\n",
    "\n",
    "if (df['time_zone']=='Lisbon').any():\n",
    "    df['date_hk']= df['date_thirdprocess'] + pd.Timedelta(hours=8, minutes=0, seconds=0)\n",
    "\n",
    "if (df['time_zone']=='Ljubljana').any():\n",
    "    df['date_hk']= df['date_thirdprocess'] + pd.Timedelta(hours=7, minutes=0, seconds=0)\n",
    "\n",
    "if (df['time_zone']=='London').any():\n",
    "    df['date_hk']= df['date_thirdprocess'] + pd.Timedelta(hours=8, minutes=0, seconds=0)\n",
    "\n",
    "if (df['time_zone']=='Madrid').any():\n",
    "    df['date_hk']= df['date_thirdprocess'] + pd.Timedelta(hours=7, minutes=0, seconds=0)\n",
    "\n",
    "if (df['time_zone']=='Mazatlan').any():\n",
    "    df['date_hk']= df['date_thirdprocess'] + pd.Timedelta(hours=15, minutes=0, seconds=0)\n",
    "\n",
    "if (df['time_zone']=='Melbourne').any():\n",
    "    df['date_hk']= df['date_thirdprocess'] - pd.Timedelta(hours=3, minutes=0, seconds=0)\n",
    "\n",
    "if (df['time_zone']=='Mexico City').any():\n",
    "    df['date_hk']= df['date_thirdprocess'] + pd.Timedelta(hours=14, minutes=0, seconds=0)\n",
    "\n",
    "if (df['time_zone']=='Mid-Atlantic').any():\n",
    "    df['date_hk']= df['date_thirdprocess'] + pd.Timedelta(hours=12, minutes=0, seconds=0)\n",
    "\n",
    "if (df['time_zone']=='Midway Island').any():\n",
    "    df['date_hk']= df['date_thirdprocess'] + pd.Timedelta(hours=19, minutes=0, seconds=0)\n",
    "\n",
    "if (df['time_zone']=='Minsk').any():\n",
    "    df['date_hk']= df['date_thirdprocess'] + pd.Timedelta(hours=5, minutes=0, seconds=0)\n",
    "\n",
    "if (df['time_zone']=='Monrovia').any():\n",
    "    df['date_hk']= df['date_thirdprocess'] + pd.Timedelta(hours=8, minutes=0, seconds=0)\n",
    "\n",
    "if (df['time_zone']=='Monterrey').any():\n",
    "    df['date_hk']= df['date_thirdprocess'] + pd.Timedelta(hours=14, minutes=0, seconds=0)\n",
    "\n",
    "if (df['time_zone']=='Moscow').any():\n",
    "    df['date_hk']= df['date_thirdprocess'] + pd.Timedelta(hours=5, minutes=0, seconds=0)\n",
    "\n",
    "if (df['time_zone']=='Mountain Time (US & Canada)').any():\n",
    "    df['date_hk']= df['date_thirdprocess'] + pd.Timedelta(hours=15, minutes=0, seconds=0)\n",
    "\n",
    "if (df['time_zone']=='Mumbai').any():\n",
    "    df['date_hk']= df['date_thirdprocess'] + pd.Timedelta(hours=2, minutes=30, seconds=0)\n",
    "\n",
    "if (df['time_zone']=='Muscat').any():\n",
    "    df['date_hk']= df['date_thirdprocess'] + pd.Timedelta(hours=4, minutes=0, seconds=0)\n",
    "\n",
    "if (df['time_zone']=='Nairobi').any():\n",
    "    df['date_hk']= df['date_thirdprocess'] + pd.Timedelta(hours=5, minutes=0, seconds=0)\n",
    "\n",
    "if (df['time_zone']=='New Caledonia').any():\n",
    "    df['date_hk']= df['date_thirdprocess'] - pd.Timedelta(hours=3, minutes=0, seconds=0)\n",
    "\n",
    "if (df['time_zone']=='New Delhi').any():\n",
    "    df['date_hk']= df['date_thirdprocess'] + pd.Timedelta(hours=2, minutes=30, seconds=0)\n",
    "\n",
    "if (df['time_zone']=='Newfoundland').any():\n",
    "    df['date_hk']= df['date_thirdprocess'] + pd.Timedelta(hours=11, minutes=30, seconds=0)\n",
    "\n",
    "if (df['time_zone']=='Novosibirsk').any():\n",
    "    df['date_hk']= df['date_thirdprocess'] + pd.Timedelta(hours=1, minutes=0, seconds=0)\n",
    "\n",
    "if (df['time_zone']==\"Nuku'alofa\").any():\n",
    "    df['date_hk']= df['date_thirdprocess'] - pd.Timedelta(hours=5, minutes=0, seconds=0)\n",
    "\n",
    "if (df['time_zone']=='Osaka').any():\n",
    "    df['date_hk']= df['date_thirdprocess'] - pd.Timedelta(hours=1, minutes=0, seconds=0)\n",
    "\n",
    "if (df['time_zone']=='PST').any():\n",
    "    df['date_hk']= df['date_thirdprocess'] + pd.Timedelta(hours=16, minutes=0, seconds=0)\n",
    "\n",
    "if (df['time_zone']=='Pacific Time (US & Canada)').any():\n",
    "    df['date_hk']= df['date_thirdprocess'] + pd.Timedelta(hours=16, minutes=0, seconds=0)\n",
    "\n",
    "if (df['time_zone']=='Paris').any():\n",
    "    df['date_hk']= df['date_thirdprocess'] + pd.Timedelta(hours=7, minutes=0, seconds=0)\n",
    "\n",
    "if (df['time_zone']=='Perth').any():\n",
    "    df['date_hk']= df['date_thirdprocess']\n",
    "\n",
    "if (df['time_zone']=='Prague').any():\n",
    "    df['date_hk']= df['date_thirdprocess'] + pd.Timedelta(hours=7, minutes=0, seconds=0)\n",
    "\n",
    "if (df['time_zone']=='Pretoria').any():\n",
    "    df['date_hk']= df['date_thirdprocess'] + pd.Timedelta(hours=6, minutes=0, seconds=0)\n",
    "\n",
    "if (df['time_zone']=='Quito').any():\n",
    "    df['date_hk']= df['date_thirdprocess'] + pd.Timedelta(hours=13, minutes=0, seconds=0)\n",
    "\n",
    "if (df['time_zone']=='Rangoon').any():\n",
    "    df['date_hk']= df['date_thirdprocess'] + pd.Timedelta(hours=1, minutes=30, seconds=0)\n",
    "\n",
    "if (df['time_zone']=='Riga').any():\n",
    "    df['date_hk']= df['date_thirdprocess'] + pd.Timedelta(hours=6, minutes=0, seconds=0)\n",
    "\n",
    "if (df['time_zone']=='Riyadh').any():\n",
    "    df['date_hk']= df['date_thirdprocess'] + pd.Timedelta(hours=5, minutes=0, seconds=0)\n",
    "\n",
    "if (df['time_zone']=='Rome').any():\n",
    "    df['date_hk']= df['date_thirdprocess'] + pd.Timedelta(hours=7, minutes=0, seconds=0)\n",
    "\n",
    "if (df['time_zone']=='Samoa').any():\n",
    "    df['date_hk']= df['date_thirdprocess'] - pd.Timedelta(hours=5, minutes=0, seconds=0)\n",
    "\n",
    "if (df['time_zone']=='Santiago').any():\n",
    "    df['date_hk']= df['date_thirdprocess'] + pd.Timedelta(hours=11, minutes=0, seconds=0)\n",
    "\n",
    "if (df['time_zone']=='Sapporo').any():\n",
    "    df['date_hk']= df['date_thirdprocess'] - pd.Timedelta(hours=1, minutes=0, seconds=0)\n",
    "\n",
    "if (df['time_zone']=='Saskatchewan').any():\n",
    "    df['date_hk']= df['date_thirdprocess'] + pd.Timedelta(hours=14, minutes=0, seconds=0)\n",
    "\n",
    "if (df['time_zone']=='Seoul').any():\n",
    "    df['date_hk']= df['date_thirdprocess'] - pd.Timedelta(hours=1, minutes=0, seconds=0)\n",
    "\n",
    "if (df['time_zone']=='Singapore').any():\n",
    "    df['date_hk']= df['date_thirdprocess']\n",
    "\n",
    "if (df['time_zone']=='Skopje').any():\n",
    "    df['date_hk']= df['date_thirdprocess'] + pd.Timedelta(hours=7, minutes=0, seconds=0)\n",
    "\n",
    "if (df['time_zone']=='Sofia').any():\n",
    "    df['date_hk']= df['date_thirdprocess'] + pd.Timedelta(hours=6, minutes=0, seconds=0)\n",
    "\n",
    "if (df['time_zone']=='Solomon Is.').any():\n",
    "    df['date_hk']= df['date_thirdprocess'] - pd.Timedelta(hours=3, minutes=0, seconds=0)\n",
    "\n",
    "if (df['time_zone']=='Sri Jayawardenepura').any():\n",
    "    df['date_hk']= df['date_thirdprocess'] + pd.Timedelta(hours=2, minutes=30, seconds=0)\n",
    "\n",
    "if (df['time_zone']=='St. Petersburg').any():\n",
    "    df['date_hk']= df['date_thirdprocess'] + pd.Timedelta(hours=5, minutes=0, seconds=0)\n",
    "\n",
    "if (df['time_zone']=='Stockholm').any():\n",
    "    df['date_hk']= df['date_thirdprocess'] + pd.Timedelta(hours=7, minutes=0, seconds=0)\n",
    "\n",
    "if (df['time_zone']=='Sydney').any():\n",
    "    df['date_hk']= df['date_thirdprocess'] - pd.Timedelta(hours=3, minutes=0, seconds=0)\n",
    "\n",
    "if (df['time_zone']=='Taipei').any():\n",
    "    df['date_hk']= df['date_thirdprocess']\n",
    "\n",
    "if (df['time_zone']=='Tallinn').any():\n",
    "    df['date_hk']= df['date_thirdprocess'] + pd.Timedelta(hours=6, minutes=0, seconds=0)\n",
    "\n",
    "if (df['time_zone']=='Tashkent').any():\n",
    "    df['date_hk']= df['date_thirdprocess'] + pd.Timedelta(hours=3, minutes=0, seconds=0)\n",
    "\n",
    "if (df['time_zone']=='Tehran').any():\n",
    "    df['date_hk']= df['date_thirdprocess'] + pd.Timedelta(hours=4, minutes=30, seconds=0)\n",
    "\n",
    "if (df['time_zone']=='Tijuana').any():\n",
    "    df['date_hk']= df['date_thirdprocess'] + pd.Timedelta(hours=16, minutes=0, seconds=0)\n",
    "\n",
    "if (df['time_zone']=='Tokyo').any():\n",
    "    df['date_hk']= df['date_thirdprocess'] - pd.Timedelta(hours=1, minutes=0, seconds=0)\n",
    "\n",
    "if (df['time_zone']=='UTC').any():\n",
    "    df['date_hk']= df['date_thirdprocess']\n",
    "\n",
    "if (df['time_zone']=='Ulaan Bataar').any():\n",
    "    df['date_hk']= df['date_thirdprocess']\n",
    "\n",
    "if (df['time_zone']=='Urumqi').any():\n",
    "    df['date_hk']= df['date_thirdprocess']\n",
    "\n",
    "if (df['time_zone']=='Vienna').any():\n",
    "    df['date_hk']= df['date_thirdprocess'] + pd.Timedelta(hours=7, minutes=0, seconds=0)\n",
    "\n",
    "if (df['time_zone']=='Vilnius').any():\n",
    "    df['date_hk']= df['date_thirdprocess'] + pd.Timedelta(hours=6, minutes=0, seconds=0)\n",
    "\n",
    "if (df['time_zone']=='Vladivostok').any():\n",
    "    df['date_hk']= df['date_thirdprocess'] - pd.Timedelta(hours=2, minutes=0, seconds=0)\n",
    "\n",
    "if (df['time_zone']=='Volgograd').any():\n",
    "    df['date_hk']= df['date_thirdprocess'] + pd.Timedelta(hours=5, minutes=0, seconds=0)\n",
    "\n",
    "if (df['time_zone']=='Warsaw').any():\n",
    "    df['date_hk']= df['date_thirdprocess'] + pd.Timedelta(hours=7, minutes=0, seconds=0)\n",
    "\n",
    "if (df['time_zone']=='Wellington').any():\n",
    "    df['date_hk']= df['date_thirdprocess'] - pd.Timedelta(hours=5, minutes=0, seconds=0)\n",
    "\n",
    "if (df['time_zone']=='West Central Africa').any():\n",
    "    df['date_hk']= df['date_thirdprocess'] + pd.Timedelta(hours=7, minutes=0, seconds=0)\n",
    "\n",
    "if (df['time_zone']=='Yakutsk').any():\n",
    "    df['date_hk']= df['date_thirdprocess'] - pd.Timedelta(hours=1, minutes=0, seconds=0)\n",
    "\n",
    "if (df['time_zone']=='Yerevan').any():\n",
    "    df['date_hk']= df['date_thirdprocess'] + pd.Timedelta(hours=4, minutes=0, seconds=0)\n",
    "\n",
    "if (df['time_zone']=='Zagreb').any():\n",
    "    df['date_hk']= df['date_thirdprocess'] + pd.Timedelta(hours=7, minutes=0, seconds=0)\n",
    "\n",
    "# 剩下的都是NaN值，暂定设置为hktime\n",
    "else:\n",
    "    df['date_hk']= df['date_thirdprocess']"
   ],
   "metadata": {
    "collapsed": false
   }
  },
  {
   "cell_type": "code",
   "execution_count": 80,
   "outputs": [
    {
     "data": {
      "text/plain": "                     created_at  id_str   lang    lat    lon   text  \\\ntime_zone                                                             \nAbu Dhabi                   975     975    975    975    975    975   \nAdelaide                    160     160    160    160    160    160   \nAlaska                    15068   15068  15068  15068  15068  15068   \nAlmaty                        8       8      8      8      8      8   \nAmerica/Anguilla              2       2      2      2      2      2   \n...                         ...     ...    ...    ...    ...    ...   \nWellington                  207     207    207    207    207    207   \nWest Central Africa          77      77     77     77     77     77   \nYakutsk                      53      53     53     53     53     53   \nYerevan                      15      15     15     15     15     15   \nZagreb                       22      22     22     22     22     22   \n\n                     truncated    url  user_created_at  user_id_str  \\\ntime_zone                                                             \nAbu Dhabi                  975    975              975          975   \nAdelaide                   160    156              160          160   \nAlaska                   15068  14972            15068        15068   \nAlmaty                       8      8                8            8   \nAmerica/Anguilla             2      2                2            2   \n...                        ...    ...              ...          ...   \nWellington                 207    200              207          207   \nWest Central Africa         77     77               77           77   \nYakutsk                     53     53               53           53   \nYerevan                     15     15               15           15   \nZagreb                      22     21               22           22   \n\n                     user_lang  user_url  verified  TPU_longitudinal  \\\ntime_zone                                                              \nAbu Dhabi                  975       688       975               975   \nAdelaide                   160        56       160               160   \nAlaska                   15068      6960     15068             15068   \nAlmaty                       8         6         8                 8   \nAmerica/Anguilla             2         2         2                 2   \n...                        ...       ...       ...               ...   \nWellington                 207       127       207               207   \nWest Central Africa         77        45        77                77   \nYakutsk                     53         9        53                53   \nYerevan                     15         9        15                15   \nZagreb                      22        22        22                22   \n\n                     TPU_cross_sectional  cleaned_text   date  \\\ntime_zone                                                       \nAbu Dhabi                            975           975    975   \nAdelaide                             160           160    160   \nAlaska                             15068         15068  15068   \nAlmaty                                 8             8      8   \nAmerica/Anguilla                       2             2      2   \n...                                  ...           ...    ...   \nWellington                           207           207    207   \nWest Central Africa                   77            77     77   \nYakutsk                               53            53     53   \nYerevan                               15            15     15   \nZagreb                                22            22     22   \n\n                     date_secondprocess  date_thirdprocess  date_hk  \ntime_zone                                                            \nAbu Dhabi                           975                975      975  \nAdelaide                            160                160      160  \nAlaska                            15068              15068    15068  \nAlmaty                                8                  8        8  \nAmerica/Anguilla                      2                  2        2  \n...                                 ...                ...      ...  \nWellington                          207                207      207  \nWest Central Africa                  77                 77       77  \nYakutsk                              53                 53       53  \nYerevan                              15                 15       15  \nZagreb                               22                 22       22  \n\n[175 rows x 20 columns]",
      "text/html": "<div>\n<style scoped>\n    .dataframe tbody tr th:only-of-type {\n        vertical-align: middle;\n    }\n\n    .dataframe tbody tr th {\n        vertical-align: top;\n    }\n\n    .dataframe thead th {\n        text-align: right;\n    }\n</style>\n<table border=\"1\" class=\"dataframe\">\n  <thead>\n    <tr style=\"text-align: right;\">\n      <th></th>\n      <th>created_at</th>\n      <th>id_str</th>\n      <th>lang</th>\n      <th>lat</th>\n      <th>lon</th>\n      <th>text</th>\n      <th>truncated</th>\n      <th>url</th>\n      <th>user_created_at</th>\n      <th>user_id_str</th>\n      <th>user_lang</th>\n      <th>user_url</th>\n      <th>verified</th>\n      <th>TPU_longitudinal</th>\n      <th>TPU_cross_sectional</th>\n      <th>cleaned_text</th>\n      <th>date</th>\n      <th>date_secondprocess</th>\n      <th>date_thirdprocess</th>\n      <th>date_hk</th>\n    </tr>\n    <tr>\n      <th>time_zone</th>\n      <th></th>\n      <th></th>\n      <th></th>\n      <th></th>\n      <th></th>\n      <th></th>\n      <th></th>\n      <th></th>\n      <th></th>\n      <th></th>\n      <th></th>\n      <th></th>\n      <th></th>\n      <th></th>\n      <th></th>\n      <th></th>\n      <th></th>\n      <th></th>\n      <th></th>\n      <th></th>\n    </tr>\n  </thead>\n  <tbody>\n    <tr>\n      <th>Abu Dhabi</th>\n      <td>975</td>\n      <td>975</td>\n      <td>975</td>\n      <td>975</td>\n      <td>975</td>\n      <td>975</td>\n      <td>975</td>\n      <td>975</td>\n      <td>975</td>\n      <td>975</td>\n      <td>975</td>\n      <td>688</td>\n      <td>975</td>\n      <td>975</td>\n      <td>975</td>\n      <td>975</td>\n      <td>975</td>\n      <td>975</td>\n      <td>975</td>\n      <td>975</td>\n    </tr>\n    <tr>\n      <th>Adelaide</th>\n      <td>160</td>\n      <td>160</td>\n      <td>160</td>\n      <td>160</td>\n      <td>160</td>\n      <td>160</td>\n      <td>160</td>\n      <td>156</td>\n      <td>160</td>\n      <td>160</td>\n      <td>160</td>\n      <td>56</td>\n      <td>160</td>\n      <td>160</td>\n      <td>160</td>\n      <td>160</td>\n      <td>160</td>\n      <td>160</td>\n      <td>160</td>\n      <td>160</td>\n    </tr>\n    <tr>\n      <th>Alaska</th>\n      <td>15068</td>\n      <td>15068</td>\n      <td>15068</td>\n      <td>15068</td>\n      <td>15068</td>\n      <td>15068</td>\n      <td>15068</td>\n      <td>14972</td>\n      <td>15068</td>\n      <td>15068</td>\n      <td>15068</td>\n      <td>6960</td>\n      <td>15068</td>\n      <td>15068</td>\n      <td>15068</td>\n      <td>15068</td>\n      <td>15068</td>\n      <td>15068</td>\n      <td>15068</td>\n      <td>15068</td>\n    </tr>\n    <tr>\n      <th>Almaty</th>\n      <td>8</td>\n      <td>8</td>\n      <td>8</td>\n      <td>8</td>\n      <td>8</td>\n      <td>8</td>\n      <td>8</td>\n      <td>8</td>\n      <td>8</td>\n      <td>8</td>\n      <td>8</td>\n      <td>6</td>\n      <td>8</td>\n      <td>8</td>\n      <td>8</td>\n      <td>8</td>\n      <td>8</td>\n      <td>8</td>\n      <td>8</td>\n      <td>8</td>\n    </tr>\n    <tr>\n      <th>America/Anguilla</th>\n      <td>2</td>\n      <td>2</td>\n      <td>2</td>\n      <td>2</td>\n      <td>2</td>\n      <td>2</td>\n      <td>2</td>\n      <td>2</td>\n      <td>2</td>\n      <td>2</td>\n      <td>2</td>\n      <td>2</td>\n      <td>2</td>\n      <td>2</td>\n      <td>2</td>\n      <td>2</td>\n      <td>2</td>\n      <td>2</td>\n      <td>2</td>\n      <td>2</td>\n    </tr>\n    <tr>\n      <th>...</th>\n      <td>...</td>\n      <td>...</td>\n      <td>...</td>\n      <td>...</td>\n      <td>...</td>\n      <td>...</td>\n      <td>...</td>\n      <td>...</td>\n      <td>...</td>\n      <td>...</td>\n      <td>...</td>\n      <td>...</td>\n      <td>...</td>\n      <td>...</td>\n      <td>...</td>\n      <td>...</td>\n      <td>...</td>\n      <td>...</td>\n      <td>...</td>\n      <td>...</td>\n    </tr>\n    <tr>\n      <th>Wellington</th>\n      <td>207</td>\n      <td>207</td>\n      <td>207</td>\n      <td>207</td>\n      <td>207</td>\n      <td>207</td>\n      <td>207</td>\n      <td>200</td>\n      <td>207</td>\n      <td>207</td>\n      <td>207</td>\n      <td>127</td>\n      <td>207</td>\n      <td>207</td>\n      <td>207</td>\n      <td>207</td>\n      <td>207</td>\n      <td>207</td>\n      <td>207</td>\n      <td>207</td>\n    </tr>\n    <tr>\n      <th>West Central Africa</th>\n      <td>77</td>\n      <td>77</td>\n      <td>77</td>\n      <td>77</td>\n      <td>77</td>\n      <td>77</td>\n      <td>77</td>\n      <td>77</td>\n      <td>77</td>\n      <td>77</td>\n      <td>77</td>\n      <td>45</td>\n      <td>77</td>\n      <td>77</td>\n      <td>77</td>\n      <td>77</td>\n      <td>77</td>\n      <td>77</td>\n      <td>77</td>\n      <td>77</td>\n    </tr>\n    <tr>\n      <th>Yakutsk</th>\n      <td>53</td>\n      <td>53</td>\n      <td>53</td>\n      <td>53</td>\n      <td>53</td>\n      <td>53</td>\n      <td>53</td>\n      <td>53</td>\n      <td>53</td>\n      <td>53</td>\n      <td>53</td>\n      <td>9</td>\n      <td>53</td>\n      <td>53</td>\n      <td>53</td>\n      <td>53</td>\n      <td>53</td>\n      <td>53</td>\n      <td>53</td>\n      <td>53</td>\n    </tr>\n    <tr>\n      <th>Yerevan</th>\n      <td>15</td>\n      <td>15</td>\n      <td>15</td>\n      <td>15</td>\n      <td>15</td>\n      <td>15</td>\n      <td>15</td>\n      <td>15</td>\n      <td>15</td>\n      <td>15</td>\n      <td>15</td>\n      <td>9</td>\n      <td>15</td>\n      <td>15</td>\n      <td>15</td>\n      <td>15</td>\n      <td>15</td>\n      <td>15</td>\n      <td>15</td>\n      <td>15</td>\n    </tr>\n    <tr>\n      <th>Zagreb</th>\n      <td>22</td>\n      <td>22</td>\n      <td>22</td>\n      <td>22</td>\n      <td>22</td>\n      <td>22</td>\n      <td>22</td>\n      <td>21</td>\n      <td>22</td>\n      <td>22</td>\n      <td>22</td>\n      <td>22</td>\n      <td>22</td>\n      <td>22</td>\n      <td>22</td>\n      <td>22</td>\n      <td>22</td>\n      <td>22</td>\n      <td>22</td>\n      <td>22</td>\n    </tr>\n  </tbody>\n</table>\n<p>175 rows × 20 columns</p>\n</div>"
     },
     "execution_count": 80,
     "metadata": {},
     "output_type": "execute_result"
    }
   ],
   "source": [
    "df.groupby(['time_zone']).count()"
   ],
   "metadata": {
    "collapsed": false
   }
  },
  {
   "cell_type": "code",
   "execution_count": 82,
   "outputs": [
    {
     "data": {
      "text/plain": "                       created_at        id_str lang        lat         lon  \\\n0  Sat May 07 06:18:59 +0000 2016  7.290000e+17   en  22.278850  114.184620   \n1  Sat May 07 07:02:19 +0000 2016  7.290000e+17   en  22.315302  113.934832   \n2  Sat May 07 07:02:34 +0000 2016  7.290000e+17   en  22.276808  113.916187   \n3  Sat May 07 07:03:11 +0000 2016  7.290000e+17   en  22.275643  114.171174   \n4  Sat May 07 07:05:37 +0000 2016  7.290000e+17   en  22.302772  114.011717   \n\n                                                text  \\\n0  #Working #Saturday #Afternoon! #Final #Touch i...   \n1  I'm at Hong Kong International Airport <U+9999...   \n2  The cable car ride... #cablecar #mountain #360...   \n3  Love Roses! <ed><U+00A0><U+00BD><ed><U+00B8><U...   \n4  Preparing for a photo shoot #glamourshots #bla...   \n\n                    time_zone  truncated                      url  \\\n0                   Hong Kong      False  https://t.co/q4GWk8nZFm   \n1  Eastern Time (US & Canada)      False  https://t.co/s1U275BtH4   \n2                Kuala Lumpur      False  https://t.co/5vwsCLv80G   \n3                   Hong Kong      False  https://t.co/wTrbCG7H8T   \n4                         NaN      False  https://t.co/PEVkAoleNQ   \n\n                  user_created_at  ...  user_lang  \\\n0  Fri Jun 12 04:48:36 +0000 2009  ...         en   \n1  Mon Jul 27 02:58:20 +0000 2009  ...         en   \n2  Thu Feb 19 05:16:04 +0000 2009  ...         en   \n3  Tue May 19 22:04:58 +0000 2009  ...         en   \n4  Sun Sep 30 03:33:15 +0000 2012  ...         en   \n\n                                   user_url verified  TPU_longitudinal  \\\n0  http://www.facebook.com/derekhysteric525    False               146   \n1   http://manishmaurya89.blogspot.com/?m=1    False               951   \n2            http://kotakitam.wordpress.com    False               943   \n3             http://www.denkipenki.vsco.co    False               131   \n4            http://about.me/natalia.segura    False               971   \n\n   TPU_cross_sectional                                       cleaned_text  \\\n0            146 - 147  working saturday afternoon final touch is on t...   \n1            950 - 951  i am at hong kong international airport u numb...   \n2            941 - 943  the cable car ride repeated cable car mountain...   \n3                  131  love 😍 😍 😍 🌹 🌷 💐 flower weekend saturday beaut...   \n4            971 - 974           for a photo shoot glamour photo h beauty   \n\n                        date   date_secondprocess   date_thirdprocess  \\\n0  2016-05-07 06:18:59+00:00  2016-05-07 06:18:59 2016-05-07 06:18:59   \n1  2016-05-07 07:02:19+00:00  2016-05-07 07:02:19 2016-05-07 07:02:19   \n2  2016-05-07 07:02:34+00:00  2016-05-07 07:02:34 2016-05-07 07:02:34   \n3  2016-05-07 07:03:11+00:00  2016-05-07 07:03:11 2016-05-07 07:03:11   \n4  2016-05-07 07:05:37+00:00  2016-05-07 07:05:37 2016-05-07 07:05:37   \n\n              date_hk  \n0 2016-05-07 13:18:59  \n1 2016-05-07 14:02:19  \n2 2016-05-07 14:02:34  \n3 2016-05-07 14:03:11  \n4 2016-05-07 14:05:37  \n\n[5 rows x 21 columns]",
      "text/html": "<div>\n<style scoped>\n    .dataframe tbody tr th:only-of-type {\n        vertical-align: middle;\n    }\n\n    .dataframe tbody tr th {\n        vertical-align: top;\n    }\n\n    .dataframe thead th {\n        text-align: right;\n    }\n</style>\n<table border=\"1\" class=\"dataframe\">\n  <thead>\n    <tr style=\"text-align: right;\">\n      <th></th>\n      <th>created_at</th>\n      <th>id_str</th>\n      <th>lang</th>\n      <th>lat</th>\n      <th>lon</th>\n      <th>text</th>\n      <th>time_zone</th>\n      <th>truncated</th>\n      <th>url</th>\n      <th>user_created_at</th>\n      <th>...</th>\n      <th>user_lang</th>\n      <th>user_url</th>\n      <th>verified</th>\n      <th>TPU_longitudinal</th>\n      <th>TPU_cross_sectional</th>\n      <th>cleaned_text</th>\n      <th>date</th>\n      <th>date_secondprocess</th>\n      <th>date_thirdprocess</th>\n      <th>date_hk</th>\n    </tr>\n  </thead>\n  <tbody>\n    <tr>\n      <th>0</th>\n      <td>Sat May 07 06:18:59 +0000 2016</td>\n      <td>7.290000e+17</td>\n      <td>en</td>\n      <td>22.278850</td>\n      <td>114.184620</td>\n      <td>#Working #Saturday #Afternoon! #Final #Touch i...</td>\n      <td>Hong Kong</td>\n      <td>False</td>\n      <td>https://t.co/q4GWk8nZFm</td>\n      <td>Fri Jun 12 04:48:36 +0000 2009</td>\n      <td>...</td>\n      <td>en</td>\n      <td>http://www.facebook.com/derekhysteric525</td>\n      <td>False</td>\n      <td>146</td>\n      <td>146 - 147</td>\n      <td>working saturday afternoon final touch is on t...</td>\n      <td>2016-05-07 06:18:59+00:00</td>\n      <td>2016-05-07 06:18:59</td>\n      <td>2016-05-07 06:18:59</td>\n      <td>2016-05-07 13:18:59</td>\n    </tr>\n    <tr>\n      <th>1</th>\n      <td>Sat May 07 07:02:19 +0000 2016</td>\n      <td>7.290000e+17</td>\n      <td>en</td>\n      <td>22.315302</td>\n      <td>113.934832</td>\n      <td>I'm at Hong Kong International Airport &lt;U+9999...</td>\n      <td>Eastern Time (US &amp; Canada)</td>\n      <td>False</td>\n      <td>https://t.co/s1U275BtH4</td>\n      <td>Mon Jul 27 02:58:20 +0000 2009</td>\n      <td>...</td>\n      <td>en</td>\n      <td>http://manishmaurya89.blogspot.com/?m=1</td>\n      <td>False</td>\n      <td>951</td>\n      <td>950 - 951</td>\n      <td>i am at hong kong international airport u numb...</td>\n      <td>2016-05-07 07:02:19+00:00</td>\n      <td>2016-05-07 07:02:19</td>\n      <td>2016-05-07 07:02:19</td>\n      <td>2016-05-07 14:02:19</td>\n    </tr>\n    <tr>\n      <th>2</th>\n      <td>Sat May 07 07:02:34 +0000 2016</td>\n      <td>7.290000e+17</td>\n      <td>en</td>\n      <td>22.276808</td>\n      <td>113.916187</td>\n      <td>The cable car ride... #cablecar #mountain #360...</td>\n      <td>Kuala Lumpur</td>\n      <td>False</td>\n      <td>https://t.co/5vwsCLv80G</td>\n      <td>Thu Feb 19 05:16:04 +0000 2009</td>\n      <td>...</td>\n      <td>en</td>\n      <td>http://kotakitam.wordpress.com</td>\n      <td>False</td>\n      <td>943</td>\n      <td>941 - 943</td>\n      <td>the cable car ride repeated cable car mountain...</td>\n      <td>2016-05-07 07:02:34+00:00</td>\n      <td>2016-05-07 07:02:34</td>\n      <td>2016-05-07 07:02:34</td>\n      <td>2016-05-07 14:02:34</td>\n    </tr>\n    <tr>\n      <th>3</th>\n      <td>Sat May 07 07:03:11 +0000 2016</td>\n      <td>7.290000e+17</td>\n      <td>en</td>\n      <td>22.275643</td>\n      <td>114.171174</td>\n      <td>Love Roses! &lt;ed&gt;&lt;U+00A0&gt;&lt;U+00BD&gt;&lt;ed&gt;&lt;U+00B8&gt;&lt;U...</td>\n      <td>Hong Kong</td>\n      <td>False</td>\n      <td>https://t.co/wTrbCG7H8T</td>\n      <td>Tue May 19 22:04:58 +0000 2009</td>\n      <td>...</td>\n      <td>en</td>\n      <td>http://www.denkipenki.vsco.co</td>\n      <td>False</td>\n      <td>131</td>\n      <td>131</td>\n      <td>love 😍 😍 😍 🌹 🌷 💐 flower weekend saturday beaut...</td>\n      <td>2016-05-07 07:03:11+00:00</td>\n      <td>2016-05-07 07:03:11</td>\n      <td>2016-05-07 07:03:11</td>\n      <td>2016-05-07 14:03:11</td>\n    </tr>\n    <tr>\n      <th>4</th>\n      <td>Sat May 07 07:05:37 +0000 2016</td>\n      <td>7.290000e+17</td>\n      <td>en</td>\n      <td>22.302772</td>\n      <td>114.011717</td>\n      <td>Preparing for a photo shoot #glamourshots #bla...</td>\n      <td>NaN</td>\n      <td>False</td>\n      <td>https://t.co/PEVkAoleNQ</td>\n      <td>Sun Sep 30 03:33:15 +0000 2012</td>\n      <td>...</td>\n      <td>en</td>\n      <td>http://about.me/natalia.segura</td>\n      <td>False</td>\n      <td>971</td>\n      <td>971 - 974</td>\n      <td>for a photo shoot glamour photo h beauty</td>\n      <td>2016-05-07 07:05:37+00:00</td>\n      <td>2016-05-07 07:05:37</td>\n      <td>2016-05-07 07:05:37</td>\n      <td>2016-05-07 14:05:37</td>\n    </tr>\n  </tbody>\n</table>\n<p>5 rows × 21 columns</p>\n</div>"
     },
     "execution_count": 82,
     "metadata": {},
     "output_type": "execute_result"
    }
   ],
   "source": [
    "df.head(5)"
   ],
   "metadata": {
    "collapsed": false
   }
  },
  {
   "cell_type": "code",
   "execution_count": 83,
   "outputs": [],
   "source": [
    "if (df['time_zone']=='Hong Kong').any():\n",
    "    df['date_hk']= df['date_thirdprocess']"
   ],
   "metadata": {
    "collapsed": false
   }
  },
  {
   "cell_type": "code",
   "execution_count": 84,
   "outputs": [
    {
     "data": {
      "text/plain": "                       created_at        id_str lang        lat         lon  \\\n0  Sat May 07 06:18:59 +0000 2016  7.290000e+17   en  22.278850  114.184620   \n1  Sat May 07 07:02:19 +0000 2016  7.290000e+17   en  22.315302  113.934832   \n2  Sat May 07 07:02:34 +0000 2016  7.290000e+17   en  22.276808  113.916187   \n3  Sat May 07 07:03:11 +0000 2016  7.290000e+17   en  22.275643  114.171174   \n4  Sat May 07 07:05:37 +0000 2016  7.290000e+17   en  22.302772  114.011717   \n\n                                                text  \\\n0  #Working #Saturday #Afternoon! #Final #Touch i...   \n1  I'm at Hong Kong International Airport <U+9999...   \n2  The cable car ride... #cablecar #mountain #360...   \n3  Love Roses! <ed><U+00A0><U+00BD><ed><U+00B8><U...   \n4  Preparing for a photo shoot #glamourshots #bla...   \n\n                    time_zone  truncated                      url  \\\n0                   Hong Kong      False  https://t.co/q4GWk8nZFm   \n1  Eastern Time (US & Canada)      False  https://t.co/s1U275BtH4   \n2                Kuala Lumpur      False  https://t.co/5vwsCLv80G   \n3                   Hong Kong      False  https://t.co/wTrbCG7H8T   \n4                         NaN      False  https://t.co/PEVkAoleNQ   \n\n                  user_created_at  ...  user_lang  \\\n0  Fri Jun 12 04:48:36 +0000 2009  ...         en   \n1  Mon Jul 27 02:58:20 +0000 2009  ...         en   \n2  Thu Feb 19 05:16:04 +0000 2009  ...         en   \n3  Tue May 19 22:04:58 +0000 2009  ...         en   \n4  Sun Sep 30 03:33:15 +0000 2012  ...         en   \n\n                                   user_url verified  TPU_longitudinal  \\\n0  http://www.facebook.com/derekhysteric525    False               146   \n1   http://manishmaurya89.blogspot.com/?m=1    False               951   \n2            http://kotakitam.wordpress.com    False               943   \n3             http://www.denkipenki.vsco.co    False               131   \n4            http://about.me/natalia.segura    False               971   \n\n   TPU_cross_sectional                                       cleaned_text  \\\n0            146 - 147  working saturday afternoon final touch is on t...   \n1            950 - 951  i am at hong kong international airport u numb...   \n2            941 - 943  the cable car ride repeated cable car mountain...   \n3                  131  love 😍 😍 😍 🌹 🌷 💐 flower weekend saturday beaut...   \n4            971 - 974           for a photo shoot glamour photo h beauty   \n\n                        date   date_secondprocess   date_thirdprocess  \\\n0  2016-05-07 06:18:59+00:00  2016-05-07 06:18:59 2016-05-07 06:18:59   \n1  2016-05-07 07:02:19+00:00  2016-05-07 07:02:19 2016-05-07 07:02:19   \n2  2016-05-07 07:02:34+00:00  2016-05-07 07:02:34 2016-05-07 07:02:34   \n3  2016-05-07 07:03:11+00:00  2016-05-07 07:03:11 2016-05-07 07:03:11   \n4  2016-05-07 07:05:37+00:00  2016-05-07 07:05:37 2016-05-07 07:05:37   \n\n              date_hk  \n0 2016-05-07 06:18:59  \n1 2016-05-07 07:02:19  \n2 2016-05-07 07:02:34  \n3 2016-05-07 07:03:11  \n4 2016-05-07 07:05:37  \n\n[5 rows x 21 columns]",
      "text/html": "<div>\n<style scoped>\n    .dataframe tbody tr th:only-of-type {\n        vertical-align: middle;\n    }\n\n    .dataframe tbody tr th {\n        vertical-align: top;\n    }\n\n    .dataframe thead th {\n        text-align: right;\n    }\n</style>\n<table border=\"1\" class=\"dataframe\">\n  <thead>\n    <tr style=\"text-align: right;\">\n      <th></th>\n      <th>created_at</th>\n      <th>id_str</th>\n      <th>lang</th>\n      <th>lat</th>\n      <th>lon</th>\n      <th>text</th>\n      <th>time_zone</th>\n      <th>truncated</th>\n      <th>url</th>\n      <th>user_created_at</th>\n      <th>...</th>\n      <th>user_lang</th>\n      <th>user_url</th>\n      <th>verified</th>\n      <th>TPU_longitudinal</th>\n      <th>TPU_cross_sectional</th>\n      <th>cleaned_text</th>\n      <th>date</th>\n      <th>date_secondprocess</th>\n      <th>date_thirdprocess</th>\n      <th>date_hk</th>\n    </tr>\n  </thead>\n  <tbody>\n    <tr>\n      <th>0</th>\n      <td>Sat May 07 06:18:59 +0000 2016</td>\n      <td>7.290000e+17</td>\n      <td>en</td>\n      <td>22.278850</td>\n      <td>114.184620</td>\n      <td>#Working #Saturday #Afternoon! #Final #Touch i...</td>\n      <td>Hong Kong</td>\n      <td>False</td>\n      <td>https://t.co/q4GWk8nZFm</td>\n      <td>Fri Jun 12 04:48:36 +0000 2009</td>\n      <td>...</td>\n      <td>en</td>\n      <td>http://www.facebook.com/derekhysteric525</td>\n      <td>False</td>\n      <td>146</td>\n      <td>146 - 147</td>\n      <td>working saturday afternoon final touch is on t...</td>\n      <td>2016-05-07 06:18:59+00:00</td>\n      <td>2016-05-07 06:18:59</td>\n      <td>2016-05-07 06:18:59</td>\n      <td>2016-05-07 06:18:59</td>\n    </tr>\n    <tr>\n      <th>1</th>\n      <td>Sat May 07 07:02:19 +0000 2016</td>\n      <td>7.290000e+17</td>\n      <td>en</td>\n      <td>22.315302</td>\n      <td>113.934832</td>\n      <td>I'm at Hong Kong International Airport &lt;U+9999...</td>\n      <td>Eastern Time (US &amp; Canada)</td>\n      <td>False</td>\n      <td>https://t.co/s1U275BtH4</td>\n      <td>Mon Jul 27 02:58:20 +0000 2009</td>\n      <td>...</td>\n      <td>en</td>\n      <td>http://manishmaurya89.blogspot.com/?m=1</td>\n      <td>False</td>\n      <td>951</td>\n      <td>950 - 951</td>\n      <td>i am at hong kong international airport u numb...</td>\n      <td>2016-05-07 07:02:19+00:00</td>\n      <td>2016-05-07 07:02:19</td>\n      <td>2016-05-07 07:02:19</td>\n      <td>2016-05-07 07:02:19</td>\n    </tr>\n    <tr>\n      <th>2</th>\n      <td>Sat May 07 07:02:34 +0000 2016</td>\n      <td>7.290000e+17</td>\n      <td>en</td>\n      <td>22.276808</td>\n      <td>113.916187</td>\n      <td>The cable car ride... #cablecar #mountain #360...</td>\n      <td>Kuala Lumpur</td>\n      <td>False</td>\n      <td>https://t.co/5vwsCLv80G</td>\n      <td>Thu Feb 19 05:16:04 +0000 2009</td>\n      <td>...</td>\n      <td>en</td>\n      <td>http://kotakitam.wordpress.com</td>\n      <td>False</td>\n      <td>943</td>\n      <td>941 - 943</td>\n      <td>the cable car ride repeated cable car mountain...</td>\n      <td>2016-05-07 07:02:34+00:00</td>\n      <td>2016-05-07 07:02:34</td>\n      <td>2016-05-07 07:02:34</td>\n      <td>2016-05-07 07:02:34</td>\n    </tr>\n    <tr>\n      <th>3</th>\n      <td>Sat May 07 07:03:11 +0000 2016</td>\n      <td>7.290000e+17</td>\n      <td>en</td>\n      <td>22.275643</td>\n      <td>114.171174</td>\n      <td>Love Roses! &lt;ed&gt;&lt;U+00A0&gt;&lt;U+00BD&gt;&lt;ed&gt;&lt;U+00B8&gt;&lt;U...</td>\n      <td>Hong Kong</td>\n      <td>False</td>\n      <td>https://t.co/wTrbCG7H8T</td>\n      <td>Tue May 19 22:04:58 +0000 2009</td>\n      <td>...</td>\n      <td>en</td>\n      <td>http://www.denkipenki.vsco.co</td>\n      <td>False</td>\n      <td>131</td>\n      <td>131</td>\n      <td>love 😍 😍 😍 🌹 🌷 💐 flower weekend saturday beaut...</td>\n      <td>2016-05-07 07:03:11+00:00</td>\n      <td>2016-05-07 07:03:11</td>\n      <td>2016-05-07 07:03:11</td>\n      <td>2016-05-07 07:03:11</td>\n    </tr>\n    <tr>\n      <th>4</th>\n      <td>Sat May 07 07:05:37 +0000 2016</td>\n      <td>7.290000e+17</td>\n      <td>en</td>\n      <td>22.302772</td>\n      <td>114.011717</td>\n      <td>Preparing for a photo shoot #glamourshots #bla...</td>\n      <td>NaN</td>\n      <td>False</td>\n      <td>https://t.co/PEVkAoleNQ</td>\n      <td>Sun Sep 30 03:33:15 +0000 2012</td>\n      <td>...</td>\n      <td>en</td>\n      <td>http://about.me/natalia.segura</td>\n      <td>False</td>\n      <td>971</td>\n      <td>971 - 974</td>\n      <td>for a photo shoot glamour photo h beauty</td>\n      <td>2016-05-07 07:05:37+00:00</td>\n      <td>2016-05-07 07:05:37</td>\n      <td>2016-05-07 07:05:37</td>\n      <td>2016-05-07 07:05:37</td>\n    </tr>\n  </tbody>\n</table>\n<p>5 rows × 21 columns</p>\n</div>"
     },
     "execution_count": 84,
     "metadata": {},
     "output_type": "execute_result"
    }
   ],
   "source": [
    "df.head(5)"
   ],
   "metadata": {
    "collapsed": false
   }
  },
  {
   "cell_type": "code",
   "execution_count": 108,
   "outputs": [],
   "source": [
    "df1=df[df['time_zone']=='Abu Dhabi']"
   ],
   "metadata": {
    "collapsed": false
   }
  },
  {
   "cell_type": "code",
   "execution_count": 110,
   "outputs": [
    {
     "data": {
      "text/plain": "                          created_at        id_str lang        lat  \\\n1246  Sun May 08 19:42:57 +0000 2016  7.290000e+17   en  22.280900   \n1254  Sun May 08 21:20:20 +0000 2016  7.290000e+17   en  22.314882   \n3007  Thu May 12 08:04:44 +0000 2016  7.310000e+17   en  22.280900   \n3715  Fri May 13 09:07:09 +0000 2016  7.310000e+17   en  22.339341   \n4297  Sat May 14 06:37:43 +0000 2016  7.310000e+17   en  22.313420   \n\n             lon                                               text  \\\n1246  114.178000  Thanks again Hong Kong <ed><U+00A0><U+00BC><ed...   \n1254  113.933372  It's that time again! <U+2708><U+FE0F> #HongKo...   \n3007  114.178000  Static | Behaviour \\r\\r\\r\\r\\r\\r\\r\\r\\n\\r\\r\\r\\r\\...   \n3715  114.204015  The Nan lian garden at Diamond Hill in Hong Ko...   \n4297  114.043526  Advance birthday treat from my sister. <U+2764...   \n\n      time_zone  truncated                      url  \\\n1246  Abu Dhabi      False  https://t.co/TRE2EaWvgv   \n1254  Abu Dhabi      False  https://t.co/vT7Ig26Toy   \n3007  Abu Dhabi      False  https://t.co/eDeDOSdZ98   \n3715  Abu Dhabi      False  https://t.co/UIu8LKGJR5   \n4297  Abu Dhabi      False  https://t.co/KIIE6Twnx4   \n\n                     user_created_at  ...  user_lang user_url verified  \\\n1246  Fri Dec 05 03:50:04 +0000 2008  ...         en      NaN    False   \n1254  Fri Dec 05 03:50:04 +0000 2008  ...         en      NaN    False   \n3007  Sun Sep 04 11:14:07 +0000 2011  ...         en      NaN    False   \n3715  Tue Sep 28 10:15:24 +0000 2010  ...         en      NaN    False   \n4297  Mon Sep 14 19:15:36 +0000 2009  ...         en      NaN    False   \n\n      TPU_longitudinal  TPU_cross_sectional  \\\n1246               135                  135   \n1254               951            950 - 951   \n3007               135                  135   \n3715               281                  281   \n4297               973            971 - 974   \n\n                                           cleaned_text  \\\n1246  thanks again hong kong for more great to this ...   \n1254  it s that time again u number u hong kong taxi...   \n3007  static behaviour china hong kong explore touri...   \n3715  the nan garden at diamond hill in hong kong a ...   \n4297  advance birthday treat from my sister u number...   \n\n                           date   date_secondprocess   date_thirdprocess  \\\n1246  2016-05-08 19:42:57+00:00  2016-05-08 19:42:57 2016-05-08 19:42:57   \n1254  2016-05-08 21:20:20+00:00  2016-05-08 21:20:20 2016-05-08 21:20:20   \n3007  2016-05-12 08:04:44+00:00  2016-05-12 08:04:44 2016-05-12 08:04:44   \n3715  2016-05-13 09:07:09+00:00  2016-05-13 09:07:09 2016-05-13 09:07:09   \n4297  2016-05-14 06:37:43+00:00  2016-05-14 06:37:43 2016-05-14 06:37:43   \n\n                 date_hk  \n1246 2016-05-08 23:42:57  \n1254 2016-05-09 01:20:20  \n3007 2016-05-12 12:04:44  \n3715 2016-05-13 13:07:09  \n4297 2016-05-14 10:37:43  \n\n[5 rows x 21 columns]",
      "text/html": "<div>\n<style scoped>\n    .dataframe tbody tr th:only-of-type {\n        vertical-align: middle;\n    }\n\n    .dataframe tbody tr th {\n        vertical-align: top;\n    }\n\n    .dataframe thead th {\n        text-align: right;\n    }\n</style>\n<table border=\"1\" class=\"dataframe\">\n  <thead>\n    <tr style=\"text-align: right;\">\n      <th></th>\n      <th>created_at</th>\n      <th>id_str</th>\n      <th>lang</th>\n      <th>lat</th>\n      <th>lon</th>\n      <th>text</th>\n      <th>time_zone</th>\n      <th>truncated</th>\n      <th>url</th>\n      <th>user_created_at</th>\n      <th>...</th>\n      <th>user_lang</th>\n      <th>user_url</th>\n      <th>verified</th>\n      <th>TPU_longitudinal</th>\n      <th>TPU_cross_sectional</th>\n      <th>cleaned_text</th>\n      <th>date</th>\n      <th>date_secondprocess</th>\n      <th>date_thirdprocess</th>\n      <th>date_hk</th>\n    </tr>\n  </thead>\n  <tbody>\n    <tr>\n      <th>1246</th>\n      <td>Sun May 08 19:42:57 +0000 2016</td>\n      <td>7.290000e+17</td>\n      <td>en</td>\n      <td>22.280900</td>\n      <td>114.178000</td>\n      <td>Thanks again Hong Kong &lt;ed&gt;&lt;U+00A0&gt;&lt;U+00BC&gt;&lt;ed...</td>\n      <td>Abu Dhabi</td>\n      <td>False</td>\n      <td>https://t.co/TRE2EaWvgv</td>\n      <td>Fri Dec 05 03:50:04 +0000 2008</td>\n      <td>...</td>\n      <td>en</td>\n      <td>NaN</td>\n      <td>False</td>\n      <td>135</td>\n      <td>135</td>\n      <td>thanks again hong kong for more great to this ...</td>\n      <td>2016-05-08 19:42:57+00:00</td>\n      <td>2016-05-08 19:42:57</td>\n      <td>2016-05-08 19:42:57</td>\n      <td>2016-05-08 23:42:57</td>\n    </tr>\n    <tr>\n      <th>1254</th>\n      <td>Sun May 08 21:20:20 +0000 2016</td>\n      <td>7.290000e+17</td>\n      <td>en</td>\n      <td>22.314882</td>\n      <td>113.933372</td>\n      <td>It's that time again! &lt;U+2708&gt;&lt;U+FE0F&gt; #HongKo...</td>\n      <td>Abu Dhabi</td>\n      <td>False</td>\n      <td>https://t.co/vT7Ig26Toy</td>\n      <td>Fri Dec 05 03:50:04 +0000 2008</td>\n      <td>...</td>\n      <td>en</td>\n      <td>NaN</td>\n      <td>False</td>\n      <td>951</td>\n      <td>950 - 951</td>\n      <td>it s that time again u number u hong kong taxi...</td>\n      <td>2016-05-08 21:20:20+00:00</td>\n      <td>2016-05-08 21:20:20</td>\n      <td>2016-05-08 21:20:20</td>\n      <td>2016-05-09 01:20:20</td>\n    </tr>\n    <tr>\n      <th>3007</th>\n      <td>Thu May 12 08:04:44 +0000 2016</td>\n      <td>7.310000e+17</td>\n      <td>en</td>\n      <td>22.280900</td>\n      <td>114.178000</td>\n      <td>Static | Behaviour \\r\\r\\r\\r\\r\\r\\r\\r\\n\\r\\r\\r\\r\\...</td>\n      <td>Abu Dhabi</td>\n      <td>False</td>\n      <td>https://t.co/eDeDOSdZ98</td>\n      <td>Sun Sep 04 11:14:07 +0000 2011</td>\n      <td>...</td>\n      <td>en</td>\n      <td>NaN</td>\n      <td>False</td>\n      <td>135</td>\n      <td>135</td>\n      <td>static behaviour china hong kong explore touri...</td>\n      <td>2016-05-12 08:04:44+00:00</td>\n      <td>2016-05-12 08:04:44</td>\n      <td>2016-05-12 08:04:44</td>\n      <td>2016-05-12 12:04:44</td>\n    </tr>\n    <tr>\n      <th>3715</th>\n      <td>Fri May 13 09:07:09 +0000 2016</td>\n      <td>7.310000e+17</td>\n      <td>en</td>\n      <td>22.339341</td>\n      <td>114.204015</td>\n      <td>The Nan lian garden at Diamond Hill in Hong Ko...</td>\n      <td>Abu Dhabi</td>\n      <td>False</td>\n      <td>https://t.co/UIu8LKGJR5</td>\n      <td>Tue Sep 28 10:15:24 +0000 2010</td>\n      <td>...</td>\n      <td>en</td>\n      <td>NaN</td>\n      <td>False</td>\n      <td>281</td>\n      <td>281</td>\n      <td>the nan garden at diamond hill in hong kong a ...</td>\n      <td>2016-05-13 09:07:09+00:00</td>\n      <td>2016-05-13 09:07:09</td>\n      <td>2016-05-13 09:07:09</td>\n      <td>2016-05-13 13:07:09</td>\n    </tr>\n    <tr>\n      <th>4297</th>\n      <td>Sat May 14 06:37:43 +0000 2016</td>\n      <td>7.310000e+17</td>\n      <td>en</td>\n      <td>22.313420</td>\n      <td>114.043526</td>\n      <td>Advance birthday treat from my sister. &lt;U+2764...</td>\n      <td>Abu Dhabi</td>\n      <td>False</td>\n      <td>https://t.co/KIIE6Twnx4</td>\n      <td>Mon Sep 14 19:15:36 +0000 2009</td>\n      <td>...</td>\n      <td>en</td>\n      <td>NaN</td>\n      <td>False</td>\n      <td>973</td>\n      <td>971 - 974</td>\n      <td>advance birthday treat from my sister u number...</td>\n      <td>2016-05-14 06:37:43+00:00</td>\n      <td>2016-05-14 06:37:43</td>\n      <td>2016-05-14 06:37:43</td>\n      <td>2016-05-14 10:37:43</td>\n    </tr>\n  </tbody>\n</table>\n<p>5 rows × 21 columns</p>\n</div>"
     },
     "execution_count": 110,
     "metadata": {},
     "output_type": "execute_result"
    }
   ],
   "source": [
    "df1.head(5)"
   ],
   "metadata": {
    "collapsed": false
   }
  },
  {
   "cell_type": "code",
   "execution_count": 111,
   "outputs": [
    {
     "name": "stderr",
     "output_type": "stream",
     "text": [
      "C:\\Users\\user\\AppData\\Local\\Temp\\ipykernel_1516\\2716740053.py:1: SettingWithCopyWarning: \n",
      "A value is trying to be set on a copy of a slice from a DataFrame.\n",
      "Try using .loc[row_indexer,col_indexer] = value instead\n",
      "\n",
      "See the caveats in the documentation: https://pandas.pydata.org/pandas-docs/stable/user_guide/indexing.html#returning-a-view-versus-a-copy\n",
      "  df1['date_hk']= df1['date_thirdprocess'] + pd.Timedelta(hours=4, minutes=0, seconds=0)\n"
     ]
    }
   ],
   "source": [
    "df1['date_hk']= df1['date_thirdprocess'] + pd.Timedelta(hours=4, minutes=0, seconds=0)"
   ],
   "metadata": {
    "collapsed": false
   }
  },
  {
   "cell_type": "code",
   "execution_count": 112,
   "outputs": [
    {
     "name": "stderr",
     "output_type": "stream",
     "text": [
      "C:\\Users\\user\\AppData\\Local\\Temp\\ipykernel_1516\\2922204258.py:5: SettingWithCopyWarning: \n",
      "A value is trying to be set on a copy of a slice from a DataFrame.\n",
      "Try using .loc[row_indexer,col_indexer] = value instead\n",
      "\n",
      "See the caveats in the documentation: https://pandas.pydata.org/pandas-docs/stable/user_guide/indexing.html#returning-a-view-versus-a-copy\n",
      "  df2['date_hk'] = df2['date_thirdprocess'] - pd.Timedelta(hours=2, minutes=30, seconds=0)\n",
      "C:\\Users\\user\\AppData\\Local\\Temp\\ipykernel_1516\\2922204258.py:8: SettingWithCopyWarning: \n",
      "A value is trying to be set on a copy of a slice from a DataFrame.\n",
      "Try using .loc[row_indexer,col_indexer] = value instead\n",
      "\n",
      "See the caveats in the documentation: https://pandas.pydata.org/pandas-docs/stable/user_guide/indexing.html#returning-a-view-versus-a-copy\n",
      "  df3['date_hk'] = df3['date_thirdprocess'] + pd.Timedelta(hours=17, minutes=0, seconds=0)\n",
      "C:\\Users\\user\\AppData\\Local\\Temp\\ipykernel_1516\\2922204258.py:11: SettingWithCopyWarning: \n",
      "A value is trying to be set on a copy of a slice from a DataFrame.\n",
      "Try using .loc[row_indexer,col_indexer] = value instead\n",
      "\n",
      "See the caveats in the documentation: https://pandas.pydata.org/pandas-docs/stable/user_guide/indexing.html#returning-a-view-versus-a-copy\n",
      "  df4['date_hk'] = df4['date_thirdprocess'] + pd.Timedelta(hours=2, minutes=0, seconds=0)\n",
      "C:\\Users\\user\\AppData\\Local\\Temp\\ipykernel_1516\\2922204258.py:14: SettingWithCopyWarning: \n",
      "A value is trying to be set on a copy of a slice from a DataFrame.\n",
      "Try using .loc[row_indexer,col_indexer] = value instead\n",
      "\n",
      "See the caveats in the documentation: https://pandas.pydata.org/pandas-docs/stable/user_guide/indexing.html#returning-a-view-versus-a-copy\n",
      "  df5['date_hk'] = df5['date_thirdprocess'] + pd.Timedelta(hours=12, minutes=0, seconds=0)\n",
      "C:\\Users\\user\\AppData\\Local\\Temp\\ipykernel_1516\\2922204258.py:17: SettingWithCopyWarning: \n",
      "A value is trying to be set on a copy of a slice from a DataFrame.\n",
      "Try using .loc[row_indexer,col_indexer] = value instead\n",
      "\n",
      "See the caveats in the documentation: https://pandas.pydata.org/pandas-docs/stable/user_guide/indexing.html#returning-a-view-versus-a-copy\n",
      "  df6['date_hk'] = df6['date_thirdprocess'] + pd.Timedelta(hours=13, minutes=0, seconds=0)\n",
      "C:\\Users\\user\\AppData\\Local\\Temp\\ipykernel_1516\\2922204258.py:20: SettingWithCopyWarning: \n",
      "A value is trying to be set on a copy of a slice from a DataFrame.\n",
      "Try using .loc[row_indexer,col_indexer] = value instead\n",
      "\n",
      "See the caveats in the documentation: https://pandas.pydata.org/pandas-docs/stable/user_guide/indexing.html#returning-a-view-versus-a-copy\n",
      "  df7['date_hk'] = df7['date_thirdprocess'] + pd.Timedelta(hours=15, minutes=0, seconds=0)\n",
      "C:\\Users\\user\\AppData\\Local\\Temp\\ipykernel_1516\\2922204258.py:23: SettingWithCopyWarning: \n",
      "A value is trying to be set on a copy of a slice from a DataFrame.\n",
      "Try using .loc[row_indexer,col_indexer] = value instead\n",
      "\n",
      "See the caveats in the documentation: https://pandas.pydata.org/pandas-docs/stable/user_guide/indexing.html#returning-a-view-versus-a-copy\n",
      "  df8['date_hk'] = df8['date_thirdprocess'] + pd.Timedelta(hours=14, minutes=0, seconds=0)\n",
      "C:\\Users\\user\\AppData\\Local\\Temp\\ipykernel_1516\\2922204258.py:26: SettingWithCopyWarning: \n",
      "A value is trying to be set on a copy of a slice from a DataFrame.\n",
      "Try using .loc[row_indexer,col_indexer] = value instead\n",
      "\n",
      "See the caveats in the documentation: https://pandas.pydata.org/pandas-docs/stable/user_guide/indexing.html#returning-a-view-versus-a-copy\n",
      "  df9['date_hk'] = df9['date_thirdprocess'] + pd.Timedelta(hours=15, minutes=0, seconds=0)\n",
      "C:\\Users\\user\\AppData\\Local\\Temp\\ipykernel_1516\\2922204258.py:29: SettingWithCopyWarning: \n",
      "A value is trying to be set on a copy of a slice from a DataFrame.\n",
      "Try using .loc[row_indexer,col_indexer] = value instead\n",
      "\n",
      "See the caveats in the documentation: https://pandas.pydata.org/pandas-docs/stable/user_guide/indexing.html#returning-a-view-versus-a-copy\n",
      "  df10['date_hk'] = df10['date_thirdprocess'] + pd.Timedelta(hours=13, minutes=0, seconds=0)\n",
      "C:\\Users\\user\\AppData\\Local\\Temp\\ipykernel_1516\\2922204258.py:32: SettingWithCopyWarning: \n",
      "A value is trying to be set on a copy of a slice from a DataFrame.\n",
      "Try using .loc[row_indexer,col_indexer] = value instead\n",
      "\n",
      "See the caveats in the documentation: https://pandas.pydata.org/pandas-docs/stable/user_guide/indexing.html#returning-a-view-versus-a-copy\n",
      "  df11['date_hk'] = df11['date_thirdprocess'] + pd.Timedelta(hours=15, minutes=0, seconds=0)\n",
      "C:\\Users\\user\\AppData\\Local\\Temp\\ipykernel_1516\\2922204258.py:35: SettingWithCopyWarning: \n",
      "A value is trying to be set on a copy of a slice from a DataFrame.\n",
      "Try using .loc[row_indexer,col_indexer] = value instead\n",
      "\n",
      "See the caveats in the documentation: https://pandas.pydata.org/pandas-docs/stable/user_guide/indexing.html#returning-a-view-versus-a-copy\n",
      "  df12['date_hk'] = df12['date_thirdprocess'] + pd.Timedelta(hours=16, minutes=0, seconds=0)\n",
      "C:\\Users\\user\\AppData\\Local\\Temp\\ipykernel_1516\\2922204258.py:38: SettingWithCopyWarning: \n",
      "A value is trying to be set on a copy of a slice from a DataFrame.\n",
      "Try using .loc[row_indexer,col_indexer] = value instead\n",
      "\n",
      "See the caveats in the documentation: https://pandas.pydata.org/pandas-docs/stable/user_guide/indexing.html#returning-a-view-versus-a-copy\n",
      "  df13['date_hk'] = df13['date_thirdprocess'] + pd.Timedelta(hours=14, minutes=0, seconds=0)\n",
      "C:\\Users\\user\\AppData\\Local\\Temp\\ipykernel_1516\\2922204258.py:41: SettingWithCopyWarning: \n",
      "A value is trying to be set on a copy of a slice from a DataFrame.\n",
      "Try using .loc[row_indexer,col_indexer] = value instead\n",
      "\n",
      "See the caveats in the documentation: https://pandas.pydata.org/pandas-docs/stable/user_guide/indexing.html#returning-a-view-versus-a-copy\n",
      "  df14['date_hk'] = df14['date_thirdprocess'] + pd.Timedelta(hours=13, minutes=0, seconds=0)\n",
      "C:\\Users\\user\\AppData\\Local\\Temp\\ipykernel_1516\\2922204258.py:44: SettingWithCopyWarning: \n",
      "A value is trying to be set on a copy of a slice from a DataFrame.\n",
      "Try using .loc[row_indexer,col_indexer] = value instead\n",
      "\n",
      "See the caveats in the documentation: https://pandas.pydata.org/pandas-docs/stable/user_guide/indexing.html#returning-a-view-versus-a-copy\n",
      "  df15['date_hk'] = df15['date_thirdprocess'] + pd.Timedelta(hours=13, minutes=0, seconds=0)\n",
      "C:\\Users\\user\\AppData\\Local\\Temp\\ipykernel_1516\\2922204258.py:47: SettingWithCopyWarning: \n",
      "A value is trying to be set on a copy of a slice from a DataFrame.\n",
      "Try using .loc[row_indexer,col_indexer] = value instead\n",
      "\n",
      "See the caveats in the documentation: https://pandas.pydata.org/pandas-docs/stable/user_guide/indexing.html#returning-a-view-versus-a-copy\n",
      "  df16['date_hk'] = df16['date_thirdprocess'] + pd.Timedelta(hours=16, minutes=0, seconds=0)\n",
      "C:\\Users\\user\\AppData\\Local\\Temp\\ipykernel_1516\\2922204258.py:50: SettingWithCopyWarning: \n",
      "A value is trying to be set on a copy of a slice from a DataFrame.\n",
      "Try using .loc[row_indexer,col_indexer] = value instead\n",
      "\n",
      "See the caveats in the documentation: https://pandas.pydata.org/pandas-docs/stable/user_guide/indexing.html#returning-a-view-versus-a-copy\n",
      "  df17['date_hk'] = df17['date_thirdprocess'] + pd.Timedelta(hours=7, minutes=0, seconds=0)\n",
      "C:\\Users\\user\\AppData\\Local\\Temp\\ipykernel_1516\\2922204258.py:53: SettingWithCopyWarning: \n",
      "A value is trying to be set on a copy of a slice from a DataFrame.\n",
      "Try using .loc[row_indexer,col_indexer] = value instead\n",
      "\n",
      "See the caveats in the documentation: https://pandas.pydata.org/pandas-docs/stable/user_guide/indexing.html#returning-a-view-versus-a-copy\n",
      "  df18['date_hk'] = df18['date_thirdprocess'] + pd.Timedelta(hours=15, minutes=0, seconds=0)\n",
      "C:\\Users\\user\\AppData\\Local\\Temp\\ipykernel_1516\\2922204258.py:56: SettingWithCopyWarning: \n",
      "A value is trying to be set on a copy of a slice from a DataFrame.\n",
      "Try using .loc[row_indexer,col_indexer] = value instead\n",
      "\n",
      "See the caveats in the documentation: https://pandas.pydata.org/pandas-docs/stable/user_guide/indexing.html#returning-a-view-versus-a-copy\n",
      "  df19['date_hk'] = df19['date_thirdprocess'] + pd.Timedelta(hours=1, minutes=0, seconds=0)\n",
      "C:\\Users\\user\\AppData\\Local\\Temp\\ipykernel_1516\\2922204258.py:59: SettingWithCopyWarning: \n",
      "A value is trying to be set on a copy of a slice from a DataFrame.\n",
      "Try using .loc[row_indexer,col_indexer] = value instead\n",
      "\n",
      "See the caveats in the documentation: https://pandas.pydata.org/pandas-docs/stable/user_guide/indexing.html#returning-a-view-versus-a-copy\n",
      "  df20['date_hk'] = df20['date_thirdprocess'] + pd.Timedelta(hours=2, minutes=30, seconds=0)\n",
      "C:\\Users\\user\\AppData\\Local\\Temp\\ipykernel_1516\\2922204258.py:62: SettingWithCopyWarning: \n",
      "A value is trying to be set on a copy of a slice from a DataFrame.\n",
      "Try using .loc[row_indexer,col_indexer] = value instead\n",
      "\n",
      "See the caveats in the documentation: https://pandas.pydata.org/pandas-docs/stable/user_guide/indexing.html#returning-a-view-versus-a-copy\n",
      "  df21['date_hk'] = df21['date_thirdprocess'] + pd.Timedelta(hours=4, minutes=0, seconds=0)\n",
      "C:\\Users\\user\\AppData\\Local\\Temp\\ipykernel_1516\\2922204258.py:65: SettingWithCopyWarning: \n",
      "A value is trying to be set on a copy of a slice from a DataFrame.\n",
      "Try using .loc[row_indexer,col_indexer] = value instead\n",
      "\n",
      "See the caveats in the documentation: https://pandas.pydata.org/pandas-docs/stable/user_guide/indexing.html#returning-a-view-versus-a-copy\n",
      "  df22['date_hk'] = df22['date_thirdprocess']\n",
      "C:\\Users\\user\\AppData\\Local\\Temp\\ipykernel_1516\\2922204258.py:68: SettingWithCopyWarning: \n",
      "A value is trying to be set on a copy of a slice from a DataFrame.\n",
      "Try using .loc[row_indexer,col_indexer] = value instead\n",
      "\n",
      "See the caveats in the documentation: https://pandas.pydata.org/pandas-docs/stable/user_guide/indexing.html#returning-a-view-versus-a-copy\n",
      "  df23['date_hk'] = df23['date_thirdprocess'] + pd.Timedelta(hours=1, minutes=0, seconds=0)\n",
      "C:\\Users\\user\\AppData\\Local\\Temp\\ipykernel_1516\\2922204258.py:71: SettingWithCopyWarning: \n",
      "A value is trying to be set on a copy of a slice from a DataFrame.\n",
      "Try using .loc[row_indexer,col_indexer] = value instead\n",
      "\n",
      "See the caveats in the documentation: https://pandas.pydata.org/pandas-docs/stable/user_guide/indexing.html#returning-a-view-versus-a-copy\n",
      "  df24['date_hk'] = df24['date_thirdprocess'] + pd.Timedelta(hours=6, minutes=0, seconds=0)\n",
      "C:\\Users\\user\\AppData\\Local\\Temp\\ipykernel_1516\\2922204258.py:74: SettingWithCopyWarning: \n",
      "A value is trying to be set on a copy of a slice from a DataFrame.\n",
      "Try using .loc[row_indexer,col_indexer] = value instead\n",
      "\n",
      "See the caveats in the documentation: https://pandas.pydata.org/pandas-docs/stable/user_guide/indexing.html#returning-a-view-versus-a-copy\n",
      "  df25['date_hk'] = df25['date_thirdprocess'] + pd.Timedelta(hours=2, minutes=30, seconds=0)\n",
      "C:\\Users\\user\\AppData\\Local\\Temp\\ipykernel_1516\\2922204258.py:77: SettingWithCopyWarning: \n",
      "A value is trying to be set on a copy of a slice from a DataFrame.\n",
      "Try using .loc[row_indexer,col_indexer] = value instead\n",
      "\n",
      "See the caveats in the documentation: https://pandas.pydata.org/pandas-docs/stable/user_guide/indexing.html#returning-a-view-versus-a-copy\n",
      "  df26['date_hk'] = df26['date_thirdprocess']\n",
      "C:\\Users\\user\\AppData\\Local\\Temp\\ipykernel_1516\\2922204258.py:80: SettingWithCopyWarning: \n",
      "A value is trying to be set on a copy of a slice from a DataFrame.\n",
      "Try using .loc[row_indexer,col_indexer] = value instead\n",
      "\n",
      "See the caveats in the documentation: https://pandas.pydata.org/pandas-docs/stable/user_guide/indexing.html#returning-a-view-versus-a-copy\n",
      "  df27['date_hk'] = df27['date_thirdprocess'] + pd.Timedelta(hours=5, minutes=0, seconds=0)\n",
      "C:\\Users\\user\\AppData\\Local\\Temp\\ipykernel_1516\\2922204258.py:83: SettingWithCopyWarning: \n",
      "A value is trying to be set on a copy of a slice from a DataFrame.\n",
      "Try using .loc[row_indexer,col_indexer] = value instead\n",
      "\n",
      "See the caveats in the documentation: https://pandas.pydata.org/pandas-docs/stable/user_guide/indexing.html#returning-a-view-versus-a-copy\n",
      "  df28['date_hk'] = df28['date_thirdprocess']\n",
      "C:\\Users\\user\\AppData\\Local\\Temp\\ipykernel_1516\\2922204258.py:86: SettingWithCopyWarning: \n",
      "A value is trying to be set on a copy of a slice from a DataFrame.\n",
      "Try using .loc[row_indexer,col_indexer] = value instead\n",
      "\n",
      "See the caveats in the documentation: https://pandas.pydata.org/pandas-docs/stable/user_guide/indexing.html#returning-a-view-versus-a-copy\n",
      "  df29['date_hk'] = df29['date_thirdprocess']\n",
      "C:\\Users\\user\\AppData\\Local\\Temp\\ipykernel_1516\\2922204258.py:89: SettingWithCopyWarning: \n",
      "A value is trying to be set on a copy of a slice from a DataFrame.\n",
      "Try using .loc[row_indexer,col_indexer] = value instead\n",
      "\n",
      "See the caveats in the documentation: https://pandas.pydata.org/pandas-docs/stable/user_guide/indexing.html#returning-a-view-versus-a-copy\n",
      "  df30['date_hk'] = df30['date_thirdprocess']\n",
      "C:\\Users\\user\\AppData\\Local\\Temp\\ipykernel_1516\\2922204258.py:92: SettingWithCopyWarning: \n",
      "A value is trying to be set on a copy of a slice from a DataFrame.\n",
      "Try using .loc[row_indexer,col_indexer] = value instead\n",
      "\n",
      "See the caveats in the documentation: https://pandas.pydata.org/pandas-docs/stable/user_guide/indexing.html#returning-a-view-versus-a-copy\n",
      "  df31['date_hk'] = df31['date_thirdprocess']\n",
      "C:\\Users\\user\\AppData\\Local\\Temp\\ipykernel_1516\\2922204258.py:95: SettingWithCopyWarning: \n",
      "A value is trying to be set on a copy of a slice from a DataFrame.\n",
      "Try using .loc[row_indexer,col_indexer] = value instead\n",
      "\n",
      "See the caveats in the documentation: https://pandas.pydata.org/pandas-docs/stable/user_guide/indexing.html#returning-a-view-versus-a-copy\n",
      "  df32['date_hk'] = df32['date_thirdprocess'] - pd.Timedelta(hours=1, minutes=0, seconds=0)\n",
      "C:\\Users\\user\\AppData\\Local\\Temp\\ipykernel_1516\\2922204258.py:98: SettingWithCopyWarning: \n",
      "A value is trying to be set on a copy of a slice from a DataFrame.\n",
      "Try using .loc[row_indexer,col_indexer] = value instead\n",
      "\n",
      "See the caveats in the documentation: https://pandas.pydata.org/pandas-docs/stable/user_guide/indexing.html#returning-a-view-versus-a-copy\n",
      "  df33['date_hk'] = df33['date_thirdprocess'] + pd.Timedelta(hours=6, minutes=0, seconds=0)\n",
      "C:\\Users\\user\\AppData\\Local\\Temp\\ipykernel_1516\\2922204258.py:101: SettingWithCopyWarning: \n",
      "A value is trying to be set on a copy of a slice from a DataFrame.\n",
      "Try using .loc[row_indexer,col_indexer] = value instead\n",
      "\n",
      "See the caveats in the documentation: https://pandas.pydata.org/pandas-docs/stable/user_guide/indexing.html#returning-a-view-versus-a-copy\n",
      "  df34['date_hk'] = df34['date_thirdprocess'] + pd.Timedelta(hours=12, minutes=0, seconds=0)\n",
      "C:\\Users\\user\\AppData\\Local\\Temp\\ipykernel_1516\\2922204258.py:104: SettingWithCopyWarning: \n",
      "A value is trying to be set on a copy of a slice from a DataFrame.\n",
      "Try using .loc[row_indexer,col_indexer] = value instead\n",
      "\n",
      "See the caveats in the documentation: https://pandas.pydata.org/pandas-docs/stable/user_guide/indexing.html#returning-a-view-versus-a-copy\n",
      "  df35['date_hk'] = df35['date_thirdprocess'] + pd.Timedelta(hours=8, minutes=0, seconds=0)\n",
      "C:\\Users\\user\\AppData\\Local\\Temp\\ipykernel_1516\\2922204258.py:107: SettingWithCopyWarning: \n",
      "A value is trying to be set on a copy of a slice from a DataFrame.\n",
      "Try using .loc[row_indexer,col_indexer] = value instead\n",
      "\n",
      "See the caveats in the documentation: https://pandas.pydata.org/pandas-docs/stable/user_guide/indexing.html#returning-a-view-versus-a-copy\n",
      "  df36['date_hk'] = df36['date_thirdprocess'] - pd.Timedelta(hours=5, minutes=0, seconds=0)\n",
      "C:\\Users\\user\\AppData\\Local\\Temp\\ipykernel_1516\\2922204258.py:110: SettingWithCopyWarning: \n",
      "A value is trying to be set on a copy of a slice from a DataFrame.\n",
      "Try using .loc[row_indexer,col_indexer] = value instead\n",
      "\n",
      "See the caveats in the documentation: https://pandas.pydata.org/pandas-docs/stable/user_guide/indexing.html#returning-a-view-versus-a-copy\n",
      "  df37['date_hk'] = df37['date_thirdprocess'] + pd.Timedelta(hours=7, minutes=0, seconds=0)\n",
      "C:\\Users\\user\\AppData\\Local\\Temp\\ipykernel_1516\\2922204258.py:113: SettingWithCopyWarning: \n",
      "A value is trying to be set on a copy of a slice from a DataFrame.\n",
      "Try using .loc[row_indexer,col_indexer] = value instead\n",
      "\n",
      "See the caveats in the documentation: https://pandas.pydata.org/pandas-docs/stable/user_guide/indexing.html#returning-a-view-versus-a-copy\n",
      "  df38['date_hk'] = df38['date_thirdprocess'] + pd.Timedelta(hours=5, minutes=0, seconds=0)\n",
      "C:\\Users\\user\\AppData\\Local\\Temp\\ipykernel_1516\\2922204258.py:116: SettingWithCopyWarning: \n",
      "A value is trying to be set on a copy of a slice from a DataFrame.\n",
      "Try using .loc[row_indexer,col_indexer] = value instead\n",
      "\n",
      "See the caveats in the documentation: https://pandas.pydata.org/pandas-docs/stable/user_guide/indexing.html#returning-a-view-versus-a-copy\n",
      "  df39['date_hk'] = df39['date_thirdprocess'] + pd.Timedelta(hours=4, minutes=0, seconds=0)\n",
      "C:\\Users\\user\\AppData\\Local\\Temp\\ipykernel_1516\\2922204258.py:119: SettingWithCopyWarning: \n",
      "A value is trying to be set on a copy of a slice from a DataFrame.\n",
      "Try using .loc[row_indexer,col_indexer] = value instead\n",
      "\n",
      "See the caveats in the documentation: https://pandas.pydata.org/pandas-docs/stable/user_guide/indexing.html#returning-a-view-versus-a-copy\n",
      "  df40['date_hk'] = df40['date_thirdprocess'] + pd.Timedelta(hours=1, minutes=0, seconds=0)\n",
      "C:\\Users\\user\\AppData\\Local\\Temp\\ipykernel_1516\\2922204258.py:122: SettingWithCopyWarning: \n",
      "A value is trying to be set on a copy of a slice from a DataFrame.\n",
      "Try using .loc[row_indexer,col_indexer] = value instead\n",
      "\n",
      "See the caveats in the documentation: https://pandas.pydata.org/pandas-docs/stable/user_guide/indexing.html#returning-a-view-versus-a-copy\n",
      "  df41['date_hk'] = df41['date_thirdprocess']\n",
      "C:\\Users\\user\\AppData\\Local\\Temp\\ipykernel_1516\\2922204258.py:125: SettingWithCopyWarning: \n",
      "A value is trying to be set on a copy of a slice from a DataFrame.\n",
      "Try using .loc[row_indexer,col_indexer] = value instead\n",
      "\n",
      "See the caveats in the documentation: https://pandas.pydata.org/pandas-docs/stable/user_guide/indexing.html#returning-a-view-versus-a-copy\n",
      "  df42['date_hk'] = df42['date_thirdprocess'] + pd.Timedelta(hours=7, minutes=0, seconds=0)\n",
      "C:\\Users\\user\\AppData\\Local\\Temp\\ipykernel_1516\\2922204258.py:128: SettingWithCopyWarning: \n",
      "A value is trying to be set on a copy of a slice from a DataFrame.\n",
      "Try using .loc[row_indexer,col_indexer] = value instead\n",
      "\n",
      "See the caveats in the documentation: https://pandas.pydata.org/pandas-docs/stable/user_guide/indexing.html#returning-a-view-versus-a-copy\n",
      "  df43['date_hk'] = df43['date_thirdprocess'] + pd.Timedelta(hours=7, minutes=0, seconds=0)\n",
      "C:\\Users\\user\\AppData\\Local\\Temp\\ipykernel_1516\\2922204258.py:131: SettingWithCopyWarning: \n",
      "A value is trying to be set on a copy of a slice from a DataFrame.\n",
      "Try using .loc[row_indexer,col_indexer] = value instead\n",
      "\n",
      "See the caveats in the documentation: https://pandas.pydata.org/pandas-docs/stable/user_guide/indexing.html#returning-a-view-versus-a-copy\n",
      "  df44['date_hk'] = df44['date_thirdprocess'] + pd.Timedelta(hours=7, minutes=0, seconds=0)\n",
      "C:\\Users\\user\\AppData\\Local\\Temp\\ipykernel_1516\\2922204258.py:134: SettingWithCopyWarning: \n",
      "A value is trying to be set on a copy of a slice from a DataFrame.\n",
      "Try using .loc[row_indexer,col_indexer] = value instead\n",
      "\n",
      "See the caveats in the documentation: https://pandas.pydata.org/pandas-docs/stable/user_guide/indexing.html#returning-a-view-versus-a-copy\n",
      "  df45['date_hk'] = df45['date_thirdprocess'] + pd.Timedelta(hours=13, minutes=0, seconds=0)\n",
      "C:\\Users\\user\\AppData\\Local\\Temp\\ipykernel_1516\\2922204258.py:137: SettingWithCopyWarning: \n",
      "A value is trying to be set on a copy of a slice from a DataFrame.\n",
      "Try using .loc[row_indexer,col_indexer] = value instead\n",
      "\n",
      "See the caveats in the documentation: https://pandas.pydata.org/pandas-docs/stable/user_guide/indexing.html#returning-a-view-versus-a-copy\n",
      "  df46['date_hk'] = df46['date_thirdprocess'] + pd.Timedelta(hours=11, minutes=0, seconds=0)\n",
      "C:\\Users\\user\\AppData\\Local\\Temp\\ipykernel_1516\\2922204258.py:140: SettingWithCopyWarning: \n",
      "A value is trying to be set on a copy of a slice from a DataFrame.\n",
      "Try using .loc[row_indexer,col_indexer] = value instead\n",
      "\n",
      "See the caveats in the documentation: https://pandas.pydata.org/pandas-docs/stable/user_guide/indexing.html#returning-a-view-versus-a-copy\n",
      "  df47['date_hk'] = df47['date_thirdprocess'] + pd.Timedelta(hours=7, minutes=0, seconds=0)\n",
      "C:\\Users\\user\\AppData\\Local\\Temp\\ipykernel_1516\\2922204258.py:143: SettingWithCopyWarning: \n",
      "A value is trying to be set on a copy of a slice from a DataFrame.\n",
      "Try using .loc[row_indexer,col_indexer] = value instead\n",
      "\n",
      "See the caveats in the documentation: https://pandas.pydata.org/pandas-docs/stable/user_guide/indexing.html#returning-a-view-versus-a-copy\n",
      "  df48['date_hk'] = df48['date_thirdprocess'] - pd.Timedelta(hours=2, minutes=0, seconds=0)\n",
      "C:\\Users\\user\\AppData\\Local\\Temp\\ipykernel_1516\\2922204258.py:146: SettingWithCopyWarning: \n",
      "A value is trying to be set on a copy of a slice from a DataFrame.\n",
      "Try using .loc[row_indexer,col_indexer] = value instead\n",
      "\n",
      "See the caveats in the documentation: https://pandas.pydata.org/pandas-docs/stable/user_guide/indexing.html#returning-a-view-versus-a-copy\n",
      "  df49['date_hk'] = df49['date_thirdprocess'] + pd.Timedelta(hours=7, minutes=0, seconds=0)\n",
      "C:\\Users\\user\\AppData\\Local\\Temp\\ipykernel_1516\\2922204258.py:149: SettingWithCopyWarning: \n",
      "A value is trying to be set on a copy of a slice from a DataFrame.\n",
      "Try using .loc[row_indexer,col_indexer] = value instead\n",
      "\n",
      "See the caveats in the documentation: https://pandas.pydata.org/pandas-docs/stable/user_guide/indexing.html#returning-a-view-versus-a-copy\n",
      "  df50['date_hk'] = df50['date_thirdprocess'] + pd.Timedelta(hours=6, minutes=0, seconds=0)\n",
      "C:\\Users\\user\\AppData\\Local\\Temp\\ipykernel_1516\\2922204258.py:152: SettingWithCopyWarning: \n",
      "A value is trying to be set on a copy of a slice from a DataFrame.\n",
      "Try using .loc[row_indexer,col_indexer] = value instead\n",
      "\n",
      "See the caveats in the documentation: https://pandas.pydata.org/pandas-docs/stable/user_guide/indexing.html#returning-a-view-versus-a-copy\n",
      "  df51['date_hk'] = df51['date_thirdprocess'] + pd.Timedelta(hours=7, minutes=0, seconds=0)\n",
      "C:\\Users\\user\\AppData\\Local\\Temp\\ipykernel_1516\\2922204258.py:155: SettingWithCopyWarning: \n",
      "A value is trying to be set on a copy of a slice from a DataFrame.\n",
      "Try using .loc[row_indexer,col_indexer] = value instead\n",
      "\n",
      "See the caveats in the documentation: https://pandas.pydata.org/pandas-docs/stable/user_guide/indexing.html#returning-a-view-versus-a-copy\n",
      "  df52['date_hk'] = df52['date_thirdprocess'] + pd.Timedelta(hours=11, minutes=0, seconds=0)\n",
      "C:\\Users\\user\\AppData\\Local\\Temp\\ipykernel_1516\\2922204258.py:158: SettingWithCopyWarning: \n",
      "A value is trying to be set on a copy of a slice from a DataFrame.\n",
      "Try using .loc[row_indexer,col_indexer] = value instead\n",
      "\n",
      "See the caveats in the documentation: https://pandas.pydata.org/pandas-docs/stable/user_guide/indexing.html#returning-a-view-versus-a-copy\n",
      "  df53['date_hk'] = df53['date_thirdprocess'] + pd.Timedelta(hours=6, minutes=0, seconds=0)\n",
      "C:\\Users\\user\\AppData\\Local\\Temp\\ipykernel_1516\\2922204258.py:161: SettingWithCopyWarning: \n",
      "A value is trying to be set on a copy of a slice from a DataFrame.\n",
      "Try using .loc[row_indexer,col_indexer] = value instead\n",
      "\n",
      "See the caveats in the documentation: https://pandas.pydata.org/pandas-docs/stable/user_guide/indexing.html#returning-a-view-versus-a-copy\n",
      "  df54['date_hk'] = df54['date_thirdprocess'] + pd.Timedelta(hours=16, minutes=0, seconds=0)\n",
      "C:\\Users\\user\\AppData\\Local\\Temp\\ipykernel_1516\\2922204258.py:164: SettingWithCopyWarning: \n",
      "A value is trying to be set on a copy of a slice from a DataFrame.\n",
      "Try using .loc[row_indexer,col_indexer] = value instead\n",
      "\n",
      "See the caveats in the documentation: https://pandas.pydata.org/pandas-docs/stable/user_guide/indexing.html#returning-a-view-versus-a-copy\n",
      "  df55['date_hk'] = df55['date_thirdprocess'] - pd.Timedelta(hours=3, minutes=0, seconds=0)\n",
      "C:\\Users\\user\\AppData\\Local\\Temp\\ipykernel_1516\\2922204258.py:167: SettingWithCopyWarning: \n",
      "A value is trying to be set on a copy of a slice from a DataFrame.\n",
      "Try using .loc[row_indexer,col_indexer] = value instead\n",
      "\n",
      "See the caveats in the documentation: https://pandas.pydata.org/pandas-docs/stable/user_guide/indexing.html#returning-a-view-versus-a-copy\n",
      "  df56['date_hk'] = df56['date_thirdprocess'] + pd.Timedelta(hours=12, minutes=0, seconds=0)\n",
      "C:\\Users\\user\\AppData\\Local\\Temp\\ipykernel_1516\\2922204258.py:170: SettingWithCopyWarning: \n",
      "A value is trying to be set on a copy of a slice from a DataFrame.\n",
      "Try using .loc[row_indexer,col_indexer] = value instead\n",
      "\n",
      "See the caveats in the documentation: https://pandas.pydata.org/pandas-docs/stable/user_guide/indexing.html#returning-a-view-versus-a-copy\n",
      "  df57['date_hk'] = df57['date_thirdprocess'] + pd.Timedelta(hours=7, minutes=0, seconds=0)\n",
      "C:\\Users\\user\\AppData\\Local\\Temp\\ipykernel_1516\\2922204258.py:173: SettingWithCopyWarning: \n",
      "A value is trying to be set on a copy of a slice from a DataFrame.\n",
      "Try using .loc[row_indexer,col_indexer] = value instead\n",
      "\n",
      "See the caveats in the documentation: https://pandas.pydata.org/pandas-docs/stable/user_guide/indexing.html#returning-a-view-versus-a-copy\n",
      "  df58['date_hk'] = df58['date_thirdprocess'] + pd.Timedelta(hours=14, minutes=0, seconds=0)\n",
      "C:\\Users\\user\\AppData\\Local\\Temp\\ipykernel_1516\\2922204258.py:176: SettingWithCopyWarning: \n",
      "A value is trying to be set on a copy of a slice from a DataFrame.\n",
      "Try using .loc[row_indexer,col_indexer] = value instead\n",
      "\n",
      "See the caveats in the documentation: https://pandas.pydata.org/pandas-docs/stable/user_guide/indexing.html#returning-a-view-versus-a-copy\n",
      "  df59['date_hk'] = df59['date_thirdprocess'] + pd.Timedelta(hours=14, minutes=0, seconds=0)\n",
      "C:\\Users\\user\\AppData\\Local\\Temp\\ipykernel_1516\\2922204258.py:179: SettingWithCopyWarning: \n",
      "A value is trying to be set on a copy of a slice from a DataFrame.\n",
      "Try using .loc[row_indexer,col_indexer] = value instead\n",
      "\n",
      "See the caveats in the documentation: https://pandas.pydata.org/pandas-docs/stable/user_guide/indexing.html#returning-a-view-versus-a-copy\n",
      "  df60['date_hk'] = df60['date_thirdprocess'] + pd.Timedelta(hours=2, minutes=30, seconds=0)\n",
      "C:\\Users\\user\\AppData\\Local\\Temp\\ipykernel_1516\\2922204258.py:182: SettingWithCopyWarning: \n",
      "A value is trying to be set on a copy of a slice from a DataFrame.\n",
      "Try using .loc[row_indexer,col_indexer] = value instead\n",
      "\n",
      "See the caveats in the documentation: https://pandas.pydata.org/pandas-docs/stable/user_guide/indexing.html#returning-a-view-versus-a-copy\n",
      "  df61['date_hk'] = df61['date_thirdprocess'] + pd.Timedelta(hours=14, minutes=0, seconds=0)\n",
      "C:\\Users\\user\\AppData\\Local\\Temp\\ipykernel_1516\\2922204258.py:185: SettingWithCopyWarning: \n",
      "A value is trying to be set on a copy of a slice from a DataFrame.\n",
      "Try using .loc[row_indexer,col_indexer] = value instead\n",
      "\n",
      "See the caveats in the documentation: https://pandas.pydata.org/pandas-docs/stable/user_guide/indexing.html#returning-a-view-versus-a-copy\n",
      "  df62['date_hk'] = df62['date_thirdprocess']\n",
      "C:\\Users\\user\\AppData\\Local\\Temp\\ipykernel_1516\\2922204258.py:188: SettingWithCopyWarning: \n",
      "A value is trying to be set on a copy of a slice from a DataFrame.\n",
      "Try using .loc[row_indexer,col_indexer] = value instead\n",
      "\n",
      "See the caveats in the documentation: https://pandas.pydata.org/pandas-docs/stable/user_guide/indexing.html#returning-a-view-versus-a-copy\n",
      "  df63['date_hk'] = df63['date_thirdprocess'] + pd.Timedelta(hours=7, minutes=0, seconds=0)\n",
      "C:\\Users\\user\\AppData\\Local\\Temp\\ipykernel_1516\\2922204258.py:191: SettingWithCopyWarning: \n",
      "A value is trying to be set on a copy of a slice from a DataFrame.\n",
      "Try using .loc[row_indexer,col_indexer] = value instead\n",
      "\n",
      "See the caveats in the documentation: https://pandas.pydata.org/pandas-docs/stable/user_guide/indexing.html#returning-a-view-versus-a-copy\n",
      "  df64['date_hk'] = df64['date_thirdprocess'] - pd.Timedelta(hours=1, minutes=30, seconds=0)\n",
      "C:\\Users\\user\\AppData\\Local\\Temp\\ipykernel_1516\\2922204258.py:194: SettingWithCopyWarning: \n",
      "A value is trying to be set on a copy of a slice from a DataFrame.\n",
      "Try using .loc[row_indexer,col_indexer] = value instead\n",
      "\n",
      "See the caveats in the documentation: https://pandas.pydata.org/pandas-docs/stable/user_guide/indexing.html#returning-a-view-versus-a-copy\n",
      "  df65['date_hk'] = df65['date_thirdprocess'] + pd.Timedelta(hours=2, minutes=0, seconds=0)\n",
      "C:\\Users\\user\\AppData\\Local\\Temp\\ipykernel_1516\\2922204258.py:197: SettingWithCopyWarning: \n",
      "A value is trying to be set on a copy of a slice from a DataFrame.\n",
      "Try using .loc[row_indexer,col_indexer] = value instead\n",
      "\n",
      "See the caveats in the documentation: https://pandas.pydata.org/pandas-docs/stable/user_guide/indexing.html#returning-a-view-versus-a-copy\n",
      "  df66['date_hk'] = df66['date_thirdprocess'] + pd.Timedelta(hours=8, minutes=0, seconds=0)\n",
      "C:\\Users\\user\\AppData\\Local\\Temp\\ipykernel_1516\\2922204258.py:200: SettingWithCopyWarning: \n",
      "A value is trying to be set on a copy of a slice from a DataFrame.\n",
      "Try using .loc[row_indexer,col_indexer] = value instead\n",
      "\n",
      "See the caveats in the documentation: https://pandas.pydata.org/pandas-docs/stable/user_guide/indexing.html#returning-a-view-versus-a-copy\n",
      "  df67['date_hk'] = df67['date_thirdprocess'] + pd.Timedelta(hours=13, minutes=0, seconds=0)\n",
      "C:\\Users\\user\\AppData\\Local\\Temp\\ipykernel_1516\\2922204258.py:203: SettingWithCopyWarning: \n",
      "A value is trying to be set on a copy of a slice from a DataFrame.\n",
      "Try using .loc[row_indexer,col_indexer] = value instead\n",
      "\n",
      "See the caveats in the documentation: https://pandas.pydata.org/pandas-docs/stable/user_guide/indexing.html#returning-a-view-versus-a-copy\n",
      "  df68['date_hk'] = df68['date_thirdprocess'] + pd.Timedelta(hours=8, minutes=0, seconds=0)\n",
      "C:\\Users\\user\\AppData\\Local\\Temp\\ipykernel_1516\\2922204258.py:206: SettingWithCopyWarning: \n",
      "A value is trying to be set on a copy of a slice from a DataFrame.\n",
      "Try using .loc[row_indexer,col_indexer] = value instead\n",
      "\n",
      "See the caveats in the documentation: https://pandas.pydata.org/pandas-docs/stable/user_guide/indexing.html#returning-a-view-versus-a-copy\n",
      "  df69['date_hk'] = df69['date_thirdprocess'] + pd.Timedelta(hours=3, minutes=0, seconds=0)\n",
      "C:\\Users\\user\\AppData\\Local\\Temp\\ipykernel_1516\\2922204258.py:209: SettingWithCopyWarning: \n",
      "A value is trying to be set on a copy of a slice from a DataFrame.\n",
      "Try using .loc[row_indexer,col_indexer] = value instead\n",
      "\n",
      "See the caveats in the documentation: https://pandas.pydata.org/pandas-docs/stable/user_guide/indexing.html#returning-a-view-versus-a-copy\n",
      "  df70['date_hk'] = df70['date_thirdprocess']\n",
      "C:\\Users\\user\\AppData\\Local\\Temp\\ipykernel_1516\\2922204258.py:212: SettingWithCopyWarning: \n",
      "A value is trying to be set on a copy of a slice from a DataFrame.\n",
      "Try using .loc[row_indexer,col_indexer] = value instead\n",
      "\n",
      "See the caveats in the documentation: https://pandas.pydata.org/pandas-docs/stable/user_guide/indexing.html#returning-a-view-versus-a-copy\n",
      "  df71['date_hk'] = df71['date_thirdprocess'] + pd.Timedelta(hours=8, minutes=0, seconds=0)\n",
      "C:\\Users\\user\\AppData\\Local\\Temp\\ipykernel_1516\\2922204258.py:215: SettingWithCopyWarning: \n",
      "A value is trying to be set on a copy of a slice from a DataFrame.\n",
      "Try using .loc[row_indexer,col_indexer] = value instead\n",
      "\n",
      "See the caveats in the documentation: https://pandas.pydata.org/pandas-docs/stable/user_guide/indexing.html#returning-a-view-versus-a-copy\n",
      "  df72['date_hk'] = df72['date_thirdprocess'] + pd.Timedelta(hours=7, minutes=0, seconds=0)\n",
      "C:\\Users\\user\\AppData\\Local\\Temp\\ipykernel_1516\\2922204258.py:218: SettingWithCopyWarning: \n",
      "A value is trying to be set on a copy of a slice from a DataFrame.\n",
      "Try using .loc[row_indexer,col_indexer] = value instead\n",
      "\n",
      "See the caveats in the documentation: https://pandas.pydata.org/pandas-docs/stable/user_guide/indexing.html#returning-a-view-versus-a-copy\n",
      "  df73['date_hk'] = df73['date_thirdprocess'] - pd.Timedelta(hours=4, minutes=0, seconds=0)\n",
      "C:\\Users\\user\\AppData\\Local\\Temp\\ipykernel_1516\\2922204258.py:221: SettingWithCopyWarning: \n",
      "A value is trying to be set on a copy of a slice from a DataFrame.\n",
      "Try using .loc[row_indexer,col_indexer] = value instead\n",
      "\n",
      "See the caveats in the documentation: https://pandas.pydata.org/pandas-docs/stable/user_guide/indexing.html#returning-a-view-versus-a-copy\n",
      "  df74['date_hk'] = df74['date_thirdprocess'] + pd.Timedelta(hours=3, minutes=0, seconds=0)\n",
      "C:\\Users\\user\\AppData\\Local\\Temp\\ipykernel_1516\\2922204258.py:224: SettingWithCopyWarning: \n",
      "A value is trying to be set on a copy of a slice from a DataFrame.\n",
      "Try using .loc[row_indexer,col_indexer] = value instead\n",
      "\n",
      "See the caveats in the documentation: https://pandas.pydata.org/pandas-docs/stable/user_guide/indexing.html#returning-a-view-versus-a-copy\n",
      "  df75['date_hk'] = df75['date_thirdprocess'] + pd.Timedelta(hours=1, minutes=0, seconds=0)\n",
      "C:\\Users\\user\\AppData\\Local\\Temp\\ipykernel_1516\\2922204258.py:227: SettingWithCopyWarning: \n",
      "A value is trying to be set on a copy of a slice from a DataFrame.\n",
      "Try using .loc[row_indexer,col_indexer] = value instead\n",
      "\n",
      "See the caveats in the documentation: https://pandas.pydata.org/pandas-docs/stable/user_guide/indexing.html#returning-a-view-versus-a-copy\n",
      "  df76['date_hk'] = df76['date_thirdprocess']\n",
      "C:\\Users\\user\\AppData\\Local\\Temp\\ipykernel_1516\\2922204258.py:230: SettingWithCopyWarning: \n",
      "A value is trying to be set on a copy of a slice from a DataFrame.\n",
      "Try using .loc[row_indexer,col_indexer] = value instead\n",
      "\n",
      "See the caveats in the documentation: https://pandas.pydata.org/pandas-docs/stable/user_guide/indexing.html#returning-a-view-versus-a-copy\n",
      "  df77['date_hk'] = df77['date_thirdprocess'] - pd.Timedelta(hours=1, minutes=0, seconds=0)\n",
      "C:\\Users\\user\\AppData\\Local\\Temp\\ipykernel_1516\\2922204258.py:233: SettingWithCopyWarning: \n",
      "A value is trying to be set on a copy of a slice from a DataFrame.\n",
      "Try using .loc[row_indexer,col_indexer] = value instead\n",
      "\n",
      "See the caveats in the documentation: https://pandas.pydata.org/pandas-docs/stable/user_guide/indexing.html#returning-a-view-versus-a-copy\n",
      "  df78['date_hk'] = df78['date_thirdprocess'] + pd.Timedelta(hours=12, minutes=0, seconds=0)\n",
      "C:\\Users\\user\\AppData\\Local\\Temp\\ipykernel_1516\\2922204258.py:236: SettingWithCopyWarning: \n",
      "A value is trying to be set on a copy of a slice from a DataFrame.\n",
      "Try using .loc[row_indexer,col_indexer] = value instead\n",
      "\n",
      "See the caveats in the documentation: https://pandas.pydata.org/pandas-docs/stable/user_guide/indexing.html#returning-a-view-versus-a-copy\n",
      "  df79['date_hk'] = df79['date_thirdprocess'] + pd.Timedelta(hours=15, minutes=0, seconds=0)\n",
      "C:\\Users\\user\\AppData\\Local\\Temp\\ipykernel_1516\\2922204258.py:239: SettingWithCopyWarning: \n",
      "A value is trying to be set on a copy of a slice from a DataFrame.\n",
      "Try using .loc[row_indexer,col_indexer] = value instead\n",
      "\n",
      "See the caveats in the documentation: https://pandas.pydata.org/pandas-docs/stable/user_guide/indexing.html#returning-a-view-versus-a-copy\n",
      "  df80['date_hk'] = df80['date_thirdprocess'] + pd.Timedelta(hours=12, minutes=0, seconds=0)\n",
      "C:\\Users\\user\\AppData\\Local\\Temp\\ipykernel_1516\\2922204258.py:242: SettingWithCopyWarning: \n",
      "A value is trying to be set on a copy of a slice from a DataFrame.\n",
      "Try using .loc[row_indexer,col_indexer] = value instead\n",
      "\n",
      "See the caveats in the documentation: https://pandas.pydata.org/pandas-docs/stable/user_guide/indexing.html#returning-a-view-versus-a-copy\n",
      "  df81['date_hk'] = df81['date_thirdprocess'] + pd.Timedelta(hours=11, minutes=0, seconds=0)\n",
      "C:\\Users\\user\\AppData\\Local\\Temp\\ipykernel_1516\\2922204258.py:245: SettingWithCopyWarning: \n",
      "A value is trying to be set on a copy of a slice from a DataFrame.\n",
      "Try using .loc[row_indexer,col_indexer] = value instead\n",
      "\n",
      "See the caveats in the documentation: https://pandas.pydata.org/pandas-docs/stable/user_guide/indexing.html#returning-a-view-versus-a-copy\n",
      "  df82['date_hk'] = df82['date_thirdprocess'] + pd.Timedelta(hours=14, minutes=0, seconds=0)\n",
      "C:\\Users\\user\\AppData\\Local\\Temp\\ipykernel_1516\\2922204258.py:248: SettingWithCopyWarning: \n",
      "A value is trying to be set on a copy of a slice from a DataFrame.\n",
      "Try using .loc[row_indexer,col_indexer] = value instead\n",
      "\n",
      "See the caveats in the documentation: https://pandas.pydata.org/pandas-docs/stable/user_guide/indexing.html#returning-a-view-versus-a-copy\n",
      "  df83['date_hk'] = df83['date_thirdprocess'] - pd.Timedelta(hours=2, minutes=0, seconds=0)\n",
      "C:\\Users\\user\\AppData\\Local\\Temp\\ipykernel_1516\\2922204258.py:251: SettingWithCopyWarning: \n",
      "A value is trying to be set on a copy of a slice from a DataFrame.\n",
      "Try using .loc[row_indexer,col_indexer] = value instead\n",
      "\n",
      "See the caveats in the documentation: https://pandas.pydata.org/pandas-docs/stable/user_guide/indexing.html#returning-a-view-versus-a-copy\n",
      "  df84['date_hk'] = df84['date_thirdprocess'] + pd.Timedelta(hours=1, minutes=0, seconds=0)\n",
      "C:\\Users\\user\\AppData\\Local\\Temp\\ipykernel_1516\\2922204258.py:254: SettingWithCopyWarning: \n",
      "A value is trying to be set on a copy of a slice from a DataFrame.\n",
      "Try using .loc[row_indexer,col_indexer] = value instead\n",
      "\n",
      "See the caveats in the documentation: https://pandas.pydata.org/pandas-docs/stable/user_guide/indexing.html#returning-a-view-versus-a-copy\n",
      "  df85['date_hk'] = df85['date_thirdprocess'] + pd.Timedelta(hours=6, minutes=0, seconds=0)\n",
      "C:\\Users\\user\\AppData\\Local\\Temp\\ipykernel_1516\\2922204258.py:257: SettingWithCopyWarning: \n",
      "A value is trying to be set on a copy of a slice from a DataFrame.\n",
      "Try using .loc[row_indexer,col_indexer] = value instead\n",
      "\n",
      "See the caveats in the documentation: https://pandas.pydata.org/pandas-docs/stable/user_guide/indexing.html#returning-a-view-versus-a-copy\n",
      "  df86['date_hk'] = df86['date_thirdprocess'] + pd.Timedelta(hours=18, minutes=0, seconds=0)\n",
      "C:\\Users\\user\\AppData\\Local\\Temp\\ipykernel_1516\\2922204258.py:260: SettingWithCopyWarning: \n",
      "A value is trying to be set on a copy of a slice from a DataFrame.\n",
      "Try using .loc[row_indexer,col_indexer] = value instead\n",
      "\n",
      "See the caveats in the documentation: https://pandas.pydata.org/pandas-docs/stable/user_guide/indexing.html#returning-a-view-versus-a-copy\n",
      "  df87['date_hk'] = df87['date_thirdprocess'] + pd.Timedelta(hours=6, minutes=0, seconds=0)\n",
      "C:\\Users\\user\\AppData\\Local\\Temp\\ipykernel_1516\\2922204258.py:263: SettingWithCopyWarning: \n",
      "A value is trying to be set on a copy of a slice from a DataFrame.\n",
      "Try using .loc[row_indexer,col_indexer] = value instead\n",
      "\n",
      "See the caveats in the documentation: https://pandas.pydata.org/pandas-docs/stable/user_guide/indexing.html#returning-a-view-versus-a-copy\n",
      "  df88['date_hk'] = df88['date_thirdprocess'] - pd.Timedelta(hours=3, minutes=0, seconds=0)\n",
      "C:\\Users\\user\\AppData\\Local\\Temp\\ipykernel_1516\\2922204258.py:266: SettingWithCopyWarning: \n",
      "A value is trying to be set on a copy of a slice from a DataFrame.\n",
      "Try using .loc[row_indexer,col_indexer] = value instead\n",
      "\n",
      "See the caveats in the documentation: https://pandas.pydata.org/pandas-docs/stable/user_guide/indexing.html#returning-a-view-versus-a-copy\n",
      "  df89['date_hk'] = df89['date_thirdprocess']\n",
      "C:\\Users\\user\\AppData\\Local\\Temp\\ipykernel_1516\\2922204258.py:269: SettingWithCopyWarning: \n",
      "A value is trying to be set on a copy of a slice from a DataFrame.\n",
      "Try using .loc[row_indexer,col_indexer] = value instead\n",
      "\n",
      "See the caveats in the documentation: https://pandas.pydata.org/pandas-docs/stable/user_guide/indexing.html#returning-a-view-versus-a-copy\n",
      "  df90['date_hk'] = df90['date_thirdprocess'] + pd.Timedelta(hours=13, minutes=0, seconds=0)\n",
      "C:\\Users\\user\\AppData\\Local\\Temp\\ipykernel_1516\\2922204258.py:272: SettingWithCopyWarning: \n",
      "A value is trying to be set on a copy of a slice from a DataFrame.\n",
      "Try using .loc[row_indexer,col_indexer] = value instead\n",
      "\n",
      "See the caveats in the documentation: https://pandas.pydata.org/pandas-docs/stable/user_guide/indexing.html#returning-a-view-versus-a-copy\n",
      "  df91['date_hk'] = df91['date_thirdprocess'] - pd.Timedelta(hours=4, minutes=0, seconds=0)\n",
      "C:\\Users\\user\\AppData\\Local\\Temp\\ipykernel_1516\\2922204258.py:275: SettingWithCopyWarning: \n",
      "A value is trying to be set on a copy of a slice from a DataFrame.\n",
      "Try using .loc[row_indexer,col_indexer] = value instead\n",
      "\n",
      "See the caveats in the documentation: https://pandas.pydata.org/pandas-docs/stable/user_guide/indexing.html#returning-a-view-versus-a-copy\n",
      "  df92['date_hk'] = df92['date_thirdprocess']\n",
      "C:\\Users\\user\\AppData\\Local\\Temp\\ipykernel_1516\\2922204258.py:278: SettingWithCopyWarning: \n",
      "A value is trying to be set on a copy of a slice from a DataFrame.\n",
      "Try using .loc[row_indexer,col_indexer] = value instead\n",
      "\n",
      "See the caveats in the documentation: https://pandas.pydata.org/pandas-docs/stable/user_guide/indexing.html#returning-a-view-versus-a-copy\n",
      "  df93['date_hk'] = df93['date_thirdprocess'] + pd.Timedelta(hours=3, minutes=0, seconds=0)\n",
      "C:\\Users\\user\\AppData\\Local\\Temp\\ipykernel_1516\\2922204258.py:281: SettingWithCopyWarning: \n",
      "A value is trying to be set on a copy of a slice from a DataFrame.\n",
      "Try using .loc[row_indexer,col_indexer] = value instead\n",
      "\n",
      "See the caveats in the documentation: https://pandas.pydata.org/pandas-docs/stable/user_guide/indexing.html#returning-a-view-versus-a-copy\n",
      "  df94['date_hk'] = df94['date_thirdprocess'] + pd.Timedelta(hours=5, minutes=0, seconds=0)\n",
      "C:\\Users\\user\\AppData\\Local\\Temp\\ipykernel_1516\\2922204258.py:284: SettingWithCopyWarning: \n",
      "A value is trying to be set on a copy of a slice from a DataFrame.\n",
      "Try using .loc[row_indexer,col_indexer] = value instead\n",
      "\n",
      "See the caveats in the documentation: https://pandas.pydata.org/pandas-docs/stable/user_guide/indexing.html#returning-a-view-versus-a-copy\n",
      "  df95['date_hk'] = df95['date_thirdprocess'] - pd.Timedelta(hours=1, minutes=0, seconds=0)\n",
      "C:\\Users\\user\\AppData\\Local\\Temp\\ipykernel_1516\\2922204258.py:287: SettingWithCopyWarning: \n",
      "A value is trying to be set on a copy of a slice from a DataFrame.\n",
      "Try using .loc[row_indexer,col_indexer] = value instead\n",
      "\n",
      "See the caveats in the documentation: https://pandas.pydata.org/pandas-docs/stable/user_guide/indexing.html#returning-a-view-versus-a-copy\n",
      "  df96['date_hk'] = df96['date_thirdprocess'] + pd.Timedelta(hours=1, minutes=0, seconds=0)\n",
      "C:\\Users\\user\\AppData\\Local\\Temp\\ipykernel_1516\\2922204258.py:290: SettingWithCopyWarning: \n",
      "A value is trying to be set on a copy of a slice from a DataFrame.\n",
      "Try using .loc[row_indexer,col_indexer] = value instead\n",
      "\n",
      "See the caveats in the documentation: https://pandas.pydata.org/pandas-docs/stable/user_guide/indexing.html#returning-a-view-versus-a-copy\n",
      "  df97['date_hk'] = df97['date_thirdprocess'] + pd.Timedelta(hours=6, minutes=0, seconds=0)\n",
      "C:\\Users\\user\\AppData\\Local\\Temp\\ipykernel_1516\\2922204258.py:293: SettingWithCopyWarning: \n",
      "A value is trying to be set on a copy of a slice from a DataFrame.\n",
      "Try using .loc[row_indexer,col_indexer] = value instead\n",
      "\n",
      "See the caveats in the documentation: https://pandas.pydata.org/pandas-docs/stable/user_guide/indexing.html#returning-a-view-versus-a-copy\n",
      "  df98['date_hk'] = df98['date_thirdprocess'] + pd.Timedelta(hours=3, minutes=30, seconds=0)\n",
      "C:\\Users\\user\\AppData\\Local\\Temp\\ipykernel_1516\\2922204258.py:296: SettingWithCopyWarning: \n",
      "A value is trying to be set on a copy of a slice from a DataFrame.\n",
      "Try using .loc[row_indexer,col_indexer] = value instead\n",
      "\n",
      "See the caveats in the documentation: https://pandas.pydata.org/pandas-docs/stable/user_guide/indexing.html#returning-a-view-versus-a-copy\n",
      "  df99['date_hk'] = df99['date_thirdprocess'] - pd.Timedelta(hours=4, minutes=0, seconds=0)\n",
      "C:\\Users\\user\\AppData\\Local\\Temp\\ipykernel_1516\\2922204258.py:299: SettingWithCopyWarning: \n",
      "A value is trying to be set on a copy of a slice from a DataFrame.\n",
      "Try using .loc[row_indexer,col_indexer] = value instead\n",
      "\n",
      "See the caveats in the documentation: https://pandas.pydata.org/pandas-docs/stable/user_guide/indexing.html#returning-a-view-versus-a-copy\n",
      "  df100['date_hk'] = df100['date_thirdprocess'] + pd.Timedelta(hours=3, minutes=0, seconds=0)\n",
      "C:\\Users\\user\\AppData\\Local\\Temp\\ipykernel_1516\\2922204258.py:302: SettingWithCopyWarning: \n",
      "A value is trying to be set on a copy of a slice from a DataFrame.\n",
      "Try using .loc[row_indexer,col_indexer] = value instead\n",
      "\n",
      "See the caveats in the documentation: https://pandas.pydata.org/pandas-docs/stable/user_guide/indexing.html#returning-a-view-versus-a-copy\n",
      "  df101['date_hk'] = df101['date_thirdprocess'] + pd.Timedelta(hours=2, minutes=15, seconds=0)\n",
      "C:\\Users\\user\\AppData\\Local\\Temp\\ipykernel_1516\\2922204258.py:305: SettingWithCopyWarning: \n",
      "A value is trying to be set on a copy of a slice from a DataFrame.\n",
      "Try using .loc[row_indexer,col_indexer] = value instead\n",
      "\n",
      "See the caveats in the documentation: https://pandas.pydata.org/pandas-docs/stable/user_guide/indexing.html#returning-a-view-versus-a-copy\n",
      "  df102['date_hk'] = df102['date_thirdprocess'] + pd.Timedelta(hours=6, minutes=0, seconds=0)\n",
      "C:\\Users\\user\\AppData\\Local\\Temp\\ipykernel_1516\\2922204258.py:308: SettingWithCopyWarning: \n",
      "A value is trying to be set on a copy of a slice from a DataFrame.\n",
      "Try using .loc[row_indexer,col_indexer] = value instead\n",
      "\n",
      "See the caveats in the documentation: https://pandas.pydata.org/pandas-docs/stable/user_guide/indexing.html#returning-a-view-versus-a-copy\n",
      "  df103['date_hk'] = df103['date_thirdprocess'] + pd.Timedelta(hours=2, minutes=30, seconds=0)\n",
      "C:\\Users\\user\\AppData\\Local\\Temp\\ipykernel_1516\\2922204258.py:311: SettingWithCopyWarning: \n",
      "A value is trying to be set on a copy of a slice from a DataFrame.\n",
      "Try using .loc[row_indexer,col_indexer] = value instead\n",
      "\n",
      "See the caveats in the documentation: https://pandas.pydata.org/pandas-docs/stable/user_guide/indexing.html#returning-a-view-versus-a-copy\n",
      "  df104['date_hk'] = df104['date_thirdprocess'] + pd.Timedelta(hours=1, minutes=0, seconds=0)\n",
      "C:\\Users\\user\\AppData\\Local\\Temp\\ipykernel_1516\\2922204258.py:314: SettingWithCopyWarning: \n",
      "A value is trying to be set on a copy of a slice from a DataFrame.\n",
      "Try using .loc[row_indexer,col_indexer] = value instead\n",
      "\n",
      "See the caveats in the documentation: https://pandas.pydata.org/pandas-docs/stable/user_guide/indexing.html#returning-a-view-versus-a-copy\n",
      "  df105['date_hk'] = df105['date_thirdprocess']\n",
      "C:\\Users\\user\\AppData\\Local\\Temp\\ipykernel_1516\\2922204258.py:317: SettingWithCopyWarning: \n",
      "A value is trying to be set on a copy of a slice from a DataFrame.\n",
      "Try using .loc[row_indexer,col_indexer] = value instead\n",
      "\n",
      "See the caveats in the documentation: https://pandas.pydata.org/pandas-docs/stable/user_guide/indexing.html#returning-a-view-versus-a-copy\n",
      "  df106['date_hk'] = df106['date_thirdprocess'] + pd.Timedelta(hours=5, minutes=0, seconds=0)\n",
      "C:\\Users\\user\\AppData\\Local\\Temp\\ipykernel_1516\\2922204258.py:320: SettingWithCopyWarning: \n",
      "A value is trying to be set on a copy of a slice from a DataFrame.\n",
      "Try using .loc[row_indexer,col_indexer] = value instead\n",
      "\n",
      "See the caveats in the documentation: https://pandas.pydata.org/pandas-docs/stable/user_guide/indexing.html#returning-a-view-versus-a-copy\n",
      "  df107['date_hk'] = df107['date_thirdprocess'] + pd.Timedelta(hours=6, minutes=0, seconds=0)\n",
      "C:\\Users\\user\\AppData\\Local\\Temp\\ipykernel_1516\\2922204258.py:323: SettingWithCopyWarning: \n",
      "A value is trying to be set on a copy of a slice from a DataFrame.\n",
      "Try using .loc[row_indexer,col_indexer] = value instead\n",
      "\n",
      "See the caveats in the documentation: https://pandas.pydata.org/pandas-docs/stable/user_guide/indexing.html#returning-a-view-versus-a-copy\n",
      "  df108['date_hk'] = df108['date_thirdprocess'] + pd.Timedelta(hours=12, minutes=0, seconds=0)\n",
      "C:\\Users\\user\\AppData\\Local\\Temp\\ipykernel_1516\\2922204258.py:326: SettingWithCopyWarning: \n",
      "A value is trying to be set on a copy of a slice from a DataFrame.\n",
      "Try using .loc[row_indexer,col_indexer] = value instead\n",
      "\n",
      "See the caveats in the documentation: https://pandas.pydata.org/pandas-docs/stable/user_guide/indexing.html#returning-a-view-versus-a-copy\n",
      "  df109['date_hk'] = df109['date_thirdprocess'] + pd.Timedelta(hours=13, minutes=0, seconds=0)\n",
      "C:\\Users\\user\\AppData\\Local\\Temp\\ipykernel_1516\\2922204258.py:329: SettingWithCopyWarning: \n",
      "A value is trying to be set on a copy of a slice from a DataFrame.\n",
      "Try using .loc[row_indexer,col_indexer] = value instead\n",
      "\n",
      "See the caveats in the documentation: https://pandas.pydata.org/pandas-docs/stable/user_guide/indexing.html#returning-a-view-versus-a-copy\n",
      "  df110['date_hk'] = df110['date_thirdprocess'] + pd.Timedelta(hours=8, minutes=0, seconds=0)\n",
      "C:\\Users\\user\\AppData\\Local\\Temp\\ipykernel_1516\\2922204258.py:332: SettingWithCopyWarning: \n",
      "A value is trying to be set on a copy of a slice from a DataFrame.\n",
      "Try using .loc[row_indexer,col_indexer] = value instead\n",
      "\n",
      "See the caveats in the documentation: https://pandas.pydata.org/pandas-docs/stable/user_guide/indexing.html#returning-a-view-versus-a-copy\n",
      "  df111['date_hk'] = df111['date_thirdprocess'] + pd.Timedelta(hours=7, minutes=0, seconds=0)\n",
      "C:\\Users\\user\\AppData\\Local\\Temp\\ipykernel_1516\\2922204258.py:335: SettingWithCopyWarning: \n",
      "A value is trying to be set on a copy of a slice from a DataFrame.\n",
      "Try using .loc[row_indexer,col_indexer] = value instead\n",
      "\n",
      "See the caveats in the documentation: https://pandas.pydata.org/pandas-docs/stable/user_guide/indexing.html#returning-a-view-versus-a-copy\n",
      "  df112['date_hk'] = df112['date_thirdprocess'] + pd.Timedelta(hours=8, minutes=0, seconds=0)\n",
      "C:\\Users\\user\\AppData\\Local\\Temp\\ipykernel_1516\\2922204258.py:338: SettingWithCopyWarning: \n",
      "A value is trying to be set on a copy of a slice from a DataFrame.\n",
      "Try using .loc[row_indexer,col_indexer] = value instead\n",
      "\n",
      "See the caveats in the documentation: https://pandas.pydata.org/pandas-docs/stable/user_guide/indexing.html#returning-a-view-versus-a-copy\n",
      "  df113['date_hk'] = df113['date_thirdprocess'] + pd.Timedelta(hours=7, minutes=0, seconds=0)\n",
      "C:\\Users\\user\\AppData\\Local\\Temp\\ipykernel_1516\\2922204258.py:341: SettingWithCopyWarning: \n",
      "A value is trying to be set on a copy of a slice from a DataFrame.\n",
      "Try using .loc[row_indexer,col_indexer] = value instead\n",
      "\n",
      "See the caveats in the documentation: https://pandas.pydata.org/pandas-docs/stable/user_guide/indexing.html#returning-a-view-versus-a-copy\n",
      "  df114['date_hk'] = df114['date_thirdprocess'] + pd.Timedelta(hours=15, minutes=0, seconds=0)\n",
      "C:\\Users\\user\\AppData\\Local\\Temp\\ipykernel_1516\\2922204258.py:344: SettingWithCopyWarning: \n",
      "A value is trying to be set on a copy of a slice from a DataFrame.\n",
      "Try using .loc[row_indexer,col_indexer] = value instead\n",
      "\n",
      "See the caveats in the documentation: https://pandas.pydata.org/pandas-docs/stable/user_guide/indexing.html#returning-a-view-versus-a-copy\n",
      "  df115['date_hk'] = df115['date_thirdprocess'] - pd.Timedelta(hours=3, minutes=0, seconds=0)\n",
      "C:\\Users\\user\\AppData\\Local\\Temp\\ipykernel_1516\\2922204258.py:347: SettingWithCopyWarning: \n",
      "A value is trying to be set on a copy of a slice from a DataFrame.\n",
      "Try using .loc[row_indexer,col_indexer] = value instead\n",
      "\n",
      "See the caveats in the documentation: https://pandas.pydata.org/pandas-docs/stable/user_guide/indexing.html#returning-a-view-versus-a-copy\n",
      "  df116['date_hk'] = df116['date_thirdprocess'] + pd.Timedelta(hours=14, minutes=0, seconds=0)\n",
      "C:\\Users\\user\\AppData\\Local\\Temp\\ipykernel_1516\\2922204258.py:350: SettingWithCopyWarning: \n",
      "A value is trying to be set on a copy of a slice from a DataFrame.\n",
      "Try using .loc[row_indexer,col_indexer] = value instead\n",
      "\n",
      "See the caveats in the documentation: https://pandas.pydata.org/pandas-docs/stable/user_guide/indexing.html#returning-a-view-versus-a-copy\n",
      "  df117['date_hk'] = df117['date_thirdprocess'] + pd.Timedelta(hours=12, minutes=0, seconds=0)\n",
      "C:\\Users\\user\\AppData\\Local\\Temp\\ipykernel_1516\\2922204258.py:353: SettingWithCopyWarning: \n",
      "A value is trying to be set on a copy of a slice from a DataFrame.\n",
      "Try using .loc[row_indexer,col_indexer] = value instead\n",
      "\n",
      "See the caveats in the documentation: https://pandas.pydata.org/pandas-docs/stable/user_guide/indexing.html#returning-a-view-versus-a-copy\n",
      "  df118['date_hk'] = df118['date_thirdprocess'] + pd.Timedelta(hours=19, minutes=0, seconds=0)\n",
      "C:\\Users\\user\\AppData\\Local\\Temp\\ipykernel_1516\\2922204258.py:356: SettingWithCopyWarning: \n",
      "A value is trying to be set on a copy of a slice from a DataFrame.\n",
      "Try using .loc[row_indexer,col_indexer] = value instead\n",
      "\n",
      "See the caveats in the documentation: https://pandas.pydata.org/pandas-docs/stable/user_guide/indexing.html#returning-a-view-versus-a-copy\n",
      "  df119['date_hk'] = df119['date_thirdprocess'] + pd.Timedelta(hours=5, minutes=0, seconds=0)\n",
      "C:\\Users\\user\\AppData\\Local\\Temp\\ipykernel_1516\\2922204258.py:359: SettingWithCopyWarning: \n",
      "A value is trying to be set on a copy of a slice from a DataFrame.\n",
      "Try using .loc[row_indexer,col_indexer] = value instead\n",
      "\n",
      "See the caveats in the documentation: https://pandas.pydata.org/pandas-docs/stable/user_guide/indexing.html#returning-a-view-versus-a-copy\n",
      "  df120['date_hk'] = df120['date_thirdprocess'] + pd.Timedelta(hours=8, minutes=0, seconds=0)\n",
      "C:\\Users\\user\\AppData\\Local\\Temp\\ipykernel_1516\\2922204258.py:362: SettingWithCopyWarning: \n",
      "A value is trying to be set on a copy of a slice from a DataFrame.\n",
      "Try using .loc[row_indexer,col_indexer] = value instead\n",
      "\n",
      "See the caveats in the documentation: https://pandas.pydata.org/pandas-docs/stable/user_guide/indexing.html#returning-a-view-versus-a-copy\n",
      "  df121['date_hk'] = df121['date_thirdprocess'] + pd.Timedelta(hours=14, minutes=0, seconds=0)\n",
      "C:\\Users\\user\\AppData\\Local\\Temp\\ipykernel_1516\\2922204258.py:365: SettingWithCopyWarning: \n",
      "A value is trying to be set on a copy of a slice from a DataFrame.\n",
      "Try using .loc[row_indexer,col_indexer] = value instead\n",
      "\n",
      "See the caveats in the documentation: https://pandas.pydata.org/pandas-docs/stable/user_guide/indexing.html#returning-a-view-versus-a-copy\n",
      "  df122['date_hk'] = df122['date_thirdprocess'] + pd.Timedelta(hours=5, minutes=0, seconds=0)\n",
      "C:\\Users\\user\\AppData\\Local\\Temp\\ipykernel_1516\\2922204258.py:368: SettingWithCopyWarning: \n",
      "A value is trying to be set on a copy of a slice from a DataFrame.\n",
      "Try using .loc[row_indexer,col_indexer] = value instead\n",
      "\n",
      "See the caveats in the documentation: https://pandas.pydata.org/pandas-docs/stable/user_guide/indexing.html#returning-a-view-versus-a-copy\n",
      "  df123['date_hk'] = df123['date_thirdprocess'] + pd.Timedelta(hours=15, minutes=0, seconds=0)\n",
      "C:\\Users\\user\\AppData\\Local\\Temp\\ipykernel_1516\\2922204258.py:371: SettingWithCopyWarning: \n",
      "A value is trying to be set on a copy of a slice from a DataFrame.\n",
      "Try using .loc[row_indexer,col_indexer] = value instead\n",
      "\n",
      "See the caveats in the documentation: https://pandas.pydata.org/pandas-docs/stable/user_guide/indexing.html#returning-a-view-versus-a-copy\n",
      "  df124['date_hk'] = df124['date_thirdprocess'] + pd.Timedelta(hours=2, minutes=30, seconds=0)\n",
      "C:\\Users\\user\\AppData\\Local\\Temp\\ipykernel_1516\\2922204258.py:374: SettingWithCopyWarning: \n",
      "A value is trying to be set on a copy of a slice from a DataFrame.\n",
      "Try using .loc[row_indexer,col_indexer] = value instead\n",
      "\n",
      "See the caveats in the documentation: https://pandas.pydata.org/pandas-docs/stable/user_guide/indexing.html#returning-a-view-versus-a-copy\n",
      "  df125['date_hk'] = df125['date_thirdprocess'] + pd.Timedelta(hours=4, minutes=0, seconds=0)\n",
      "C:\\Users\\user\\AppData\\Local\\Temp\\ipykernel_1516\\2922204258.py:377: SettingWithCopyWarning: \n",
      "A value is trying to be set on a copy of a slice from a DataFrame.\n",
      "Try using .loc[row_indexer,col_indexer] = value instead\n",
      "\n",
      "See the caveats in the documentation: https://pandas.pydata.org/pandas-docs/stable/user_guide/indexing.html#returning-a-view-versus-a-copy\n",
      "  df126['date_hk'] = df126['date_thirdprocess'] + pd.Timedelta(hours=5, minutes=0, seconds=0)\n",
      "C:\\Users\\user\\AppData\\Local\\Temp\\ipykernel_1516\\2922204258.py:380: SettingWithCopyWarning: \n",
      "A value is trying to be set on a copy of a slice from a DataFrame.\n",
      "Try using .loc[row_indexer,col_indexer] = value instead\n",
      "\n",
      "See the caveats in the documentation: https://pandas.pydata.org/pandas-docs/stable/user_guide/indexing.html#returning-a-view-versus-a-copy\n",
      "  df127['date_hk'] = df127['date_thirdprocess'] - pd.Timedelta(hours=3, minutes=0, seconds=0)\n",
      "C:\\Users\\user\\AppData\\Local\\Temp\\ipykernel_1516\\2922204258.py:383: SettingWithCopyWarning: \n",
      "A value is trying to be set on a copy of a slice from a DataFrame.\n",
      "Try using .loc[row_indexer,col_indexer] = value instead\n",
      "\n",
      "See the caveats in the documentation: https://pandas.pydata.org/pandas-docs/stable/user_guide/indexing.html#returning-a-view-versus-a-copy\n",
      "  df128['date_hk'] = df128['date_thirdprocess'] + pd.Timedelta(hours=2, minutes=30, seconds=0)\n",
      "C:\\Users\\user\\AppData\\Local\\Temp\\ipykernel_1516\\2922204258.py:386: SettingWithCopyWarning: \n",
      "A value is trying to be set on a copy of a slice from a DataFrame.\n",
      "Try using .loc[row_indexer,col_indexer] = value instead\n",
      "\n",
      "See the caveats in the documentation: https://pandas.pydata.org/pandas-docs/stable/user_guide/indexing.html#returning-a-view-versus-a-copy\n",
      "  df129['date_hk'] = df129['date_thirdprocess'] + pd.Timedelta(hours=11, minutes=30, seconds=0)\n",
      "C:\\Users\\user\\AppData\\Local\\Temp\\ipykernel_1516\\2922204258.py:389: SettingWithCopyWarning: \n",
      "A value is trying to be set on a copy of a slice from a DataFrame.\n",
      "Try using .loc[row_indexer,col_indexer] = value instead\n",
      "\n",
      "See the caveats in the documentation: https://pandas.pydata.org/pandas-docs/stable/user_guide/indexing.html#returning-a-view-versus-a-copy\n",
      "  df130['date_hk'] = df130['date_thirdprocess'] + pd.Timedelta(hours=1, minutes=0, seconds=0)\n",
      "C:\\Users\\user\\AppData\\Local\\Temp\\ipykernel_1516\\2922204258.py:392: SettingWithCopyWarning: \n",
      "A value is trying to be set on a copy of a slice from a DataFrame.\n",
      "Try using .loc[row_indexer,col_indexer] = value instead\n",
      "\n",
      "See the caveats in the documentation: https://pandas.pydata.org/pandas-docs/stable/user_guide/indexing.html#returning-a-view-versus-a-copy\n",
      "  df131['date_hk'] = df131['date_thirdprocess'] - pd.Timedelta(hours=5, minutes=0, seconds=0)\n",
      "C:\\Users\\user\\AppData\\Local\\Temp\\ipykernel_1516\\2922204258.py:395: SettingWithCopyWarning: \n",
      "A value is trying to be set on a copy of a slice from a DataFrame.\n",
      "Try using .loc[row_indexer,col_indexer] = value instead\n",
      "\n",
      "See the caveats in the documentation: https://pandas.pydata.org/pandas-docs/stable/user_guide/indexing.html#returning-a-view-versus-a-copy\n",
      "  df132['date_hk'] = df132['date_thirdprocess'] - pd.Timedelta(hours=1, minutes=0, seconds=0)\n",
      "C:\\Users\\user\\AppData\\Local\\Temp\\ipykernel_1516\\2922204258.py:398: SettingWithCopyWarning: \n",
      "A value is trying to be set on a copy of a slice from a DataFrame.\n",
      "Try using .loc[row_indexer,col_indexer] = value instead\n",
      "\n",
      "See the caveats in the documentation: https://pandas.pydata.org/pandas-docs/stable/user_guide/indexing.html#returning-a-view-versus-a-copy\n",
      "  df133['date_hk'] = df133['date_thirdprocess'] + pd.Timedelta(hours=16, minutes=0, seconds=0)\n",
      "C:\\Users\\user\\AppData\\Local\\Temp\\ipykernel_1516\\2922204258.py:401: SettingWithCopyWarning: \n",
      "A value is trying to be set on a copy of a slice from a DataFrame.\n",
      "Try using .loc[row_indexer,col_indexer] = value instead\n",
      "\n",
      "See the caveats in the documentation: https://pandas.pydata.org/pandas-docs/stable/user_guide/indexing.html#returning-a-view-versus-a-copy\n",
      "  df134['date_hk'] = df134['date_thirdprocess'] + pd.Timedelta(hours=16, minutes=0, seconds=0)\n",
      "C:\\Users\\user\\AppData\\Local\\Temp\\ipykernel_1516\\2922204258.py:404: SettingWithCopyWarning: \n",
      "A value is trying to be set on a copy of a slice from a DataFrame.\n",
      "Try using .loc[row_indexer,col_indexer] = value instead\n",
      "\n",
      "See the caveats in the documentation: https://pandas.pydata.org/pandas-docs/stable/user_guide/indexing.html#returning-a-view-versus-a-copy\n",
      "  df135['date_hk'] = df135['date_thirdprocess'] + pd.Timedelta(hours=7, minutes=0, seconds=0)\n",
      "C:\\Users\\user\\AppData\\Local\\Temp\\ipykernel_1516\\2922204258.py:407: SettingWithCopyWarning: \n",
      "A value is trying to be set on a copy of a slice from a DataFrame.\n",
      "Try using .loc[row_indexer,col_indexer] = value instead\n",
      "\n",
      "See the caveats in the documentation: https://pandas.pydata.org/pandas-docs/stable/user_guide/indexing.html#returning-a-view-versus-a-copy\n",
      "  df136['date_hk'] = df136['date_thirdprocess']\n",
      "C:\\Users\\user\\AppData\\Local\\Temp\\ipykernel_1516\\2922204258.py:410: SettingWithCopyWarning: \n",
      "A value is trying to be set on a copy of a slice from a DataFrame.\n",
      "Try using .loc[row_indexer,col_indexer] = value instead\n",
      "\n",
      "See the caveats in the documentation: https://pandas.pydata.org/pandas-docs/stable/user_guide/indexing.html#returning-a-view-versus-a-copy\n",
      "  df137['date_hk'] = df137['date_thirdprocess'] + pd.Timedelta(hours=7, minutes=0, seconds=0)\n",
      "C:\\Users\\user\\AppData\\Local\\Temp\\ipykernel_1516\\2922204258.py:413: SettingWithCopyWarning: \n",
      "A value is trying to be set on a copy of a slice from a DataFrame.\n",
      "Try using .loc[row_indexer,col_indexer] = value instead\n",
      "\n",
      "See the caveats in the documentation: https://pandas.pydata.org/pandas-docs/stable/user_guide/indexing.html#returning-a-view-versus-a-copy\n",
      "  df138['date_hk'] = df138['date_thirdprocess'] + pd.Timedelta(hours=6, minutes=0, seconds=0)\n",
      "C:\\Users\\user\\AppData\\Local\\Temp\\ipykernel_1516\\2922204258.py:416: SettingWithCopyWarning: \n",
      "A value is trying to be set on a copy of a slice from a DataFrame.\n",
      "Try using .loc[row_indexer,col_indexer] = value instead\n",
      "\n",
      "See the caveats in the documentation: https://pandas.pydata.org/pandas-docs/stable/user_guide/indexing.html#returning-a-view-versus-a-copy\n",
      "  df139['date_hk'] = df139['date_thirdprocess'] + pd.Timedelta(hours=13, minutes=0, seconds=0)\n",
      "C:\\Users\\user\\AppData\\Local\\Temp\\ipykernel_1516\\2922204258.py:419: SettingWithCopyWarning: \n",
      "A value is trying to be set on a copy of a slice from a DataFrame.\n",
      "Try using .loc[row_indexer,col_indexer] = value instead\n",
      "\n",
      "See the caveats in the documentation: https://pandas.pydata.org/pandas-docs/stable/user_guide/indexing.html#returning-a-view-versus-a-copy\n",
      "  df140['date_hk'] = df140['date_thirdprocess'] + pd.Timedelta(hours=1, minutes=30, seconds=0)\n",
      "C:\\Users\\user\\AppData\\Local\\Temp\\ipykernel_1516\\2922204258.py:422: SettingWithCopyWarning: \n",
      "A value is trying to be set on a copy of a slice from a DataFrame.\n",
      "Try using .loc[row_indexer,col_indexer] = value instead\n",
      "\n",
      "See the caveats in the documentation: https://pandas.pydata.org/pandas-docs/stable/user_guide/indexing.html#returning-a-view-versus-a-copy\n",
      "  df141['date_hk'] = df141['date_thirdprocess'] + pd.Timedelta(hours=6, minutes=0, seconds=0)\n",
      "C:\\Users\\user\\AppData\\Local\\Temp\\ipykernel_1516\\2922204258.py:425: SettingWithCopyWarning: \n",
      "A value is trying to be set on a copy of a slice from a DataFrame.\n",
      "Try using .loc[row_indexer,col_indexer] = value instead\n",
      "\n",
      "See the caveats in the documentation: https://pandas.pydata.org/pandas-docs/stable/user_guide/indexing.html#returning-a-view-versus-a-copy\n",
      "  df142['date_hk'] = df142['date_thirdprocess'] + pd.Timedelta(hours=5, minutes=0, seconds=0)\n",
      "C:\\Users\\user\\AppData\\Local\\Temp\\ipykernel_1516\\2922204258.py:428: SettingWithCopyWarning: \n",
      "A value is trying to be set on a copy of a slice from a DataFrame.\n",
      "Try using .loc[row_indexer,col_indexer] = value instead\n",
      "\n",
      "See the caveats in the documentation: https://pandas.pydata.org/pandas-docs/stable/user_guide/indexing.html#returning-a-view-versus-a-copy\n",
      "  df143['date_hk'] = df143['date_thirdprocess'] + pd.Timedelta(hours=7, minutes=0, seconds=0)\n",
      "C:\\Users\\user\\AppData\\Local\\Temp\\ipykernel_1516\\2922204258.py:431: SettingWithCopyWarning: \n",
      "A value is trying to be set on a copy of a slice from a DataFrame.\n",
      "Try using .loc[row_indexer,col_indexer] = value instead\n",
      "\n",
      "See the caveats in the documentation: https://pandas.pydata.org/pandas-docs/stable/user_guide/indexing.html#returning-a-view-versus-a-copy\n",
      "  df144['date_hk'] = df144['date_thirdprocess'] - pd.Timedelta(hours=5, minutes=0, seconds=0)\n",
      "C:\\Users\\user\\AppData\\Local\\Temp\\ipykernel_1516\\2922204258.py:434: SettingWithCopyWarning: \n",
      "A value is trying to be set on a copy of a slice from a DataFrame.\n",
      "Try using .loc[row_indexer,col_indexer] = value instead\n",
      "\n",
      "See the caveats in the documentation: https://pandas.pydata.org/pandas-docs/stable/user_guide/indexing.html#returning-a-view-versus-a-copy\n",
      "  df145['date_hk'] = df145['date_thirdprocess'] + pd.Timedelta(hours=11, minutes=0, seconds=0)\n",
      "C:\\Users\\user\\AppData\\Local\\Temp\\ipykernel_1516\\2922204258.py:437: SettingWithCopyWarning: \n",
      "A value is trying to be set on a copy of a slice from a DataFrame.\n",
      "Try using .loc[row_indexer,col_indexer] = value instead\n",
      "\n",
      "See the caveats in the documentation: https://pandas.pydata.org/pandas-docs/stable/user_guide/indexing.html#returning-a-view-versus-a-copy\n",
      "  df146['date_hk'] = df146['date_thirdprocess'] - pd.Timedelta(hours=1, minutes=0, seconds=0)\n",
      "C:\\Users\\user\\AppData\\Local\\Temp\\ipykernel_1516\\2922204258.py:440: SettingWithCopyWarning: \n",
      "A value is trying to be set on a copy of a slice from a DataFrame.\n",
      "Try using .loc[row_indexer,col_indexer] = value instead\n",
      "\n",
      "See the caveats in the documentation: https://pandas.pydata.org/pandas-docs/stable/user_guide/indexing.html#returning-a-view-versus-a-copy\n",
      "  df147['date_hk'] = df147['date_thirdprocess'] + pd.Timedelta(hours=14, minutes=0, seconds=0)\n",
      "C:\\Users\\user\\AppData\\Local\\Temp\\ipykernel_1516\\2922204258.py:443: SettingWithCopyWarning: \n",
      "A value is trying to be set on a copy of a slice from a DataFrame.\n",
      "Try using .loc[row_indexer,col_indexer] = value instead\n",
      "\n",
      "See the caveats in the documentation: https://pandas.pydata.org/pandas-docs/stable/user_guide/indexing.html#returning-a-view-versus-a-copy\n",
      "  df148['date_hk'] = df148['date_thirdprocess'] - pd.Timedelta(hours=1, minutes=0, seconds=0)\n",
      "C:\\Users\\user\\AppData\\Local\\Temp\\ipykernel_1516\\2922204258.py:446: SettingWithCopyWarning: \n",
      "A value is trying to be set on a copy of a slice from a DataFrame.\n",
      "Try using .loc[row_indexer,col_indexer] = value instead\n",
      "\n",
      "See the caveats in the documentation: https://pandas.pydata.org/pandas-docs/stable/user_guide/indexing.html#returning-a-view-versus-a-copy\n",
      "  df149['date_hk'] = df149['date_thirdprocess']\n",
      "C:\\Users\\user\\AppData\\Local\\Temp\\ipykernel_1516\\2922204258.py:449: SettingWithCopyWarning: \n",
      "A value is trying to be set on a copy of a slice from a DataFrame.\n",
      "Try using .loc[row_indexer,col_indexer] = value instead\n",
      "\n",
      "See the caveats in the documentation: https://pandas.pydata.org/pandas-docs/stable/user_guide/indexing.html#returning-a-view-versus-a-copy\n",
      "  df150['date_hk'] = df150['date_thirdprocess'] + pd.Timedelta(hours=7, minutes=0, seconds=0)\n",
      "C:\\Users\\user\\AppData\\Local\\Temp\\ipykernel_1516\\2922204258.py:452: SettingWithCopyWarning: \n",
      "A value is trying to be set on a copy of a slice from a DataFrame.\n",
      "Try using .loc[row_indexer,col_indexer] = value instead\n",
      "\n",
      "See the caveats in the documentation: https://pandas.pydata.org/pandas-docs/stable/user_guide/indexing.html#returning-a-view-versus-a-copy\n",
      "  df151['date_hk'] = df151['date_thirdprocess'] + pd.Timedelta(hours=6, minutes=0, seconds=0)\n",
      "C:\\Users\\user\\AppData\\Local\\Temp\\ipykernel_1516\\2922204258.py:455: SettingWithCopyWarning: \n",
      "A value is trying to be set on a copy of a slice from a DataFrame.\n",
      "Try using .loc[row_indexer,col_indexer] = value instead\n",
      "\n",
      "See the caveats in the documentation: https://pandas.pydata.org/pandas-docs/stable/user_guide/indexing.html#returning-a-view-versus-a-copy\n",
      "  df152['date_hk'] = df152['date_thirdprocess'] - pd.Timedelta(hours=3, minutes=0, seconds=0)\n",
      "C:\\Users\\user\\AppData\\Local\\Temp\\ipykernel_1516\\2922204258.py:458: SettingWithCopyWarning: \n",
      "A value is trying to be set on a copy of a slice from a DataFrame.\n",
      "Try using .loc[row_indexer,col_indexer] = value instead\n",
      "\n",
      "See the caveats in the documentation: https://pandas.pydata.org/pandas-docs/stable/user_guide/indexing.html#returning-a-view-versus-a-copy\n",
      "  df153['date_hk'] = df153['date_thirdprocess'] + pd.Timedelta(hours=2, minutes=30, seconds=0)\n",
      "C:\\Users\\user\\AppData\\Local\\Temp\\ipykernel_1516\\2922204258.py:461: SettingWithCopyWarning: \n",
      "A value is trying to be set on a copy of a slice from a DataFrame.\n",
      "Try using .loc[row_indexer,col_indexer] = value instead\n",
      "\n",
      "See the caveats in the documentation: https://pandas.pydata.org/pandas-docs/stable/user_guide/indexing.html#returning-a-view-versus-a-copy\n",
      "  df154['date_hk'] = df154['date_thirdprocess'] + pd.Timedelta(hours=5, minutes=0, seconds=0)\n",
      "C:\\Users\\user\\AppData\\Local\\Temp\\ipykernel_1516\\2922204258.py:464: SettingWithCopyWarning: \n",
      "A value is trying to be set on a copy of a slice from a DataFrame.\n",
      "Try using .loc[row_indexer,col_indexer] = value instead\n",
      "\n",
      "See the caveats in the documentation: https://pandas.pydata.org/pandas-docs/stable/user_guide/indexing.html#returning-a-view-versus-a-copy\n",
      "  df155['date_hk'] = df155['date_thirdprocess'] + pd.Timedelta(hours=7, minutes=0, seconds=0)\n",
      "C:\\Users\\user\\AppData\\Local\\Temp\\ipykernel_1516\\2922204258.py:467: SettingWithCopyWarning: \n",
      "A value is trying to be set on a copy of a slice from a DataFrame.\n",
      "Try using .loc[row_indexer,col_indexer] = value instead\n",
      "\n",
      "See the caveats in the documentation: https://pandas.pydata.org/pandas-docs/stable/user_guide/indexing.html#returning-a-view-versus-a-copy\n",
      "  df156['date_hk'] = df156['date_thirdprocess'] - pd.Timedelta(hours=3, minutes=0, seconds=0)\n",
      "C:\\Users\\user\\AppData\\Local\\Temp\\ipykernel_1516\\2922204258.py:470: SettingWithCopyWarning: \n",
      "A value is trying to be set on a copy of a slice from a DataFrame.\n",
      "Try using .loc[row_indexer,col_indexer] = value instead\n",
      "\n",
      "See the caveats in the documentation: https://pandas.pydata.org/pandas-docs/stable/user_guide/indexing.html#returning-a-view-versus-a-copy\n",
      "  df157['date_hk'] = df157['date_thirdprocess']\n",
      "C:\\Users\\user\\AppData\\Local\\Temp\\ipykernel_1516\\2922204258.py:473: SettingWithCopyWarning: \n",
      "A value is trying to be set on a copy of a slice from a DataFrame.\n",
      "Try using .loc[row_indexer,col_indexer] = value instead\n",
      "\n",
      "See the caveats in the documentation: https://pandas.pydata.org/pandas-docs/stable/user_guide/indexing.html#returning-a-view-versus-a-copy\n",
      "  df158['date_hk'] = df158['date_thirdprocess'] + pd.Timedelta(hours=6, minutes=0, seconds=0)\n",
      "C:\\Users\\user\\AppData\\Local\\Temp\\ipykernel_1516\\2922204258.py:476: SettingWithCopyWarning: \n",
      "A value is trying to be set on a copy of a slice from a DataFrame.\n",
      "Try using .loc[row_indexer,col_indexer] = value instead\n",
      "\n",
      "See the caveats in the documentation: https://pandas.pydata.org/pandas-docs/stable/user_guide/indexing.html#returning-a-view-versus-a-copy\n",
      "  df159['date_hk'] = df159['date_thirdprocess'] + pd.Timedelta(hours=3, minutes=0, seconds=0)\n",
      "C:\\Users\\user\\AppData\\Local\\Temp\\ipykernel_1516\\2922204258.py:479: SettingWithCopyWarning: \n",
      "A value is trying to be set on a copy of a slice from a DataFrame.\n",
      "Try using .loc[row_indexer,col_indexer] = value instead\n",
      "\n",
      "See the caveats in the documentation: https://pandas.pydata.org/pandas-docs/stable/user_guide/indexing.html#returning-a-view-versus-a-copy\n",
      "  df160['date_hk'] = df160['date_thirdprocess'] + pd.Timedelta(hours=4, minutes=30, seconds=0)\n",
      "C:\\Users\\user\\AppData\\Local\\Temp\\ipykernel_1516\\2922204258.py:482: SettingWithCopyWarning: \n",
      "A value is trying to be set on a copy of a slice from a DataFrame.\n",
      "Try using .loc[row_indexer,col_indexer] = value instead\n",
      "\n",
      "See the caveats in the documentation: https://pandas.pydata.org/pandas-docs/stable/user_guide/indexing.html#returning-a-view-versus-a-copy\n",
      "  df161['date_hk'] = df161['date_thirdprocess'] + pd.Timedelta(hours=16, minutes=0, seconds=0)\n",
      "C:\\Users\\user\\AppData\\Local\\Temp\\ipykernel_1516\\2922204258.py:485: SettingWithCopyWarning: \n",
      "A value is trying to be set on a copy of a slice from a DataFrame.\n",
      "Try using .loc[row_indexer,col_indexer] = value instead\n",
      "\n",
      "See the caveats in the documentation: https://pandas.pydata.org/pandas-docs/stable/user_guide/indexing.html#returning-a-view-versus-a-copy\n",
      "  df162['date_hk'] = df162['date_thirdprocess'] - pd.Timedelta(hours=1, minutes=0, seconds=0)\n",
      "C:\\Users\\user\\AppData\\Local\\Temp\\ipykernel_1516\\2922204258.py:488: SettingWithCopyWarning: \n",
      "A value is trying to be set on a copy of a slice from a DataFrame.\n",
      "Try using .loc[row_indexer,col_indexer] = value instead\n",
      "\n",
      "See the caveats in the documentation: https://pandas.pydata.org/pandas-docs/stable/user_guide/indexing.html#returning-a-view-versus-a-copy\n",
      "  df163['date_hk'] = df163['date_thirdprocess']\n",
      "C:\\Users\\user\\AppData\\Local\\Temp\\ipykernel_1516\\2922204258.py:491: SettingWithCopyWarning: \n",
      "A value is trying to be set on a copy of a slice from a DataFrame.\n",
      "Try using .loc[row_indexer,col_indexer] = value instead\n",
      "\n",
      "See the caveats in the documentation: https://pandas.pydata.org/pandas-docs/stable/user_guide/indexing.html#returning-a-view-versus-a-copy\n",
      "  df164['date_hk'] = df164['date_thirdprocess']\n",
      "C:\\Users\\user\\AppData\\Local\\Temp\\ipykernel_1516\\2922204258.py:494: SettingWithCopyWarning: \n",
      "A value is trying to be set on a copy of a slice from a DataFrame.\n",
      "Try using .loc[row_indexer,col_indexer] = value instead\n",
      "\n",
      "See the caveats in the documentation: https://pandas.pydata.org/pandas-docs/stable/user_guide/indexing.html#returning-a-view-versus-a-copy\n",
      "  df165['date_hk'] = df165['date_thirdprocess']\n",
      "C:\\Users\\user\\AppData\\Local\\Temp\\ipykernel_1516\\2922204258.py:497: SettingWithCopyWarning: \n",
      "A value is trying to be set on a copy of a slice from a DataFrame.\n",
      "Try using .loc[row_indexer,col_indexer] = value instead\n",
      "\n",
      "See the caveats in the documentation: https://pandas.pydata.org/pandas-docs/stable/user_guide/indexing.html#returning-a-view-versus-a-copy\n",
      "  df166['date_hk'] = df166['date_thirdprocess'] + pd.Timedelta(hours=7, minutes=0, seconds=0)\n",
      "C:\\Users\\user\\AppData\\Local\\Temp\\ipykernel_1516\\2922204258.py:500: SettingWithCopyWarning: \n",
      "A value is trying to be set on a copy of a slice from a DataFrame.\n",
      "Try using .loc[row_indexer,col_indexer] = value instead\n",
      "\n",
      "See the caveats in the documentation: https://pandas.pydata.org/pandas-docs/stable/user_guide/indexing.html#returning-a-view-versus-a-copy\n",
      "  df167['date_hk'] = df167['date_thirdprocess'] + pd.Timedelta(hours=6, minutes=0, seconds=0)\n",
      "C:\\Users\\user\\AppData\\Local\\Temp\\ipykernel_1516\\2922204258.py:503: SettingWithCopyWarning: \n",
      "A value is trying to be set on a copy of a slice from a DataFrame.\n",
      "Try using .loc[row_indexer,col_indexer] = value instead\n",
      "\n",
      "See the caveats in the documentation: https://pandas.pydata.org/pandas-docs/stable/user_guide/indexing.html#returning-a-view-versus-a-copy\n",
      "  df168['date_hk'] = df168['date_thirdprocess'] - pd.Timedelta(hours=2, minutes=0, seconds=0)\n",
      "C:\\Users\\user\\AppData\\Local\\Temp\\ipykernel_1516\\2922204258.py:506: SettingWithCopyWarning: \n",
      "A value is trying to be set on a copy of a slice from a DataFrame.\n",
      "Try using .loc[row_indexer,col_indexer] = value instead\n",
      "\n",
      "See the caveats in the documentation: https://pandas.pydata.org/pandas-docs/stable/user_guide/indexing.html#returning-a-view-versus-a-copy\n",
      "  df169['date_hk'] = df169['date_thirdprocess'] + pd.Timedelta(hours=5, minutes=0, seconds=0)\n",
      "C:\\Users\\user\\AppData\\Local\\Temp\\ipykernel_1516\\2922204258.py:509: SettingWithCopyWarning: \n",
      "A value is trying to be set on a copy of a slice from a DataFrame.\n",
      "Try using .loc[row_indexer,col_indexer] = value instead\n",
      "\n",
      "See the caveats in the documentation: https://pandas.pydata.org/pandas-docs/stable/user_guide/indexing.html#returning-a-view-versus-a-copy\n",
      "  df170['date_hk'] = df170['date_thirdprocess'] + pd.Timedelta(hours=7, minutes=0, seconds=0)\n",
      "C:\\Users\\user\\AppData\\Local\\Temp\\ipykernel_1516\\2922204258.py:512: SettingWithCopyWarning: \n",
      "A value is trying to be set on a copy of a slice from a DataFrame.\n",
      "Try using .loc[row_indexer,col_indexer] = value instead\n",
      "\n",
      "See the caveats in the documentation: https://pandas.pydata.org/pandas-docs/stable/user_guide/indexing.html#returning-a-view-versus-a-copy\n",
      "  df171['date_hk'] = df171['date_thirdprocess'] - pd.Timedelta(hours=5, minutes=0, seconds=0)\n",
      "C:\\Users\\user\\AppData\\Local\\Temp\\ipykernel_1516\\2922204258.py:515: SettingWithCopyWarning: \n",
      "A value is trying to be set on a copy of a slice from a DataFrame.\n",
      "Try using .loc[row_indexer,col_indexer] = value instead\n",
      "\n",
      "See the caveats in the documentation: https://pandas.pydata.org/pandas-docs/stable/user_guide/indexing.html#returning-a-view-versus-a-copy\n",
      "  df172['date_hk'] = df172['date_thirdprocess'] + pd.Timedelta(hours=7, minutes=0, seconds=0)\n",
      "C:\\Users\\user\\AppData\\Local\\Temp\\ipykernel_1516\\2922204258.py:518: SettingWithCopyWarning: \n",
      "A value is trying to be set on a copy of a slice from a DataFrame.\n",
      "Try using .loc[row_indexer,col_indexer] = value instead\n",
      "\n",
      "See the caveats in the documentation: https://pandas.pydata.org/pandas-docs/stable/user_guide/indexing.html#returning-a-view-versus-a-copy\n",
      "  df173['date_hk'] = df173['date_thirdprocess'] - pd.Timedelta(hours=1, minutes=0, seconds=0)\n",
      "C:\\Users\\user\\AppData\\Local\\Temp\\ipykernel_1516\\2922204258.py:521: SettingWithCopyWarning: \n",
      "A value is trying to be set on a copy of a slice from a DataFrame.\n",
      "Try using .loc[row_indexer,col_indexer] = value instead\n",
      "\n",
      "See the caveats in the documentation: https://pandas.pydata.org/pandas-docs/stable/user_guide/indexing.html#returning-a-view-versus-a-copy\n",
      "  df174['date_hk'] = df174['date_thirdprocess'] + pd.Timedelta(hours=4, minutes=0, seconds=0)\n",
      "C:\\Users\\user\\AppData\\Local\\Temp\\ipykernel_1516\\2922204258.py:524: SettingWithCopyWarning: \n",
      "A value is trying to be set on a copy of a slice from a DataFrame.\n",
      "Try using .loc[row_indexer,col_indexer] = value instead\n",
      "\n",
      "See the caveats in the documentation: https://pandas.pydata.org/pandas-docs/stable/user_guide/indexing.html#returning-a-view-versus-a-copy\n",
      "  df175['date_hk'] = df175['date_thirdprocess'] + pd.Timedelta(hours=7, minutes=0, seconds=0)\n"
     ]
    }
   ],
   "source": [
    "# df1=df[df['time_zone'] == 'Abu Dhabi']\n",
    "# df1['date_hk'] = df1['date_thirdprocess'] + pd.Timedelta(hours=4, minutes=0, seconds=0)\n",
    "\n",
    "df2=df[df['time_zone'] == 'Adelaide']\n",
    "df2['date_hk'] = df2['date_thirdprocess'] - pd.Timedelta(hours=2, minutes=30, seconds=0)\n",
    "\n",
    "df3=df[df['time_zone'] == 'Alaska']\n",
    "df3['date_hk'] = df3['date_thirdprocess'] + pd.Timedelta(hours=17, minutes=0, seconds=0)\n",
    "\n",
    "df4=df[df['time_zone'] == 'Almaty']\n",
    "df4['date_hk'] = df4['date_thirdprocess'] + pd.Timedelta(hours=2, minutes=0, seconds=0)\n",
    "\n",
    "df5=df[df['time_zone'] == 'America/Anguilla']\n",
    "df5['date_hk'] = df5['date_thirdprocess'] + pd.Timedelta(hours=12, minutes=0, seconds=0)\n",
    "\n",
    "df6=df[df['time_zone'] == 'America/Bogota']\n",
    "df6['date_hk'] = df6['date_thirdprocess'] + pd.Timedelta(hours=13, minutes=0, seconds=0)\n",
    "\n",
    "df7=df[df['time_zone'] == 'America/Boise']\n",
    "df7['date_hk'] = df7['date_thirdprocess'] + pd.Timedelta(hours=15, minutes=0, seconds=0)\n",
    "\n",
    "df8=df[df['time_zone'] == 'America/Chicago']\n",
    "df8['date_hk'] = df8['date_thirdprocess'] + pd.Timedelta(hours=14, minutes=0, seconds=0)\n",
    "\n",
    "df9=df[df['time_zone'] == 'America/Denver']\n",
    "df9['date_hk'] = df9['date_thirdprocess'] + pd.Timedelta(hours=15, minutes=0, seconds=0)\n",
    "\n",
    "df10=df[df['time_zone'] == 'America/Detroit']\n",
    "df10['date_hk'] = df10['date_thirdprocess'] + pd.Timedelta(hours=13, minutes=0, seconds=0)\n",
    "\n",
    "df11=df[df['time_zone'] == 'America/Edmonton']\n",
    "df11['date_hk'] = df11['date_thirdprocess'] + pd.Timedelta(hours=15, minutes=0, seconds=0)\n",
    "\n",
    "df12=df[df['time_zone'] == 'America/Los_Angeles']\n",
    "df12['date_hk'] = df12['date_thirdprocess'] + pd.Timedelta(hours=16, minutes=0, seconds=0)\n",
    "\n",
    "df13=df[df['time_zone'] == 'America/Mexico_City']\n",
    "df13['date_hk'] = df13['date_thirdprocess'] + pd.Timedelta(hours=14, minutes=0, seconds=0)\n",
    "\n",
    "df14=df[df['time_zone'] == 'America/New_York']\n",
    "df14['date_hk'] = df14['date_thirdprocess'] + pd.Timedelta(hours=13, minutes=0, seconds=0)\n",
    "\n",
    "df15=df[df['time_zone'] == 'America/Toronto']\n",
    "df15['date_hk'] = df15['date_thirdprocess'] + pd.Timedelta(hours=13, minutes=0, seconds=0)\n",
    "\n",
    "df16=df[df['time_zone'] == 'America/Vancouver']\n",
    "df16['date_hk'] = df16['date_thirdprocess'] + pd.Timedelta(hours=16, minutes=0, seconds=0)\n",
    "\n",
    "df17=df[df['time_zone'] == 'Amsterdam']\n",
    "df17['date_hk'] = df17['date_thirdprocess'] + pd.Timedelta(hours=7, minutes=0, seconds=0)\n",
    "\n",
    "df18=df[df['time_zone'] == 'Arizona']\n",
    "df18['date_hk'] = df18['date_thirdprocess'] + pd.Timedelta(hours=15, minutes=0, seconds=0)\n",
    "\n",
    "df19=df[df['time_zone'] == 'Asia/Bangkok']\n",
    "df19['date_hk'] = df19['date_thirdprocess'] + pd.Timedelta(hours=1, minutes=0, seconds=0)\n",
    "\n",
    "df20=df[df['time_zone'] == 'Asia/Calcutta']\n",
    "df20['date_hk'] = df20['date_thirdprocess'] + pd.Timedelta(hours=2, minutes=30, seconds=0)\n",
    "\n",
    "df21=df[df['time_zone'] == 'Asia/Dubai']\n",
    "df21['date_hk'] = df21['date_thirdprocess'] + pd.Timedelta(hours=4, minutes=0, seconds=0)\n",
    "\n",
    "df22=df[df['time_zone'] == 'Asia/Hong_Kong']\n",
    "df22['date_hk'] = df22['date_thirdprocess']\n",
    "\n",
    "df23=df[df['time_zone'] == 'Asia/Jakarta']\n",
    "df23['date_hk'] = df23['date_thirdprocess'] + pd.Timedelta(hours=1, minutes=0, seconds=0)\n",
    "\n",
    "df24=df[df['time_zone'] == 'Asia/Jerusalem']\n",
    "df24['date_hk'] = df24['date_thirdprocess'] + pd.Timedelta(hours=6, minutes=0, seconds=0)\n",
    "\n",
    "df25=df[df['time_zone'] == 'Asia/Kolkata']\n",
    "df25['date_hk'] = df25['date_thirdprocess'] + pd.Timedelta(hours=2, minutes=30, seconds=0)\n",
    "\n",
    "df26=df[df['time_zone'] == 'Asia/Kuala_Lumpur']\n",
    "df26['date_hk'] = df26['date_thirdprocess']\n",
    "\n",
    "df27=df[df['time_zone'] == 'Asia/Kuwait']\n",
    "df27['date_hk'] = df27['date_thirdprocess'] + pd.Timedelta(hours=5, minutes=0, seconds=0)\n",
    "\n",
    "df28=df[df['time_zone'] == 'Asia/Manila']\n",
    "df28['date_hk'] = df28['date_thirdprocess']\n",
    "\n",
    "df29=df[df['time_zone'] == 'Asia/Shanghai']\n",
    "df29['date_hk'] = df29['date_thirdprocess']\n",
    "\n",
    "df30=df[df['time_zone'] == 'Asia/Singapore']\n",
    "df30['date_hk'] = df30['date_thirdprocess']\n",
    "\n",
    "df31=df[df['time_zone'] == 'Asia/Taipei']\n",
    "df31['date_hk'] = df31['date_thirdprocess']\n",
    "\n",
    "df32=df[df['time_zone'] == 'Asia/Tokyo']\n",
    "df32['date_hk'] = df32['date_thirdprocess'] - pd.Timedelta(hours=1, minutes=0, seconds=0)\n",
    "\n",
    "df33=df[df['time_zone'] == 'Athens']\n",
    "df33['date_hk'] = df33['date_thirdprocess'] + pd.Timedelta(hours=6, minutes=0, seconds=0)\n",
    "\n",
    "df34=df[df['time_zone'] == 'Atlantic Time (Canada)']\n",
    "df34['date_hk'] = df34['date_thirdprocess'] + pd.Timedelta(hours=12, minutes=0, seconds=0)\n",
    "\n",
    "df35=df[df['time_zone'] == 'Atlantic/Madeira']\n",
    "df35['date_hk'] = df35['date_thirdprocess'] + pd.Timedelta(hours=8, minutes=0, seconds=0)\n",
    "\n",
    "df36=df[df['time_zone'] == 'Auckland']\n",
    "df36['date_hk'] = df36['date_thirdprocess'] - pd.Timedelta(hours=5, minutes=0, seconds=0)\n",
    "\n",
    "df37=df[df['time_zone'] == 'BST']\n",
    "df37['date_hk'] = df37['date_thirdprocess'] + pd.Timedelta(hours=7, minutes=0, seconds=0)\n",
    "\n",
    "df38=df[df['time_zone'] == 'Baghdad']\n",
    "df38['date_hk'] = df38['date_thirdprocess'] + pd.Timedelta(hours=5, minutes=0, seconds=0)\n",
    "\n",
    "df39=df[df['time_zone'] == 'Baku']\n",
    "df39['date_hk'] = df39['date_thirdprocess'] + pd.Timedelta(hours=4, minutes=0, seconds=0)\n",
    "\n",
    "df40=df[df['time_zone'] == 'Bangkok']\n",
    "df40['date_hk'] = df40['date_thirdprocess'] + pd.Timedelta(hours=1, minutes=0, seconds=0)\n",
    "\n",
    "df41=df[df['time_zone'] == 'Beijing']\n",
    "df41['date_hk'] = df41['date_thirdprocess']\n",
    "\n",
    "df42=df[df['time_zone'] == 'Belgrade']\n",
    "df42['date_hk'] = df42['date_thirdprocess'] + pd.Timedelta(hours=7, minutes=0, seconds=0)\n",
    "\n",
    "df43=df[df['time_zone'] == 'Berlin']\n",
    "df43['date_hk'] = df43['date_thirdprocess'] + pd.Timedelta(hours=7, minutes=0, seconds=0)\n",
    "\n",
    "df44=df[df['time_zone'] == 'Bern']\n",
    "df44['date_hk'] = df44['date_thirdprocess'] + pd.Timedelta(hours=7, minutes=0, seconds=0)\n",
    "\n",
    "df45=df[df['time_zone'] == 'Bogota']\n",
    "df45['date_hk'] = df45['date_thirdprocess'] + pd.Timedelta(hours=13, minutes=0, seconds=0)\n",
    "\n",
    "df46=df[df['time_zone'] == 'Brasilia']\n",
    "df46['date_hk'] = df46['date_thirdprocess'] + pd.Timedelta(hours=11, minutes=0, seconds=0)\n",
    "\n",
    "df47=df[df['time_zone'] == 'Bratislava']\n",
    "df47['date_hk'] = df47['date_thirdprocess'] + pd.Timedelta(hours=7, minutes=0, seconds=0)\n",
    "\n",
    "df48=df[df['time_zone'] == 'Brisbane']\n",
    "df48['date_hk'] = df48['date_thirdprocess'] - pd.Timedelta(hours=2, minutes=0, seconds=0)\n",
    "\n",
    "df49=df[df['time_zone'] == 'Brussels']\n",
    "df49['date_hk'] = df49['date_thirdprocess'] + pd.Timedelta(hours=7, minutes=0, seconds=0)\n",
    "\n",
    "df50=df[df['time_zone'] == 'Bucharest']\n",
    "df50['date_hk'] = df50['date_thirdprocess'] + pd.Timedelta(hours=6, minutes=0, seconds=0)\n",
    "\n",
    "df51=df[df['time_zone'] == 'Budapest']\n",
    "df51['date_hk'] = df51['date_thirdprocess'] + pd.Timedelta(hours=7, minutes=0, seconds=0)\n",
    "\n",
    "df52=df[df['time_zone'] == 'Buenos Aires']\n",
    "df52['date_hk'] = df52['date_thirdprocess'] + pd.Timedelta(hours=11, minutes=0, seconds=0)\n",
    "\n",
    "df53=df[df['time_zone'] == 'Cairo']\n",
    "df53['date_hk'] = df53['date_thirdprocess'] + pd.Timedelta(hours=6, minutes=0, seconds=0)\n",
    "\n",
    "df54=df[df['time_zone'] == 'Canada/Pacific']\n",
    "df54['date_hk'] = df54['date_thirdprocess'] + pd.Timedelta(hours=16, minutes=0, seconds=0)\n",
    "\n",
    "df55=df[df['time_zone'] == 'Canberra']\n",
    "df55['date_hk'] = df55['date_thirdprocess'] - pd.Timedelta(hours=3, minutes=0, seconds=0)\n",
    "\n",
    "df56=df[df['time_zone'] == 'Caracas']\n",
    "df56['date_hk'] = df56['date_thirdprocess'] + pd.Timedelta(hours=12, minutes=0, seconds=0)\n",
    "\n",
    "df57=df[df['time_zone'] == 'Casablanca']\n",
    "df57['date_hk'] = df57['date_thirdprocess'] + pd.Timedelta(hours=7, minutes=0, seconds=0)\n",
    "\n",
    "df58=df[df['time_zone'] == 'Central America']\n",
    "df58['date_hk'] = df58['date_thirdprocess'] + pd.Timedelta(hours=14, minutes=0, seconds=0)\n",
    "\n",
    "df59=df[df['time_zone'] == 'Central Time (US & Canada)']\n",
    "df59['date_hk'] = df59['date_thirdprocess'] + pd.Timedelta(hours=14, minutes=0, seconds=0)\n",
    "\n",
    "df60=df[df['time_zone'] == 'Chennai']\n",
    "df60['date_hk'] = df60['date_thirdprocess'] + pd.Timedelta(hours=2, minutes=30, seconds=0)\n",
    "\n",
    "df61=df[df['time_zone'] == 'Chihuahua']\n",
    "df61['date_hk'] = df61['date_thirdprocess'] + pd.Timedelta(hours=14, minutes=0, seconds=0)\n",
    "\n",
    "df62=df[df['time_zone'] == 'Chongqing']\n",
    "df62['date_hk'] = df62['date_thirdprocess']\n",
    "\n",
    "df63=df[df['time_zone'] == 'Copenhagen']\n",
    "df63['date_hk'] = df63['date_thirdprocess'] + pd.Timedelta(hours=7, minutes=0, seconds=0)\n",
    "\n",
    "df64=df[df['time_zone'] == 'Darwin']\n",
    "df64['date_hk'] = df64['date_thirdprocess'] - pd.Timedelta(hours=1, minutes=30, seconds=0)\n",
    "\n",
    "df65=df[df['time_zone'] == 'Dhaka']\n",
    "df65['date_hk'] = df65['date_thirdprocess'] + pd.Timedelta(hours=2, minutes=0, seconds=0)\n",
    "\n",
    "df66=df[df['time_zone'] == 'Dublin']\n",
    "df66['date_hk'] = df66['date_thirdprocess'] + pd.Timedelta(hours=8, minutes=0, seconds=0)\n",
    "\n",
    "df67=df[df['time_zone'] == 'Eastern Time (US & Canada)']\n",
    "df67['date_hk'] = df67['date_thirdprocess'] + pd.Timedelta(hours=13, minutes=0, seconds=0)\n",
    "\n",
    "df68=df[df['time_zone'] == 'Edinburgh']\n",
    "df68['date_hk'] = df68['date_thirdprocess'] + pd.Timedelta(hours=8, minutes=0, seconds=0)\n",
    "#but the name of the city is (Y)Ekaterinburg\n",
    "df69=df[df['time_zone'] == 'Ekaterinburg']\n",
    "df69['date_hk'] = df69['date_thirdprocess'] + pd.Timedelta(hours=3, minutes=0, seconds=0)\n",
    "\n",
    "df70=df[df['time_zone'] == 'Etc/UTC']\n",
    "df70['date_hk'] = df70['date_thirdprocess']\n",
    "\n",
    "df71=df[df['time_zone'] == 'Europe/London']\n",
    "df71['date_hk'] = df71['date_thirdprocess'] + pd.Timedelta(hours=8, minutes=0, seconds=0)\n",
    "\n",
    "df72=df[df['time_zone'] == 'Europe/Madrid']\n",
    "df72['date_hk'] = df72['date_thirdprocess'] + pd.Timedelta(hours=7, minutes=0, seconds=0)\n",
    "\n",
    "df73=df[df['time_zone'] == 'Fiji']\n",
    "df73['date_hk'] = df73['date_thirdprocess'] - pd.Timedelta(hours=4, minutes=0, seconds=0)\n",
    "\n",
    "df74=df[df['time_zone'] == 'GMT+3']\n",
    "df74['date_hk'] = df74['date_thirdprocess'] + pd.Timedelta(hours=3, minutes=0, seconds=0)\n",
    "\n",
    "df75=df[df['time_zone'] == 'GMT+7']\n",
    "df75['date_hk'] = df75['date_thirdprocess'] + pd.Timedelta(hours=1, minutes=0, seconds=0)\n",
    "\n",
    "df76=df[df['time_zone'] == 'GMT+8']\n",
    "df76['date_hk'] = df76['date_thirdprocess']\n",
    "\n",
    "df77=df[df['time_zone'] == 'GMT+9']\n",
    "df77['date_hk'] = df77['date_thirdprocess'] - pd.Timedelta(hours=1, minutes=0, seconds=0)\n",
    "\n",
    "df78=df[df['time_zone'] == 'GMT-4']\n",
    "df78['date_hk'] = df78['date_thirdprocess'] + pd.Timedelta(hours=12, minutes=0, seconds=0)\n",
    "\n",
    "df79=df[df['time_zone'] == 'GMT-7']\n",
    "df79['date_hk'] = df79['date_thirdprocess'] + pd.Timedelta(hours=15, minutes=0, seconds=0)\n",
    "\n",
    "df80=df[df['time_zone'] == 'Georgetown']\n",
    "df80['date_hk'] = df80['date_thirdprocess'] + pd.Timedelta(hours=12, minutes=0, seconds=0)\n",
    "\n",
    "df81=df[df['time_zone'] == 'Greenland']\n",
    "df81['date_hk'] = df81['date_thirdprocess'] + pd.Timedelta(hours=11, minutes=0, seconds=0)\n",
    "\n",
    "df82=df[df['time_zone'] == 'Guadalajara']\n",
    "df82['date_hk'] = df82['date_thirdprocess'] + pd.Timedelta(hours=14, minutes=0, seconds=0)\n",
    "\n",
    "df83=df[df['time_zone'] == 'Guam']\n",
    "df83['date_hk'] = df83['date_thirdprocess'] - pd.Timedelta(hours=2, minutes=0, seconds=0)\n",
    "\n",
    "df84=df[df['time_zone'] == 'Hanoi']\n",
    "df84['date_hk'] = df84['date_thirdprocess'] + pd.Timedelta(hours=1, minutes=0, seconds=0)\n",
    "\n",
    "df85=df[df['time_zone'] == 'Harare']\n",
    "df85['date_hk'] = df85['date_thirdprocess'] + pd.Timedelta(hours=6, minutes=0, seconds=0)\n",
    "\n",
    "df86=df[df['time_zone'] == 'Hawaii']\n",
    "df86['date_hk'] = df86['date_thirdprocess'] + pd.Timedelta(hours=18, minutes=0, seconds=0)\n",
    "\n",
    "df87=df[df['time_zone'] == 'Helsinki']\n",
    "df87['date_hk'] = df87['date_thirdprocess'] + pd.Timedelta(hours=6, minutes=0, seconds=0)\n",
    "\n",
    "df88=df[df['time_zone'] == 'Hobart']\n",
    "df88['date_hk'] = df88['date_thirdprocess'] - pd.Timedelta(hours=3, minutes=0, seconds=0)\n",
    "\n",
    "df89=df[df['time_zone'] == 'Hong Kong']\n",
    "df89['date_hk'] = df89['date_thirdprocess']\n",
    "\n",
    "df90=df[df['time_zone'] == 'Indiana (East)']\n",
    "df90['date_hk'] = df90['date_thirdprocess'] + pd.Timedelta(hours=13, minutes=0, seconds=0)\n",
    "\n",
    "df91=df[df['time_zone'] == 'International Date Line West']\n",
    "df91['date_hk'] = df91['date_thirdprocess'] - pd.Timedelta(hours=4, minutes=0, seconds=0)\n",
    "\n",
    "df92=df[df['time_zone'] == 'Irkutsk']\n",
    "df92['date_hk'] = df92['date_thirdprocess']\n",
    "\n",
    "df93=df[df['time_zone'] == 'Islamabad']\n",
    "df93['date_hk'] = df93['date_thirdprocess'] + pd.Timedelta(hours=3, minutes=0, seconds=0)\n",
    "\n",
    "df94=df[df['time_zone'] == 'Istanbul']\n",
    "df94['date_hk'] = df94['date_thirdprocess'] + pd.Timedelta(hours=5, minutes=0, seconds=0)\n",
    "\n",
    "df95=df[df['time_zone'] == 'JST']\n",
    "df95['date_hk'] = df95['date_thirdprocess'] - pd.Timedelta(hours=1, minutes=0, seconds=0)\n",
    "\n",
    "df96=df[df['time_zone'] == 'Jakarta']\n",
    "df96['date_hk'] = df96['date_thirdprocess'] + pd.Timedelta(hours=1, minutes=0, seconds=0)\n",
    "\n",
    "df97=df[df['time_zone'] == 'Jerusalem']\n",
    "df97['date_hk'] = df97['date_thirdprocess'] + pd.Timedelta(hours=6, minutes=0, seconds=0)\n",
    "\n",
    "df98=df[df['time_zone'] == 'Kabul']\n",
    "df98['date_hk'] = df98['date_thirdprocess'] + pd.Timedelta(hours=3, minutes=30, seconds=0)\n",
    "\n",
    "df99=df[df['time_zone'] == 'Kamchatka']\n",
    "df99['date_hk'] = df99['date_thirdprocess'] - pd.Timedelta(hours=4, minutes=0, seconds=0)\n",
    "\n",
    "df100=df[df['time_zone'] == 'Karachi']\n",
    "df100['date_hk'] = df100['date_thirdprocess'] + pd.Timedelta(hours=3, minutes=0, seconds=0)\n",
    "\n",
    "df101=df[df['time_zone'] == 'Kathmandu']\n",
    "df101['date_hk'] = df101['date_thirdprocess'] + pd.Timedelta(hours=2, minutes=15, seconds=0)\n",
    "\n",
    "df102=df[df['time_zone'] == 'Kiev']\n",
    "df102['date_hk'] = df102['date_thirdprocess'] + pd.Timedelta(hours=6, minutes=0, seconds=0)\n",
    "\n",
    "df103=df[df['time_zone'] == 'Kolkata']\n",
    "df103['date_hk'] = df103['date_thirdprocess'] + pd.Timedelta(hours=2, minutes=30, seconds=0)\n",
    "\n",
    "df104=df[df['time_zone'] == 'Krasnoyarsk']\n",
    "df104['date_hk'] = df104['date_thirdprocess'] + pd.Timedelta(hours=1, minutes=0, seconds=0)\n",
    "\n",
    "df105=df[df['time_zone'] == 'Kuala Lumpur']\n",
    "df105['date_hk'] = df105['date_thirdprocess']\n",
    "\n",
    "df106=df[df['time_zone'] == 'Kuwait']\n",
    "df106['date_hk'] = df106['date_thirdprocess'] + pd.Timedelta(hours=5, minutes=0, seconds=0)\n",
    "\n",
    "df107=df[df['time_zone'] == 'Kyiv']\n",
    "df107['date_hk'] = df107['date_thirdprocess'] + pd.Timedelta(hours=6, minutes=0, seconds=0)\n",
    "\n",
    "df108=df[df['time_zone'] == 'La Paz']\n",
    "df108['date_hk'] = df108['date_thirdprocess'] + pd.Timedelta(hours=12, minutes=0, seconds=0)\n",
    "\n",
    "df109=df[df['time_zone'] == 'Lima']\n",
    "df109['date_hk'] = df109['date_thirdprocess'] + pd.Timedelta(hours=13, minutes=0, seconds=0)\n",
    "\n",
    "df110=df[df['time_zone'] == 'Lisbon']\n",
    "df110['date_hk'] = df110['date_thirdprocess'] + pd.Timedelta(hours=8, minutes=0, seconds=0)\n",
    "\n",
    "df111=df[df['time_zone'] == 'Ljubljana']\n",
    "df111['date_hk'] = df111['date_thirdprocess'] + pd.Timedelta(hours=7, minutes=0, seconds=0)\n",
    "\n",
    "df112=df[df['time_zone'] == 'London']\n",
    "df112['date_hk'] = df112['date_thirdprocess'] + pd.Timedelta(hours=8, minutes=0, seconds=0)\n",
    "\n",
    "df113=df[df['time_zone'] == 'Madrid']\n",
    "df113['date_hk'] = df113['date_thirdprocess'] + pd.Timedelta(hours=7, minutes=0, seconds=0)\n",
    "\n",
    "df114=df[df['time_zone'] == 'Mazatlan']\n",
    "df114['date_hk'] = df114['date_thirdprocess'] + pd.Timedelta(hours=15, minutes=0, seconds=0)\n",
    "\n",
    "df115=df[df['time_zone'] == 'Melbourne']\n",
    "df115['date_hk'] = df115['date_thirdprocess'] - pd.Timedelta(hours=3, minutes=0, seconds=0)\n",
    "\n",
    "df116=df[df['time_zone'] == 'Mexico City']\n",
    "df116['date_hk'] = df116['date_thirdprocess'] + pd.Timedelta(hours=14, minutes=0, seconds=0)\n",
    "\n",
    "df117=df[df['time_zone'] == 'Mid-Atlantic']\n",
    "df117['date_hk'] = df117['date_thirdprocess'] + pd.Timedelta(hours=12, minutes=0, seconds=0)\n",
    "\n",
    "df118=df[df['time_zone'] == 'Midway Island']\n",
    "df118['date_hk'] = df118['date_thirdprocess'] + pd.Timedelta(hours=19, minutes=0, seconds=0)\n",
    "\n",
    "df119=df[df['time_zone'] == 'Minsk']\n",
    "df119['date_hk'] = df119['date_thirdprocess'] + pd.Timedelta(hours=5, minutes=0, seconds=0)\n",
    "\n",
    "df120=df[df['time_zone'] == 'Monrovia']\n",
    "df120['date_hk'] = df120['date_thirdprocess'] + pd.Timedelta(hours=8, minutes=0, seconds=0)\n",
    "\n",
    "df121=df[df['time_zone'] == 'Monterrey']\n",
    "df121['date_hk'] = df121['date_thirdprocess'] + pd.Timedelta(hours=14, minutes=0, seconds=0)\n",
    "\n",
    "df122=df[df['time_zone'] == 'Moscow']\n",
    "df122['date_hk'] = df122['date_thirdprocess'] + pd.Timedelta(hours=5, minutes=0, seconds=0)\n",
    "\n",
    "df123=df[df['time_zone'] == 'Mountain Time (US & Canada)']\n",
    "df123['date_hk'] = df123['date_thirdprocess'] + pd.Timedelta(hours=15, minutes=0, seconds=0)\n",
    "\n",
    "df124=df[df['time_zone'] == 'Mumbai']\n",
    "df124['date_hk'] = df124['date_thirdprocess'] + pd.Timedelta(hours=2, minutes=30, seconds=0)\n",
    "\n",
    "df125=df[df['time_zone'] == 'Muscat']\n",
    "df125['date_hk'] = df125['date_thirdprocess'] + pd.Timedelta(hours=4, minutes=0, seconds=0)\n",
    "\n",
    "df126=df[df['time_zone'] == 'Nairobi']\n",
    "df126['date_hk'] = df126['date_thirdprocess'] + pd.Timedelta(hours=5, minutes=0, seconds=0)\n",
    "\n",
    "df127=df[df['time_zone'] == 'New Caledonia']\n",
    "df127['date_hk'] = df127['date_thirdprocess'] - pd.Timedelta(hours=3, minutes=0, seconds=0)\n",
    "\n",
    "df128=df[df['time_zone'] == 'New Delhi']\n",
    "df128['date_hk'] = df128['date_thirdprocess'] + pd.Timedelta(hours=2, minutes=30, seconds=0)\n",
    "\n",
    "df129=df[df['time_zone'] == 'Newfoundland']\n",
    "df129['date_hk'] = df129['date_thirdprocess'] + pd.Timedelta(hours=11, minutes=30, seconds=0)\n",
    "\n",
    "df130=df[df['time_zone'] == 'Novosibirsk']\n",
    "df130['date_hk'] = df130['date_thirdprocess'] + pd.Timedelta(hours=1, minutes=0, seconds=0)\n",
    "\n",
    "df131=df[df['time_zone'] == \"Nuku'alofa\"]\n",
    "df131['date_hk'] = df131['date_thirdprocess'] - pd.Timedelta(hours=5, minutes=0, seconds=0)\n",
    "\n",
    "df132=df[df['time_zone'] == 'Osaka']\n",
    "df132['date_hk'] = df132['date_thirdprocess'] - pd.Timedelta(hours=1, minutes=0, seconds=0)\n",
    "\n",
    "df133=df[df['time_zone'] == 'PST']\n",
    "df133['date_hk'] = df133['date_thirdprocess'] + pd.Timedelta(hours=16, minutes=0, seconds=0)\n",
    "\n",
    "df134=df[df['time_zone'] == 'Pacific Time (US & Canada)']\n",
    "df134['date_hk'] = df134['date_thirdprocess'] + pd.Timedelta(hours=16, minutes=0, seconds=0)\n",
    "\n",
    "df135=df[df['time_zone'] == 'Paris']\n",
    "df135['date_hk'] = df135['date_thirdprocess'] + pd.Timedelta(hours=7, minutes=0, seconds=0)\n",
    "\n",
    "df136=df[df['time_zone'] == 'Perth']\n",
    "df136['date_hk'] = df136['date_thirdprocess']\n",
    "\n",
    "df137=df[df['time_zone'] == 'Prague']\n",
    "df137['date_hk'] = df137['date_thirdprocess'] + pd.Timedelta(hours=7, minutes=0, seconds=0)\n",
    "\n",
    "df138=df[df['time_zone'] == 'Pretoria']\n",
    "df138['date_hk'] = df138['date_thirdprocess'] + pd.Timedelta(hours=6, minutes=0, seconds=0)\n",
    "\n",
    "df139=df[df['time_zone'] == 'Quito']\n",
    "df139['date_hk'] = df139['date_thirdprocess'] + pd.Timedelta(hours=13, minutes=0, seconds=0)\n",
    "\n",
    "df140=df[df['time_zone'] == 'Rangoon']\n",
    "df140['date_hk'] = df140['date_thirdprocess'] + pd.Timedelta(hours=1, minutes=30, seconds=0)\n",
    "\n",
    "df141=df[df['time_zone'] == 'Riga']\n",
    "df141['date_hk'] = df141['date_thirdprocess'] + pd.Timedelta(hours=6, minutes=0, seconds=0)\n",
    "\n",
    "df142=df[df['time_zone'] == 'Riyadh']\n",
    "df142['date_hk'] = df142['date_thirdprocess'] + pd.Timedelta(hours=5, minutes=0, seconds=0)\n",
    "\n",
    "df143=df[df['time_zone'] == 'Rome']\n",
    "df143['date_hk'] = df143['date_thirdprocess'] + pd.Timedelta(hours=7, minutes=0, seconds=0)\n",
    "\n",
    "df144=df[df['time_zone'] == 'Samoa']\n",
    "df144['date_hk'] = df144['date_thirdprocess'] - pd.Timedelta(hours=5, minutes=0, seconds=0)\n",
    "\n",
    "df145=df[df['time_zone'] == 'Santiago']\n",
    "df145['date_hk'] = df145['date_thirdprocess'] + pd.Timedelta(hours=11, minutes=0, seconds=0)\n",
    "\n",
    "df146=df[df['time_zone'] == 'Sapporo']\n",
    "df146['date_hk'] = df146['date_thirdprocess'] - pd.Timedelta(hours=1, minutes=0, seconds=0)\n",
    "\n",
    "df147=df[df['time_zone'] == 'Saskatchewan']\n",
    "df147['date_hk'] = df147['date_thirdprocess'] + pd.Timedelta(hours=14, minutes=0, seconds=0)\n",
    "\n",
    "df148=df[df['time_zone'] == 'Seoul']\n",
    "df148['date_hk'] = df148['date_thirdprocess'] - pd.Timedelta(hours=1, minutes=0, seconds=0)\n",
    "\n",
    "df149=df[df['time_zone'] == 'Singapore']\n",
    "df149['date_hk'] = df149['date_thirdprocess']\n",
    "\n",
    "df150=df[df['time_zone'] == 'Skopje']\n",
    "df150['date_hk'] = df150['date_thirdprocess'] + pd.Timedelta(hours=7, minutes=0, seconds=0)\n",
    "\n",
    "df151=df[df['time_zone'] == 'Sofia']\n",
    "df151['date_hk'] = df151['date_thirdprocess'] + pd.Timedelta(hours=6, minutes=0, seconds=0)\n",
    "\n",
    "df152=df[df['time_zone'] == 'Solomon Is.']\n",
    "df152['date_hk'] = df152['date_thirdprocess'] - pd.Timedelta(hours=3, minutes=0, seconds=0)\n",
    "\n",
    "df153=df[df['time_zone'] == 'Sri Jayawardenepura']\n",
    "df153['date_hk'] = df153['date_thirdprocess'] + pd.Timedelta(hours=2, minutes=30, seconds=0)\n",
    "\n",
    "df154=df[df['time_zone'] == 'St. Petersburg']\n",
    "df154['date_hk'] = df154['date_thirdprocess'] + pd.Timedelta(hours=5, minutes=0, seconds=0)\n",
    "\n",
    "df155=df[df['time_zone'] == 'Stockholm']\n",
    "df155['date_hk'] = df155['date_thirdprocess'] + pd.Timedelta(hours=7, minutes=0, seconds=0)\n",
    "\n",
    "df156=df[df['time_zone'] == 'Sydney']\n",
    "df156['date_hk'] = df156['date_thirdprocess'] - pd.Timedelta(hours=3, minutes=0, seconds=0)\n",
    "\n",
    "df157=df[df['time_zone'] == 'Taipei']\n",
    "df157['date_hk'] = df157['date_thirdprocess']\n",
    "\n",
    "df158=df[df['time_zone'] == 'Tallinn']\n",
    "df158['date_hk'] = df158['date_thirdprocess'] + pd.Timedelta(hours=6, minutes=0, seconds=0)\n",
    "\n",
    "df159=df[df['time_zone'] == 'Tashkent']\n",
    "df159['date_hk'] = df159['date_thirdprocess'] + pd.Timedelta(hours=3, minutes=0, seconds=0)\n",
    "\n",
    "df160=df[df['time_zone'] == 'Tehran']\n",
    "df160['date_hk'] = df160['date_thirdprocess'] + pd.Timedelta(hours=4, minutes=30, seconds=0)\n",
    "\n",
    "df161=df[df['time_zone'] == 'Tijuana']\n",
    "df161['date_hk'] = df161['date_thirdprocess'] + pd.Timedelta(hours=16, minutes=0, seconds=0)\n",
    "\n",
    "df162=df[df['time_zone'] == 'Tokyo']\n",
    "df162['date_hk'] = df162['date_thirdprocess'] - pd.Timedelta(hours=1, minutes=0, seconds=0)\n",
    "\n",
    "df163=df[df['time_zone'] == 'UTC']\n",
    "df163['date_hk'] = df163['date_thirdprocess']\n",
    "\n",
    "df164=df[df['time_zone'] == 'Ulaan Bataar']\n",
    "df164['date_hk'] = df164['date_thirdprocess']\n",
    "\n",
    "df165=df[df['time_zone'] == 'Urumqi']\n",
    "df165['date_hk'] = df165['date_thirdprocess']\n",
    "\n",
    "df166=df[df['time_zone'] == 'Vienna']\n",
    "df166['date_hk'] = df166['date_thirdprocess'] + pd.Timedelta(hours=7, minutes=0, seconds=0)\n",
    "\n",
    "df167=df[df['time_zone'] == 'Vilnius']\n",
    "df167['date_hk'] = df167['date_thirdprocess'] + pd.Timedelta(hours=6, minutes=0, seconds=0)\n",
    "\n",
    "df168=df[df['time_zone'] == 'Vladivostok']\n",
    "df168['date_hk'] = df168['date_thirdprocess'] - pd.Timedelta(hours=2, minutes=0, seconds=0)\n",
    "\n",
    "df169=df[df['time_zone'] == 'Volgograd']\n",
    "df169['date_hk'] = df169['date_thirdprocess'] + pd.Timedelta(hours=5, minutes=0, seconds=0)\n",
    "\n",
    "df170=df[df['time_zone'] == 'Warsaw']\n",
    "df170['date_hk'] = df170['date_thirdprocess'] + pd.Timedelta(hours=7, minutes=0, seconds=0)\n",
    "\n",
    "df171=df[df['time_zone'] == 'Wellington']\n",
    "df171['date_hk'] = df171['date_thirdprocess'] - pd.Timedelta(hours=5, minutes=0, seconds=0)\n",
    "\n",
    "df172=df[df['time_zone'] == 'West Central Africa']\n",
    "df172['date_hk'] = df172['date_thirdprocess'] + pd.Timedelta(hours=7, minutes=0, seconds=0)\n",
    "\n",
    "df173=df[df['time_zone'] == 'Yakutsk']\n",
    "df173['date_hk'] = df173['date_thirdprocess'] - pd.Timedelta(hours=1, minutes=0, seconds=0)\n",
    "\n",
    "df174=df[df['time_zone'] == 'Yerevan']\n",
    "df174['date_hk'] = df174['date_thirdprocess'] + pd.Timedelta(hours=4, minutes=0, seconds=0)\n",
    "\n",
    "df175=df[df['time_zone'] == 'Zagreb']\n",
    "df175['date_hk'] = df175['date_thirdprocess'] + pd.Timedelta(hours=7, minutes=0, seconds=0)\n",
    "\n",
    "# 剩下的都是NaN值，暂定设置为hktime\n",
    "df176=df[df['time_zone']=='']\n",
    "df176['date_hk'] = df176['date_thirdprocess']\n",
    "\n",
    "frames=[df1,df2,df3,df4,df5,df6,df7,df8,df9,df10,df11,df12,df13,df14,df15,df16,df17,df18,df19,df20,df21,df22,df23,df24,df25,df26,df27,df28,df29,df30,df31,df32,df33,df34,df35,df36,df37,df38,df39,df40,df41,df42,df43,df44,df45,df46,df47,df48,df49,df50,df51,df52,df53,df54,df55,df56,df57,df58,df59,df60,df61,df62,df63,df64,df65,df66,df67,df68,df69,df70,df71,df72,df73,df74,df75,df76,df77,df78,df79,df80,df81,df82,df83,df84,df85,df86,df87,df88,df89,df90,df91,df92,df93,df94,df95,df96,df97,df98,df99,df100,df101,df102,df103,df104,df105,df106,df107,df108,df109,df110,df111,df112,df113,df114,df115,df116,df117,df118,df119,df120,df121,df122,df123,df124,df125,df126,df127,df128,df129,df130,df131,df132,df133,df134,df135,df136,df137,df138,df139,df140,df141,df142,df143,df144,df145,df146,df147,df148,df149,df150,df151,df152,df153,df154,df155,df156,df157,df158,df159,df160,df161,df162,df163,df164,df165,df166,df167,df168,df169,df170,df171,df172,df173,df174,df175,df176]\n",
    "\n",
    "result_v1=pd.concat(frames)"
   ],
   "metadata": {
    "collapsed": false
   }
  },
  {
   "cell_type": "code",
   "execution_count": 113,
   "outputs": [
    {
     "data": {
      "text/plain": "                          created_at        id_str lang        lat  \\\n1246  Sun May 08 19:42:57 +0000 2016  7.290000e+17   en  22.280900   \n1254  Sun May 08 21:20:20 +0000 2016  7.290000e+17   en  22.314882   \n3007  Thu May 12 08:04:44 +0000 2016  7.310000e+17   en  22.280900   \n3715  Fri May 13 09:07:09 +0000 2016  7.310000e+17   en  22.339341   \n4297  Sat May 14 06:37:43 +0000 2016  7.310000e+17   en  22.313420   \n\n             lon                                               text  \\\n1246  114.178000  Thanks again Hong Kong <ed><U+00A0><U+00BC><ed...   \n1254  113.933372  It's that time again! <U+2708><U+FE0F> #HongKo...   \n3007  114.178000  Static | Behaviour \\r\\r\\r\\r\\r\\r\\r\\r\\n\\r\\r\\r\\r\\...   \n3715  114.204015  The Nan lian garden at Diamond Hill in Hong Ko...   \n4297  114.043526  Advance birthday treat from my sister. <U+2764...   \n\n      time_zone  truncated                      url  \\\n1246  Abu Dhabi      False  https://t.co/TRE2EaWvgv   \n1254  Abu Dhabi      False  https://t.co/vT7Ig26Toy   \n3007  Abu Dhabi      False  https://t.co/eDeDOSdZ98   \n3715  Abu Dhabi      False  https://t.co/UIu8LKGJR5   \n4297  Abu Dhabi      False  https://t.co/KIIE6Twnx4   \n\n                     user_created_at  ...  user_lang user_url verified  \\\n1246  Fri Dec 05 03:50:04 +0000 2008  ...         en      NaN    False   \n1254  Fri Dec 05 03:50:04 +0000 2008  ...         en      NaN    False   \n3007  Sun Sep 04 11:14:07 +0000 2011  ...         en      NaN    False   \n3715  Tue Sep 28 10:15:24 +0000 2010  ...         en      NaN    False   \n4297  Mon Sep 14 19:15:36 +0000 2009  ...         en      NaN    False   \n\n      TPU_longitudinal  TPU_cross_sectional  \\\n1246               135                  135   \n1254               951            950 - 951   \n3007               135                  135   \n3715               281                  281   \n4297               973            971 - 974   \n\n                                           cleaned_text  \\\n1246  thanks again hong kong for more great to this ...   \n1254  it s that time again u number u hong kong taxi...   \n3007  static behaviour china hong kong explore touri...   \n3715  the nan garden at diamond hill in hong kong a ...   \n4297  advance birthday treat from my sister u number...   \n\n                           date   date_secondprocess   date_thirdprocess  \\\n1246  2016-05-08 19:42:57+00:00  2016-05-08 19:42:57 2016-05-08 19:42:57   \n1254  2016-05-08 21:20:20+00:00  2016-05-08 21:20:20 2016-05-08 21:20:20   \n3007  2016-05-12 08:04:44+00:00  2016-05-12 08:04:44 2016-05-12 08:04:44   \n3715  2016-05-13 09:07:09+00:00  2016-05-13 09:07:09 2016-05-13 09:07:09   \n4297  2016-05-14 06:37:43+00:00  2016-05-14 06:37:43 2016-05-14 06:37:43   \n\n                 date_hk  \n1246 2016-05-08 23:42:57  \n1254 2016-05-09 01:20:20  \n3007 2016-05-12 12:04:44  \n3715 2016-05-13 13:07:09  \n4297 2016-05-14 10:37:43  \n\n[5 rows x 21 columns]",
      "text/html": "<div>\n<style scoped>\n    .dataframe tbody tr th:only-of-type {\n        vertical-align: middle;\n    }\n\n    .dataframe tbody tr th {\n        vertical-align: top;\n    }\n\n    .dataframe thead th {\n        text-align: right;\n    }\n</style>\n<table border=\"1\" class=\"dataframe\">\n  <thead>\n    <tr style=\"text-align: right;\">\n      <th></th>\n      <th>created_at</th>\n      <th>id_str</th>\n      <th>lang</th>\n      <th>lat</th>\n      <th>lon</th>\n      <th>text</th>\n      <th>time_zone</th>\n      <th>truncated</th>\n      <th>url</th>\n      <th>user_created_at</th>\n      <th>...</th>\n      <th>user_lang</th>\n      <th>user_url</th>\n      <th>verified</th>\n      <th>TPU_longitudinal</th>\n      <th>TPU_cross_sectional</th>\n      <th>cleaned_text</th>\n      <th>date</th>\n      <th>date_secondprocess</th>\n      <th>date_thirdprocess</th>\n      <th>date_hk</th>\n    </tr>\n  </thead>\n  <tbody>\n    <tr>\n      <th>1246</th>\n      <td>Sun May 08 19:42:57 +0000 2016</td>\n      <td>7.290000e+17</td>\n      <td>en</td>\n      <td>22.280900</td>\n      <td>114.178000</td>\n      <td>Thanks again Hong Kong &lt;ed&gt;&lt;U+00A0&gt;&lt;U+00BC&gt;&lt;ed...</td>\n      <td>Abu Dhabi</td>\n      <td>False</td>\n      <td>https://t.co/TRE2EaWvgv</td>\n      <td>Fri Dec 05 03:50:04 +0000 2008</td>\n      <td>...</td>\n      <td>en</td>\n      <td>NaN</td>\n      <td>False</td>\n      <td>135</td>\n      <td>135</td>\n      <td>thanks again hong kong for more great to this ...</td>\n      <td>2016-05-08 19:42:57+00:00</td>\n      <td>2016-05-08 19:42:57</td>\n      <td>2016-05-08 19:42:57</td>\n      <td>2016-05-08 23:42:57</td>\n    </tr>\n    <tr>\n      <th>1254</th>\n      <td>Sun May 08 21:20:20 +0000 2016</td>\n      <td>7.290000e+17</td>\n      <td>en</td>\n      <td>22.314882</td>\n      <td>113.933372</td>\n      <td>It's that time again! &lt;U+2708&gt;&lt;U+FE0F&gt; #HongKo...</td>\n      <td>Abu Dhabi</td>\n      <td>False</td>\n      <td>https://t.co/vT7Ig26Toy</td>\n      <td>Fri Dec 05 03:50:04 +0000 2008</td>\n      <td>...</td>\n      <td>en</td>\n      <td>NaN</td>\n      <td>False</td>\n      <td>951</td>\n      <td>950 - 951</td>\n      <td>it s that time again u number u hong kong taxi...</td>\n      <td>2016-05-08 21:20:20+00:00</td>\n      <td>2016-05-08 21:20:20</td>\n      <td>2016-05-08 21:20:20</td>\n      <td>2016-05-09 01:20:20</td>\n    </tr>\n    <tr>\n      <th>3007</th>\n      <td>Thu May 12 08:04:44 +0000 2016</td>\n      <td>7.310000e+17</td>\n      <td>en</td>\n      <td>22.280900</td>\n      <td>114.178000</td>\n      <td>Static | Behaviour \\r\\r\\r\\r\\r\\r\\r\\r\\n\\r\\r\\r\\r\\...</td>\n      <td>Abu Dhabi</td>\n      <td>False</td>\n      <td>https://t.co/eDeDOSdZ98</td>\n      <td>Sun Sep 04 11:14:07 +0000 2011</td>\n      <td>...</td>\n      <td>en</td>\n      <td>NaN</td>\n      <td>False</td>\n      <td>135</td>\n      <td>135</td>\n      <td>static behaviour china hong kong explore touri...</td>\n      <td>2016-05-12 08:04:44+00:00</td>\n      <td>2016-05-12 08:04:44</td>\n      <td>2016-05-12 08:04:44</td>\n      <td>2016-05-12 12:04:44</td>\n    </tr>\n    <tr>\n      <th>3715</th>\n      <td>Fri May 13 09:07:09 +0000 2016</td>\n      <td>7.310000e+17</td>\n      <td>en</td>\n      <td>22.339341</td>\n      <td>114.204015</td>\n      <td>The Nan lian garden at Diamond Hill in Hong Ko...</td>\n      <td>Abu Dhabi</td>\n      <td>False</td>\n      <td>https://t.co/UIu8LKGJR5</td>\n      <td>Tue Sep 28 10:15:24 +0000 2010</td>\n      <td>...</td>\n      <td>en</td>\n      <td>NaN</td>\n      <td>False</td>\n      <td>281</td>\n      <td>281</td>\n      <td>the nan garden at diamond hill in hong kong a ...</td>\n      <td>2016-05-13 09:07:09+00:00</td>\n      <td>2016-05-13 09:07:09</td>\n      <td>2016-05-13 09:07:09</td>\n      <td>2016-05-13 13:07:09</td>\n    </tr>\n    <tr>\n      <th>4297</th>\n      <td>Sat May 14 06:37:43 +0000 2016</td>\n      <td>7.310000e+17</td>\n      <td>en</td>\n      <td>22.313420</td>\n      <td>114.043526</td>\n      <td>Advance birthday treat from my sister. &lt;U+2764...</td>\n      <td>Abu Dhabi</td>\n      <td>False</td>\n      <td>https://t.co/KIIE6Twnx4</td>\n      <td>Mon Sep 14 19:15:36 +0000 2009</td>\n      <td>...</td>\n      <td>en</td>\n      <td>NaN</td>\n      <td>False</td>\n      <td>973</td>\n      <td>971 - 974</td>\n      <td>advance birthday treat from my sister u number...</td>\n      <td>2016-05-14 06:37:43+00:00</td>\n      <td>2016-05-14 06:37:43</td>\n      <td>2016-05-14 06:37:43</td>\n      <td>2016-05-14 10:37:43</td>\n    </tr>\n  </tbody>\n</table>\n<p>5 rows × 21 columns</p>\n</div>"
     },
     "execution_count": 113,
     "metadata": {},
     "output_type": "execute_result"
    }
   ],
   "source": [
    "result_v1.head(5)"
   ],
   "metadata": {
    "collapsed": false
   }
  },
  {
   "cell_type": "code",
   "execution_count": 114,
   "outputs": [
    {
     "data": {
      "text/plain": "             id_str            lat            lon   user_id_str  \\\ncount  2.854350e+05  285435.000000  285435.000000  2.854350e+05   \nmean   8.497650e+17      22.304599     114.136113  4.468563e+15   \nstd    7.568466e+16       0.041775       0.084787  5.935306e+16   \nmin    7.290000e+17      22.155776     113.851093  8.530000e+02   \n25%    7.870000e+17      22.280900     114.144328  3.933772e+07   \n50%    8.420000e+17      22.294134     114.168716  1.037768e+08   \n75%    9.140000e+17      22.314954     114.178000  2.935840e+08   \nmax    1.000000e+18      22.557560     114.430556  9.404490e+17   \n\n       TPU_longitudinal  \ncount     285435.000000  \nmean         353.322487  \nstd          311.618140  \nmin          111.000000  \n25%          135.000000  \n50%          212.000000  \n75%          424.000000  \nmax          976.000000  ",
      "text/html": "<div>\n<style scoped>\n    .dataframe tbody tr th:only-of-type {\n        vertical-align: middle;\n    }\n\n    .dataframe tbody tr th {\n        vertical-align: top;\n    }\n\n    .dataframe thead th {\n        text-align: right;\n    }\n</style>\n<table border=\"1\" class=\"dataframe\">\n  <thead>\n    <tr style=\"text-align: right;\">\n      <th></th>\n      <th>id_str</th>\n      <th>lat</th>\n      <th>lon</th>\n      <th>user_id_str</th>\n      <th>TPU_longitudinal</th>\n    </tr>\n  </thead>\n  <tbody>\n    <tr>\n      <th>count</th>\n      <td>2.854350e+05</td>\n      <td>285435.000000</td>\n      <td>285435.000000</td>\n      <td>2.854350e+05</td>\n      <td>285435.000000</td>\n    </tr>\n    <tr>\n      <th>mean</th>\n      <td>8.497650e+17</td>\n      <td>22.304599</td>\n      <td>114.136113</td>\n      <td>4.468563e+15</td>\n      <td>353.322487</td>\n    </tr>\n    <tr>\n      <th>std</th>\n      <td>7.568466e+16</td>\n      <td>0.041775</td>\n      <td>0.084787</td>\n      <td>5.935306e+16</td>\n      <td>311.618140</td>\n    </tr>\n    <tr>\n      <th>min</th>\n      <td>7.290000e+17</td>\n      <td>22.155776</td>\n      <td>113.851093</td>\n      <td>8.530000e+02</td>\n      <td>111.000000</td>\n    </tr>\n    <tr>\n      <th>25%</th>\n      <td>7.870000e+17</td>\n      <td>22.280900</td>\n      <td>114.144328</td>\n      <td>3.933772e+07</td>\n      <td>135.000000</td>\n    </tr>\n    <tr>\n      <th>50%</th>\n      <td>8.420000e+17</td>\n      <td>22.294134</td>\n      <td>114.168716</td>\n      <td>1.037768e+08</td>\n      <td>212.000000</td>\n    </tr>\n    <tr>\n      <th>75%</th>\n      <td>9.140000e+17</td>\n      <td>22.314954</td>\n      <td>114.178000</td>\n      <td>2.935840e+08</td>\n      <td>424.000000</td>\n    </tr>\n    <tr>\n      <th>max</th>\n      <td>1.000000e+18</td>\n      <td>22.557560</td>\n      <td>114.430556</td>\n      <td>9.404490e+17</td>\n      <td>976.000000</td>\n    </tr>\n  </tbody>\n</table>\n</div>"
     },
     "execution_count": 114,
     "metadata": {},
     "output_type": "execute_result"
    }
   ],
   "source": [
    "result_v1.describe()"
   ],
   "metadata": {
    "collapsed": false
   }
  },
  {
   "cell_type": "code",
   "execution_count": 115,
   "outputs": [],
   "source": [
    "result_v1.to_csv('D:\\\\RA-Tasks\\\\1 Graph neural network_POI\\\\Task1\\\\Process\\\\result_v1.csv')"
   ],
   "metadata": {
    "collapsed": false
   }
  },
  {
   "cell_type": "code",
   "execution_count": 117,
   "outputs": [
    {
     "name": "stderr",
     "output_type": "stream",
     "text": [
      "C:\\Users\\user\\AppData\\Local\\Temp\\ipykernel_1516\\1511604115.py:2: SettingWithCopyWarning: \n",
      "A value is trying to be set on a copy of a slice from a DataFrame.\n",
      "Try using .loc[row_indexer,col_indexer] = value instead\n",
      "\n",
      "See the caveats in the documentation: https://pandas.pydata.org/pandas-docs/stable/user_guide/indexing.html#returning-a-view-versus-a-copy\n",
      "  df176['date_hk'] = df176['date_thirdprocess']\n"
     ]
    }
   ],
   "source": [
    "df176=df[df['time_zone'].isnull()]\n",
    "df176['date_hk'] = df176['date_thirdprocess']"
   ],
   "metadata": {
    "collapsed": false
   }
  },
  {
   "cell_type": "code",
   "execution_count": 118,
   "outputs": [],
   "source": [
    "frames=[df1,df2,df3,df4,df5,df6,df7,df8,df9,df10,df11,df12,df13,df14,df15,df16,df17,df18,df19,df20,df21,df22,df23,df24,df25,df26,df27,df28,df29,df30,df31,df32,df33,df34,df35,df36,df37,df38,df39,df40,df41,df42,df43,df44,df45,df46,df47,df48,df49,df50,df51,df52,df53,df54,df55,df56,df57,df58,df59,df60,df61,df62,df63,df64,df65,df66,df67,df68,df69,df70,df71,df72,df73,df74,df75,df76,df77,df78,df79,df80,df81,df82,df83,df84,df85,df86,df87,df88,df89,df90,df91,df92,df93,df94,df95,df96,df97,df98,df99,df100,df101,df102,df103,df104,df105,df106,df107,df108,df109,df110,df111,df112,df113,df114,df115,df116,df117,df118,df119,df120,df121,df122,df123,df124,df125,df126,df127,df128,df129,df130,df131,df132,df133,df134,df135,df136,df137,df138,df139,df140,df141,df142,df143,df144,df145,df146,df147,df148,df149,df150,df151,df152,df153,df154,df155,df156,df157,df158,df159,df160,df161,df162,df163,df164,df165,df166,df167,df168,df169,df170,df171,df172,df173,df174,df175,df176]"
   ],
   "metadata": {
    "collapsed": false
   }
  },
  {
   "cell_type": "code",
   "execution_count": 119,
   "outputs": [],
   "source": [
    "result_v2=pd.concat(frames)"
   ],
   "metadata": {
    "collapsed": false
   }
  },
  {
   "cell_type": "code",
   "execution_count": 120,
   "outputs": [],
   "source": [
    "result_v2.to_csv('D:\\\\RA-Tasks\\\\1 Graph neural network_POI\\\\Task1\\\\Process\\\\result_v2.csv')"
   ],
   "metadata": {
    "collapsed": false
   }
  },
  {
   "cell_type": "code",
   "execution_count": 121,
   "outputs": [
    {
     "ename": "AttributeError",
     "evalue": "'Series' object has no attribute 'year'",
     "output_type": "error",
     "traceback": [
      "\u001B[1;31m---------------------------------------------------------------------------\u001B[0m",
      "\u001B[1;31mAttributeError\u001B[0m                            Traceback (most recent call last)",
      "Cell \u001B[1;32mIn[121], line 1\u001B[0m\n\u001B[1;32m----> 1\u001B[0m result_v2[\u001B[38;5;124m'\u001B[39m\u001B[38;5;124myear\u001B[39m\u001B[38;5;124m'\u001B[39m]\u001B[38;5;241m=\u001B[39m\u001B[43mresult_v2\u001B[49m\u001B[43m[\u001B[49m\u001B[38;5;124;43m'\u001B[39;49m\u001B[38;5;124;43mdate_hk\u001B[39;49m\u001B[38;5;124;43m'\u001B[39;49m\u001B[43m]\u001B[49m\u001B[38;5;241;43m.\u001B[39;49m\u001B[43myear\u001B[49m\n",
      "File \u001B[1;32mD:\\Projetcs\\lib\\site-packages\\pandas\\core\\generic.py:5902\u001B[0m, in \u001B[0;36mNDFrame.__getattr__\u001B[1;34m(self, name)\u001B[0m\n\u001B[0;32m   5895\u001B[0m \u001B[38;5;28;01mif\u001B[39;00m (\n\u001B[0;32m   5896\u001B[0m     name \u001B[38;5;129;01mnot\u001B[39;00m \u001B[38;5;129;01min\u001B[39;00m \u001B[38;5;28mself\u001B[39m\u001B[38;5;241m.\u001B[39m_internal_names_set\n\u001B[0;32m   5897\u001B[0m     \u001B[38;5;129;01mand\u001B[39;00m name \u001B[38;5;129;01mnot\u001B[39;00m \u001B[38;5;129;01min\u001B[39;00m \u001B[38;5;28mself\u001B[39m\u001B[38;5;241m.\u001B[39m_metadata\n\u001B[0;32m   5898\u001B[0m     \u001B[38;5;129;01mand\u001B[39;00m name \u001B[38;5;129;01mnot\u001B[39;00m \u001B[38;5;129;01min\u001B[39;00m \u001B[38;5;28mself\u001B[39m\u001B[38;5;241m.\u001B[39m_accessors\n\u001B[0;32m   5899\u001B[0m     \u001B[38;5;129;01mand\u001B[39;00m \u001B[38;5;28mself\u001B[39m\u001B[38;5;241m.\u001B[39m_info_axis\u001B[38;5;241m.\u001B[39m_can_hold_identifiers_and_holds_name(name)\n\u001B[0;32m   5900\u001B[0m ):\n\u001B[0;32m   5901\u001B[0m     \u001B[38;5;28;01mreturn\u001B[39;00m \u001B[38;5;28mself\u001B[39m[name]\n\u001B[1;32m-> 5902\u001B[0m \u001B[38;5;28;01mreturn\u001B[39;00m \u001B[38;5;28;43mobject\u001B[39;49m\u001B[38;5;241;43m.\u001B[39;49m\u001B[38;5;21;43m__getattribute__\u001B[39;49m\u001B[43m(\u001B[49m\u001B[38;5;28;43mself\u001B[39;49m\u001B[43m,\u001B[49m\u001B[43m \u001B[49m\u001B[43mname\u001B[49m\u001B[43m)\u001B[49m\n",
      "\u001B[1;31mAttributeError\u001B[0m: 'Series' object has no attribute 'year'"
     ]
    }
   ],
   "source": [
    "result_v2['year']=result_v2['date_hk'].year"
   ],
   "metadata": {
    "collapsed": false
   }
  },
  {
   "cell_type": "code",
   "execution_count": 122,
   "outputs": [],
   "source": [
    "date_hk_col=pd.DatetimeIndex(result_v2['date_hk'])"
   ],
   "metadata": {
    "collapsed": false
   }
  },
  {
   "cell_type": "code",
   "execution_count": 123,
   "outputs": [],
   "source": [
    "result_v2['year']=date_hk_col.year"
   ],
   "metadata": {
    "collapsed": false
   }
  },
  {
   "cell_type": "code",
   "execution_count": 124,
   "outputs": [],
   "source": [
    "result_v2['month']=date_hk_col.month"
   ],
   "metadata": {
    "collapsed": false
   }
  },
  {
   "cell_type": "code",
   "execution_count": 125,
   "outputs": [],
   "source": [
    "result_v2['day']=date_hk_col.day"
   ],
   "metadata": {
    "collapsed": false
   }
  },
  {
   "cell_type": "code",
   "execution_count": 126,
   "outputs": [
    {
     "data": {
      "text/plain": "                          created_at        id_str lang        lat  \\\n1246  Sun May 08 19:42:57 +0000 2016  7.290000e+17   en  22.280900   \n1254  Sun May 08 21:20:20 +0000 2016  7.290000e+17   en  22.314882   \n3007  Thu May 12 08:04:44 +0000 2016  7.310000e+17   en  22.280900   \n3715  Fri May 13 09:07:09 +0000 2016  7.310000e+17   en  22.339341   \n4297  Sat May 14 06:37:43 +0000 2016  7.310000e+17   en  22.313420   \n\n             lon                                               text  \\\n1246  114.178000  Thanks again Hong Kong <ed><U+00A0><U+00BC><ed...   \n1254  113.933372  It's that time again! <U+2708><U+FE0F> #HongKo...   \n3007  114.178000  Static | Behaviour \\r\\r\\r\\r\\r\\r\\r\\r\\n\\r\\r\\r\\r\\...   \n3715  114.204015  The Nan lian garden at Diamond Hill in Hong Ko...   \n4297  114.043526  Advance birthday treat from my sister. <U+2764...   \n\n      time_zone  truncated                      url  \\\n1246  Abu Dhabi      False  https://t.co/TRE2EaWvgv   \n1254  Abu Dhabi      False  https://t.co/vT7Ig26Toy   \n3007  Abu Dhabi      False  https://t.co/eDeDOSdZ98   \n3715  Abu Dhabi      False  https://t.co/UIu8LKGJR5   \n4297  Abu Dhabi      False  https://t.co/KIIE6Twnx4   \n\n                     user_created_at  ...  TPU_longitudinal  \\\n1246  Fri Dec 05 03:50:04 +0000 2008  ...               135   \n1254  Fri Dec 05 03:50:04 +0000 2008  ...               951   \n3007  Sun Sep 04 11:14:07 +0000 2011  ...               135   \n3715  Tue Sep 28 10:15:24 +0000 2010  ...               281   \n4297  Mon Sep 14 19:15:36 +0000 2009  ...               973   \n\n     TPU_cross_sectional                                       cleaned_text  \\\n1246                 135  thanks again hong kong for more great to this ...   \n1254           950 - 951  it s that time again u number u hong kong taxi...   \n3007                 135  static behaviour china hong kong explore touri...   \n3715                 281  the nan garden at diamond hill in hong kong a ...   \n4297           971 - 974  advance birthday treat from my sister u number...   \n\n                           date   date_secondprocess   date_thirdprocess  \\\n1246  2016-05-08 19:42:57+00:00  2016-05-08 19:42:57 2016-05-08 19:42:57   \n1254  2016-05-08 21:20:20+00:00  2016-05-08 21:20:20 2016-05-08 21:20:20   \n3007  2016-05-12 08:04:44+00:00  2016-05-12 08:04:44 2016-05-12 08:04:44   \n3715  2016-05-13 09:07:09+00:00  2016-05-13 09:07:09 2016-05-13 09:07:09   \n4297  2016-05-14 06:37:43+00:00  2016-05-14 06:37:43 2016-05-14 06:37:43   \n\n                 date_hk  year month day  \n1246 2016-05-08 23:42:57  2016     5   8  \n1254 2016-05-09 01:20:20  2016     5   9  \n3007 2016-05-12 12:04:44  2016     5  12  \n3715 2016-05-13 13:07:09  2016     5  13  \n4297 2016-05-14 10:37:43  2016     5  14  \n\n[5 rows x 24 columns]",
      "text/html": "<div>\n<style scoped>\n    .dataframe tbody tr th:only-of-type {\n        vertical-align: middle;\n    }\n\n    .dataframe tbody tr th {\n        vertical-align: top;\n    }\n\n    .dataframe thead th {\n        text-align: right;\n    }\n</style>\n<table border=\"1\" class=\"dataframe\">\n  <thead>\n    <tr style=\"text-align: right;\">\n      <th></th>\n      <th>created_at</th>\n      <th>id_str</th>\n      <th>lang</th>\n      <th>lat</th>\n      <th>lon</th>\n      <th>text</th>\n      <th>time_zone</th>\n      <th>truncated</th>\n      <th>url</th>\n      <th>user_created_at</th>\n      <th>...</th>\n      <th>TPU_longitudinal</th>\n      <th>TPU_cross_sectional</th>\n      <th>cleaned_text</th>\n      <th>date</th>\n      <th>date_secondprocess</th>\n      <th>date_thirdprocess</th>\n      <th>date_hk</th>\n      <th>year</th>\n      <th>month</th>\n      <th>day</th>\n    </tr>\n  </thead>\n  <tbody>\n    <tr>\n      <th>1246</th>\n      <td>Sun May 08 19:42:57 +0000 2016</td>\n      <td>7.290000e+17</td>\n      <td>en</td>\n      <td>22.280900</td>\n      <td>114.178000</td>\n      <td>Thanks again Hong Kong &lt;ed&gt;&lt;U+00A0&gt;&lt;U+00BC&gt;&lt;ed...</td>\n      <td>Abu Dhabi</td>\n      <td>False</td>\n      <td>https://t.co/TRE2EaWvgv</td>\n      <td>Fri Dec 05 03:50:04 +0000 2008</td>\n      <td>...</td>\n      <td>135</td>\n      <td>135</td>\n      <td>thanks again hong kong for more great to this ...</td>\n      <td>2016-05-08 19:42:57+00:00</td>\n      <td>2016-05-08 19:42:57</td>\n      <td>2016-05-08 19:42:57</td>\n      <td>2016-05-08 23:42:57</td>\n      <td>2016</td>\n      <td>5</td>\n      <td>8</td>\n    </tr>\n    <tr>\n      <th>1254</th>\n      <td>Sun May 08 21:20:20 +0000 2016</td>\n      <td>7.290000e+17</td>\n      <td>en</td>\n      <td>22.314882</td>\n      <td>113.933372</td>\n      <td>It's that time again! &lt;U+2708&gt;&lt;U+FE0F&gt; #HongKo...</td>\n      <td>Abu Dhabi</td>\n      <td>False</td>\n      <td>https://t.co/vT7Ig26Toy</td>\n      <td>Fri Dec 05 03:50:04 +0000 2008</td>\n      <td>...</td>\n      <td>951</td>\n      <td>950 - 951</td>\n      <td>it s that time again u number u hong kong taxi...</td>\n      <td>2016-05-08 21:20:20+00:00</td>\n      <td>2016-05-08 21:20:20</td>\n      <td>2016-05-08 21:20:20</td>\n      <td>2016-05-09 01:20:20</td>\n      <td>2016</td>\n      <td>5</td>\n      <td>9</td>\n    </tr>\n    <tr>\n      <th>3007</th>\n      <td>Thu May 12 08:04:44 +0000 2016</td>\n      <td>7.310000e+17</td>\n      <td>en</td>\n      <td>22.280900</td>\n      <td>114.178000</td>\n      <td>Static | Behaviour \\r\\r\\r\\r\\r\\r\\r\\r\\n\\r\\r\\r\\r\\...</td>\n      <td>Abu Dhabi</td>\n      <td>False</td>\n      <td>https://t.co/eDeDOSdZ98</td>\n      <td>Sun Sep 04 11:14:07 +0000 2011</td>\n      <td>...</td>\n      <td>135</td>\n      <td>135</td>\n      <td>static behaviour china hong kong explore touri...</td>\n      <td>2016-05-12 08:04:44+00:00</td>\n      <td>2016-05-12 08:04:44</td>\n      <td>2016-05-12 08:04:44</td>\n      <td>2016-05-12 12:04:44</td>\n      <td>2016</td>\n      <td>5</td>\n      <td>12</td>\n    </tr>\n    <tr>\n      <th>3715</th>\n      <td>Fri May 13 09:07:09 +0000 2016</td>\n      <td>7.310000e+17</td>\n      <td>en</td>\n      <td>22.339341</td>\n      <td>114.204015</td>\n      <td>The Nan lian garden at Diamond Hill in Hong Ko...</td>\n      <td>Abu Dhabi</td>\n      <td>False</td>\n      <td>https://t.co/UIu8LKGJR5</td>\n      <td>Tue Sep 28 10:15:24 +0000 2010</td>\n      <td>...</td>\n      <td>281</td>\n      <td>281</td>\n      <td>the nan garden at diamond hill in hong kong a ...</td>\n      <td>2016-05-13 09:07:09+00:00</td>\n      <td>2016-05-13 09:07:09</td>\n      <td>2016-05-13 09:07:09</td>\n      <td>2016-05-13 13:07:09</td>\n      <td>2016</td>\n      <td>5</td>\n      <td>13</td>\n    </tr>\n    <tr>\n      <th>4297</th>\n      <td>Sat May 14 06:37:43 +0000 2016</td>\n      <td>7.310000e+17</td>\n      <td>en</td>\n      <td>22.313420</td>\n      <td>114.043526</td>\n      <td>Advance birthday treat from my sister. &lt;U+2764...</td>\n      <td>Abu Dhabi</td>\n      <td>False</td>\n      <td>https://t.co/KIIE6Twnx4</td>\n      <td>Mon Sep 14 19:15:36 +0000 2009</td>\n      <td>...</td>\n      <td>973</td>\n      <td>971 - 974</td>\n      <td>advance birthday treat from my sister u number...</td>\n      <td>2016-05-14 06:37:43+00:00</td>\n      <td>2016-05-14 06:37:43</td>\n      <td>2016-05-14 06:37:43</td>\n      <td>2016-05-14 10:37:43</td>\n      <td>2016</td>\n      <td>5</td>\n      <td>14</td>\n    </tr>\n  </tbody>\n</table>\n<p>5 rows × 24 columns</p>\n</div>"
     },
     "execution_count": 126,
     "metadata": {},
     "output_type": "execute_result"
    }
   ],
   "source": [
    "result_v2.head(5)"
   ],
   "metadata": {
    "collapsed": false
   }
  },
  {
   "cell_type": "code",
   "execution_count": null,
   "outputs": [],
   "source": [],
   "metadata": {
    "collapsed": false
   }
  },
  {
   "cell_type": "code",
   "execution_count": 127,
   "outputs": [],
   "source": [
    "result_v2['hour']=date_hk_col.hour"
   ],
   "metadata": {
    "collapsed": false
   }
  },
  {
   "cell_type": "code",
   "execution_count": 128,
   "outputs": [
    {
     "data": {
      "text/plain": "                          created_at        id_str lang        lat  \\\n1246  Sun May 08 19:42:57 +0000 2016  7.290000e+17   en  22.280900   \n1254  Sun May 08 21:20:20 +0000 2016  7.290000e+17   en  22.314882   \n3007  Thu May 12 08:04:44 +0000 2016  7.310000e+17   en  22.280900   \n3715  Fri May 13 09:07:09 +0000 2016  7.310000e+17   en  22.339341   \n4297  Sat May 14 06:37:43 +0000 2016  7.310000e+17   en  22.313420   \n\n             lon                                               text  \\\n1246  114.178000  Thanks again Hong Kong <ed><U+00A0><U+00BC><ed...   \n1254  113.933372  It's that time again! <U+2708><U+FE0F> #HongKo...   \n3007  114.178000  Static | Behaviour \\r\\r\\r\\r\\r\\r\\r\\r\\n\\r\\r\\r\\r\\...   \n3715  114.204015  The Nan lian garden at Diamond Hill in Hong Ko...   \n4297  114.043526  Advance birthday treat from my sister. <U+2764...   \n\n      time_zone  truncated                      url  \\\n1246  Abu Dhabi      False  https://t.co/TRE2EaWvgv   \n1254  Abu Dhabi      False  https://t.co/vT7Ig26Toy   \n3007  Abu Dhabi      False  https://t.co/eDeDOSdZ98   \n3715  Abu Dhabi      False  https://t.co/UIu8LKGJR5   \n4297  Abu Dhabi      False  https://t.co/KIIE6Twnx4   \n\n                     user_created_at  ...  TPU_cross_sectional  \\\n1246  Fri Dec 05 03:50:04 +0000 2008  ...                  135   \n1254  Fri Dec 05 03:50:04 +0000 2008  ...            950 - 951   \n3007  Sun Sep 04 11:14:07 +0000 2011  ...                  135   \n3715  Tue Sep 28 10:15:24 +0000 2010  ...                  281   \n4297  Mon Sep 14 19:15:36 +0000 2009  ...            971 - 974   \n\n                                           cleaned_text  \\\n1246  thanks again hong kong for more great to this ...   \n1254  it s that time again u number u hong kong taxi...   \n3007  static behaviour china hong kong explore touri...   \n3715  the nan garden at diamond hill in hong kong a ...   \n4297  advance birthday treat from my sister u number...   \n\n                           date   date_secondprocess   date_thirdprocess  \\\n1246  2016-05-08 19:42:57+00:00  2016-05-08 19:42:57 2016-05-08 19:42:57   \n1254  2016-05-08 21:20:20+00:00  2016-05-08 21:20:20 2016-05-08 21:20:20   \n3007  2016-05-12 08:04:44+00:00  2016-05-12 08:04:44 2016-05-12 08:04:44   \n3715  2016-05-13 09:07:09+00:00  2016-05-13 09:07:09 2016-05-13 09:07:09   \n4297  2016-05-14 06:37:43+00:00  2016-05-14 06:37:43 2016-05-14 06:37:43   \n\n                 date_hk  year month day hour  \n1246 2016-05-08 23:42:57  2016     5   8   23  \n1254 2016-05-09 01:20:20  2016     5   9    1  \n3007 2016-05-12 12:04:44  2016     5  12   12  \n3715 2016-05-13 13:07:09  2016     5  13   13  \n4297 2016-05-14 10:37:43  2016     5  14   10  \n\n[5 rows x 25 columns]",
      "text/html": "<div>\n<style scoped>\n    .dataframe tbody tr th:only-of-type {\n        vertical-align: middle;\n    }\n\n    .dataframe tbody tr th {\n        vertical-align: top;\n    }\n\n    .dataframe thead th {\n        text-align: right;\n    }\n</style>\n<table border=\"1\" class=\"dataframe\">\n  <thead>\n    <tr style=\"text-align: right;\">\n      <th></th>\n      <th>created_at</th>\n      <th>id_str</th>\n      <th>lang</th>\n      <th>lat</th>\n      <th>lon</th>\n      <th>text</th>\n      <th>time_zone</th>\n      <th>truncated</th>\n      <th>url</th>\n      <th>user_created_at</th>\n      <th>...</th>\n      <th>TPU_cross_sectional</th>\n      <th>cleaned_text</th>\n      <th>date</th>\n      <th>date_secondprocess</th>\n      <th>date_thirdprocess</th>\n      <th>date_hk</th>\n      <th>year</th>\n      <th>month</th>\n      <th>day</th>\n      <th>hour</th>\n    </tr>\n  </thead>\n  <tbody>\n    <tr>\n      <th>1246</th>\n      <td>Sun May 08 19:42:57 +0000 2016</td>\n      <td>7.290000e+17</td>\n      <td>en</td>\n      <td>22.280900</td>\n      <td>114.178000</td>\n      <td>Thanks again Hong Kong &lt;ed&gt;&lt;U+00A0&gt;&lt;U+00BC&gt;&lt;ed...</td>\n      <td>Abu Dhabi</td>\n      <td>False</td>\n      <td>https://t.co/TRE2EaWvgv</td>\n      <td>Fri Dec 05 03:50:04 +0000 2008</td>\n      <td>...</td>\n      <td>135</td>\n      <td>thanks again hong kong for more great to this ...</td>\n      <td>2016-05-08 19:42:57+00:00</td>\n      <td>2016-05-08 19:42:57</td>\n      <td>2016-05-08 19:42:57</td>\n      <td>2016-05-08 23:42:57</td>\n      <td>2016</td>\n      <td>5</td>\n      <td>8</td>\n      <td>23</td>\n    </tr>\n    <tr>\n      <th>1254</th>\n      <td>Sun May 08 21:20:20 +0000 2016</td>\n      <td>7.290000e+17</td>\n      <td>en</td>\n      <td>22.314882</td>\n      <td>113.933372</td>\n      <td>It's that time again! &lt;U+2708&gt;&lt;U+FE0F&gt; #HongKo...</td>\n      <td>Abu Dhabi</td>\n      <td>False</td>\n      <td>https://t.co/vT7Ig26Toy</td>\n      <td>Fri Dec 05 03:50:04 +0000 2008</td>\n      <td>...</td>\n      <td>950 - 951</td>\n      <td>it s that time again u number u hong kong taxi...</td>\n      <td>2016-05-08 21:20:20+00:00</td>\n      <td>2016-05-08 21:20:20</td>\n      <td>2016-05-08 21:20:20</td>\n      <td>2016-05-09 01:20:20</td>\n      <td>2016</td>\n      <td>5</td>\n      <td>9</td>\n      <td>1</td>\n    </tr>\n    <tr>\n      <th>3007</th>\n      <td>Thu May 12 08:04:44 +0000 2016</td>\n      <td>7.310000e+17</td>\n      <td>en</td>\n      <td>22.280900</td>\n      <td>114.178000</td>\n      <td>Static | Behaviour \\r\\r\\r\\r\\r\\r\\r\\r\\n\\r\\r\\r\\r\\...</td>\n      <td>Abu Dhabi</td>\n      <td>False</td>\n      <td>https://t.co/eDeDOSdZ98</td>\n      <td>Sun Sep 04 11:14:07 +0000 2011</td>\n      <td>...</td>\n      <td>135</td>\n      <td>static behaviour china hong kong explore touri...</td>\n      <td>2016-05-12 08:04:44+00:00</td>\n      <td>2016-05-12 08:04:44</td>\n      <td>2016-05-12 08:04:44</td>\n      <td>2016-05-12 12:04:44</td>\n      <td>2016</td>\n      <td>5</td>\n      <td>12</td>\n      <td>12</td>\n    </tr>\n    <tr>\n      <th>3715</th>\n      <td>Fri May 13 09:07:09 +0000 2016</td>\n      <td>7.310000e+17</td>\n      <td>en</td>\n      <td>22.339341</td>\n      <td>114.204015</td>\n      <td>The Nan lian garden at Diamond Hill in Hong Ko...</td>\n      <td>Abu Dhabi</td>\n      <td>False</td>\n      <td>https://t.co/UIu8LKGJR5</td>\n      <td>Tue Sep 28 10:15:24 +0000 2010</td>\n      <td>...</td>\n      <td>281</td>\n      <td>the nan garden at diamond hill in hong kong a ...</td>\n      <td>2016-05-13 09:07:09+00:00</td>\n      <td>2016-05-13 09:07:09</td>\n      <td>2016-05-13 09:07:09</td>\n      <td>2016-05-13 13:07:09</td>\n      <td>2016</td>\n      <td>5</td>\n      <td>13</td>\n      <td>13</td>\n    </tr>\n    <tr>\n      <th>4297</th>\n      <td>Sat May 14 06:37:43 +0000 2016</td>\n      <td>7.310000e+17</td>\n      <td>en</td>\n      <td>22.313420</td>\n      <td>114.043526</td>\n      <td>Advance birthday treat from my sister. &lt;U+2764...</td>\n      <td>Abu Dhabi</td>\n      <td>False</td>\n      <td>https://t.co/KIIE6Twnx4</td>\n      <td>Mon Sep 14 19:15:36 +0000 2009</td>\n      <td>...</td>\n      <td>971 - 974</td>\n      <td>advance birthday treat from my sister u number...</td>\n      <td>2016-05-14 06:37:43+00:00</td>\n      <td>2016-05-14 06:37:43</td>\n      <td>2016-05-14 06:37:43</td>\n      <td>2016-05-14 10:37:43</td>\n      <td>2016</td>\n      <td>5</td>\n      <td>14</td>\n      <td>10</td>\n    </tr>\n  </tbody>\n</table>\n<p>5 rows × 25 columns</p>\n</div>"
     },
     "execution_count": 128,
     "metadata": {},
     "output_type": "execute_result"
    }
   ],
   "source": [
    "result_v2.head(5)"
   ],
   "metadata": {
    "collapsed": false
   }
  },
  {
   "cell_type": "code",
   "execution_count": 129,
   "outputs": [],
   "source": [
    "result_v2.to_csv('D:\\\\RA-Tasks\\\\1 Graph neural network_POI\\\\Task1\\\\Process\\\\result_v2_1.csv')"
   ],
   "metadata": {
    "collapsed": false
   }
  },
  {
   "cell_type": "code",
   "execution_count": null,
   "outputs": [],
   "source": [],
   "metadata": {
    "collapsed": false
   }
  },
  {
   "cell_type": "code",
   "execution_count": null,
   "outputs": [],
   "source": [],
   "metadata": {
    "collapsed": false
   }
  }
 ],
 "metadata": {
  "kernelspec": {
   "display_name": "Python 3",
   "language": "python",
   "name": "python3"
  },
  "language_info": {
   "codemirror_mode": {
    "name": "ipython",
    "version": 2
   },
   "file_extension": ".py",
   "mimetype": "text/x-python",
   "name": "python",
   "nbconvert_exporter": "python",
   "pygments_lexer": "ipython2",
   "version": "2.7.6"
  }
 },
 "nbformat": 4,
 "nbformat_minor": 0
}
