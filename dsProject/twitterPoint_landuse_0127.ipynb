{
 "cells": [
  {
   "cell_type": "code",
   "execution_count": 1,
   "outputs": [
    {
     "name": "stderr",
     "output_type": "stream",
     "text": [
      "d:\\workspace\\python38\\lib\\site-packages\\geopandas\\_compat.py:123: UserWarning: The Shapely GEOS version (3.10.3-CAPI-1.16.1) is incompatible with the GEOS version PyGEOS was compiled with (3.10.4-CAPI-1.16.2). Conversions between both will be slow.\n",
      "  warnings.warn(\n"
     ]
    }
   ],
   "source": [
    "import pandas as pd\n",
    "import geopandas as gpd\n",
    "import matplotlib.pyplot as plt"
   ],
   "metadata": {
    "collapsed": false
   }
  },
  {
   "cell_type": "code",
   "execution_count": 2,
   "outputs": [],
   "source": [
    "zipfile=r\"D:\\GaoYunshu2023\\100011 HK-Work\\RA-project\\001 Task description\\Task1\\Process\\twitterPoint_final.shp\""
   ],
   "metadata": {
    "collapsed": false
   }
  },
  {
   "cell_type": "code",
   "execution_count": 3,
   "outputs": [],
   "source": [
    "df=gpd.read_file(zipfile)"
   ],
   "metadata": {
    "collapsed": false
   }
  },
  {
   "cell_type": "code",
   "execution_count": 4,
   "outputs": [
    {
     "name": "stderr",
     "output_type": "stream",
     "text": [
      "C:\\Users\\GAOYUN~1\\AppData\\Local\\Temp/ipykernel_3732/2164982482.py:2: DtypeWarning: Columns (7) have mixed types. Specify dtype option on import or set low_memory=False.\n",
      "  df2=pd.read_csv(r\"D:\\GaoYunshu2023\\100011 HK-Work\\RA-project\\001 Task description\\Task1\\result_v2.csv\")\n"
     ]
    }
   ],
   "source": [
    "df1=df[['OBJECTID_1','Field1','created_at','id_str','lang','time_zone','LanduseTyp','geometry']]\n",
    "df2=pd.read_csv(r\"D:\\GaoYunshu2023\\100011 HK-Work\\RA-project\\001 Task description\\Task1\\result_v2.csv\")"
   ],
   "metadata": {
    "collapsed": false
   }
  },
  {
   "cell_type": "code",
   "execution_count": 5,
   "outputs": [],
   "source": [
    "df2.rename(columns={df2.columns[0]: \"Field1\" }, inplace = True)"
   ],
   "metadata": {
    "collapsed": false
   }
  },
  {
   "cell_type": "code",
   "execution_count": 6,
   "outputs": [],
   "source": [
    "df3 = pd.merge(df1, df2, on='Field1', how='inner')"
   ],
   "metadata": {
    "collapsed": false
   }
  },
  {
   "cell_type": "code",
   "execution_count": 7,
   "outputs": [
    {
     "data": {
      "text/plain": "   OBJECTID_1  Field1                    created_at_x      id_str_x lang_x  \\\n0           1    1246  Sun May 08 19:42:57 +0000 2016  7.290000e+17     en   \n1           2    1254  Sun May 08 21:20:20 +0000 2016  7.290000e+17     en   \n2           3    3007  Thu May 12 08:04:44 +0000 2016  7.310000e+17     en   \n3           4    3715  Fri May 13 09:07:09 +0000 2016  7.310000e+17     en   \n4           5    4297  Sat May 14 06:37:43 +0000 2016  7.310000e+17     en   \n\n  time_zone_x  LanduseTyp                    geometry  \\\n0   Abu Dhabi           8  POINT (114.17800 22.28090)   \n1   Abu Dhabi         999  POINT (113.93337 22.31488)   \n2   Abu Dhabi           8  POINT (114.17800 22.28090)   \n3   Abu Dhabi           7  POINT (114.20402 22.33934)   \n4   Abu Dhabi           3  POINT (114.04353 22.31342)   \n\n                     created_at_y      id_str_y  ... user_lang  user_url  \\\n0  Sun May 08 19:42:57 +0000 2016  7.290000e+17  ...        en       NaN   \n1  Sun May 08 21:20:20 +0000 2016  7.290000e+17  ...        en       NaN   \n2  Thu May 12 08:04:44 +0000 2016  7.310000e+17  ...        en       NaN   \n3  Fri May 13 09:07:09 +0000 2016  7.310000e+17  ...        en       NaN   \n4  Sat May 14 06:37:43 +0000 2016  7.310000e+17  ...        en       NaN   \n\n   verified TPU_longitudinal TPU_cross_sectional  \\\n0     False              135                 135   \n1     False              951           950 - 951   \n2     False              135                 135   \n3     False              281                 281   \n4     False              973           971 - 974   \n\n                                        cleaned_text  \\\n0  thanks again hong kong for more great to this ...   \n1  it s that time again u number u hong kong taxi...   \n2  static behaviour china hong kong explore touri...   \n3  the nan garden at diamond hill in hong kong a ...   \n4  advance birthday treat from my sister u number...   \n\n                        date date_secondprocess  date_thirdprocess  \\\n0  2016-05-08 19:42:57+00:00     5/8/2016 19:42     5/8/2016 19:42   \n1  2016-05-08 21:20:20+00:00     5/8/2016 21:20     5/8/2016 21:20   \n2  2016-05-12 08:04:44+00:00     5/12/2016 8:04     5/12/2016 8:04   \n3  2016-05-13 09:07:09+00:00     5/13/2016 9:07     5/13/2016 9:07   \n4  2016-05-14 06:37:43+00:00     5/14/2016 6:37     5/14/2016 6:37   \n\n           date_hk  \n0   5/8/2016 23:42  \n1    5/9/2016 1:20  \n2  5/12/2016 12:04  \n3  5/13/2016 13:07  \n4  5/14/2016 10:37  \n\n[5 rows x 29 columns]",
      "text/html": "<div>\n<style scoped>\n    .dataframe tbody tr th:only-of-type {\n        vertical-align: middle;\n    }\n\n    .dataframe tbody tr th {\n        vertical-align: top;\n    }\n\n    .dataframe thead th {\n        text-align: right;\n    }\n</style>\n<table border=\"1\" class=\"dataframe\">\n  <thead>\n    <tr style=\"text-align: right;\">\n      <th></th>\n      <th>OBJECTID_1</th>\n      <th>Field1</th>\n      <th>created_at_x</th>\n      <th>id_str_x</th>\n      <th>lang_x</th>\n      <th>time_zone_x</th>\n      <th>LanduseTyp</th>\n      <th>geometry</th>\n      <th>created_at_y</th>\n      <th>id_str_y</th>\n      <th>...</th>\n      <th>user_lang</th>\n      <th>user_url</th>\n      <th>verified</th>\n      <th>TPU_longitudinal</th>\n      <th>TPU_cross_sectional</th>\n      <th>cleaned_text</th>\n      <th>date</th>\n      <th>date_secondprocess</th>\n      <th>date_thirdprocess</th>\n      <th>date_hk</th>\n    </tr>\n  </thead>\n  <tbody>\n    <tr>\n      <th>0</th>\n      <td>1</td>\n      <td>1246</td>\n      <td>Sun May 08 19:42:57 +0000 2016</td>\n      <td>7.290000e+17</td>\n      <td>en</td>\n      <td>Abu Dhabi</td>\n      <td>8</td>\n      <td>POINT (114.17800 22.28090)</td>\n      <td>Sun May 08 19:42:57 +0000 2016</td>\n      <td>7.290000e+17</td>\n      <td>...</td>\n      <td>en</td>\n      <td>NaN</td>\n      <td>False</td>\n      <td>135</td>\n      <td>135</td>\n      <td>thanks again hong kong for more great to this ...</td>\n      <td>2016-05-08 19:42:57+00:00</td>\n      <td>5/8/2016 19:42</td>\n      <td>5/8/2016 19:42</td>\n      <td>5/8/2016 23:42</td>\n    </tr>\n    <tr>\n      <th>1</th>\n      <td>2</td>\n      <td>1254</td>\n      <td>Sun May 08 21:20:20 +0000 2016</td>\n      <td>7.290000e+17</td>\n      <td>en</td>\n      <td>Abu Dhabi</td>\n      <td>999</td>\n      <td>POINT (113.93337 22.31488)</td>\n      <td>Sun May 08 21:20:20 +0000 2016</td>\n      <td>7.290000e+17</td>\n      <td>...</td>\n      <td>en</td>\n      <td>NaN</td>\n      <td>False</td>\n      <td>951</td>\n      <td>950 - 951</td>\n      <td>it s that time again u number u hong kong taxi...</td>\n      <td>2016-05-08 21:20:20+00:00</td>\n      <td>5/8/2016 21:20</td>\n      <td>5/8/2016 21:20</td>\n      <td>5/9/2016 1:20</td>\n    </tr>\n    <tr>\n      <th>2</th>\n      <td>3</td>\n      <td>3007</td>\n      <td>Thu May 12 08:04:44 +0000 2016</td>\n      <td>7.310000e+17</td>\n      <td>en</td>\n      <td>Abu Dhabi</td>\n      <td>8</td>\n      <td>POINT (114.17800 22.28090)</td>\n      <td>Thu May 12 08:04:44 +0000 2016</td>\n      <td>7.310000e+17</td>\n      <td>...</td>\n      <td>en</td>\n      <td>NaN</td>\n      <td>False</td>\n      <td>135</td>\n      <td>135</td>\n      <td>static behaviour china hong kong explore touri...</td>\n      <td>2016-05-12 08:04:44+00:00</td>\n      <td>5/12/2016 8:04</td>\n      <td>5/12/2016 8:04</td>\n      <td>5/12/2016 12:04</td>\n    </tr>\n    <tr>\n      <th>3</th>\n      <td>4</td>\n      <td>3715</td>\n      <td>Fri May 13 09:07:09 +0000 2016</td>\n      <td>7.310000e+17</td>\n      <td>en</td>\n      <td>Abu Dhabi</td>\n      <td>7</td>\n      <td>POINT (114.20402 22.33934)</td>\n      <td>Fri May 13 09:07:09 +0000 2016</td>\n      <td>7.310000e+17</td>\n      <td>...</td>\n      <td>en</td>\n      <td>NaN</td>\n      <td>False</td>\n      <td>281</td>\n      <td>281</td>\n      <td>the nan garden at diamond hill in hong kong a ...</td>\n      <td>2016-05-13 09:07:09+00:00</td>\n      <td>5/13/2016 9:07</td>\n      <td>5/13/2016 9:07</td>\n      <td>5/13/2016 13:07</td>\n    </tr>\n    <tr>\n      <th>4</th>\n      <td>5</td>\n      <td>4297</td>\n      <td>Sat May 14 06:37:43 +0000 2016</td>\n      <td>7.310000e+17</td>\n      <td>en</td>\n      <td>Abu Dhabi</td>\n      <td>3</td>\n      <td>POINT (114.04353 22.31342)</td>\n      <td>Sat May 14 06:37:43 +0000 2016</td>\n      <td>7.310000e+17</td>\n      <td>...</td>\n      <td>en</td>\n      <td>NaN</td>\n      <td>False</td>\n      <td>973</td>\n      <td>971 - 974</td>\n      <td>advance birthday treat from my sister u number...</td>\n      <td>2016-05-14 06:37:43+00:00</td>\n      <td>5/14/2016 6:37</td>\n      <td>5/14/2016 6:37</td>\n      <td>5/14/2016 10:37</td>\n    </tr>\n  </tbody>\n</table>\n<p>5 rows × 29 columns</p>\n</div>"
     },
     "execution_count": 7,
     "metadata": {},
     "output_type": "execute_result"
    }
   ],
   "source": [
    "df3.head(5)"
   ],
   "metadata": {
    "collapsed": false
   }
  },
  {
   "cell_type": "code",
   "execution_count": 8,
   "outputs": [
    {
     "data": {
      "text/plain": "OBJECTID_1                int64\nField1                    int64\ncreated_at_x             object\nid_str_x                float64\nlang_x                   object\ntime_zone_x              object\nLanduseTyp                int64\ngeometry               geometry\ncreated_at_y             object\nid_str_y                float64\nlang_y                   object\nlat                     float64\nlon                     float64\ntext                     object\ntime_zone_y              object\ntruncated                  bool\nurl                      object\nuser_created_at          object\nuser_id_str             float64\nuser_lang                object\nuser_url                 object\nverified                   bool\nTPU_longitudinal          int64\nTPU_cross_sectional      object\ncleaned_text             object\ndate                     object\ndate_secondprocess       object\ndate_thirdprocess        object\ndate_hk                  object\ndtype: object"
     },
     "execution_count": 8,
     "metadata": {},
     "output_type": "execute_result"
    }
   ],
   "source": [
    "df3.dtypes"
   ],
   "metadata": {
    "collapsed": false
   }
  },
  {
   "cell_type": "code",
   "execution_count": 22,
   "outputs": [],
   "source": [
    "df3['date_hk'] = pd.to_datetime(df3['date_hk'])\n",
    "df3['NEWdate_hk'] = pd.to_datetime(df3['date_hk']).dt.strftime('%Y-%m-%d-%H')\n",
    "df3['day'] = df3['date_hk'].dt.day\n",
    "df3['month'] = df3['date_hk'].dt.month\n",
    "df3['year'] = df3['date_hk'].dt.year\n",
    "df3['hour']=df3['date_hk'].dt.hour"
   ],
   "metadata": {
    "collapsed": false
   }
  },
  {
   "cell_type": "code",
   "execution_count": 33,
   "outputs": [
    {
     "data": {
      "text/plain": "   OBJECTID_1  Field1                    created_at_x      id_str_x lang_x  \\\n0           1    1246  Sun May 08 19:42:57 +0000 2016  7.290000e+17     en   \n1           2    1254  Sun May 08 21:20:20 +0000 2016  7.290000e+17     en   \n2           3    3007  Thu May 12 08:04:44 +0000 2016  7.310000e+17     en   \n3           4    3715  Fri May 13 09:07:09 +0000 2016  7.310000e+17     en   \n4           5    4297  Sat May 14 06:37:43 +0000 2016  7.310000e+17     en   \n\n  time_zone_x  LanduseTyp                    geometry  \\\n0   Abu Dhabi           8  POINT (114.17800 22.28090)   \n1   Abu Dhabi         999  POINT (113.93337 22.31488)   \n2   Abu Dhabi           8  POINT (114.17800 22.28090)   \n3   Abu Dhabi           7  POINT (114.20402 22.33934)   \n4   Abu Dhabi           3  POINT (114.04353 22.31342)   \n\n                     created_at_y      id_str_y  ...  \\\n0  Sun May 08 19:42:57 +0000 2016  7.290000e+17  ...   \n1  Sun May 08 21:20:20 +0000 2016  7.290000e+17  ...   \n2  Thu May 12 08:04:44 +0000 2016  7.310000e+17  ...   \n3  Fri May 13 09:07:09 +0000 2016  7.310000e+17  ...   \n4  Sat May 14 06:37:43 +0000 2016  7.310000e+17  ...   \n\n                                        cleaned_text  \\\n0  thanks again hong kong for more great to this ...   \n1  it s that time again u number u hong kong taxi...   \n2  static behaviour china hong kong explore touri...   \n3  the nan garden at diamond hill in hong kong a ...   \n4  advance birthday treat from my sister u number...   \n\n                        date  date_secondprocess date_thirdprocess  \\\n0  2016-05-08 19:42:57+00:00      5/8/2016 19:42    5/8/2016 19:42   \n1  2016-05-08 21:20:20+00:00      5/8/2016 21:20    5/8/2016 21:20   \n2  2016-05-12 08:04:44+00:00      5/12/2016 8:04    5/12/2016 8:04   \n3  2016-05-13 09:07:09+00:00      5/13/2016 9:07    5/13/2016 9:07   \n4  2016-05-14 06:37:43+00:00      5/14/2016 6:37    5/14/2016 6:37   \n\n              date_hk     NEWdate_hk day month  year hour  \n0 2016-05-08 23:42:00  2016-05-08-23   8     5  2016   23  \n1 2016-05-09 01:20:00  2016-05-09-01   9     5  2016    1  \n2 2016-05-12 12:04:00  2016-05-12-12  12     5  2016   12  \n3 2016-05-13 13:07:00  2016-05-13-13  13     5  2016   13  \n4 2016-05-14 10:37:00  2016-05-14-10  14     5  2016   10  \n\n[5 rows x 34 columns]",
      "text/html": "<div>\n<style scoped>\n    .dataframe tbody tr th:only-of-type {\n        vertical-align: middle;\n    }\n\n    .dataframe tbody tr th {\n        vertical-align: top;\n    }\n\n    .dataframe thead th {\n        text-align: right;\n    }\n</style>\n<table border=\"1\" class=\"dataframe\">\n  <thead>\n    <tr style=\"text-align: right;\">\n      <th></th>\n      <th>OBJECTID_1</th>\n      <th>Field1</th>\n      <th>created_at_x</th>\n      <th>id_str_x</th>\n      <th>lang_x</th>\n      <th>time_zone_x</th>\n      <th>LanduseTyp</th>\n      <th>geometry</th>\n      <th>created_at_y</th>\n      <th>id_str_y</th>\n      <th>...</th>\n      <th>cleaned_text</th>\n      <th>date</th>\n      <th>date_secondprocess</th>\n      <th>date_thirdprocess</th>\n      <th>date_hk</th>\n      <th>NEWdate_hk</th>\n      <th>day</th>\n      <th>month</th>\n      <th>year</th>\n      <th>hour</th>\n    </tr>\n  </thead>\n  <tbody>\n    <tr>\n      <th>0</th>\n      <td>1</td>\n      <td>1246</td>\n      <td>Sun May 08 19:42:57 +0000 2016</td>\n      <td>7.290000e+17</td>\n      <td>en</td>\n      <td>Abu Dhabi</td>\n      <td>8</td>\n      <td>POINT (114.17800 22.28090)</td>\n      <td>Sun May 08 19:42:57 +0000 2016</td>\n      <td>7.290000e+17</td>\n      <td>...</td>\n      <td>thanks again hong kong for more great to this ...</td>\n      <td>2016-05-08 19:42:57+00:00</td>\n      <td>5/8/2016 19:42</td>\n      <td>5/8/2016 19:42</td>\n      <td>2016-05-08 23:42:00</td>\n      <td>2016-05-08-23</td>\n      <td>8</td>\n      <td>5</td>\n      <td>2016</td>\n      <td>23</td>\n    </tr>\n    <tr>\n      <th>1</th>\n      <td>2</td>\n      <td>1254</td>\n      <td>Sun May 08 21:20:20 +0000 2016</td>\n      <td>7.290000e+17</td>\n      <td>en</td>\n      <td>Abu Dhabi</td>\n      <td>999</td>\n      <td>POINT (113.93337 22.31488)</td>\n      <td>Sun May 08 21:20:20 +0000 2016</td>\n      <td>7.290000e+17</td>\n      <td>...</td>\n      <td>it s that time again u number u hong kong taxi...</td>\n      <td>2016-05-08 21:20:20+00:00</td>\n      <td>5/8/2016 21:20</td>\n      <td>5/8/2016 21:20</td>\n      <td>2016-05-09 01:20:00</td>\n      <td>2016-05-09-01</td>\n      <td>9</td>\n      <td>5</td>\n      <td>2016</td>\n      <td>1</td>\n    </tr>\n    <tr>\n      <th>2</th>\n      <td>3</td>\n      <td>3007</td>\n      <td>Thu May 12 08:04:44 +0000 2016</td>\n      <td>7.310000e+17</td>\n      <td>en</td>\n      <td>Abu Dhabi</td>\n      <td>8</td>\n      <td>POINT (114.17800 22.28090)</td>\n      <td>Thu May 12 08:04:44 +0000 2016</td>\n      <td>7.310000e+17</td>\n      <td>...</td>\n      <td>static behaviour china hong kong explore touri...</td>\n      <td>2016-05-12 08:04:44+00:00</td>\n      <td>5/12/2016 8:04</td>\n      <td>5/12/2016 8:04</td>\n      <td>2016-05-12 12:04:00</td>\n      <td>2016-05-12-12</td>\n      <td>12</td>\n      <td>5</td>\n      <td>2016</td>\n      <td>12</td>\n    </tr>\n    <tr>\n      <th>3</th>\n      <td>4</td>\n      <td>3715</td>\n      <td>Fri May 13 09:07:09 +0000 2016</td>\n      <td>7.310000e+17</td>\n      <td>en</td>\n      <td>Abu Dhabi</td>\n      <td>7</td>\n      <td>POINT (114.20402 22.33934)</td>\n      <td>Fri May 13 09:07:09 +0000 2016</td>\n      <td>7.310000e+17</td>\n      <td>...</td>\n      <td>the nan garden at diamond hill in hong kong a ...</td>\n      <td>2016-05-13 09:07:09+00:00</td>\n      <td>5/13/2016 9:07</td>\n      <td>5/13/2016 9:07</td>\n      <td>2016-05-13 13:07:00</td>\n      <td>2016-05-13-13</td>\n      <td>13</td>\n      <td>5</td>\n      <td>2016</td>\n      <td>13</td>\n    </tr>\n    <tr>\n      <th>4</th>\n      <td>5</td>\n      <td>4297</td>\n      <td>Sat May 14 06:37:43 +0000 2016</td>\n      <td>7.310000e+17</td>\n      <td>en</td>\n      <td>Abu Dhabi</td>\n      <td>3</td>\n      <td>POINT (114.04353 22.31342)</td>\n      <td>Sat May 14 06:37:43 +0000 2016</td>\n      <td>7.310000e+17</td>\n      <td>...</td>\n      <td>advance birthday treat from my sister u number...</td>\n      <td>2016-05-14 06:37:43+00:00</td>\n      <td>5/14/2016 6:37</td>\n      <td>5/14/2016 6:37</td>\n      <td>2016-05-14 10:37:00</td>\n      <td>2016-05-14-10</td>\n      <td>14</td>\n      <td>5</td>\n      <td>2016</td>\n      <td>10</td>\n    </tr>\n  </tbody>\n</table>\n<p>5 rows × 34 columns</p>\n</div>"
     },
     "execution_count": 33,
     "metadata": {},
     "output_type": "execute_result"
    }
   ],
   "source": [
    "df3.head(5)"
   ],
   "metadata": {
    "collapsed": false
   }
  },
  {
   "cell_type": "code",
   "execution_count": 34,
   "outputs": [
    {
     "data": {
      "text/plain": "OBJECTID_1                      int64\nField1                          int64\ncreated_at_x                   object\nid_str_x                      float64\nlang_x                         object\ntime_zone_x                    object\nLanduseTyp                      int64\ngeometry                     geometry\ncreated_at_y                   object\nid_str_y                      float64\nlang_y                         object\nlat                           float64\nlon                           float64\ntext                           object\ntime_zone_y                    object\ntruncated                        bool\nurl                            object\nuser_created_at                object\nuser_id_str                   float64\nuser_lang                      object\nuser_url                       object\nverified                         bool\nTPU_longitudinal                int64\nTPU_cross_sectional            object\ncleaned_text                   object\ndate                           object\ndate_secondprocess             object\ndate_thirdprocess              object\ndate_hk                datetime64[ns]\nNEWdate_hk                     object\nday                             int64\nmonth                           int64\nyear                            int64\nhour                            int64\ndtype: object"
     },
     "execution_count": 34,
     "metadata": {},
     "output_type": "execute_result"
    }
   ],
   "source": [
    "df3.dtypes"
   ],
   "metadata": {
    "collapsed": false
   }
  },
  {
   "cell_type": "code",
   "execution_count": 35,
   "outputs": [
    {
     "data": {
      "text/plain": "   OBJECTID_1  Field1                    created_at_x      id_str_x lang_x  \\\n0           1    1246  Sun May 08 19:42:57 +0000 2016  7.290000e+17     en   \n1           2    1254  Sun May 08 21:20:20 +0000 2016  7.290000e+17     en   \n2           3    3007  Thu May 12 08:04:44 +0000 2016  7.310000e+17     en   \n3           4    3715  Fri May 13 09:07:09 +0000 2016  7.310000e+17     en   \n4           5    4297  Sat May 14 06:37:43 +0000 2016  7.310000e+17     en   \n\n  time_zone_x  LanduseTyp                    geometry  \\\n0   Abu Dhabi           8  POINT (114.17800 22.28090)   \n1   Abu Dhabi         999  POINT (113.93337 22.31488)   \n2   Abu Dhabi           8  POINT (114.17800 22.28090)   \n3   Abu Dhabi           7  POINT (114.20402 22.33934)   \n4   Abu Dhabi           3  POINT (114.04353 22.31342)   \n\n                     created_at_y      id_str_y  ...  \\\n0  Sun May 08 19:42:57 +0000 2016  7.290000e+17  ...   \n1  Sun May 08 21:20:20 +0000 2016  7.290000e+17  ...   \n2  Thu May 12 08:04:44 +0000 2016  7.310000e+17  ...   \n3  Fri May 13 09:07:09 +0000 2016  7.310000e+17  ...   \n4  Sat May 14 06:37:43 +0000 2016  7.310000e+17  ...   \n\n                                        cleaned_text  \\\n0  thanks again hong kong for more great to this ...   \n1  it s that time again u number u hong kong taxi...   \n2  static behaviour china hong kong explore touri...   \n3  the nan garden at diamond hill in hong kong a ...   \n4  advance birthday treat from my sister u number...   \n\n                        date  date_secondprocess date_thirdprocess  \\\n0  2016-05-08 19:42:57+00:00      5/8/2016 19:42    5/8/2016 19:42   \n1  2016-05-08 21:20:20+00:00      5/8/2016 21:20    5/8/2016 21:20   \n2  2016-05-12 08:04:44+00:00      5/12/2016 8:04    5/12/2016 8:04   \n3  2016-05-13 09:07:09+00:00      5/13/2016 9:07    5/13/2016 9:07   \n4  2016-05-14 06:37:43+00:00      5/14/2016 6:37    5/14/2016 6:37   \n\n              date_hk     NEWdate_hk day month  year hour  \n0 2016-05-08 23:42:00  2016-05-08-23   8     5  2016   23  \n1 2016-05-09 01:20:00  2016-05-09-01   9     5  2016    1  \n2 2016-05-12 12:04:00  2016-05-12-12  12     5  2016   12  \n3 2016-05-13 13:07:00  2016-05-13-13  13     5  2016   13  \n4 2016-05-14 10:37:00  2016-05-14-10  14     5  2016   10  \n\n[5 rows x 34 columns]",
      "text/html": "<div>\n<style scoped>\n    .dataframe tbody tr th:only-of-type {\n        vertical-align: middle;\n    }\n\n    .dataframe tbody tr th {\n        vertical-align: top;\n    }\n\n    .dataframe thead th {\n        text-align: right;\n    }\n</style>\n<table border=\"1\" class=\"dataframe\">\n  <thead>\n    <tr style=\"text-align: right;\">\n      <th></th>\n      <th>OBJECTID_1</th>\n      <th>Field1</th>\n      <th>created_at_x</th>\n      <th>id_str_x</th>\n      <th>lang_x</th>\n      <th>time_zone_x</th>\n      <th>LanduseTyp</th>\n      <th>geometry</th>\n      <th>created_at_y</th>\n      <th>id_str_y</th>\n      <th>...</th>\n      <th>cleaned_text</th>\n      <th>date</th>\n      <th>date_secondprocess</th>\n      <th>date_thirdprocess</th>\n      <th>date_hk</th>\n      <th>NEWdate_hk</th>\n      <th>day</th>\n      <th>month</th>\n      <th>year</th>\n      <th>hour</th>\n    </tr>\n  </thead>\n  <tbody>\n    <tr>\n      <th>0</th>\n      <td>1</td>\n      <td>1246</td>\n      <td>Sun May 08 19:42:57 +0000 2016</td>\n      <td>7.290000e+17</td>\n      <td>en</td>\n      <td>Abu Dhabi</td>\n      <td>8</td>\n      <td>POINT (114.17800 22.28090)</td>\n      <td>Sun May 08 19:42:57 +0000 2016</td>\n      <td>7.290000e+17</td>\n      <td>...</td>\n      <td>thanks again hong kong for more great to this ...</td>\n      <td>2016-05-08 19:42:57+00:00</td>\n      <td>5/8/2016 19:42</td>\n      <td>5/8/2016 19:42</td>\n      <td>2016-05-08 23:42:00</td>\n      <td>2016-05-08-23</td>\n      <td>8</td>\n      <td>5</td>\n      <td>2016</td>\n      <td>23</td>\n    </tr>\n    <tr>\n      <th>1</th>\n      <td>2</td>\n      <td>1254</td>\n      <td>Sun May 08 21:20:20 +0000 2016</td>\n      <td>7.290000e+17</td>\n      <td>en</td>\n      <td>Abu Dhabi</td>\n      <td>999</td>\n      <td>POINT (113.93337 22.31488)</td>\n      <td>Sun May 08 21:20:20 +0000 2016</td>\n      <td>7.290000e+17</td>\n      <td>...</td>\n      <td>it s that time again u number u hong kong taxi...</td>\n      <td>2016-05-08 21:20:20+00:00</td>\n      <td>5/8/2016 21:20</td>\n      <td>5/8/2016 21:20</td>\n      <td>2016-05-09 01:20:00</td>\n      <td>2016-05-09-01</td>\n      <td>9</td>\n      <td>5</td>\n      <td>2016</td>\n      <td>1</td>\n    </tr>\n    <tr>\n      <th>2</th>\n      <td>3</td>\n      <td>3007</td>\n      <td>Thu May 12 08:04:44 +0000 2016</td>\n      <td>7.310000e+17</td>\n      <td>en</td>\n      <td>Abu Dhabi</td>\n      <td>8</td>\n      <td>POINT (114.17800 22.28090)</td>\n      <td>Thu May 12 08:04:44 +0000 2016</td>\n      <td>7.310000e+17</td>\n      <td>...</td>\n      <td>static behaviour china hong kong explore touri...</td>\n      <td>2016-05-12 08:04:44+00:00</td>\n      <td>5/12/2016 8:04</td>\n      <td>5/12/2016 8:04</td>\n      <td>2016-05-12 12:04:00</td>\n      <td>2016-05-12-12</td>\n      <td>12</td>\n      <td>5</td>\n      <td>2016</td>\n      <td>12</td>\n    </tr>\n    <tr>\n      <th>3</th>\n      <td>4</td>\n      <td>3715</td>\n      <td>Fri May 13 09:07:09 +0000 2016</td>\n      <td>7.310000e+17</td>\n      <td>en</td>\n      <td>Abu Dhabi</td>\n      <td>7</td>\n      <td>POINT (114.20402 22.33934)</td>\n      <td>Fri May 13 09:07:09 +0000 2016</td>\n      <td>7.310000e+17</td>\n      <td>...</td>\n      <td>the nan garden at diamond hill in hong kong a ...</td>\n      <td>2016-05-13 09:07:09+00:00</td>\n      <td>5/13/2016 9:07</td>\n      <td>5/13/2016 9:07</td>\n      <td>2016-05-13 13:07:00</td>\n      <td>2016-05-13-13</td>\n      <td>13</td>\n      <td>5</td>\n      <td>2016</td>\n      <td>13</td>\n    </tr>\n    <tr>\n      <th>4</th>\n      <td>5</td>\n      <td>4297</td>\n      <td>Sat May 14 06:37:43 +0000 2016</td>\n      <td>7.310000e+17</td>\n      <td>en</td>\n      <td>Abu Dhabi</td>\n      <td>3</td>\n      <td>POINT (114.04353 22.31342)</td>\n      <td>Sat May 14 06:37:43 +0000 2016</td>\n      <td>7.310000e+17</td>\n      <td>...</td>\n      <td>advance birthday treat from my sister u number...</td>\n      <td>2016-05-14 06:37:43+00:00</td>\n      <td>5/14/2016 6:37</td>\n      <td>5/14/2016 6:37</td>\n      <td>2016-05-14 10:37:00</td>\n      <td>2016-05-14-10</td>\n      <td>14</td>\n      <td>5</td>\n      <td>2016</td>\n      <td>10</td>\n    </tr>\n  </tbody>\n</table>\n<p>5 rows × 34 columns</p>\n</div>"
     },
     "execution_count": 35,
     "metadata": {},
     "output_type": "execute_result"
    }
   ],
   "source": [
    "df3.head(5)"
   ],
   "metadata": {
    "collapsed": false
   }
  },
  {
   "cell_type": "code",
   "execution_count": 32,
   "outputs": [
    {
     "data": {
      "text/plain": "       OBJECTID_1  Field1                      created_at        id_str lang  \\\n22262       22263      84  Sat May 07 08:25:21 +0000 2016  7.290000e+17   en   \n\n      time_zone  LanduseTyp                    geometry  \n22262  Auckland         999  POINT (114.18096 22.28066)  ",
      "text/html": "<div>\n<style scoped>\n    .dataframe tbody tr th:only-of-type {\n        vertical-align: middle;\n    }\n\n    .dataframe tbody tr th {\n        vertical-align: top;\n    }\n\n    .dataframe thead th {\n        text-align: right;\n    }\n</style>\n<table border=\"1\" class=\"dataframe\">\n  <thead>\n    <tr style=\"text-align: right;\">\n      <th></th>\n      <th>OBJECTID_1</th>\n      <th>Field1</th>\n      <th>created_at</th>\n      <th>id_str</th>\n      <th>lang</th>\n      <th>time_zone</th>\n      <th>LanduseTyp</th>\n      <th>geometry</th>\n    </tr>\n  </thead>\n  <tbody>\n    <tr>\n      <th>22262</th>\n      <td>22263</td>\n      <td>84</td>\n      <td>Sat May 07 08:25:21 +0000 2016</td>\n      <td>7.290000e+17</td>\n      <td>en</td>\n      <td>Auckland</td>\n      <td>999</td>\n      <td>POINT (114.18096 22.28066)</td>\n    </tr>\n  </tbody>\n</table>\n</div>"
     },
     "execution_count": 32,
     "metadata": {},
     "output_type": "execute_result"
    }
   ],
   "source": [
    "df1[df1['Field1']==84]"
   ],
   "metadata": {
    "collapsed": false
   }
  },
  {
   "cell_type": "code",
   "execution_count": 42,
   "outputs": [],
   "source": [
    "df4=df3[['OBJECTID_1','Field1','LanduseTyp','year','month','day','hour','NEWdate_hk','geometry']]"
   ],
   "metadata": {
    "collapsed": false
   }
  },
  {
   "cell_type": "code",
   "execution_count": 43,
   "outputs": [],
   "source": [
    "df5=pd.pivot_table(df4,index=['OBJECTID_1','Field1','year','month','day','hour','NEWdate_hk'],columns=['LanduseTyp'],aggfunc='count').fillna(0).astype(int)"
   ],
   "metadata": {
    "collapsed": false
   }
  },
  {
   "cell_type": "code",
   "execution_count": 44,
   "outputs": [
    {
     "data": {
      "text/plain": "                                                    geometry                  \\\nLanduseTyp                                               1   2   3   4   5     \nOBJECTID_1 Field1 year month day hour NEWdate_hk                               \n1          1246   2016 5     8   23   2016-05-08-23        0   0   0   0   0   \n2          1254   2016 5     9   1    2016-05-09-01        0   0   0   0   0   \n3          3007   2016 5     12  12   2016-05-12-12        0   0   0   0   0   \n4          3715   2016 5     13  13   2016-05-13-13        0   0   0   0   0   \n5          4297   2016 5     14  10   2016-05-14-10        0   0   1   0   0   \n\n                                                                     \nLanduseTyp                                          6   7   8   999  \nOBJECTID_1 Field1 year month day hour NEWdate_hk                     \n1          1246   2016 5     8   23   2016-05-08-23   0   0   1   0  \n2          1254   2016 5     9   1    2016-05-09-01   0   0   0   1  \n3          3007   2016 5     12  12   2016-05-12-12   0   0   1   0  \n4          3715   2016 5     13  13   2016-05-13-13   0   1   0   0  \n5          4297   2016 5     14  10   2016-05-14-10   0   0   0   0  ",
      "text/html": "<div>\n<style scoped>\n    .dataframe tbody tr th:only-of-type {\n        vertical-align: middle;\n    }\n\n    .dataframe tbody tr th {\n        vertical-align: top;\n    }\n\n    .dataframe thead tr th {\n        text-align: left;\n    }\n\n    .dataframe thead tr:last-of-type th {\n        text-align: right;\n    }\n</style>\n<table border=\"1\" class=\"dataframe\">\n  <thead>\n    <tr>\n      <th></th>\n      <th></th>\n      <th></th>\n      <th></th>\n      <th></th>\n      <th></th>\n      <th></th>\n      <th colspan=\"9\" halign=\"left\">geometry</th>\n    </tr>\n    <tr>\n      <th></th>\n      <th></th>\n      <th></th>\n      <th></th>\n      <th></th>\n      <th></th>\n      <th>LanduseTyp</th>\n      <th>1</th>\n      <th>2</th>\n      <th>3</th>\n      <th>4</th>\n      <th>5</th>\n      <th>6</th>\n      <th>7</th>\n      <th>8</th>\n      <th>999</th>\n    </tr>\n    <tr>\n      <th>OBJECTID_1</th>\n      <th>Field1</th>\n      <th>year</th>\n      <th>month</th>\n      <th>day</th>\n      <th>hour</th>\n      <th>NEWdate_hk</th>\n      <th></th>\n      <th></th>\n      <th></th>\n      <th></th>\n      <th></th>\n      <th></th>\n      <th></th>\n      <th></th>\n      <th></th>\n    </tr>\n  </thead>\n  <tbody>\n    <tr>\n      <th>1</th>\n      <th>1246</th>\n      <th>2016</th>\n      <th>5</th>\n      <th>8</th>\n      <th>23</th>\n      <th>2016-05-08-23</th>\n      <td>0</td>\n      <td>0</td>\n      <td>0</td>\n      <td>0</td>\n      <td>0</td>\n      <td>0</td>\n      <td>0</td>\n      <td>1</td>\n      <td>0</td>\n    </tr>\n    <tr>\n      <th>2</th>\n      <th>1254</th>\n      <th>2016</th>\n      <th>5</th>\n      <th>9</th>\n      <th>1</th>\n      <th>2016-05-09-01</th>\n      <td>0</td>\n      <td>0</td>\n      <td>0</td>\n      <td>0</td>\n      <td>0</td>\n      <td>0</td>\n      <td>0</td>\n      <td>0</td>\n      <td>1</td>\n    </tr>\n    <tr>\n      <th>3</th>\n      <th>3007</th>\n      <th>2016</th>\n      <th>5</th>\n      <th>12</th>\n      <th>12</th>\n      <th>2016-05-12-12</th>\n      <td>0</td>\n      <td>0</td>\n      <td>0</td>\n      <td>0</td>\n      <td>0</td>\n      <td>0</td>\n      <td>0</td>\n      <td>1</td>\n      <td>0</td>\n    </tr>\n    <tr>\n      <th>4</th>\n      <th>3715</th>\n      <th>2016</th>\n      <th>5</th>\n      <th>13</th>\n      <th>13</th>\n      <th>2016-05-13-13</th>\n      <td>0</td>\n      <td>0</td>\n      <td>0</td>\n      <td>0</td>\n      <td>0</td>\n      <td>0</td>\n      <td>1</td>\n      <td>0</td>\n      <td>0</td>\n    </tr>\n    <tr>\n      <th>5</th>\n      <th>4297</th>\n      <th>2016</th>\n      <th>5</th>\n      <th>14</th>\n      <th>10</th>\n      <th>2016-05-14-10</th>\n      <td>0</td>\n      <td>0</td>\n      <td>1</td>\n      <td>0</td>\n      <td>0</td>\n      <td>0</td>\n      <td>0</td>\n      <td>0</td>\n      <td>0</td>\n    </tr>\n  </tbody>\n</table>\n</div>"
     },
     "execution_count": 44,
     "metadata": {},
     "output_type": "execute_result"
    }
   ],
   "source": [
    "df5.head(5)"
   ],
   "metadata": {
    "collapsed": false
   }
  },
  {
   "cell_type": "code",
   "execution_count": 47,
   "outputs": [
    {
     "data": {
      "text/plain": "          LanduseTyp\ngeometry  1             int32\n          2             int32\n          3             int32\n          4             int32\n          5             int32\n          6             int32\n          7             int32\n          8             int32\n          999           int32\ndtype: object"
     },
     "execution_count": 47,
     "metadata": {},
     "output_type": "execute_result"
    }
   ],
   "source": [
    "df5.dtypes"
   ],
   "metadata": {
    "collapsed": false
   }
  },
  {
   "cell_type": "code",
   "execution_count": 48,
   "outputs": [
    {
     "data": {
      "text/plain": "                                                    geometry                  \\\nLanduseTyp                                               1   2   3   4   5     \nOBJECTID_1 Field1 year month day hour NEWdate_hk                               \n1          1246   2016 5     8   23   2016-05-08-23        0   0   0   0   0   \n2          1254   2016 5     9   1    2016-05-09-01        0   0   0   0   0   \n3          3007   2016 5     12  12   2016-05-12-12        0   0   0   0   0   \n4          3715   2016 5     13  13   2016-05-13-13        0   0   0   0   0   \n5          4297   2016 5     14  10   2016-05-14-10        0   0   1   0   0   \n\n                                                                     \nLanduseTyp                                          6   7   8   999  \nOBJECTID_1 Field1 year month day hour NEWdate_hk                     \n1          1246   2016 5     8   23   2016-05-08-23   0   0   1   0  \n2          1254   2016 5     9   1    2016-05-09-01   0   0   0   1  \n3          3007   2016 5     12  12   2016-05-12-12   0   0   1   0  \n4          3715   2016 5     13  13   2016-05-13-13   0   1   0   0  \n5          4297   2016 5     14  10   2016-05-14-10   0   0   0   0  ",
      "text/html": "<div>\n<style scoped>\n    .dataframe tbody tr th:only-of-type {\n        vertical-align: middle;\n    }\n\n    .dataframe tbody tr th {\n        vertical-align: top;\n    }\n\n    .dataframe thead tr th {\n        text-align: left;\n    }\n\n    .dataframe thead tr:last-of-type th {\n        text-align: right;\n    }\n</style>\n<table border=\"1\" class=\"dataframe\">\n  <thead>\n    <tr>\n      <th></th>\n      <th></th>\n      <th></th>\n      <th></th>\n      <th></th>\n      <th></th>\n      <th></th>\n      <th colspan=\"9\" halign=\"left\">geometry</th>\n    </tr>\n    <tr>\n      <th></th>\n      <th></th>\n      <th></th>\n      <th></th>\n      <th></th>\n      <th></th>\n      <th>LanduseTyp</th>\n      <th>1</th>\n      <th>2</th>\n      <th>3</th>\n      <th>4</th>\n      <th>5</th>\n      <th>6</th>\n      <th>7</th>\n      <th>8</th>\n      <th>999</th>\n    </tr>\n    <tr>\n      <th>OBJECTID_1</th>\n      <th>Field1</th>\n      <th>year</th>\n      <th>month</th>\n      <th>day</th>\n      <th>hour</th>\n      <th>NEWdate_hk</th>\n      <th></th>\n      <th></th>\n      <th></th>\n      <th></th>\n      <th></th>\n      <th></th>\n      <th></th>\n      <th></th>\n      <th></th>\n    </tr>\n  </thead>\n  <tbody>\n    <tr>\n      <th>1</th>\n      <th>1246</th>\n      <th>2016</th>\n      <th>5</th>\n      <th>8</th>\n      <th>23</th>\n      <th>2016-05-08-23</th>\n      <td>0</td>\n      <td>0</td>\n      <td>0</td>\n      <td>0</td>\n      <td>0</td>\n      <td>0</td>\n      <td>0</td>\n      <td>1</td>\n      <td>0</td>\n    </tr>\n    <tr>\n      <th>2</th>\n      <th>1254</th>\n      <th>2016</th>\n      <th>5</th>\n      <th>9</th>\n      <th>1</th>\n      <th>2016-05-09-01</th>\n      <td>0</td>\n      <td>0</td>\n      <td>0</td>\n      <td>0</td>\n      <td>0</td>\n      <td>0</td>\n      <td>0</td>\n      <td>0</td>\n      <td>1</td>\n    </tr>\n    <tr>\n      <th>3</th>\n      <th>3007</th>\n      <th>2016</th>\n      <th>5</th>\n      <th>12</th>\n      <th>12</th>\n      <th>2016-05-12-12</th>\n      <td>0</td>\n      <td>0</td>\n      <td>0</td>\n      <td>0</td>\n      <td>0</td>\n      <td>0</td>\n      <td>0</td>\n      <td>1</td>\n      <td>0</td>\n    </tr>\n    <tr>\n      <th>4</th>\n      <th>3715</th>\n      <th>2016</th>\n      <th>5</th>\n      <th>13</th>\n      <th>13</th>\n      <th>2016-05-13-13</th>\n      <td>0</td>\n      <td>0</td>\n      <td>0</td>\n      <td>0</td>\n      <td>0</td>\n      <td>0</td>\n      <td>1</td>\n      <td>0</td>\n      <td>0</td>\n    </tr>\n    <tr>\n      <th>5</th>\n      <th>4297</th>\n      <th>2016</th>\n      <th>5</th>\n      <th>14</th>\n      <th>10</th>\n      <th>2016-05-14-10</th>\n      <td>0</td>\n      <td>0</td>\n      <td>1</td>\n      <td>0</td>\n      <td>0</td>\n      <td>0</td>\n      <td>0</td>\n      <td>0</td>\n      <td>0</td>\n    </tr>\n  </tbody>\n</table>\n</div>"
     },
     "execution_count": 48,
     "metadata": {},
     "output_type": "execute_result"
    }
   ],
   "source": [
    "df5.head(5)"
   ],
   "metadata": {
    "collapsed": false
   }
  },
  {
   "cell_type": "code",
   "execution_count": 56,
   "outputs": [],
   "source": [
    "df6=df5.groupby(['NEWdate_hk','year','month','day','hour']).sum()"
   ],
   "metadata": {
    "collapsed": false
   }
  },
  {
   "cell_type": "code",
   "execution_count": 57,
   "outputs": [
    {
     "data": {
      "text/plain": "(409626, 8)"
     },
     "execution_count": 57,
     "metadata": {},
     "output_type": "execute_result"
    }
   ],
   "source": [
    "df1.shape"
   ],
   "metadata": {
    "collapsed": false
   }
  },
  {
   "cell_type": "code",
   "execution_count": 58,
   "outputs": [
    {
     "data": {
      "text/plain": "(22086, 9)"
     },
     "execution_count": 58,
     "metadata": {},
     "output_type": "execute_result"
    }
   ],
   "source": [
    "df6.shape"
   ],
   "metadata": {
    "collapsed": false
   }
  },
  {
   "cell_type": "code",
   "execution_count": 59,
   "outputs": [
    {
     "data": {
      "text/plain": "          LanduseTyp\ngeometry  1             int32\n          2             int32\n          3             int32\n          4             int32\n          5             int32\n          6             int32\n          7             int32\n          8             int32\n          999           int32\ndtype: object"
     },
     "execution_count": 59,
     "metadata": {},
     "output_type": "execute_result"
    }
   ],
   "source": [
    "df6.dtypes"
   ],
   "metadata": {
    "collapsed": false
   }
  },
  {
   "cell_type": "code",
   "execution_count": 62,
   "outputs": [
    {
     "data": {
      "text/plain": "[('geometry', 1),\n ('geometry', 2),\n ('geometry', 3),\n ('geometry', 4),\n ('geometry', 5),\n ('geometry', 6),\n ('geometry', 7),\n ('geometry', 8),\n ('geometry', 999)]"
     },
     "execution_count": 62,
     "metadata": {},
     "output_type": "execute_result"
    }
   ],
   "source": [
    "df6.columns.values.tolist()"
   ],
   "metadata": {
    "collapsed": false
   }
  },
  {
   "cell_type": "code",
   "execution_count": 64,
   "outputs": [],
   "source": [
    "df6.rename(columns={\"'geometry', '1'\": 'Villagetype'},inplace=True)"
   ],
   "metadata": {
    "collapsed": false
   }
  },
  {
   "cell_type": "code",
   "execution_count": 66,
   "outputs": [
    {
     "data": {
      "text/plain": "          LanduseTyp\ngeometry  1             int32\n          2             int32\n          3             int32\n          4             int32\n          5             int32\n          6             int32\n          7             int32\n          8             int32\n          999           int32\ndtype: object"
     },
     "execution_count": 66,
     "metadata": {},
     "output_type": "execute_result"
    }
   ],
   "source": [
    "df6.dtypes"
   ],
   "metadata": {
    "collapsed": false
   }
  },
  {
   "cell_type": "code",
   "execution_count": 67,
   "outputs": [],
   "source": [
    "df6.to_csv(r'D:\\GaoYunshu2023\\100011 HK-Work\\RA-project\\001 Task description\\0128_twitterPOI.csv')"
   ],
   "metadata": {
    "collapsed": false
   }
  },
  {
   "cell_type": "code",
   "execution_count": null,
   "outputs": [],
   "source": [],
   "metadata": {
    "collapsed": false
   }
  }
 ],
 "metadata": {
  "kernelspec": {
   "display_name": "Python 3",
   "language": "python",
   "name": "python3"
  },
  "language_info": {
   "codemirror_mode": {
    "name": "ipython",
    "version": 2
   },
   "file_extension": ".py",
   "mimetype": "text/x-python",
   "name": "python",
   "nbconvert_exporter": "python",
   "pygments_lexer": "ipython2",
   "version": "2.7.6"
  }
 },
 "nbformat": 4,
 "nbformat_minor": 0
}
