{
 "cells": [
  {
   "cell_type": "code",
   "execution_count": 1,
   "outputs": [
    {
     "name": "stderr",
     "output_type": "stream",
     "text": [
      "d:\\workspace\\python38\\lib\\site-packages\\geopandas\\_compat.py:123: UserWarning: The Shapely GEOS version (3.10.3-CAPI-1.16.1) is incompatible with the GEOS version PyGEOS was compiled with (3.10.4-CAPI-1.16.2). Conversions between both will be slow.\n",
      "  warnings.warn(\n"
     ]
    }
   ],
   "source": [
    "import pandas as pd\n",
    "import geopandas as gpd\n",
    "import matplotlib.pyplot as plt"
   ],
   "metadata": {
    "collapsed": false
   }
  },
  {
   "cell_type": "code",
   "execution_count": 2,
   "outputs": [],
   "source": [
    "zipfile=r\"D:\\GaoYunshu2023\\100011 HK-Work\\RA-project\\001 Task description\\Task1\\Process\\twitterPoint_final.shp\"\n"
   ],
   "metadata": {
    "collapsed": false
   }
  },
  {
   "cell_type": "code",
   "execution_count": 3,
   "outputs": [],
   "source": [
    "df=gpd.read_file(zipfile)"
   ],
   "metadata": {
    "collapsed": false
   }
  },
  {
   "cell_type": "code",
   "execution_count": 5,
   "outputs": [
    {
     "name": "stderr",
     "output_type": "stream",
     "text": [
      "C:\\Users\\GAOYUN~1\\AppData\\Local\\Temp/ipykernel_19600/4248614074.py:2: DtypeWarning: Columns (7) have mixed types. Specify dtype option on import or set low_memory=False.\n",
      "  df2=pd.read_csv(r\"D:\\GaoYunshu2023\\100011 HK-Work\\RA-project\\001 Task description\\Task1\\result_v2.csv\")\n"
     ]
    }
   ],
   "source": [
    "df1=df[['OBJECTID_1','Field1','created_at','id_str','lang','time_zone','LanduseTyp','geometry']]\n",
    "df2=pd.read_csv(r\"D:\\GaoYunshu2023\\100011 HK-Work\\RA-project\\001 Task description\\Task1\\result_v2.csv\")"
   ],
   "metadata": {
    "collapsed": false
   }
  },
  {
   "cell_type": "code",
   "execution_count": 6,
   "outputs": [],
   "source": [
    "df2.rename(columns={df2.columns[0]: \"Field1\" }, inplace = True)"
   ],
   "metadata": {
    "collapsed": false
   }
  },
  {
   "cell_type": "code",
   "execution_count": 7,
   "outputs": [],
   "source": [
    "df3 = pd.merge(df1, df2, on='Field1', how='inner')"
   ],
   "metadata": {
    "collapsed": false
   }
  },
  {
   "cell_type": "code",
   "execution_count": 8,
   "outputs": [
    {
     "data": {
      "text/plain": "   OBJECTID_1  Field1                    created_at_x      id_str_x lang_x  \\\n0           1    1246  Sun May 08 19:42:57 +0000 2016  7.290000e+17     en   \n1           2    1254  Sun May 08 21:20:20 +0000 2016  7.290000e+17     en   \n2           3    3007  Thu May 12 08:04:44 +0000 2016  7.310000e+17     en   \n3           4    3715  Fri May 13 09:07:09 +0000 2016  7.310000e+17     en   \n4           5    4297  Sat May 14 06:37:43 +0000 2016  7.310000e+17     en   \n\n  time_zone_x  LanduseTyp                    geometry  \\\n0   Abu Dhabi           8  POINT (114.17800 22.28090)   \n1   Abu Dhabi         999  POINT (113.93337 22.31488)   \n2   Abu Dhabi           8  POINT (114.17800 22.28090)   \n3   Abu Dhabi           7  POINT (114.20402 22.33934)   \n4   Abu Dhabi           3  POINT (114.04353 22.31342)   \n\n                     created_at_y      id_str_y  ... user_lang  user_url  \\\n0  Sun May 08 19:42:57 +0000 2016  7.290000e+17  ...        en       NaN   \n1  Sun May 08 21:20:20 +0000 2016  7.290000e+17  ...        en       NaN   \n2  Thu May 12 08:04:44 +0000 2016  7.310000e+17  ...        en       NaN   \n3  Fri May 13 09:07:09 +0000 2016  7.310000e+17  ...        en       NaN   \n4  Sat May 14 06:37:43 +0000 2016  7.310000e+17  ...        en       NaN   \n\n   verified TPU_longitudinal TPU_cross_sectional  \\\n0     False              135                 135   \n1     False              951           950 - 951   \n2     False              135                 135   \n3     False              281                 281   \n4     False              973           971 - 974   \n\n                                        cleaned_text  \\\n0  thanks again hong kong for more great to this ...   \n1  it s that time again u number u hong kong taxi...   \n2  static behaviour china hong kong explore touri...   \n3  the nan garden at diamond hill in hong kong a ...   \n4  advance birthday treat from my sister u number...   \n\n                        date date_secondprocess  date_thirdprocess  \\\n0  2016-05-08 19:42:57+00:00     5/8/2016 19:42     5/8/2016 19:42   \n1  2016-05-08 21:20:20+00:00     5/8/2016 21:20     5/8/2016 21:20   \n2  2016-05-12 08:04:44+00:00     5/12/2016 8:04     5/12/2016 8:04   \n3  2016-05-13 09:07:09+00:00     5/13/2016 9:07     5/13/2016 9:07   \n4  2016-05-14 06:37:43+00:00     5/14/2016 6:37     5/14/2016 6:37   \n\n           date_hk  \n0   5/8/2016 23:42  \n1    5/9/2016 1:20  \n2  5/12/2016 12:04  \n3  5/13/2016 13:07  \n4  5/14/2016 10:37  \n\n[5 rows x 29 columns]",
      "text/html": "<div>\n<style scoped>\n    .dataframe tbody tr th:only-of-type {\n        vertical-align: middle;\n    }\n\n    .dataframe tbody tr th {\n        vertical-align: top;\n    }\n\n    .dataframe thead th {\n        text-align: right;\n    }\n</style>\n<table border=\"1\" class=\"dataframe\">\n  <thead>\n    <tr style=\"text-align: right;\">\n      <th></th>\n      <th>OBJECTID_1</th>\n      <th>Field1</th>\n      <th>created_at_x</th>\n      <th>id_str_x</th>\n      <th>lang_x</th>\n      <th>time_zone_x</th>\n      <th>LanduseTyp</th>\n      <th>geometry</th>\n      <th>created_at_y</th>\n      <th>id_str_y</th>\n      <th>...</th>\n      <th>user_lang</th>\n      <th>user_url</th>\n      <th>verified</th>\n      <th>TPU_longitudinal</th>\n      <th>TPU_cross_sectional</th>\n      <th>cleaned_text</th>\n      <th>date</th>\n      <th>date_secondprocess</th>\n      <th>date_thirdprocess</th>\n      <th>date_hk</th>\n    </tr>\n  </thead>\n  <tbody>\n    <tr>\n      <th>0</th>\n      <td>1</td>\n      <td>1246</td>\n      <td>Sun May 08 19:42:57 +0000 2016</td>\n      <td>7.290000e+17</td>\n      <td>en</td>\n      <td>Abu Dhabi</td>\n      <td>8</td>\n      <td>POINT (114.17800 22.28090)</td>\n      <td>Sun May 08 19:42:57 +0000 2016</td>\n      <td>7.290000e+17</td>\n      <td>...</td>\n      <td>en</td>\n      <td>NaN</td>\n      <td>False</td>\n      <td>135</td>\n      <td>135</td>\n      <td>thanks again hong kong for more great to this ...</td>\n      <td>2016-05-08 19:42:57+00:00</td>\n      <td>5/8/2016 19:42</td>\n      <td>5/8/2016 19:42</td>\n      <td>5/8/2016 23:42</td>\n    </tr>\n    <tr>\n      <th>1</th>\n      <td>2</td>\n      <td>1254</td>\n      <td>Sun May 08 21:20:20 +0000 2016</td>\n      <td>7.290000e+17</td>\n      <td>en</td>\n      <td>Abu Dhabi</td>\n      <td>999</td>\n      <td>POINT (113.93337 22.31488)</td>\n      <td>Sun May 08 21:20:20 +0000 2016</td>\n      <td>7.290000e+17</td>\n      <td>...</td>\n      <td>en</td>\n      <td>NaN</td>\n      <td>False</td>\n      <td>951</td>\n      <td>950 - 951</td>\n      <td>it s that time again u number u hong kong taxi...</td>\n      <td>2016-05-08 21:20:20+00:00</td>\n      <td>5/8/2016 21:20</td>\n      <td>5/8/2016 21:20</td>\n      <td>5/9/2016 1:20</td>\n    </tr>\n    <tr>\n      <th>2</th>\n      <td>3</td>\n      <td>3007</td>\n      <td>Thu May 12 08:04:44 +0000 2016</td>\n      <td>7.310000e+17</td>\n      <td>en</td>\n      <td>Abu Dhabi</td>\n      <td>8</td>\n      <td>POINT (114.17800 22.28090)</td>\n      <td>Thu May 12 08:04:44 +0000 2016</td>\n      <td>7.310000e+17</td>\n      <td>...</td>\n      <td>en</td>\n      <td>NaN</td>\n      <td>False</td>\n      <td>135</td>\n      <td>135</td>\n      <td>static behaviour china hong kong explore touri...</td>\n      <td>2016-05-12 08:04:44+00:00</td>\n      <td>5/12/2016 8:04</td>\n      <td>5/12/2016 8:04</td>\n      <td>5/12/2016 12:04</td>\n    </tr>\n    <tr>\n      <th>3</th>\n      <td>4</td>\n      <td>3715</td>\n      <td>Fri May 13 09:07:09 +0000 2016</td>\n      <td>7.310000e+17</td>\n      <td>en</td>\n      <td>Abu Dhabi</td>\n      <td>7</td>\n      <td>POINT (114.20402 22.33934)</td>\n      <td>Fri May 13 09:07:09 +0000 2016</td>\n      <td>7.310000e+17</td>\n      <td>...</td>\n      <td>en</td>\n      <td>NaN</td>\n      <td>False</td>\n      <td>281</td>\n      <td>281</td>\n      <td>the nan garden at diamond hill in hong kong a ...</td>\n      <td>2016-05-13 09:07:09+00:00</td>\n      <td>5/13/2016 9:07</td>\n      <td>5/13/2016 9:07</td>\n      <td>5/13/2016 13:07</td>\n    </tr>\n    <tr>\n      <th>4</th>\n      <td>5</td>\n      <td>4297</td>\n      <td>Sat May 14 06:37:43 +0000 2016</td>\n      <td>7.310000e+17</td>\n      <td>en</td>\n      <td>Abu Dhabi</td>\n      <td>3</td>\n      <td>POINT (114.04353 22.31342)</td>\n      <td>Sat May 14 06:37:43 +0000 2016</td>\n      <td>7.310000e+17</td>\n      <td>...</td>\n      <td>en</td>\n      <td>NaN</td>\n      <td>False</td>\n      <td>973</td>\n      <td>971 - 974</td>\n      <td>advance birthday treat from my sister u number...</td>\n      <td>2016-05-14 06:37:43+00:00</td>\n      <td>5/14/2016 6:37</td>\n      <td>5/14/2016 6:37</td>\n      <td>5/14/2016 10:37</td>\n    </tr>\n  </tbody>\n</table>\n<p>5 rows × 29 columns</p>\n</div>"
     },
     "execution_count": 8,
     "metadata": {},
     "output_type": "execute_result"
    }
   ],
   "source": [
    "df3.head(5)"
   ],
   "metadata": {
    "collapsed": false
   }
  },
  {
   "cell_type": "code",
   "execution_count": 9,
   "outputs": [
    {
     "data": {
      "text/plain": "OBJECTID_1                int64\nField1                    int64\ncreated_at_x             object\nid_str_x                float64\nlang_x                   object\ntime_zone_x              object\nLanduseTyp                int64\ngeometry               geometry\ncreated_at_y             object\nid_str_y                float64\nlang_y                   object\nlat                     float64\nlon                     float64\ntext                     object\ntime_zone_y              object\ntruncated                  bool\nurl                      object\nuser_created_at          object\nuser_id_str             float64\nuser_lang                object\nuser_url                 object\nverified                   bool\nTPU_longitudinal          int64\nTPU_cross_sectional      object\ncleaned_text             object\ndate                     object\ndate_secondprocess       object\ndate_thirdprocess        object\ndate_hk                  object\ndtype: object"
     },
     "execution_count": 9,
     "metadata": {},
     "output_type": "execute_result"
    }
   ],
   "source": [
    "df3.dtypes"
   ],
   "metadata": {
    "collapsed": false
   }
  },
  {
   "cell_type": "code",
   "execution_count": 11,
   "outputs": [],
   "source": [
    "df3['date_hk'] = pd.to_datetime(df3['date_hk'])\n",
    "df3['day'] = df3['date_hk'].dt.day\n",
    "df3['month'] = df3['date_hk'].dt.month\n",
    "df3['year'] = df3['date_hk'].dt.year\n",
    "df3['hour']=df3['date_hk'].dt.hour"
   ],
   "metadata": {
    "collapsed": false
   }
  },
  {
   "cell_type": "code",
   "execution_count": 12,
   "outputs": [
    {
     "data": {
      "text/plain": "   OBJECTID_1  Field1                    created_at_x      id_str_x lang_x  \\\n0           1    1246  Sun May 08 19:42:57 +0000 2016  7.290000e+17     en   \n1           2    1254  Sun May 08 21:20:20 +0000 2016  7.290000e+17     en   \n2           3    3007  Thu May 12 08:04:44 +0000 2016  7.310000e+17     en   \n3           4    3715  Fri May 13 09:07:09 +0000 2016  7.310000e+17     en   \n4           5    4297  Sat May 14 06:37:43 +0000 2016  7.310000e+17     en   \n\n  time_zone_x  LanduseTyp                    geometry  \\\n0   Abu Dhabi           8  POINT (114.17800 22.28090)   \n1   Abu Dhabi         999  POINT (113.93337 22.31488)   \n2   Abu Dhabi           8  POINT (114.17800 22.28090)   \n3   Abu Dhabi           7  POINT (114.20402 22.33934)   \n4   Abu Dhabi           3  POINT (114.04353 22.31342)   \n\n                     created_at_y      id_str_y  ... TPU_cross_sectional  \\\n0  Sun May 08 19:42:57 +0000 2016  7.290000e+17  ...                 135   \n1  Sun May 08 21:20:20 +0000 2016  7.290000e+17  ...           950 - 951   \n2  Thu May 12 08:04:44 +0000 2016  7.310000e+17  ...                 135   \n3  Fri May 13 09:07:09 +0000 2016  7.310000e+17  ...                 281   \n4  Sat May 14 06:37:43 +0000 2016  7.310000e+17  ...           971 - 974   \n\n                                        cleaned_text  \\\n0  thanks again hong kong for more great to this ...   \n1  it s that time again u number u hong kong taxi...   \n2  static behaviour china hong kong explore touri...   \n3  the nan garden at diamond hill in hong kong a ...   \n4  advance birthday treat from my sister u number...   \n\n                        date date_secondprocess date_thirdprocess  \\\n0  2016-05-08 19:42:57+00:00     5/8/2016 19:42    5/8/2016 19:42   \n1  2016-05-08 21:20:20+00:00     5/8/2016 21:20    5/8/2016 21:20   \n2  2016-05-12 08:04:44+00:00     5/12/2016 8:04    5/12/2016 8:04   \n3  2016-05-13 09:07:09+00:00     5/13/2016 9:07    5/13/2016 9:07   \n4  2016-05-14 06:37:43+00:00     5/14/2016 6:37    5/14/2016 6:37   \n\n              date_hk day month  year hour  \n0 2016-05-08 23:42:00   8     5  2016   23  \n1 2016-05-09 01:20:00   9     5  2016    1  \n2 2016-05-12 12:04:00  12     5  2016   12  \n3 2016-05-13 13:07:00  13     5  2016   13  \n4 2016-05-14 10:37:00  14     5  2016   10  \n\n[5 rows x 33 columns]",
      "text/html": "<div>\n<style scoped>\n    .dataframe tbody tr th:only-of-type {\n        vertical-align: middle;\n    }\n\n    .dataframe tbody tr th {\n        vertical-align: top;\n    }\n\n    .dataframe thead th {\n        text-align: right;\n    }\n</style>\n<table border=\"1\" class=\"dataframe\">\n  <thead>\n    <tr style=\"text-align: right;\">\n      <th></th>\n      <th>OBJECTID_1</th>\n      <th>Field1</th>\n      <th>created_at_x</th>\n      <th>id_str_x</th>\n      <th>lang_x</th>\n      <th>time_zone_x</th>\n      <th>LanduseTyp</th>\n      <th>geometry</th>\n      <th>created_at_y</th>\n      <th>id_str_y</th>\n      <th>...</th>\n      <th>TPU_cross_sectional</th>\n      <th>cleaned_text</th>\n      <th>date</th>\n      <th>date_secondprocess</th>\n      <th>date_thirdprocess</th>\n      <th>date_hk</th>\n      <th>day</th>\n      <th>month</th>\n      <th>year</th>\n      <th>hour</th>\n    </tr>\n  </thead>\n  <tbody>\n    <tr>\n      <th>0</th>\n      <td>1</td>\n      <td>1246</td>\n      <td>Sun May 08 19:42:57 +0000 2016</td>\n      <td>7.290000e+17</td>\n      <td>en</td>\n      <td>Abu Dhabi</td>\n      <td>8</td>\n      <td>POINT (114.17800 22.28090)</td>\n      <td>Sun May 08 19:42:57 +0000 2016</td>\n      <td>7.290000e+17</td>\n      <td>...</td>\n      <td>135</td>\n      <td>thanks again hong kong for more great to this ...</td>\n      <td>2016-05-08 19:42:57+00:00</td>\n      <td>5/8/2016 19:42</td>\n      <td>5/8/2016 19:42</td>\n      <td>2016-05-08 23:42:00</td>\n      <td>8</td>\n      <td>5</td>\n      <td>2016</td>\n      <td>23</td>\n    </tr>\n    <tr>\n      <th>1</th>\n      <td>2</td>\n      <td>1254</td>\n      <td>Sun May 08 21:20:20 +0000 2016</td>\n      <td>7.290000e+17</td>\n      <td>en</td>\n      <td>Abu Dhabi</td>\n      <td>999</td>\n      <td>POINT (113.93337 22.31488)</td>\n      <td>Sun May 08 21:20:20 +0000 2016</td>\n      <td>7.290000e+17</td>\n      <td>...</td>\n      <td>950 - 951</td>\n      <td>it s that time again u number u hong kong taxi...</td>\n      <td>2016-05-08 21:20:20+00:00</td>\n      <td>5/8/2016 21:20</td>\n      <td>5/8/2016 21:20</td>\n      <td>2016-05-09 01:20:00</td>\n      <td>9</td>\n      <td>5</td>\n      <td>2016</td>\n      <td>1</td>\n    </tr>\n    <tr>\n      <th>2</th>\n      <td>3</td>\n      <td>3007</td>\n      <td>Thu May 12 08:04:44 +0000 2016</td>\n      <td>7.310000e+17</td>\n      <td>en</td>\n      <td>Abu Dhabi</td>\n      <td>8</td>\n      <td>POINT (114.17800 22.28090)</td>\n      <td>Thu May 12 08:04:44 +0000 2016</td>\n      <td>7.310000e+17</td>\n      <td>...</td>\n      <td>135</td>\n      <td>static behaviour china hong kong explore touri...</td>\n      <td>2016-05-12 08:04:44+00:00</td>\n      <td>5/12/2016 8:04</td>\n      <td>5/12/2016 8:04</td>\n      <td>2016-05-12 12:04:00</td>\n      <td>12</td>\n      <td>5</td>\n      <td>2016</td>\n      <td>12</td>\n    </tr>\n    <tr>\n      <th>3</th>\n      <td>4</td>\n      <td>3715</td>\n      <td>Fri May 13 09:07:09 +0000 2016</td>\n      <td>7.310000e+17</td>\n      <td>en</td>\n      <td>Abu Dhabi</td>\n      <td>7</td>\n      <td>POINT (114.20402 22.33934)</td>\n      <td>Fri May 13 09:07:09 +0000 2016</td>\n      <td>7.310000e+17</td>\n      <td>...</td>\n      <td>281</td>\n      <td>the nan garden at diamond hill in hong kong a ...</td>\n      <td>2016-05-13 09:07:09+00:00</td>\n      <td>5/13/2016 9:07</td>\n      <td>5/13/2016 9:07</td>\n      <td>2016-05-13 13:07:00</td>\n      <td>13</td>\n      <td>5</td>\n      <td>2016</td>\n      <td>13</td>\n    </tr>\n    <tr>\n      <th>4</th>\n      <td>5</td>\n      <td>4297</td>\n      <td>Sat May 14 06:37:43 +0000 2016</td>\n      <td>7.310000e+17</td>\n      <td>en</td>\n      <td>Abu Dhabi</td>\n      <td>3</td>\n      <td>POINT (114.04353 22.31342)</td>\n      <td>Sat May 14 06:37:43 +0000 2016</td>\n      <td>7.310000e+17</td>\n      <td>...</td>\n      <td>971 - 974</td>\n      <td>advance birthday treat from my sister u number...</td>\n      <td>2016-05-14 06:37:43+00:00</td>\n      <td>5/14/2016 6:37</td>\n      <td>5/14/2016 6:37</td>\n      <td>2016-05-14 10:37:00</td>\n      <td>14</td>\n      <td>5</td>\n      <td>2016</td>\n      <td>10</td>\n    </tr>\n  </tbody>\n</table>\n<p>5 rows × 33 columns</p>\n</div>"
     },
     "execution_count": 12,
     "metadata": {},
     "output_type": "execute_result"
    }
   ],
   "source": [
    "df3.head(5)"
   ],
   "metadata": {
    "collapsed": false
   }
  },
  {
   "cell_type": "code",
   "execution_count": 13,
   "outputs": [
    {
     "data": {
      "text/plain": "OBJECTID_1                      int64\nField1                          int64\ncreated_at_x                   object\nid_str_x                      float64\nlang_x                         object\ntime_zone_x                    object\nLanduseTyp                      int64\ngeometry                     geometry\ncreated_at_y                   object\nid_str_y                      float64\nlang_y                         object\nlat                           float64\nlon                           float64\ntext                           object\ntime_zone_y                    object\ntruncated                        bool\nurl                            object\nuser_created_at                object\nuser_id_str                   float64\nuser_lang                      object\nuser_url                       object\nverified                         bool\nTPU_longitudinal                int64\nTPU_cross_sectional            object\ncleaned_text                   object\ndate                           object\ndate_secondprocess             object\ndate_thirdprocess              object\ndate_hk                datetime64[ns]\nday                             int64\nmonth                           int64\nyear                            int64\nhour                            int64\ndtype: object"
     },
     "execution_count": 13,
     "metadata": {},
     "output_type": "execute_result"
    }
   ],
   "source": [
    "df3.dtypes"
   ],
   "metadata": {
    "collapsed": false
   }
  },
  {
   "cell_type": "code",
   "execution_count": 24,
   "outputs": [],
   "source": [
    "df4=df3[['OBJECTID_1','Field1','LanduseTyp','year','month','day','hour','geometry']]"
   ],
   "metadata": {
    "collapsed": false
   }
  },
  {
   "cell_type": "code",
   "execution_count": 25,
   "outputs": [
    {
     "data": {
      "text/plain": "   OBJECTID_1  Field1  LanduseTyp  year  month  day  hour  \\\n0           1    1246           8  2016      5    8    23   \n1           2    1254         999  2016      5    9     1   \n2           3    3007           8  2016      5   12    12   \n3           4    3715           7  2016      5   13    13   \n4           5    4297           3  2016      5   14    10   \n\n                     geometry  \n0  POINT (114.17800 22.28090)  \n1  POINT (113.93337 22.31488)  \n2  POINT (114.17800 22.28090)  \n3  POINT (114.20402 22.33934)  \n4  POINT (114.04353 22.31342)  ",
      "text/html": "<div>\n<style scoped>\n    .dataframe tbody tr th:only-of-type {\n        vertical-align: middle;\n    }\n\n    .dataframe tbody tr th {\n        vertical-align: top;\n    }\n\n    .dataframe thead th {\n        text-align: right;\n    }\n</style>\n<table border=\"1\" class=\"dataframe\">\n  <thead>\n    <tr style=\"text-align: right;\">\n      <th></th>\n      <th>OBJECTID_1</th>\n      <th>Field1</th>\n      <th>LanduseTyp</th>\n      <th>year</th>\n      <th>month</th>\n      <th>day</th>\n      <th>hour</th>\n      <th>geometry</th>\n    </tr>\n  </thead>\n  <tbody>\n    <tr>\n      <th>0</th>\n      <td>1</td>\n      <td>1246</td>\n      <td>8</td>\n      <td>2016</td>\n      <td>5</td>\n      <td>8</td>\n      <td>23</td>\n      <td>POINT (114.17800 22.28090)</td>\n    </tr>\n    <tr>\n      <th>1</th>\n      <td>2</td>\n      <td>1254</td>\n      <td>999</td>\n      <td>2016</td>\n      <td>5</td>\n      <td>9</td>\n      <td>1</td>\n      <td>POINT (113.93337 22.31488)</td>\n    </tr>\n    <tr>\n      <th>2</th>\n      <td>3</td>\n      <td>3007</td>\n      <td>8</td>\n      <td>2016</td>\n      <td>5</td>\n      <td>12</td>\n      <td>12</td>\n      <td>POINT (114.17800 22.28090)</td>\n    </tr>\n    <tr>\n      <th>3</th>\n      <td>4</td>\n      <td>3715</td>\n      <td>7</td>\n      <td>2016</td>\n      <td>5</td>\n      <td>13</td>\n      <td>13</td>\n      <td>POINT (114.20402 22.33934)</td>\n    </tr>\n    <tr>\n      <th>4</th>\n      <td>5</td>\n      <td>4297</td>\n      <td>3</td>\n      <td>2016</td>\n      <td>5</td>\n      <td>14</td>\n      <td>10</td>\n      <td>POINT (114.04353 22.31342)</td>\n    </tr>\n  </tbody>\n</table>\n</div>"
     },
     "execution_count": 25,
     "metadata": {},
     "output_type": "execute_result"
    }
   ],
   "source": [
    "df4.head(5)"
   ],
   "metadata": {
    "collapsed": false
   }
  },
  {
   "cell_type": "code",
   "execution_count": 27,
   "outputs": [],
   "source": [
    "df5=pd.pivot_table(df4,index=['OBJECTID_1','Field1','year','month','day','hour'],columns=['LanduseTyp'],aggfunc='count').fillna(0).astype(int)"
   ],
   "metadata": {
    "collapsed": false
   }
  },
  {
   "cell_type": "code",
   "execution_count": 28,
   "outputs": [
    {
     "data": {
      "text/plain": "                                      geometry                                \nLanduseTyp                                 1   2   3   4   5   6   7   8   999\nOBJECTID_1 Field1 year month day hour                                         \n1          1246   2016 5     8   23          0   0   0   0   0   0   0   1   0\n2          1254   2016 5     9   1           0   0   0   0   0   0   0   0   1\n3          3007   2016 5     12  12          0   0   0   0   0   0   0   1   0\n4          3715   2016 5     13  13          0   0   0   0   0   0   1   0   0\n5          4297   2016 5     14  10          0   0   1   0   0   0   0   0   0",
      "text/html": "<div>\n<style scoped>\n    .dataframe tbody tr th:only-of-type {\n        vertical-align: middle;\n    }\n\n    .dataframe tbody tr th {\n        vertical-align: top;\n    }\n\n    .dataframe thead tr th {\n        text-align: left;\n    }\n\n    .dataframe thead tr:last-of-type th {\n        text-align: right;\n    }\n</style>\n<table border=\"1\" class=\"dataframe\">\n  <thead>\n    <tr>\n      <th></th>\n      <th></th>\n      <th></th>\n      <th></th>\n      <th></th>\n      <th></th>\n      <th colspan=\"9\" halign=\"left\">geometry</th>\n    </tr>\n    <tr>\n      <th></th>\n      <th></th>\n      <th></th>\n      <th></th>\n      <th></th>\n      <th>LanduseTyp</th>\n      <th>1</th>\n      <th>2</th>\n      <th>3</th>\n      <th>4</th>\n      <th>5</th>\n      <th>6</th>\n      <th>7</th>\n      <th>8</th>\n      <th>999</th>\n    </tr>\n    <tr>\n      <th>OBJECTID_1</th>\n      <th>Field1</th>\n      <th>year</th>\n      <th>month</th>\n      <th>day</th>\n      <th>hour</th>\n      <th></th>\n      <th></th>\n      <th></th>\n      <th></th>\n      <th></th>\n      <th></th>\n      <th></th>\n      <th></th>\n      <th></th>\n    </tr>\n  </thead>\n  <tbody>\n    <tr>\n      <th>1</th>\n      <th>1246</th>\n      <th>2016</th>\n      <th>5</th>\n      <th>8</th>\n      <th>23</th>\n      <td>0</td>\n      <td>0</td>\n      <td>0</td>\n      <td>0</td>\n      <td>0</td>\n      <td>0</td>\n      <td>0</td>\n      <td>1</td>\n      <td>0</td>\n    </tr>\n    <tr>\n      <th>2</th>\n      <th>1254</th>\n      <th>2016</th>\n      <th>5</th>\n      <th>9</th>\n      <th>1</th>\n      <td>0</td>\n      <td>0</td>\n      <td>0</td>\n      <td>0</td>\n      <td>0</td>\n      <td>0</td>\n      <td>0</td>\n      <td>0</td>\n      <td>1</td>\n    </tr>\n    <tr>\n      <th>3</th>\n      <th>3007</th>\n      <th>2016</th>\n      <th>5</th>\n      <th>12</th>\n      <th>12</th>\n      <td>0</td>\n      <td>0</td>\n      <td>0</td>\n      <td>0</td>\n      <td>0</td>\n      <td>0</td>\n      <td>0</td>\n      <td>1</td>\n      <td>0</td>\n    </tr>\n    <tr>\n      <th>4</th>\n      <th>3715</th>\n      <th>2016</th>\n      <th>5</th>\n      <th>13</th>\n      <th>13</th>\n      <td>0</td>\n      <td>0</td>\n      <td>0</td>\n      <td>0</td>\n      <td>0</td>\n      <td>0</td>\n      <td>1</td>\n      <td>0</td>\n      <td>0</td>\n    </tr>\n    <tr>\n      <th>5</th>\n      <th>4297</th>\n      <th>2016</th>\n      <th>5</th>\n      <th>14</th>\n      <th>10</th>\n      <td>0</td>\n      <td>0</td>\n      <td>1</td>\n      <td>0</td>\n      <td>0</td>\n      <td>0</td>\n      <td>0</td>\n      <td>0</td>\n      <td>0</td>\n    </tr>\n  </tbody>\n</table>\n</div>"
     },
     "execution_count": 28,
     "metadata": {},
     "output_type": "execute_result"
    }
   ],
   "source": [
    "df5.head(5)"
   ],
   "metadata": {
    "collapsed": false
   }
  },
  {
   "cell_type": "code",
   "execution_count": 29,
   "outputs": [
    {
     "data": {
      "text/plain": "<pandas.core.groupby.generic.DataFrameGroupBy object at 0x00000257C4738280>"
     },
     "execution_count": 29,
     "metadata": {},
     "output_type": "execute_result"
    }
   ],
   "source": [
    "df5.groupby('hour')"
   ],
   "metadata": {
    "collapsed": false
   }
  },
  {
   "cell_type": "code",
   "execution_count": 31,
   "outputs": [
    {
     "data": {
      "text/plain": "           geometry                                                        \nLanduseTyp      1      2      3      4      5      6      7      8      999\nhour                                                                       \n0             14623  14623  14623  14623  14623  14623  14623  14623  14623\n1             15822  15822  15822  15822  15822  15822  15822  15822  15822\n2             17746  17746  17746  17746  17746  17746  17746  17746  17746\n3             19454  19454  19454  19454  19454  19454  19454  19454  19454\n4             22744  22744  22744  22744  22744  22744  22744  22744  22744\n5             23879  23879  23879  23879  23879  23879  23879  23879  23879\n6             22336  22336  22336  22336  22336  22336  22336  22336  22336\n7             21420  21420  21420  21420  21420  21420  21420  21420  21420\n8             20639  20639  20639  20639  20639  20639  20639  20639  20639\n9             21230  21230  21230  21230  21230  21230  21230  21230  21230\n10            23004  23004  23004  23004  23004  23004  23004  23004  23004\n11            24150  24150  24150  24150  24150  24150  24150  24150  24150\n12            23272  23272  23272  23272  23272  23272  23272  23272  23272\n13            22711  22711  22711  22711  22711  22711  22711  22711  22711\n14            21583  21583  21583  21583  21583  21583  21583  21583  21583\n15            19707  19707  19707  19707  19707  19707  19707  19707  19707\n16            15877  15877  15877  15877  15877  15877  15877  15877  15877\n17            11305  11305  11305  11305  11305  11305  11305  11305  11305\n18             8247   8247   8247   8247   8247   8247   8247   8247   8247\n19             6750   6750   6750   6750   6750   6750   6750   6750   6750\n20             6742   6742   6742   6742   6742   6742   6742   6742   6742\n21             6846   6846   6846   6846   6846   6846   6846   6846   6846\n22             7967   7967   7967   7967   7967   7967   7967   7967   7967\n23            11572  11572  11572  11572  11572  11572  11572  11572  11572",
      "text/html": "<div>\n<style scoped>\n    .dataframe tbody tr th:only-of-type {\n        vertical-align: middle;\n    }\n\n    .dataframe tbody tr th {\n        vertical-align: top;\n    }\n\n    .dataframe thead tr th {\n        text-align: left;\n    }\n\n    .dataframe thead tr:last-of-type th {\n        text-align: right;\n    }\n</style>\n<table border=\"1\" class=\"dataframe\">\n  <thead>\n    <tr>\n      <th></th>\n      <th colspan=\"9\" halign=\"left\">geometry</th>\n    </tr>\n    <tr>\n      <th>LanduseTyp</th>\n      <th>1</th>\n      <th>2</th>\n      <th>3</th>\n      <th>4</th>\n      <th>5</th>\n      <th>6</th>\n      <th>7</th>\n      <th>8</th>\n      <th>999</th>\n    </tr>\n    <tr>\n      <th>hour</th>\n      <th></th>\n      <th></th>\n      <th></th>\n      <th></th>\n      <th></th>\n      <th></th>\n      <th></th>\n      <th></th>\n      <th></th>\n    </tr>\n  </thead>\n  <tbody>\n    <tr>\n      <th>0</th>\n      <td>14623</td>\n      <td>14623</td>\n      <td>14623</td>\n      <td>14623</td>\n      <td>14623</td>\n      <td>14623</td>\n      <td>14623</td>\n      <td>14623</td>\n      <td>14623</td>\n    </tr>\n    <tr>\n      <th>1</th>\n      <td>15822</td>\n      <td>15822</td>\n      <td>15822</td>\n      <td>15822</td>\n      <td>15822</td>\n      <td>15822</td>\n      <td>15822</td>\n      <td>15822</td>\n      <td>15822</td>\n    </tr>\n    <tr>\n      <th>2</th>\n      <td>17746</td>\n      <td>17746</td>\n      <td>17746</td>\n      <td>17746</td>\n      <td>17746</td>\n      <td>17746</td>\n      <td>17746</td>\n      <td>17746</td>\n      <td>17746</td>\n    </tr>\n    <tr>\n      <th>3</th>\n      <td>19454</td>\n      <td>19454</td>\n      <td>19454</td>\n      <td>19454</td>\n      <td>19454</td>\n      <td>19454</td>\n      <td>19454</td>\n      <td>19454</td>\n      <td>19454</td>\n    </tr>\n    <tr>\n      <th>4</th>\n      <td>22744</td>\n      <td>22744</td>\n      <td>22744</td>\n      <td>22744</td>\n      <td>22744</td>\n      <td>22744</td>\n      <td>22744</td>\n      <td>22744</td>\n      <td>22744</td>\n    </tr>\n    <tr>\n      <th>5</th>\n      <td>23879</td>\n      <td>23879</td>\n      <td>23879</td>\n      <td>23879</td>\n      <td>23879</td>\n      <td>23879</td>\n      <td>23879</td>\n      <td>23879</td>\n      <td>23879</td>\n    </tr>\n    <tr>\n      <th>6</th>\n      <td>22336</td>\n      <td>22336</td>\n      <td>22336</td>\n      <td>22336</td>\n      <td>22336</td>\n      <td>22336</td>\n      <td>22336</td>\n      <td>22336</td>\n      <td>22336</td>\n    </tr>\n    <tr>\n      <th>7</th>\n      <td>21420</td>\n      <td>21420</td>\n      <td>21420</td>\n      <td>21420</td>\n      <td>21420</td>\n      <td>21420</td>\n      <td>21420</td>\n      <td>21420</td>\n      <td>21420</td>\n    </tr>\n    <tr>\n      <th>8</th>\n      <td>20639</td>\n      <td>20639</td>\n      <td>20639</td>\n      <td>20639</td>\n      <td>20639</td>\n      <td>20639</td>\n      <td>20639</td>\n      <td>20639</td>\n      <td>20639</td>\n    </tr>\n    <tr>\n      <th>9</th>\n      <td>21230</td>\n      <td>21230</td>\n      <td>21230</td>\n      <td>21230</td>\n      <td>21230</td>\n      <td>21230</td>\n      <td>21230</td>\n      <td>21230</td>\n      <td>21230</td>\n    </tr>\n    <tr>\n      <th>10</th>\n      <td>23004</td>\n      <td>23004</td>\n      <td>23004</td>\n      <td>23004</td>\n      <td>23004</td>\n      <td>23004</td>\n      <td>23004</td>\n      <td>23004</td>\n      <td>23004</td>\n    </tr>\n    <tr>\n      <th>11</th>\n      <td>24150</td>\n      <td>24150</td>\n      <td>24150</td>\n      <td>24150</td>\n      <td>24150</td>\n      <td>24150</td>\n      <td>24150</td>\n      <td>24150</td>\n      <td>24150</td>\n    </tr>\n    <tr>\n      <th>12</th>\n      <td>23272</td>\n      <td>23272</td>\n      <td>23272</td>\n      <td>23272</td>\n      <td>23272</td>\n      <td>23272</td>\n      <td>23272</td>\n      <td>23272</td>\n      <td>23272</td>\n    </tr>\n    <tr>\n      <th>13</th>\n      <td>22711</td>\n      <td>22711</td>\n      <td>22711</td>\n      <td>22711</td>\n      <td>22711</td>\n      <td>22711</td>\n      <td>22711</td>\n      <td>22711</td>\n      <td>22711</td>\n    </tr>\n    <tr>\n      <th>14</th>\n      <td>21583</td>\n      <td>21583</td>\n      <td>21583</td>\n      <td>21583</td>\n      <td>21583</td>\n      <td>21583</td>\n      <td>21583</td>\n      <td>21583</td>\n      <td>21583</td>\n    </tr>\n    <tr>\n      <th>15</th>\n      <td>19707</td>\n      <td>19707</td>\n      <td>19707</td>\n      <td>19707</td>\n      <td>19707</td>\n      <td>19707</td>\n      <td>19707</td>\n      <td>19707</td>\n      <td>19707</td>\n    </tr>\n    <tr>\n      <th>16</th>\n      <td>15877</td>\n      <td>15877</td>\n      <td>15877</td>\n      <td>15877</td>\n      <td>15877</td>\n      <td>15877</td>\n      <td>15877</td>\n      <td>15877</td>\n      <td>15877</td>\n    </tr>\n    <tr>\n      <th>17</th>\n      <td>11305</td>\n      <td>11305</td>\n      <td>11305</td>\n      <td>11305</td>\n      <td>11305</td>\n      <td>11305</td>\n      <td>11305</td>\n      <td>11305</td>\n      <td>11305</td>\n    </tr>\n    <tr>\n      <th>18</th>\n      <td>8247</td>\n      <td>8247</td>\n      <td>8247</td>\n      <td>8247</td>\n      <td>8247</td>\n      <td>8247</td>\n      <td>8247</td>\n      <td>8247</td>\n      <td>8247</td>\n    </tr>\n    <tr>\n      <th>19</th>\n      <td>6750</td>\n      <td>6750</td>\n      <td>6750</td>\n      <td>6750</td>\n      <td>6750</td>\n      <td>6750</td>\n      <td>6750</td>\n      <td>6750</td>\n      <td>6750</td>\n    </tr>\n    <tr>\n      <th>20</th>\n      <td>6742</td>\n      <td>6742</td>\n      <td>6742</td>\n      <td>6742</td>\n      <td>6742</td>\n      <td>6742</td>\n      <td>6742</td>\n      <td>6742</td>\n      <td>6742</td>\n    </tr>\n    <tr>\n      <th>21</th>\n      <td>6846</td>\n      <td>6846</td>\n      <td>6846</td>\n      <td>6846</td>\n      <td>6846</td>\n      <td>6846</td>\n      <td>6846</td>\n      <td>6846</td>\n      <td>6846</td>\n    </tr>\n    <tr>\n      <th>22</th>\n      <td>7967</td>\n      <td>7967</td>\n      <td>7967</td>\n      <td>7967</td>\n      <td>7967</td>\n      <td>7967</td>\n      <td>7967</td>\n      <td>7967</td>\n      <td>7967</td>\n    </tr>\n    <tr>\n      <th>23</th>\n      <td>11572</td>\n      <td>11572</td>\n      <td>11572</td>\n      <td>11572</td>\n      <td>11572</td>\n      <td>11572</td>\n      <td>11572</td>\n      <td>11572</td>\n      <td>11572</td>\n    </tr>\n  </tbody>\n</table>\n</div>"
     },
     "execution_count": 31,
     "metadata": {},
     "output_type": "execute_result"
    }
   ],
   "source": [
    "df5.groupby('hour').count()"
   ],
   "metadata": {
    "collapsed": false
   }
  },
  {
   "cell_type": "code",
   "execution_count": 32,
   "outputs": [
    {
     "data": {
      "text/plain": "                                      geometry                                \nLanduseTyp                                 1   2   3   4   5   6   7   8   999\nOBJECTID_1 Field1 year month day hour                                         \n1          1246   2016 5     8   23          0   0   0   0   0   0   0   1   0\n2          1254   2016 5     9   1           0   0   0   0   0   0   0   0   1\n3          3007   2016 5     12  12          0   0   0   0   0   0   0   1   0\n4          3715   2016 5     13  13          0   0   0   0   0   0   1   0   0\n5          4297   2016 5     14  10          0   0   1   0   0   0   0   0   0",
      "text/html": "<div>\n<style scoped>\n    .dataframe tbody tr th:only-of-type {\n        vertical-align: middle;\n    }\n\n    .dataframe tbody tr th {\n        vertical-align: top;\n    }\n\n    .dataframe thead tr th {\n        text-align: left;\n    }\n\n    .dataframe thead tr:last-of-type th {\n        text-align: right;\n    }\n</style>\n<table border=\"1\" class=\"dataframe\">\n  <thead>\n    <tr>\n      <th></th>\n      <th></th>\n      <th></th>\n      <th></th>\n      <th></th>\n      <th></th>\n      <th colspan=\"9\" halign=\"left\">geometry</th>\n    </tr>\n    <tr>\n      <th></th>\n      <th></th>\n      <th></th>\n      <th></th>\n      <th></th>\n      <th>LanduseTyp</th>\n      <th>1</th>\n      <th>2</th>\n      <th>3</th>\n      <th>4</th>\n      <th>5</th>\n      <th>6</th>\n      <th>7</th>\n      <th>8</th>\n      <th>999</th>\n    </tr>\n    <tr>\n      <th>OBJECTID_1</th>\n      <th>Field1</th>\n      <th>year</th>\n      <th>month</th>\n      <th>day</th>\n      <th>hour</th>\n      <th></th>\n      <th></th>\n      <th></th>\n      <th></th>\n      <th></th>\n      <th></th>\n      <th></th>\n      <th></th>\n      <th></th>\n    </tr>\n  </thead>\n  <tbody>\n    <tr>\n      <th>1</th>\n      <th>1246</th>\n      <th>2016</th>\n      <th>5</th>\n      <th>8</th>\n      <th>23</th>\n      <td>0</td>\n      <td>0</td>\n      <td>0</td>\n      <td>0</td>\n      <td>0</td>\n      <td>0</td>\n      <td>0</td>\n      <td>1</td>\n      <td>0</td>\n    </tr>\n    <tr>\n      <th>2</th>\n      <th>1254</th>\n      <th>2016</th>\n      <th>5</th>\n      <th>9</th>\n      <th>1</th>\n      <td>0</td>\n      <td>0</td>\n      <td>0</td>\n      <td>0</td>\n      <td>0</td>\n      <td>0</td>\n      <td>0</td>\n      <td>0</td>\n      <td>1</td>\n    </tr>\n    <tr>\n      <th>3</th>\n      <th>3007</th>\n      <th>2016</th>\n      <th>5</th>\n      <th>12</th>\n      <th>12</th>\n      <td>0</td>\n      <td>0</td>\n      <td>0</td>\n      <td>0</td>\n      <td>0</td>\n      <td>0</td>\n      <td>0</td>\n      <td>1</td>\n      <td>0</td>\n    </tr>\n    <tr>\n      <th>4</th>\n      <th>3715</th>\n      <th>2016</th>\n      <th>5</th>\n      <th>13</th>\n      <th>13</th>\n      <td>0</td>\n      <td>0</td>\n      <td>0</td>\n      <td>0</td>\n      <td>0</td>\n      <td>0</td>\n      <td>1</td>\n      <td>0</td>\n      <td>0</td>\n    </tr>\n    <tr>\n      <th>5</th>\n      <th>4297</th>\n      <th>2016</th>\n      <th>5</th>\n      <th>14</th>\n      <th>10</th>\n      <td>0</td>\n      <td>0</td>\n      <td>1</td>\n      <td>0</td>\n      <td>0</td>\n      <td>0</td>\n      <td>0</td>\n      <td>0</td>\n      <td>0</td>\n    </tr>\n  </tbody>\n</table>\n</div>"
     },
     "execution_count": 32,
     "metadata": {},
     "output_type": "execute_result"
    }
   ],
   "source": [
    "df5.head(5)"
   ],
   "metadata": {
    "collapsed": false
   }
  },
  {
   "cell_type": "code",
   "execution_count": 33,
   "outputs": [
    {
     "data": {
      "text/plain": "OBJECTID_1       int64\nField1           int64\ncreated_at      object\nid_str         float64\nlang            object\ntime_zone       object\nLanduseTyp       int64\ngeometry      geometry\ndtype: object"
     },
     "execution_count": 33,
     "metadata": {},
     "output_type": "execute_result"
    }
   ],
   "source": [
    "df1.dtypes"
   ],
   "metadata": {
    "collapsed": false
   }
  },
  {
   "cell_type": "code",
   "execution_count": 34,
   "outputs": [
    {
     "data": {
      "text/plain": "(409626, 8)"
     },
     "execution_count": 34,
     "metadata": {},
     "output_type": "execute_result"
    }
   ],
   "source": [
    "df1.shape"
   ],
   "metadata": {
    "collapsed": false
   }
  },
  {
   "cell_type": "code",
   "execution_count": 35,
   "outputs": [
    {
     "data": {
      "text/plain": "(409626, 9)"
     },
     "execution_count": 35,
     "metadata": {},
     "output_type": "execute_result"
    }
   ],
   "source": [
    "df5.shape"
   ],
   "metadata": {
    "collapsed": false
   }
  },
  {
   "cell_type": "code",
   "execution_count": 36,
   "outputs": [
    {
     "data": {
      "text/plain": "(409626, 22)"
     },
     "execution_count": 36,
     "metadata": {},
     "output_type": "execute_result"
    }
   ],
   "source": [
    "df2.shape"
   ],
   "metadata": {
    "collapsed": false
   }
  },
  {
   "cell_type": "code",
   "execution_count": 37,
   "outputs": [
    {
     "ename": "KeyError",
     "evalue": "'hour'",
     "output_type": "error",
     "traceback": [
      "\u001B[1;31m---------------------------------------------------------------------------\u001B[0m",
      "\u001B[1;31mKeyError\u001B[0m                                  Traceback (most recent call last)",
      "\u001B[1;32md:\\workspace\\python38\\lib\\site-packages\\pandas\\core\\indexes\\base.py\u001B[0m in \u001B[0;36mget_loc\u001B[1;34m(self, key, method, tolerance)\u001B[0m\n\u001B[0;32m   3802\u001B[0m             \u001B[1;32mtry\u001B[0m\u001B[1;33m:\u001B[0m\u001B[1;33m\u001B[0m\u001B[1;33m\u001B[0m\u001B[0m\n\u001B[1;32m-> 3803\u001B[1;33m                 \u001B[1;32mreturn\u001B[0m \u001B[0mself\u001B[0m\u001B[1;33m.\u001B[0m\u001B[0m_engine\u001B[0m\u001B[1;33m.\u001B[0m\u001B[0mget_loc\u001B[0m\u001B[1;33m(\u001B[0m\u001B[0mcasted_key\u001B[0m\u001B[1;33m)\u001B[0m\u001B[1;33m\u001B[0m\u001B[1;33m\u001B[0m\u001B[0m\n\u001B[0m\u001B[0;32m   3804\u001B[0m             \u001B[1;32mexcept\u001B[0m \u001B[0mKeyError\u001B[0m \u001B[1;32mas\u001B[0m \u001B[0merr\u001B[0m\u001B[1;33m:\u001B[0m\u001B[1;33m\u001B[0m\u001B[1;33m\u001B[0m\u001B[0m\n",
      "\u001B[1;32md:\\workspace\\python38\\lib\\site-packages\\pandas\\_libs\\index.pyx\u001B[0m in \u001B[0;36mpandas._libs.index.IndexEngine.get_loc\u001B[1;34m()\u001B[0m\n",
      "\u001B[1;32md:\\workspace\\python38\\lib\\site-packages\\pandas\\_libs\\index.pyx\u001B[0m in \u001B[0;36mpandas._libs.index.IndexEngine.get_loc\u001B[1;34m()\u001B[0m\n",
      "\u001B[1;32mpandas\\_libs\\hashtable_class_helper.pxi\u001B[0m in \u001B[0;36mpandas._libs.hashtable.PyObjectHashTable.get_item\u001B[1;34m()\u001B[0m\n",
      "\u001B[1;32mpandas\\_libs\\hashtable_class_helper.pxi\u001B[0m in \u001B[0;36mpandas._libs.hashtable.PyObjectHashTable.get_item\u001B[1;34m()\u001B[0m\n",
      "\u001B[1;31mKeyError\u001B[0m: 'hour'",
      "\nThe above exception was the direct cause of the following exception:\n",
      "\u001B[1;31mKeyError\u001B[0m                                  Traceback (most recent call last)",
      "\u001B[1;32mC:\\Users\\GAOYUN~1\\AppData\\Local\\Temp/ipykernel_19600/3327711887.py\u001B[0m in \u001B[0;36m<module>\u001B[1;34m\u001B[0m\n\u001B[1;32m----> 1\u001B[1;33m \u001B[0mdf6\u001B[0m\u001B[1;33m=\u001B[0m\u001B[0mdf5\u001B[0m\u001B[1;33m.\u001B[0m\u001B[0mgroupby\u001B[0m\u001B[1;33m(\u001B[0m\u001B[0mdf5\u001B[0m\u001B[1;33m[\u001B[0m\u001B[1;34m'hour'\u001B[0m\u001B[1;33m]\u001B[0m\u001B[1;33m)\u001B[0m\u001B[1;33m.\u001B[0m\u001B[0mcount\u001B[0m\u001B[1;33m(\u001B[0m\u001B[1;33m)\u001B[0m\u001B[1;33m\u001B[0m\u001B[1;33m\u001B[0m\u001B[0m\n\u001B[0m",
      "\u001B[1;32md:\\workspace\\python38\\lib\\site-packages\\pandas\\core\\frame.py\u001B[0m in \u001B[0;36m__getitem__\u001B[1;34m(self, key)\u001B[0m\n\u001B[0;32m   3802\u001B[0m         \u001B[1;32mif\u001B[0m \u001B[0mis_single_key\u001B[0m\u001B[1;33m:\u001B[0m\u001B[1;33m\u001B[0m\u001B[1;33m\u001B[0m\u001B[0m\n\u001B[0;32m   3803\u001B[0m             \u001B[1;32mif\u001B[0m \u001B[0mself\u001B[0m\u001B[1;33m.\u001B[0m\u001B[0mcolumns\u001B[0m\u001B[1;33m.\u001B[0m\u001B[0mnlevels\u001B[0m \u001B[1;33m>\u001B[0m \u001B[1;36m1\u001B[0m\u001B[1;33m:\u001B[0m\u001B[1;33m\u001B[0m\u001B[1;33m\u001B[0m\u001B[0m\n\u001B[1;32m-> 3804\u001B[1;33m                 \u001B[1;32mreturn\u001B[0m \u001B[0mself\u001B[0m\u001B[1;33m.\u001B[0m\u001B[0m_getitem_multilevel\u001B[0m\u001B[1;33m(\u001B[0m\u001B[0mkey\u001B[0m\u001B[1;33m)\u001B[0m\u001B[1;33m\u001B[0m\u001B[1;33m\u001B[0m\u001B[0m\n\u001B[0m\u001B[0;32m   3805\u001B[0m             \u001B[0mindexer\u001B[0m \u001B[1;33m=\u001B[0m \u001B[0mself\u001B[0m\u001B[1;33m.\u001B[0m\u001B[0mcolumns\u001B[0m\u001B[1;33m.\u001B[0m\u001B[0mget_loc\u001B[0m\u001B[1;33m(\u001B[0m\u001B[0mkey\u001B[0m\u001B[1;33m)\u001B[0m\u001B[1;33m\u001B[0m\u001B[1;33m\u001B[0m\u001B[0m\n\u001B[0;32m   3806\u001B[0m             \u001B[1;32mif\u001B[0m \u001B[0mis_integer\u001B[0m\u001B[1;33m(\u001B[0m\u001B[0mindexer\u001B[0m\u001B[1;33m)\u001B[0m\u001B[1;33m:\u001B[0m\u001B[1;33m\u001B[0m\u001B[1;33m\u001B[0m\u001B[0m\n",
      "\u001B[1;32md:\\workspace\\python38\\lib\\site-packages\\pandas\\core\\frame.py\u001B[0m in \u001B[0;36m_getitem_multilevel\u001B[1;34m(self, key)\u001B[0m\n\u001B[0;32m   3853\u001B[0m     \u001B[1;32mdef\u001B[0m \u001B[0m_getitem_multilevel\u001B[0m\u001B[1;33m(\u001B[0m\u001B[0mself\u001B[0m\u001B[1;33m,\u001B[0m \u001B[0mkey\u001B[0m\u001B[1;33m)\u001B[0m\u001B[1;33m:\u001B[0m\u001B[1;33m\u001B[0m\u001B[1;33m\u001B[0m\u001B[0m\n\u001B[0;32m   3854\u001B[0m         \u001B[1;31m# self.columns is a MultiIndex\u001B[0m\u001B[1;33m\u001B[0m\u001B[1;33m\u001B[0m\u001B[1;33m\u001B[0m\u001B[0m\n\u001B[1;32m-> 3855\u001B[1;33m         \u001B[0mloc\u001B[0m \u001B[1;33m=\u001B[0m \u001B[0mself\u001B[0m\u001B[1;33m.\u001B[0m\u001B[0mcolumns\u001B[0m\u001B[1;33m.\u001B[0m\u001B[0mget_loc\u001B[0m\u001B[1;33m(\u001B[0m\u001B[0mkey\u001B[0m\u001B[1;33m)\u001B[0m\u001B[1;33m\u001B[0m\u001B[1;33m\u001B[0m\u001B[0m\n\u001B[0m\u001B[0;32m   3856\u001B[0m         \u001B[1;32mif\u001B[0m \u001B[0misinstance\u001B[0m\u001B[1;33m(\u001B[0m\u001B[0mloc\u001B[0m\u001B[1;33m,\u001B[0m \u001B[1;33m(\u001B[0m\u001B[0mslice\u001B[0m\u001B[1;33m,\u001B[0m \u001B[0mnp\u001B[0m\u001B[1;33m.\u001B[0m\u001B[0mndarray\u001B[0m\u001B[1;33m)\u001B[0m\u001B[1;33m)\u001B[0m\u001B[1;33m:\u001B[0m\u001B[1;33m\u001B[0m\u001B[1;33m\u001B[0m\u001B[0m\n\u001B[0;32m   3857\u001B[0m             \u001B[0mnew_columns\u001B[0m \u001B[1;33m=\u001B[0m \u001B[0mself\u001B[0m\u001B[1;33m.\u001B[0m\u001B[0mcolumns\u001B[0m\u001B[1;33m[\u001B[0m\u001B[0mloc\u001B[0m\u001B[1;33m]\u001B[0m\u001B[1;33m\u001B[0m\u001B[1;33m\u001B[0m\u001B[0m\n",
      "\u001B[1;32md:\\workspace\\python38\\lib\\site-packages\\pandas\\core\\indexes\\multi.py\u001B[0m in \u001B[0;36mget_loc\u001B[1;34m(self, key, method)\u001B[0m\n\u001B[0;32m   2914\u001B[0m \u001B[1;33m\u001B[0m\u001B[0m\n\u001B[0;32m   2915\u001B[0m         \u001B[1;32mif\u001B[0m \u001B[1;32mnot\u001B[0m \u001B[0misinstance\u001B[0m\u001B[1;33m(\u001B[0m\u001B[0mkey\u001B[0m\u001B[1;33m,\u001B[0m \u001B[0mtuple\u001B[0m\u001B[1;33m)\u001B[0m\u001B[1;33m:\u001B[0m\u001B[1;33m\u001B[0m\u001B[1;33m\u001B[0m\u001B[0m\n\u001B[1;32m-> 2916\u001B[1;33m             \u001B[0mloc\u001B[0m \u001B[1;33m=\u001B[0m \u001B[0mself\u001B[0m\u001B[1;33m.\u001B[0m\u001B[0m_get_level_indexer\u001B[0m\u001B[1;33m(\u001B[0m\u001B[0mkey\u001B[0m\u001B[1;33m,\u001B[0m \u001B[0mlevel\u001B[0m\u001B[1;33m=\u001B[0m\u001B[1;36m0\u001B[0m\u001B[1;33m)\u001B[0m\u001B[1;33m\u001B[0m\u001B[1;33m\u001B[0m\u001B[0m\n\u001B[0m\u001B[0;32m   2917\u001B[0m             \u001B[1;32mreturn\u001B[0m \u001B[0m_maybe_to_slice\u001B[0m\u001B[1;33m(\u001B[0m\u001B[0mloc\u001B[0m\u001B[1;33m)\u001B[0m\u001B[1;33m\u001B[0m\u001B[1;33m\u001B[0m\u001B[0m\n\u001B[0;32m   2918\u001B[0m \u001B[1;33m\u001B[0m\u001B[0m\n",
      "\u001B[1;32md:\\workspace\\python38\\lib\\site-packages\\pandas\\core\\indexes\\multi.py\u001B[0m in \u001B[0;36m_get_level_indexer\u001B[1;34m(self, key, level, indexer)\u001B[0m\n\u001B[0;32m   3261\u001B[0m         \u001B[1;32melse\u001B[0m\u001B[1;33m:\u001B[0m\u001B[1;33m\u001B[0m\u001B[1;33m\u001B[0m\u001B[0m\n\u001B[0;32m   3262\u001B[0m \u001B[1;33m\u001B[0m\u001B[0m\n\u001B[1;32m-> 3263\u001B[1;33m             \u001B[0midx\u001B[0m \u001B[1;33m=\u001B[0m \u001B[0mself\u001B[0m\u001B[1;33m.\u001B[0m\u001B[0m_get_loc_single_level_index\u001B[0m\u001B[1;33m(\u001B[0m\u001B[0mlevel_index\u001B[0m\u001B[1;33m,\u001B[0m \u001B[0mkey\u001B[0m\u001B[1;33m)\u001B[0m\u001B[1;33m\u001B[0m\u001B[1;33m\u001B[0m\u001B[0m\n\u001B[0m\u001B[0;32m   3264\u001B[0m \u001B[1;33m\u001B[0m\u001B[0m\n\u001B[0;32m   3265\u001B[0m             \u001B[1;32mif\u001B[0m \u001B[0mlevel\u001B[0m \u001B[1;33m>\u001B[0m \u001B[1;36m0\u001B[0m \u001B[1;32mor\u001B[0m \u001B[0mself\u001B[0m\u001B[1;33m.\u001B[0m\u001B[0m_lexsort_depth\u001B[0m \u001B[1;33m==\u001B[0m \u001B[1;36m0\u001B[0m\u001B[1;33m:\u001B[0m\u001B[1;33m\u001B[0m\u001B[1;33m\u001B[0m\u001B[0m\n",
      "\u001B[1;32md:\\workspace\\python38\\lib\\site-packages\\pandas\\core\\indexes\\multi.py\u001B[0m in \u001B[0;36m_get_loc_single_level_index\u001B[1;34m(self, level_index, key)\u001B[0m\n\u001B[0;32m   2847\u001B[0m             \u001B[1;32mreturn\u001B[0m \u001B[1;33m-\u001B[0m\u001B[1;36m1\u001B[0m\u001B[1;33m\u001B[0m\u001B[1;33m\u001B[0m\u001B[0m\n\u001B[0;32m   2848\u001B[0m         \u001B[1;32melse\u001B[0m\u001B[1;33m:\u001B[0m\u001B[1;33m\u001B[0m\u001B[1;33m\u001B[0m\u001B[0m\n\u001B[1;32m-> 2849\u001B[1;33m             \u001B[1;32mreturn\u001B[0m \u001B[0mlevel_index\u001B[0m\u001B[1;33m.\u001B[0m\u001B[0mget_loc\u001B[0m\u001B[1;33m(\u001B[0m\u001B[0mkey\u001B[0m\u001B[1;33m)\u001B[0m\u001B[1;33m\u001B[0m\u001B[1;33m\u001B[0m\u001B[0m\n\u001B[0m\u001B[0;32m   2850\u001B[0m \u001B[1;33m\u001B[0m\u001B[0m\n\u001B[0;32m   2851\u001B[0m     \u001B[1;32mdef\u001B[0m \u001B[0mget_loc\u001B[0m\u001B[1;33m(\u001B[0m\u001B[0mself\u001B[0m\u001B[1;33m,\u001B[0m \u001B[0mkey\u001B[0m\u001B[1;33m,\u001B[0m \u001B[0mmethod\u001B[0m\u001B[1;33m=\u001B[0m\u001B[1;32mNone\u001B[0m\u001B[1;33m)\u001B[0m\u001B[1;33m:\u001B[0m\u001B[1;33m\u001B[0m\u001B[1;33m\u001B[0m\u001B[0m\n",
      "\u001B[1;32md:\\workspace\\python38\\lib\\site-packages\\pandas\\core\\indexes\\base.py\u001B[0m in \u001B[0;36mget_loc\u001B[1;34m(self, key, method, tolerance)\u001B[0m\n\u001B[0;32m   3803\u001B[0m                 \u001B[1;32mreturn\u001B[0m \u001B[0mself\u001B[0m\u001B[1;33m.\u001B[0m\u001B[0m_engine\u001B[0m\u001B[1;33m.\u001B[0m\u001B[0mget_loc\u001B[0m\u001B[1;33m(\u001B[0m\u001B[0mcasted_key\u001B[0m\u001B[1;33m)\u001B[0m\u001B[1;33m\u001B[0m\u001B[1;33m\u001B[0m\u001B[0m\n\u001B[0;32m   3804\u001B[0m             \u001B[1;32mexcept\u001B[0m \u001B[0mKeyError\u001B[0m \u001B[1;32mas\u001B[0m \u001B[0merr\u001B[0m\u001B[1;33m:\u001B[0m\u001B[1;33m\u001B[0m\u001B[1;33m\u001B[0m\u001B[0m\n\u001B[1;32m-> 3805\u001B[1;33m                 \u001B[1;32mraise\u001B[0m \u001B[0mKeyError\u001B[0m\u001B[1;33m(\u001B[0m\u001B[0mkey\u001B[0m\u001B[1;33m)\u001B[0m \u001B[1;32mfrom\u001B[0m \u001B[0merr\u001B[0m\u001B[1;33m\u001B[0m\u001B[1;33m\u001B[0m\u001B[0m\n\u001B[0m\u001B[0;32m   3806\u001B[0m             \u001B[1;32mexcept\u001B[0m \u001B[0mTypeError\u001B[0m\u001B[1;33m:\u001B[0m\u001B[1;33m\u001B[0m\u001B[1;33m\u001B[0m\u001B[0m\n\u001B[0;32m   3807\u001B[0m                 \u001B[1;31m# If we have a listlike key, _check_indexing_error will raise\u001B[0m\u001B[1;33m\u001B[0m\u001B[1;33m\u001B[0m\u001B[1;33m\u001B[0m\u001B[0m\n",
      "\u001B[1;31mKeyError\u001B[0m: 'hour'"
     ]
    }
   ],
   "source": [
    "df6=df5.groupby(df5['hour']).count()"
   ],
   "metadata": {
    "collapsed": false
   }
  },
  {
   "cell_type": "code",
   "execution_count": 38,
   "outputs": [
    {
     "data": {
      "text/plain": "          LanduseTyp\ngeometry  1             int32\n          2             int32\n          3             int32\n          4             int32\n          5             int32\n          6             int32\n          7             int32\n          8             int32\n          999           int32\ndtype: object"
     },
     "execution_count": 38,
     "metadata": {},
     "output_type": "execute_result"
    }
   ],
   "source": [
    "df5.dtypes"
   ],
   "metadata": {
    "collapsed": false
   }
  },
  {
   "cell_type": "code",
   "execution_count": 39,
   "outputs": [
    {
     "data": {
      "text/plain": "                                      geometry                                \nLanduseTyp                                 1   2   3   4   5   6   7   8   999\nOBJECTID_1 Field1 year month day hour                                         \n1          1246   2016 5     8   23          0   0   0   0   0   0   0   1   0\n2          1254   2016 5     9   1           0   0   0   0   0   0   0   0   1\n3          3007   2016 5     12  12          0   0   0   0   0   0   0   1   0\n4          3715   2016 5     13  13          0   0   0   0   0   0   1   0   0\n5          4297   2016 5     14  10          0   0   1   0   0   0   0   0   0",
      "text/html": "<div>\n<style scoped>\n    .dataframe tbody tr th:only-of-type {\n        vertical-align: middle;\n    }\n\n    .dataframe tbody tr th {\n        vertical-align: top;\n    }\n\n    .dataframe thead tr th {\n        text-align: left;\n    }\n\n    .dataframe thead tr:last-of-type th {\n        text-align: right;\n    }\n</style>\n<table border=\"1\" class=\"dataframe\">\n  <thead>\n    <tr>\n      <th></th>\n      <th></th>\n      <th></th>\n      <th></th>\n      <th></th>\n      <th></th>\n      <th colspan=\"9\" halign=\"left\">geometry</th>\n    </tr>\n    <tr>\n      <th></th>\n      <th></th>\n      <th></th>\n      <th></th>\n      <th></th>\n      <th>LanduseTyp</th>\n      <th>1</th>\n      <th>2</th>\n      <th>3</th>\n      <th>4</th>\n      <th>5</th>\n      <th>6</th>\n      <th>7</th>\n      <th>8</th>\n      <th>999</th>\n    </tr>\n    <tr>\n      <th>OBJECTID_1</th>\n      <th>Field1</th>\n      <th>year</th>\n      <th>month</th>\n      <th>day</th>\n      <th>hour</th>\n      <th></th>\n      <th></th>\n      <th></th>\n      <th></th>\n      <th></th>\n      <th></th>\n      <th></th>\n      <th></th>\n      <th></th>\n    </tr>\n  </thead>\n  <tbody>\n    <tr>\n      <th>1</th>\n      <th>1246</th>\n      <th>2016</th>\n      <th>5</th>\n      <th>8</th>\n      <th>23</th>\n      <td>0</td>\n      <td>0</td>\n      <td>0</td>\n      <td>0</td>\n      <td>0</td>\n      <td>0</td>\n      <td>0</td>\n      <td>1</td>\n      <td>0</td>\n    </tr>\n    <tr>\n      <th>2</th>\n      <th>1254</th>\n      <th>2016</th>\n      <th>5</th>\n      <th>9</th>\n      <th>1</th>\n      <td>0</td>\n      <td>0</td>\n      <td>0</td>\n      <td>0</td>\n      <td>0</td>\n      <td>0</td>\n      <td>0</td>\n      <td>0</td>\n      <td>1</td>\n    </tr>\n    <tr>\n      <th>3</th>\n      <th>3007</th>\n      <th>2016</th>\n      <th>5</th>\n      <th>12</th>\n      <th>12</th>\n      <td>0</td>\n      <td>0</td>\n      <td>0</td>\n      <td>0</td>\n      <td>0</td>\n      <td>0</td>\n      <td>0</td>\n      <td>1</td>\n      <td>0</td>\n    </tr>\n    <tr>\n      <th>4</th>\n      <th>3715</th>\n      <th>2016</th>\n      <th>5</th>\n      <th>13</th>\n      <th>13</th>\n      <td>0</td>\n      <td>0</td>\n      <td>0</td>\n      <td>0</td>\n      <td>0</td>\n      <td>0</td>\n      <td>1</td>\n      <td>0</td>\n      <td>0</td>\n    </tr>\n    <tr>\n      <th>5</th>\n      <th>4297</th>\n      <th>2016</th>\n      <th>5</th>\n      <th>14</th>\n      <th>10</th>\n      <td>0</td>\n      <td>0</td>\n      <td>1</td>\n      <td>0</td>\n      <td>0</td>\n      <td>0</td>\n      <td>0</td>\n      <td>0</td>\n      <td>0</td>\n    </tr>\n  </tbody>\n</table>\n</div>"
     },
     "execution_count": 39,
     "metadata": {},
     "output_type": "execute_result"
    }
   ],
   "source": [
    "df5.head(5)"
   ],
   "metadata": {
    "collapsed": false
   }
  },
  {
   "cell_type": "code",
   "execution_count": 40,
   "outputs": [],
   "source": [
    "df5.to_csv(r'D:\\GaoYunshu2023\\100011 HK-Work\\RA-project\\001 Task description\\0127_twitterPOI.csv')"
   ],
   "metadata": {
    "collapsed": false
   }
  },
  {
   "cell_type": "code",
   "execution_count": 41,
   "outputs": [
    {
     "data": {
      "text/plain": "           geometry                                             \nLanduseTyp      1     2     3     4    5   6     7     8     999\nhour                                                            \n0                82  1869  2131  1787  100  27  1206  3171  4250\n1               109  1861  2540  2046  147  26  1391  3044  4658\n2               110  2057  2858  2433  142  21  1651  3416  5058\n3               149  2112  3211  2521  162  25  1830  3908  5536\n4               156  2674  3466  2993  190  41  2116  4428  6680\n5               120  2967  3579  2905  187  38  2398  4539  7146\n6               137  2783  3165  2756  131  41  2278  4300  6745\n7               140  2612  3100  2657  197  46  2227  3941  6500\n8               140  2529  2967  2620  157  23  2189  3715  6299\n9               133  2468  3030  2670  193  31  2247  3716  6742\n10              152  2846  3152  2907  181  42  2431  4126  7167\n11              135  3153  3111  3141  183  48  2664  4194  7521\n12              136  3129  3015  3084  163  54  2380  4105  7206\n13              185  3058  2796  2933  156  51  2447  4147  6938\n14              131  2869  2751  2818  156  21  2254  4118  6465\n15              136  2528  2649  2627  159  21  2006  3639  5942\n16               95  2150  2107  2068  105  15  1758  2947  4632\n17               79  1341  1546  1489   79  13  1088  2164  3506\n18               39   954  1139  1031   69  18   791  1681  2525\n19               40   711  1009   866   46   4   699  1376  1999\n20               40   723  1070   818   50  25   739  1409  1868\n21               31   743  1068   869   52  30   648  1501  1904\n22               37   843  1263   924   59  10   703  1772  2356\n23               49  1235  1697  1750   76  13   895  2180  3677",
      "text/html": "<div>\n<style scoped>\n    .dataframe tbody tr th:only-of-type {\n        vertical-align: middle;\n    }\n\n    .dataframe tbody tr th {\n        vertical-align: top;\n    }\n\n    .dataframe thead tr th {\n        text-align: left;\n    }\n\n    .dataframe thead tr:last-of-type th {\n        text-align: right;\n    }\n</style>\n<table border=\"1\" class=\"dataframe\">\n  <thead>\n    <tr>\n      <th></th>\n      <th colspan=\"9\" halign=\"left\">geometry</th>\n    </tr>\n    <tr>\n      <th>LanduseTyp</th>\n      <th>1</th>\n      <th>2</th>\n      <th>3</th>\n      <th>4</th>\n      <th>5</th>\n      <th>6</th>\n      <th>7</th>\n      <th>8</th>\n      <th>999</th>\n    </tr>\n    <tr>\n      <th>hour</th>\n      <th></th>\n      <th></th>\n      <th></th>\n      <th></th>\n      <th></th>\n      <th></th>\n      <th></th>\n      <th></th>\n      <th></th>\n    </tr>\n  </thead>\n  <tbody>\n    <tr>\n      <th>0</th>\n      <td>82</td>\n      <td>1869</td>\n      <td>2131</td>\n      <td>1787</td>\n      <td>100</td>\n      <td>27</td>\n      <td>1206</td>\n      <td>3171</td>\n      <td>4250</td>\n    </tr>\n    <tr>\n      <th>1</th>\n      <td>109</td>\n      <td>1861</td>\n      <td>2540</td>\n      <td>2046</td>\n      <td>147</td>\n      <td>26</td>\n      <td>1391</td>\n      <td>3044</td>\n      <td>4658</td>\n    </tr>\n    <tr>\n      <th>2</th>\n      <td>110</td>\n      <td>2057</td>\n      <td>2858</td>\n      <td>2433</td>\n      <td>142</td>\n      <td>21</td>\n      <td>1651</td>\n      <td>3416</td>\n      <td>5058</td>\n    </tr>\n    <tr>\n      <th>3</th>\n      <td>149</td>\n      <td>2112</td>\n      <td>3211</td>\n      <td>2521</td>\n      <td>162</td>\n      <td>25</td>\n      <td>1830</td>\n      <td>3908</td>\n      <td>5536</td>\n    </tr>\n    <tr>\n      <th>4</th>\n      <td>156</td>\n      <td>2674</td>\n      <td>3466</td>\n      <td>2993</td>\n      <td>190</td>\n      <td>41</td>\n      <td>2116</td>\n      <td>4428</td>\n      <td>6680</td>\n    </tr>\n    <tr>\n      <th>5</th>\n      <td>120</td>\n      <td>2967</td>\n      <td>3579</td>\n      <td>2905</td>\n      <td>187</td>\n      <td>38</td>\n      <td>2398</td>\n      <td>4539</td>\n      <td>7146</td>\n    </tr>\n    <tr>\n      <th>6</th>\n      <td>137</td>\n      <td>2783</td>\n      <td>3165</td>\n      <td>2756</td>\n      <td>131</td>\n      <td>41</td>\n      <td>2278</td>\n      <td>4300</td>\n      <td>6745</td>\n    </tr>\n    <tr>\n      <th>7</th>\n      <td>140</td>\n      <td>2612</td>\n      <td>3100</td>\n      <td>2657</td>\n      <td>197</td>\n      <td>46</td>\n      <td>2227</td>\n      <td>3941</td>\n      <td>6500</td>\n    </tr>\n    <tr>\n      <th>8</th>\n      <td>140</td>\n      <td>2529</td>\n      <td>2967</td>\n      <td>2620</td>\n      <td>157</td>\n      <td>23</td>\n      <td>2189</td>\n      <td>3715</td>\n      <td>6299</td>\n    </tr>\n    <tr>\n      <th>9</th>\n      <td>133</td>\n      <td>2468</td>\n      <td>3030</td>\n      <td>2670</td>\n      <td>193</td>\n      <td>31</td>\n      <td>2247</td>\n      <td>3716</td>\n      <td>6742</td>\n    </tr>\n    <tr>\n      <th>10</th>\n      <td>152</td>\n      <td>2846</td>\n      <td>3152</td>\n      <td>2907</td>\n      <td>181</td>\n      <td>42</td>\n      <td>2431</td>\n      <td>4126</td>\n      <td>7167</td>\n    </tr>\n    <tr>\n      <th>11</th>\n      <td>135</td>\n      <td>3153</td>\n      <td>3111</td>\n      <td>3141</td>\n      <td>183</td>\n      <td>48</td>\n      <td>2664</td>\n      <td>4194</td>\n      <td>7521</td>\n    </tr>\n    <tr>\n      <th>12</th>\n      <td>136</td>\n      <td>3129</td>\n      <td>3015</td>\n      <td>3084</td>\n      <td>163</td>\n      <td>54</td>\n      <td>2380</td>\n      <td>4105</td>\n      <td>7206</td>\n    </tr>\n    <tr>\n      <th>13</th>\n      <td>185</td>\n      <td>3058</td>\n      <td>2796</td>\n      <td>2933</td>\n      <td>156</td>\n      <td>51</td>\n      <td>2447</td>\n      <td>4147</td>\n      <td>6938</td>\n    </tr>\n    <tr>\n      <th>14</th>\n      <td>131</td>\n      <td>2869</td>\n      <td>2751</td>\n      <td>2818</td>\n      <td>156</td>\n      <td>21</td>\n      <td>2254</td>\n      <td>4118</td>\n      <td>6465</td>\n    </tr>\n    <tr>\n      <th>15</th>\n      <td>136</td>\n      <td>2528</td>\n      <td>2649</td>\n      <td>2627</td>\n      <td>159</td>\n      <td>21</td>\n      <td>2006</td>\n      <td>3639</td>\n      <td>5942</td>\n    </tr>\n    <tr>\n      <th>16</th>\n      <td>95</td>\n      <td>2150</td>\n      <td>2107</td>\n      <td>2068</td>\n      <td>105</td>\n      <td>15</td>\n      <td>1758</td>\n      <td>2947</td>\n      <td>4632</td>\n    </tr>\n    <tr>\n      <th>17</th>\n      <td>79</td>\n      <td>1341</td>\n      <td>1546</td>\n      <td>1489</td>\n      <td>79</td>\n      <td>13</td>\n      <td>1088</td>\n      <td>2164</td>\n      <td>3506</td>\n    </tr>\n    <tr>\n      <th>18</th>\n      <td>39</td>\n      <td>954</td>\n      <td>1139</td>\n      <td>1031</td>\n      <td>69</td>\n      <td>18</td>\n      <td>791</td>\n      <td>1681</td>\n      <td>2525</td>\n    </tr>\n    <tr>\n      <th>19</th>\n      <td>40</td>\n      <td>711</td>\n      <td>1009</td>\n      <td>866</td>\n      <td>46</td>\n      <td>4</td>\n      <td>699</td>\n      <td>1376</td>\n      <td>1999</td>\n    </tr>\n    <tr>\n      <th>20</th>\n      <td>40</td>\n      <td>723</td>\n      <td>1070</td>\n      <td>818</td>\n      <td>50</td>\n      <td>25</td>\n      <td>739</td>\n      <td>1409</td>\n      <td>1868</td>\n    </tr>\n    <tr>\n      <th>21</th>\n      <td>31</td>\n      <td>743</td>\n      <td>1068</td>\n      <td>869</td>\n      <td>52</td>\n      <td>30</td>\n      <td>648</td>\n      <td>1501</td>\n      <td>1904</td>\n    </tr>\n    <tr>\n      <th>22</th>\n      <td>37</td>\n      <td>843</td>\n      <td>1263</td>\n      <td>924</td>\n      <td>59</td>\n      <td>10</td>\n      <td>703</td>\n      <td>1772</td>\n      <td>2356</td>\n    </tr>\n    <tr>\n      <th>23</th>\n      <td>49</td>\n      <td>1235</td>\n      <td>1697</td>\n      <td>1750</td>\n      <td>76</td>\n      <td>13</td>\n      <td>895</td>\n      <td>2180</td>\n      <td>3677</td>\n    </tr>\n  </tbody>\n</table>\n</div>"
     },
     "execution_count": 41,
     "metadata": {},
     "output_type": "execute_result"
    }
   ],
   "source": [
    "df5.groupby('hour').sum()"
   ],
   "metadata": {
    "collapsed": false
   }
  },
  {
   "cell_type": "code",
   "execution_count": 44,
   "outputs": [
    {
     "data": {
      "text/plain": "                    geometry                                \nLanduseTyp               1   2   3   4   5   6   7   8   999\nyear month day hour                                         \n2016 5     7   3           0   0   0   0   0   0   0   0   1\n               6           0   0   0   0   0   0   1   2   0\n               7           0   7   8   2   0   0   6   7  12\n               8           0   7  15   4   1   0   5   4  17\n               9           0   6  11   3   0   0   5   8  17\n...                      ...  ..  ..  ..  ..  ..  ..  ..  ..\n2018 12    18  17          0   0   2   0   0   0   0   1   3\n               18          0   0   2   0   0   0   1   0   1\n               20          0   1   0   0   0   0   0   0   0\n               21          0   0   1   0   0   0   0   0   1\n               22          0   0   1   1   0   0   0   1   0\n\n[22086 rows x 9 columns]",
      "text/html": "<div>\n<style scoped>\n    .dataframe tbody tr th:only-of-type {\n        vertical-align: middle;\n    }\n\n    .dataframe tbody tr th {\n        vertical-align: top;\n    }\n\n    .dataframe thead tr th {\n        text-align: left;\n    }\n\n    .dataframe thead tr:last-of-type th {\n        text-align: right;\n    }\n</style>\n<table border=\"1\" class=\"dataframe\">\n  <thead>\n    <tr>\n      <th></th>\n      <th></th>\n      <th></th>\n      <th></th>\n      <th colspan=\"9\" halign=\"left\">geometry</th>\n    </tr>\n    <tr>\n      <th></th>\n      <th></th>\n      <th></th>\n      <th>LanduseTyp</th>\n      <th>1</th>\n      <th>2</th>\n      <th>3</th>\n      <th>4</th>\n      <th>5</th>\n      <th>6</th>\n      <th>7</th>\n      <th>8</th>\n      <th>999</th>\n    </tr>\n    <tr>\n      <th>year</th>\n      <th>month</th>\n      <th>day</th>\n      <th>hour</th>\n      <th></th>\n      <th></th>\n      <th></th>\n      <th></th>\n      <th></th>\n      <th></th>\n      <th></th>\n      <th></th>\n      <th></th>\n    </tr>\n  </thead>\n  <tbody>\n    <tr>\n      <th rowspan=\"5\" valign=\"top\">2016</th>\n      <th rowspan=\"5\" valign=\"top\">5</th>\n      <th rowspan=\"5\" valign=\"top\">7</th>\n      <th>3</th>\n      <td>0</td>\n      <td>0</td>\n      <td>0</td>\n      <td>0</td>\n      <td>0</td>\n      <td>0</td>\n      <td>0</td>\n      <td>0</td>\n      <td>1</td>\n    </tr>\n    <tr>\n      <th>6</th>\n      <td>0</td>\n      <td>0</td>\n      <td>0</td>\n      <td>0</td>\n      <td>0</td>\n      <td>0</td>\n      <td>1</td>\n      <td>2</td>\n      <td>0</td>\n    </tr>\n    <tr>\n      <th>7</th>\n      <td>0</td>\n      <td>7</td>\n      <td>8</td>\n      <td>2</td>\n      <td>0</td>\n      <td>0</td>\n      <td>6</td>\n      <td>7</td>\n      <td>12</td>\n    </tr>\n    <tr>\n      <th>8</th>\n      <td>0</td>\n      <td>7</td>\n      <td>15</td>\n      <td>4</td>\n      <td>1</td>\n      <td>0</td>\n      <td>5</td>\n      <td>4</td>\n      <td>17</td>\n    </tr>\n    <tr>\n      <th>9</th>\n      <td>0</td>\n      <td>6</td>\n      <td>11</td>\n      <td>3</td>\n      <td>0</td>\n      <td>0</td>\n      <td>5</td>\n      <td>8</td>\n      <td>17</td>\n    </tr>\n    <tr>\n      <th>...</th>\n      <th>...</th>\n      <th>...</th>\n      <th>...</th>\n      <td>...</td>\n      <td>...</td>\n      <td>...</td>\n      <td>...</td>\n      <td>...</td>\n      <td>...</td>\n      <td>...</td>\n      <td>...</td>\n      <td>...</td>\n    </tr>\n    <tr>\n      <th rowspan=\"5\" valign=\"top\">2018</th>\n      <th rowspan=\"5\" valign=\"top\">12</th>\n      <th rowspan=\"5\" valign=\"top\">18</th>\n      <th>17</th>\n      <td>0</td>\n      <td>0</td>\n      <td>2</td>\n      <td>0</td>\n      <td>0</td>\n      <td>0</td>\n      <td>0</td>\n      <td>1</td>\n      <td>3</td>\n    </tr>\n    <tr>\n      <th>18</th>\n      <td>0</td>\n      <td>0</td>\n      <td>2</td>\n      <td>0</td>\n      <td>0</td>\n      <td>0</td>\n      <td>1</td>\n      <td>0</td>\n      <td>1</td>\n    </tr>\n    <tr>\n      <th>20</th>\n      <td>0</td>\n      <td>1</td>\n      <td>0</td>\n      <td>0</td>\n      <td>0</td>\n      <td>0</td>\n      <td>0</td>\n      <td>0</td>\n      <td>0</td>\n    </tr>\n    <tr>\n      <th>21</th>\n      <td>0</td>\n      <td>0</td>\n      <td>1</td>\n      <td>0</td>\n      <td>0</td>\n      <td>0</td>\n      <td>0</td>\n      <td>0</td>\n      <td>1</td>\n    </tr>\n    <tr>\n      <th>22</th>\n      <td>0</td>\n      <td>0</td>\n      <td>1</td>\n      <td>1</td>\n      <td>0</td>\n      <td>0</td>\n      <td>0</td>\n      <td>1</td>\n      <td>0</td>\n    </tr>\n  </tbody>\n</table>\n<p>22086 rows × 9 columns</p>\n</div>"
     },
     "execution_count": 44,
     "metadata": {},
     "output_type": "execute_result"
    }
   ],
   "source": [
    "df5.groupby(['year','month','day','hour']).sum()"
   ],
   "metadata": {
    "collapsed": false
   }
  },
  {
   "cell_type": "code",
   "execution_count": null,
   "outputs": [],
   "source": [],
   "metadata": {
    "collapsed": false
   }
  }
 ],
 "metadata": {
  "kernelspec": {
   "display_name": "Python 3",
   "language": "python",
   "name": "python3"
  },
  "language_info": {
   "codemirror_mode": {
    "name": "ipython",
    "version": 2
   },
   "file_extension": ".py",
   "mimetype": "text/x-python",
   "name": "python",
   "nbconvert_exporter": "python",
   "pygments_lexer": "ipython2",
   "version": "2.7.6"
  }
 },
 "nbformat": 4,
 "nbformat_minor": 0
}
